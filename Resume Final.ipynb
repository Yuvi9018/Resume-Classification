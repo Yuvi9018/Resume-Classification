{
 "cells": [
  {
   "cell_type": "code",
   "execution_count": 1,
   "id": "b70d9711",
   "metadata": {},
   "outputs": [],
   "source": [
    "import io\n",
    "import os\n",
    "import pandas as pd\n",
    "import  docx2txt\n",
    "from docx import Document"
   ]
  },
  {
   "cell_type": "code",
   "execution_count": 2,
   "id": "4aa3f296",
   "metadata": {},
   "outputs": [],
   "source": [
    "import numpy as np # linear algebra\n",
    "import pandas as pd # data processing, CSV file I/O (e.g. pd.read_csv)\n",
    "import string # special operations on strings\n",
    "import spacy # language models\n",
    "\n",
    "from matplotlib.pyplot import imread\n",
    "from matplotlib import pyplot as plt\n",
    "from wordcloud import WordCloud\n",
    "%matplotlib inline\n",
    "import win32com.client"
   ]
  },
  {
   "cell_type": "code",
   "execution_count": 3,
   "id": "8871c55b",
   "metadata": {},
   "outputs": [],
   "source": [
    "import warnings\n",
    "warnings.filterwarnings('ignore')"
   ]
  },
  {
   "cell_type": "code",
   "execution_count": 4,
   "id": "ff44ebff",
   "metadata": {},
   "outputs": [],
   "source": [
    "import textract\n",
    "file_docx = []\n",
    "file_path = []\n",
    "source_directory = r'E:\\DATA SETS\\Resumes'"
   ]
  },
  {
   "cell_type": "code",
   "execution_count": 5,
   "id": "8f87dbce",
   "metadata": {},
   "outputs": [],
   "source": [
    "for file_folder in os.listdir( source_directory):\n",
    "    #final_path=\"E:/DATA SETS/Resumes/\"+file_folder+\".docx\"\n",
    "    final_path = os.path.join( source_directory, file_folder)\n",
    "    if final_path.endswith('.docx') :\n",
    "    #for j in os.listdir(os.path.join(r'E:/DATA SETS/Resumes', file_folder)):\n",
    "        #final_folder_path = os.path.join(final_path,j)\n",
    "        file_docx.append(textract.process(final_path))\n",
    "        file_path.append(file_folder)"
   ]
  },
  {
   "cell_type": "code",
   "execution_count": 6,
   "id": "18d6b356",
   "metadata": {},
   "outputs": [
    {
     "data": {
      "text/plain": [
       "[b'ANIL KUMAR MADDUKURI  \\t\\t\\n\\nSQL & MSBI Developer   \\n\\n\\n\\n\\t\\t\\n\\n\\n\\nSummary\\n\\n\\n\\n2.4 years of experience in MS SQL Server (SSMS) and creating SSIS packages, SSRS Reports by using Microsoft Business Intelligence (MSBI) tools.\\n\\nExpertise in various types of Joins and Sub Queries for writing complex queries involving multiple tables.\\n\\nHandled data manipulation and data consistency by creating Views, Triggers, and Synonyms.\\n\\nHands on experience in creation, optimization and debugging Stored Procedure and Functions.\\n\\nFamiliar in writing queries using CTE, Temporary Tables and Table Variables.\\n\\nGood experience in using Set Operators like Union, Union All, Except and Intersect to assist required data.\\n\\nExperience in manipulate the data from multiple table and report to the client using Aggregate Functions, Windows Functions and String Functions.\\n\\nWorked extensively on Data Extraction, Transformation and Loading (ETL) process in SQL Server Integration Services.\\n\\nUsed containers such as for each loop container and sequence container to load the data from multiple source file to Database tables.\\n\\nExpertise in using tasks like  Data flow Task, Execute SQL task ,Control Flow task Execute package task, Execute Process task, Bulk insert Task,  Sends Mail task and FTP Task and Script task at the control flow level .\\n\\nExperience in using Data conversion,OLEDB command, Row count, Union All, Derived Column, Merge, Merge Join, Fuzzy lookup, Conditional Split and various other Transformation to manipulate data in SSIS package at the Data Flow Level for moving typical data from source to destination.\\n\\nImplemented SSIS Loggings, check-points Break points and package configurations source system to another source system and ETL operations.\\n\\nGood experience in developing Table Reports, Sub Reports, Matrix Reports, Drill down Reports, Drill through Reports using SQL Server Reporting Services.\\n\\nInvolved in Linked reports, Cache reports, and Snapshot reports in report manager level.\\n\\nExpertise in performing backup and restore the database.\\n\\nCreated Indexes like Clustered Index and Non-Clustered Index to improve the performance.\\n\\n\\n\\nTechnical Skills\\n\\nLanguages\\t           :  SQL, T-SQL\\n\\nRDBMS\\t           :  SQL Server 2016/2012/2008 \\n\\nETL Tools\\t           :  SQL Server Integration Services (SSIS)\\n\\nReporting Tools         :  SQL Server Reporting Tools (SSRS)\\n\\n\\n\\nProfessional Experience\\n\\nCurrently working as Software Engineer in Imagine Technology\\xc2\\xa0and Services Pvt. Ltd \\n\\n       Since 2019 to till date.\\n\\nProject Experience\\n\\nProject\\t\\t\\t:  Health Insurance\\n\\nClient\\t\\t\\t:  Aetna, USA\\n\\nEnvironment\\t\\t:  MS SQL SERVER 2016, SSIS, SSRS, Visual Studio 2015 \\n\\nDuration\\t\\t:  April 2019 to Till Date\\n\\n\\n\\nDescription: \\n\\nThis project is developed for Aetna Insurance. This is an American managed health care company sells traditional and consumer directed health care insurance and related services, Such as medical, dental, long-term care, and disability plans, primarily through employer-paid (fully or partly) insurance and benefit programs. The main goal of this project Implementing Customer Information into Database and Developing mechanism to revert data from database. \\n\\n\\t\\tResponsibilities: \\n\\n\\n\\nCreate/update indexes, views, Stored Procedures, user defined functions, common table expressions (CTEs) and Triggers. \\n\\nDevelop SSIS Packages by extracting data from diversified sources like Excel, CSV, flat file, Text and load into staging area.\\n\\nUse transformations like Aggregate, Conditional Split, Derived Columns, Row Count, Merge and Merge Join, Multicast, Slowly Changing Dimension to manipulate data in data flow level\\n\\nImplement event handlers for the packages, maintain log information and provide checkpoints in SSIS level. \\n\\nDesign packages in control flow levels based on tasks like Data Flow Task, Execute SQL Task, FTP tasks and used For Each Loop Container, Sequential Container.\\n\\nGenerate reports in the form of Matrix, Table by using SSRS from SQL Server Database and included various reporting features such as drilldown, drill through, sub reports. \\n\\nInvolved in setting up SQL Server Agent Jobs for periodic Backups with backup devices, database maintenance plans and recovery.\\n\\nMaintained / managed database agent jobs, check for failures and resolve failure issues.\\n\\nUsed SQL Profiler and query tuning Wizard to troubleshoot problems and queries.\\n\\n\\n\\nEducation\\n\\nB.Tech - Velagapudi siddhartha engineering college,Vijayawada',\n",
       " b'Aradhana Tripathi\\n\\n\\n\\nCurrent Location: Gachibowli, Hyderabad\\n\\n\\n\\nProfile Summary:\\n\\n\\n\\nAn accomplished data driven analytical professional have more than 4 years of working experience in information technology & Service industry.\\n\\nCurrently working as SQL Database Developer and have 3 years of experience in database design, development, analysis and support of using MS SQL Server, MySQL (MariaDB) and Athena (AWS) in development, testing and production environments.\\n\\nExtensive experience in writing complex queries, creating Tables, Views, Union, Triggers, Stored Procedures, User Defined Functions (UDF\\xe2\\x80\\x99s), System Defined Functions, and other T- SQL statements, Constraints and Indexes using various DDL and DML Commands.\\n\\nExperience in using sub-queries and joins to simplify complex queries involving multiple tables.\\n\\nExperience in working on amazon relational database (AWS RDS).\\n\\nHave basic understanding on using analytical tools and technologies such as SAS, R, Bigdata (Hadoop, Hive, HQL query) etc.\\n\\nHad experience in requirement gathering, stakeholder management, account management and business insights visualization preparing dashboard using tableau and Excel.\\n\\nTechnical Skills:\\n\\n\\n\\nLanguages: SQL, SAS, R, Python\\n\\nDBMS: MS SQL Server, T-SQL, AWS RDS (Athena), MariaDB (Version of MySQL)\\n\\nIDE: SQL Server Management Studio (SSMS), RazorSQL, HeidiSQL, RStudio\\n\\nVisualization Tools: R, Tableau, Excel\\n\\nDomain: Media & Publication, BFSI, Retail\\n\\nEmployment History:\\n\\n\\n\\nCurrently working with Cond\\xc3\\xa9 Nast (https://www.condenast.com/) as SQL Database Developer through Jigyasa Analytics, LLC Since Aug 2019.\\n\\nWorked with Tech Mahindra as Business Associate from Apr 2015 to Jan 2017.\\n\\nWorked with People Tech Group as IT Consultant from Jun 2013 to Mar 2015.\\n\\nProject Details:\\n\\n\\n\\nProject: Migration of On-Premises SAS Regression Models to Athena (AWS)\\n\\nClient:  Conde Nast\\n\\nRole: MS SQL developer\\n\\nProject Description: This project is about migration of logistic regression models in SAS to Athena (AWS) and development of new code in SQL Server then Athena (AWS). The purpose of Migration is to take advantage of AWS cloud features like cost optimization, scalability and high availability.\\n\\nRoles & Responsibilities: \\n\\nDeveloping and designing SQL code for models in MS SQL Server.\\n\\nDeveloping and designing SQL code for models in MySQL (MariaDB).\\n\\nFinal implementation of model in production environment Athena (AWS).\\n\\nCreated reusable code in Athena to automate model scoring.\\n\\nWriting query to push data on S3.\\n\\nModel Validation in Stagging environment.\\n\\nTechnical Platform: MS SQL Server 2014, MySQL, HeidiSQL, RazorSQL, SAS, Athena (AWS), Excel etc.\\n\\n\\n\\nProject: Retail Sales Portal Development\\n\\nClient:  One of the leading retail Client\\n\\nRole: MS SQL developer\\n\\nProject Description: This project is all about online ecommerce data comprises the details about customer id, country, customer came from source of traffic, which channel used for transactions. Number of purchases made on particular product & services, frequency of visits. Also given the information about total sales, gross profit, net profit made certain period of time and discount offers to customers. Each of these details used to do data analysis that subsequently helps management in decision making.\\n\\nRoles & Responsibilities: \\n\\nUnderstanding existing functionality and database design.\\n\\nDatabase design, creating normalize tables using constraints, functions.\\n\\nDevelop complex SQL queries, views, triggers, stored procedures.\\n\\nMaintaining data quality and integrity.\\n\\nTechnical Platform: MS SQL Server 2014\\n\\n\\n\\nAcademic Project - IIIT Bangalore (Jun 2018 to Jul 2019):\\n\\n\\n\\nProject: Human Resource Database Management Systems\\n\\nProject Description: Human Resource Database Management System creates stores and manages all the data needed to describe the personal and their framework within an organization. It includes definition of various levels of hierarchy in an organization, the salary structure pertaining to every element in this hierarchy, the description of every department functioning in the organization and the overall employee database which integrates elements in all the aforementioned.\\n\\nRoles & Responsibilities: \\n\\nDatabase design and development.\\n\\nEffective data handling.\\n\\nEffective data retrieval and maintenance.\\n\\nCreated features to implemented database security.\\n\\nTechnical Platform: MS SQL Server, MS Excel, Tableau\\n\\n\\n\\nProject: CredX Risk Analytics\\n\\nProject Description:  Business objective is to help CredX to identify the right customer using predictive models. Used past data of bank\\xe2\\x80\\x99s applicants to determine the factors affecting credit risk and create strategies to mitigate the acquisition risk. \\n\\nRoles & Responsibilities: \\n\\nBusiness Understanding, Data cleaning and preparation\\n\\nBuilding predictive models (Logistic regression, random forest, decision tree etc).\\n\\nDeploy the best fitted model.  \\n\\nTechnical Platform: RStudio, MS SQL Server, Excel etc.\\n\\n\\n\\nAcademic Qualification \\n\\n\\n\\nPost Graduate Diploma in Data Science from IIIT - Bangalore\\xe2\\x80\\x9919, CGPA 3.2/4\\n\\nMCA, Computer Applications & Information Technology and Sciences from AKS University.',\n",
       " b\"BUDDHA VAMSI                                                            \\n\\n\\n\\nCAREER OBJECTIVE:\\n\\n\\n\\nHave 2.11 years of IT experience as Database Engineer and currently working in Fluentgrid Limited Visakhapatnam from August 2018 as Database Engineer.\\n\\n Having good hands on SQL, PLSQL at various databases like Oracle, MS Sql Server.\\n\\nExpertise in creating/modifying Tables, Views, Stored Procedures, Functions and indexes.\\n\\nHaving knowledge on Triggers, Temporary tables, CTE Recursive Methods.\\n\\nExpertise in writing transformations (ETL) using Business Intelligence tools like Pentaho Kettle.\\n\\n\\n\\n\\n\\n\\n\\nEXPERIENCE : \\n\\nMS-SQL,PL/SQL-Oracle DEVELOPER Aug-2018-Present\\n\\nFLUENTGRID LIMITED, Visakhapatnam\\n\\nDesigned the database architecture for client projects.\\n\\nIm Working with NDMC,KESCO,UPPCL,UGVCL,Bosch Smart electricity Power utility projects.\\n\\nDeveloped  Data Flow Diagrams and data structure diagrams.\\n\\nConfigured,tuned and maintained MS-SQL Server database servers,PL/SQL-Oracle.\\n\\nEnabled required data extract, transform and load procedures and packages.\\n\\nPerformed database development and implementation activities.\\n\\nCreate ETL Jobs And Monitoring The Jobs \\n\\n\\n\\n\\n\\n\\n\\nACADEMIC PROFILE:\\n\\n\\n\\nCourse\\n\\nName of School/College\\n\\nBoard/University\\n\\nPercentage / CGPA\\n\\nYear  of Passing\\n\\n B.Tech.(CSE)\\n\\n\\n\\nDadi Institute of Engineering and Technology.\\n\\nJNTUK University\\n\\n71.71\\n\\n2015\\n\\n\\n\\n\\n\\n   INTERMEDIATE\\n\\nSri Chaitanya Junior College.\\n\\n Board of Intermediate Education\\n\\n78.1\\n\\n2011\\n\\n\\n\\n\\n\\n\\n\\nSSC\\n\\nCambridge Advanced Model High School.\\n\\nState Board of Secondary Education\\n\\n76.8\\n\\n2009\\n\\n\\n\\n\\n\\n\\n\\nTECHNICAL SKILLS:\\n\\n\\n\\nDatabase tools:\\n\\nSybase ASE 15.7 Server,MS-SQL,MS-SQL,Oracle,Devops,PL/SQL-Oracle,Pentaho data integration (ETL) \\n\\nOperating System:\\n\\nWindows7/xp,Linux,CentOS,Ubuntu,VMware Workstation\\n\\nServer connecting Tool:\\n\\nPutty,DB Solo,Dell Sonic Global VPN Client,Spoon\\n\\nFTP:\\n\\nWinSCP\\n\\nHadoop Eco-System:\\n\\nPig,Hive,Sqoop,Hbase,Impla,Scala\\n\\nProgramming Skills:\\n\\nCore Java,html,css,bootstrap,C-language\\n\\n\\n\\n\\n\\n\\n\\n\\n\\nACHIEVEMENTS AND AWARDS:\\n\\n\\n\\nTwo day workshop on SIIMAD(Symbyosis Innovation and Intelligene for Moblie Application Development) at Miracle engineering college ----- Mar 2013\\n\\nInternational workshop on SSE(security and software engineering) at DIET ---- Feb 2013\\n\\nInternational workshop on BITD(Business Intelligence and Test Driven Development) ---- Dec 2012\\n\\nCyber Forensics workshop at NIT warangal ----- Aug 2012\\n\\nEthical Hacking conducted by Cybercure solutions ----- Aug 2012\\n\\n\\n\\nTwo day workshop on cloud computing technology at DIET----Jan 2015\\n\\n\\n\\nI   Achieve IBM Bluemix certificate  in cloud computing technology for creating app in cloud\\n\\nI actively participated in DIET-NSS UNIT\\n\\n\\n\\nPERSONAL PROFILE:\\n\\nName \\t\\t:  Buddha Vamsi\\n\\nFather\\xe2\\x80\\x99s Name\\t:  B.Dharma Raju\\n\\nMother\\xe2\\x80\\x99s Name      :  B.Jaya Lakshmi \\n\\nDOB\\t\\t\\t :  22-08-1994\\n\\nSex\\t\\t\\t : male    \\n\\nMarital Status\\t : Single\\n\\nNationality\\t\\t :  Indian\\n\\nLanguages Known\\t :  English, Telugu\\n\\nHobbies \\t\\t :  Playing Cricket\\n\\n\\n\\nDECLARATION:\\n\\n\\n\\n              I hereby declare that the above information's are true to best of my knowledge.\",\n",
       " b'Chinna Subbarayudu M\\n\\nDOB: 06th March 1994\\n\\nNationality: Indian\\n\\n\\t\\t\\n\\n\\t\\t\\tPROFILE SUMMARY:\\n\\n\\n\\n\\n\\n\\n\\nHaving around 5.1 years of IT experience in developing and Implementation of ERP technology by using Workday HCM and ETL (informatica) technologies.\\n\\n3.6 years of experience as Workday Integration Consultant and involved in a maintenance and implementation.\\n\\nExperience in all phases in Workday like requirements gathering, Analysis, Design, Development and Testing.\\n\\nHands on experience in inbound/ outbound integrations using core connector, Workday studio, managing business processes, working with EIB, report writer.\\n\\nDeveloped and maintained custom-report types (Advanced, Matrix, Composite) using report writer tool.\\n\\nInvolved in transformation of XML into XSLT for presenting data for different web Services.\\n\\nBuilding Workday Integration (EIB), calculated fields, Custom Reports and Writing XSLT transformation code.\\n\\nDeveloped testing\\xc2\\xa0strategies and validation scenarios along with project Scope and Requirement documents\\n\\nPrioritizing, reproducing and verifying bug fixes in different Workday integrations.\\n\\nHaving knowledge in XML, WD-SOAP Web Service, and WD- REST Web Service and experienced in using tools such as Soap, XML Exchanger\\n\\nInvolved in writing transformation code for converting XML into XSLT\\n\\nfor different web services.\\n\\nPerformed validation testing and end to end testing and also involved in integration testing\\n\\nHaving good experiences in testing, we perform UAT and end to end validation testing\\n\\nKnowledge in Software Development Life Cycle process (Analysis, Design, Development, Testing) for Implementation and Support in different application domain.\\n\\nExperience of working in Production support model.\\n\\nExcellent client interaction skills and proven experience in working independently as well as in a team.\\n\\n\\n\\nTECHNICAL SKILLS:\\n\\n\\n\\n\\n\\n\\n\\nWORKDAY SKILLS\\n\\nWorkday HCM, Workday Advanced Report Writer, Core connectors PICOF, Document Transformation and Workday Studio, EIB, Workday Web Services, Workday Security.\\n\\nProgramming Languages\\n\\nXML, SQL, Basic shell scripting.\\n\\nETL tools\\n\\nInformatica 9 &10 ,Teradata\\n\\nOperating systems\\n\\nLinux, Windows\\n\\nTools\\n\\nSQL developer, Talend, Putty, Appworx, Maestro, Winscp\\n\\n\\n\\n\\t\\t\\tEducation Details:\\n\\n\\n\\n\\n\\n\\tBsc(Computers) from Yogi Vemana University,Kadapa.\\n\\n\\t\\t\\tWork Experience:\\n\\n\\n\\n\\n\\nWorking as a Workday Technical Consultant for Progile Infotech pvt ltd  from June - 2016 to till date.        \\n\\n\\t\\t\\tProjects under taken:\\n\\n\\n\\n\\n\\n\\n\\n\\n\\nClient: South West Airlines                                                                                   June2019- Present\\n\\nRole: Workday Technical  Consultant\\n\\n\\n\\nResponsibilities:\\n\\n\\t\\tIntegrations in Workday using different tools like CCW, EIB, DT, Custom Report and Workday Studio, Responsible for developing Integrations and testing them.\\n\\n\\t\\tResponsible for supporting the new change requests and enhancements in the project\\n\\n\\t\\tCreated calculated fields and Worked on Simple and Advanced Reports.\\n\\n\\t\\tWorked on Integration Systems (EIBs, Core Connectors).\\n\\n\\t\\tDay to day support of Workday Integrations, Security, and Reporting issues.\\n\\nHad knowledge on hire, terminate, data changes etc. of employees\\n\\nExpertise in developing Payroll interfaces using PICOF, PECI with the help of Workday Studio and Document Transformation to meet client\\xe2\\x80\\x99s complex payroll requirements.\\n\\nDesign of web services to send/receive data between Workday and Third party system.\\n\\nDeveloped analytics dashboards utilizing multiple data sources to provide actionable reporting and embedded analytics.\\n\\nExperienced in analyzing and preparing Project Deliverables such as Technical Design Document (TDD) and Functional Design Document (FDD).\\n\\nCreated test scripts and coordinated the testing\\xc2\\xa0effort with all the stakeholders for System and UAT. \\n\\n\\n\\n\\n\\nClient:  Arbella Insurance Group\\t\\t\\t\\t                                Dec2017\\xe2\\x80\\x93 May2019\\n\\nRole:  Workday Integration Consultant\\n\\n\\n\\nResponsibilities:\\n\\nAnalyzed client\\xe2\\x80\\x99s HCM/Payroll business needs through client working sessions and supported development of new business processes and a future state design.\\n\\n\\t\\tWorked as an Integration Developer for Analysis, design, development, testing and implementation of Workday HCM solutions for Global Implementation in GE. \\n\\n\\t\\tPerformance Tuning in Population (2 lakh employees) and Complexity Perspective.\\n\\n\\t\\tCreated Multiple CCW Integrations for Demographical data with DT, EIBs with reports\\n\\n\\t\\tSupported on both Inbound and Outbound Studio Integrations, Created security groups, users and configured required security policies in Domain and BP level..\\n\\n\\t\\tUtilize in-depth knowledge of functional and Technical experience in Workday and other leading-edge products and technology in conjunction with industry and business skills to deliver solutions to customer.\\n\\n\\t\\tBuilt Integrations in Workday using different tools like CCW, EIB, and Reports. Identifying Testing strategy getting sign-off on all project deliverables.\\n\\n\\t\\tCollaborate with the ST (System Testing) and UAT (User Acceptance Testing) teams to test the integration builds. Fix issues encountered in ST and UAT phase.\\n\\nDeveloped Several Complex Integrations using Workday Studio and EIB.\\n\\nDay to day support of Workday HCM, Security, Payroll, Benefits, Compensation and Reporting issues\\n\\nInvolved in the design phase and prototyping for further discussions with the client.\\n\\nCreated and used calculated fields in reporting, business processes, integrations and other areas within Workday.\\n\\n\\n\\nClient:  News Technologies  \\t\\t\\t          \\t\\t\\t     June 2016 \\xe2\\x80\\x93Nov 2017\\n\\nRole:  Peoplesoft Consultant          \\n\\n\\n\\nResponsibilities:\\n\\n\\n\\nInvolved in design and customization of tables and panels and adding new option using People Tools.\\n\\nResponsible for Test Plan, Defect Report Status, and Knowledge Transfer Documents.\\n\\nUploading the test scripts from MS Excel to Test Director.\\n\\nDeveloped and executed the SQL queries to fetch the data from PeopleSoft HRMS (Oracle).\\n\\nThe fetched data has to be analyzed against the bridge database and it should be reported if there is any deviation.\\n\\nIntegrated third party hiring application with PeopleSoft System using Component Interface program and loaded data into PS tables.\\n\\nUnit tested the developed application and created test scripts and test cases for the Unit Testing and System Testing\\n\\n\\t\\t\\tDeclaration:\\n\\n\\n\\n\\n\\n\\t                  I hereby declare that the information provided above is true to the best of my knowledge.\\n\\n\\n\\n\\n\\nDate : \\t\\t\\t\\t\\t\\t\\t\\t\\tName: M Chinna Subbarayudus\\n\\n\\n\\n\\n\\n\\t\\tPage 2',\n",
       " b'Name         : Gopi Krishna Reddy\\n\\n\\t\\t                       \\n\\n\\n\\nPROFESSIONAL SUMMERY:\\n\\nWorking as a Workday Consultant with 3+ years as\\xc2\\xa0Workday Consultant\\xc2\\xa0and good experience on Report Writing, Integration of HCM. \\n\\n\\n\\nKnowledge of the software development life cycle from design through scoping, requirements gathering, analysis, development, testing, user acceptance, deployment, maintenance/support and change management.\\xc2\\xa0\\n\\nGood working knowledge on Inbound and Outbound EIB Integration concepts and created various EIB Integrations.\\n\\nBuilding Core Connector integrations for extracting worker, position, status, leave and absence delta changes.\\n\\nDesigned and built all types of integrations using Document Transformation, EIB, PICOF, Cloud Connectors and Custom Report Writer.\\xc2\\xa0\\n\\nHaving  good knowledge on Workday Studio \\n\\nExperience with XML, XPATH and XSLT and Expert in designing/development of Interfaces with legacy and third party systems.\\xc2\\xa0\\n\\nHands-on experience In Migrating the XSLT Code, Reports from Lower tenant to Sandbox and Production using Object Transporter.\\n\\nExperienced in developing Custom Reports, Advanced Reports using Report Writer.\\n\\nStrong experience using technologies involving\\xc2\\xa0Workday applications, reporting and analytics.\\xc2\\xa0\\n\\nGood experience on create Report Groups and Workbooks to create Excel worksheet groups and create Dashboards.\\n\\nStrong Knowledge on working with CR-Change Requests as per business requirement and Building and moving changes to production.\\n\\nWorked closely with Business and Development Teams for Designed and Documented Enhancements as well as conducted Production Support Troubleshooting around Integrations for Global Workday HCM System.\\n\\nExcellent Interpersonal, Presentation and Communication Skills with the ability to work in a team and a Stand-alone Environment.\\xc2\\xa0\\n\\nEDUCATIONAL DETAILS:\\n\\n\\n\\nCompleted Bachelor of Degree from JNTU - K University in 2014.\\n\\n\\n\\nTECHNICAL SKILLS:           \\n\\nSoftware/ Products\\n\\nWorkday HCM, Reporting and Integrations.\\n\\nLanguages\\n\\nXML, XSLT, MVEL Web Services SOAP & REST.\\n\\nHCM Modules\\n\\nCore HR, Benefits, Compensation, Time Tracking, Absence Management, Studio, Core Connectors, Calculated Fields, Change Deduction, ReportWriting, Integration, EIB Inbound/Outbound, Sup Orgs, Business Objects.\\n\\nIDE\\n\\nWorkday Studio\\n\\n\\n\\n\\n\\nPROJECT DETAILS:           \\n\\nCompany: Tyson Foods, Bangalore                 (May 2018 to Present)\\n\\nProject: Workday Support and Enhancement\\t\\t\\t\\t\\t\\t\\t\\n\\nRole: Workday Technical Consultant\\n\\n\\n\\nResponsibilities:\\n\\nInvolved in Workday HCM for various HR modules such as Benefits, Compensation, Time Tracking and Absence Management.\\n\\nWorked on Calculated Fields to create Report level and Global level.\\n\\nMonitor daily Schedulers and Report Errors as needed.\\n\\nDesign and Build Integrations and worked closely with testing and production teams to solve issues with integrations.\\n\\nCreated Custom Reports like Simple, Advanced Reports as per the client requirements and shared with the security groups.\\n\\nCreated Reports against the Worker business object and worked on Headcount, Turnover and Compensation Reports.\\n\\nGood experience with Core Connector Worker to work on Employee Demographics and build Benefit Integrations and Account Provisioning Integrations.\\n\\nCreated Inbound/Outbound integrations using Workday Studio, Core/Cloud Connectors, EIB\\xe2\\x80\\x99s and Document Transformation Process.\\n\\nInvolved in Unit Test on Integrations, UAT support and end user training.\\n\\nDesign, build or maintain integrations of all types: Reports, EIB, Core Connectors, Payroll Connectors or Studio.\\n\\nWrite / Modify Technical Design/ Specifications as needed\\n\\nParticipate in Integration Testing and Peer Testing.\\n\\nWork independently or with minimal supervision with various Stakeholders including the Functional Consultants.\\n\\nMonitor and update ticketing tool on daily basis. Manage work activities and ticket volumes to meet required SLA\\xe2\\x80\\x99s and service delivery measures.\\n\\nDeveloped Core Connector and Document Transformation integrations to get changes file of CSV format from XML Output.\\n\\n\\n\\n\\n\\nUsed sequence generators, generating templates and validating inbound integration system results.\\n\\nDay to day support for Workday HCM, Integrations and Reporting issues.\\n\\n\\n\\nTechnical Environment: Workday 30/31/32, Workday Studio, Workday EIB, Workday BIRT, Core Concepts, Document Transformation, Calculated Fields, Oxygen Editor, Workday Report Writer, XML, XSLT.\\n\\n\\n\\n\\n\\nPERSONAL INFORMATION\\n\\n\\n\\nFull Name\\t\\t\\t: \\tGopi Krishna Reddy \\n\\nGender\\t\\t\\t               : \\tMale \\n\\nD.O.B\\t\\t  \\t               : \\t19-04-1993 \\n\\nMarital Status\\t                             : \\tMarried\\t \\n\\nNationality\\t\\t\\t: \\tIndian \\n\\nLanguages Known\\t\\t: \\t English, Telugu and Kannada.',\n",
       " b'G Himaja\\n\\n                                                                                                            \\n\\n\\n\\n\\n\\nCareer Objective\\n\\n\\n\\nTo work towards achieving the greater success in my career through hard work, consistency and the ability to work with others to achieve organizational goals, aims and objectives.   \\n\\n    \\n\\nProfessional Summary\\n\\n\\n\\nHaving around 3 Years of IT ERP experience which include 2+ years as workday Integration Consultant and Remaining as HR.\\n\\n\\n\\n\\tGood Involvement in Workday Projects full life cycle, Development / deployment, upgrades, Integrations etc.\\n\\n\\n\\n\\tGood knowledge in the Functional Workday includes HCM, Compensation, Payroll interface, Business Process configurations, etc.\\n\\n\\n\\n\\tExtensively worked on calculated fields used in developing various custom reports.\\n\\n\\n\\nStrong Knowledge on Involved in CR-Change Request as for business requirement and Building and moving changes to production.\\n\\n\\n\\n\\tGood Exposure in Integrations- Inbound and Outbound, Payroll interface implementations.\\n\\n\\n\\n\\tGood Experience in Workday Integration Tools - Connectors, PICOF/PECI, RAAS, EIB, API, Reporting, Document Transformation, STUDIO, XSLT, HTML, Data Load etc., and Third party Integrations for client for various vendors like ADP etc.\\n\\n\\n\\n\\tWorked on Functional Data Inbound data loads via EIB for (Applicant, Dependent, Compensation Data Loads).\\n\\n\\n\\n\\tGood Experience in Outbound integrations using EIB and Document Transformation for sending Demographic data to end vendors.\\n\\n\\n\\nExperience on getting requirement from the client and sharing the work across team.\\n\\n\\n\\nGood Experience in BIRT to generate Bonus Letters using workday Studio. \\n\\n\\n\\nGood Experience in Report designing using workday Studio. \\n\\n\\n\\nStrong Knowledge on Deploy reports in multiple environments (Dev-QA-Prod) Using solution.\\n\\n\\n\\n\\tProven communication and interpersonal skills.\\n\\n\\n\\n\\t\\n\\n\\n\\nTechnical- Skills:\\n\\n\\n\\nWorkday Skills\\n\\nWorkday HCM, Workday Advanced Report Writer, Calculated Fields, Core connectors, PICOF, Document Transformation and Workday Studio, EIB, Workday Web Services.\\n\\nProgramming Languages\\n\\nXML, XSLT, X-Path\\n\\nWeb Technologies\\n\\nSOAP, XML, XSD, Web Services (WSDL & SOAP), XSLT.\\n\\nOperating Systems\\n\\nWindows XP/Vista/Windows7/8\\n\\n\\n\\nExperience Summary:\\n\\n\\n\\nWorked as Software Engineer in Thermo Fisher Scientific from June 2018 \\xe2\\x80\\x93 Till date.\\n\\nEducation:\\n\\nCompleted Degree (BSc. computer science) from S V University, Tirupathi-2018.\\n\\nProject:\\n\\n        Project\\t          :     Support &Implementation of workday HCM\\n\\n       Client                 :     Thermo fisher scientific\\n\\n       Role\\t          :    Workday Integration Consultant\\n\\nRoles & Responsibilities\\n\\n\\n\\n\\tUnderstanding the Business Requirements by studying the Functional Documents.\\n\\n\\tCreation of Advanced Custom reports for End user for reporting on Demographic Information.. \\n\\n\\tHands-on experience in creating the calculated fields using different functions for complete logics. \\n\\n\\tCreated EIB Inbound Integrations for loading the employees personal Information like, Emergency contacts, Compensation, One time payments, Bank account information, cost center information.\\n\\n\\tCreated EIB outbound Integrations, written XSLT code and sending data from workday to downstream systems.\\n\\n\\tModified the XSLT code as per CR-request and adding the new XSLT code for Different info types.\\n\\n\\tCreated the new outbound integrations to sending the Payroll Information from workday to ADP payroll system.\\n\\n\\tCreated Workday Studio inbound studio programs to load compensation information from ADP to workday.\\n\\n\\tHands-on experience In Migrating the XSLT Code, Reports from Lower tenant to Sandbox and Production using Object Transporter\\n\\n\\t\\n\\n\\tSupporting the Different teams in UAT phase as well as with test factory teams during integration testing phase.\\n\\n\\tInvolved in calls with client and update the work status as well as clarifications if any.\\n\\n\\t\\n\\n\\t\\n\\n\\tProject    \\n\\n      Client                 :     Thermo fisher scientific\\n\\n       Role\\t          :    HR-Executive\\n\\nRoles & Responsibilities\\n\\n\\n\\n\\t\\xe2\\x80\\xa2 Handling end to end recruitment activities.\\n\\xe2\\x80\\xa2   Uploading the profiles on internal recruitment portal to check the duplicity of the profiles.\\n\\xe2\\x80\\xa2   Track of all the open requirements.\\n\\xe2\\x80\\xa2   Discussion with business about the job requirements/plan of hire.\\n\\xe2\\x80\\xa2   Decision on mode and channel of hire based on the requirements.\\n\\xe2\\x80\\xa2   Sourcing the profiles through social network, employee references, references from the   \\n\\n\\t  Candidates, Vendors, etc \\n\\xe2\\x80\\xa2   Sourcing the profiles through vendors for contract hiring requirements.\\n\\xe2\\x80\\xa2   Initial screening and shortlist the profiles for the interview process.\\n\\xe2\\x80\\xa2   Interview schedule for the shortlisted candidates.\\n\\xe2\\x80\\xa2   Arrangement of logistics for the interviews.\\n\\xe2\\x80\\xa2   Arrangement of panels for the Non-technical and managerial interviews.\\n\\xe2\\x80\\xa2   Interview coordination.\\n\\xe2\\x80\\xa2   Discussion with project team/business unit about the requirements and initiate sourcing as \\n\\n\\t  per the requirement.\\n\\xe2\\x80\\xa2   Preparing the report and submitted to Business.\\n\\n\\t\\n\\nPersonal Information\\n\\n\\n\\n\\n\\n\\tMarital Status \\t                    \\n\\n:  Unmarried \\n\\nNationality                                     \\n\\n:  Indian \\n\\n\\tLanguages known \\t                    \\n\\n \\n\\n:  English, Telugu, Hindi. \\n\\n\\n\\nDeclaration:      \\n\\n                   \\n\\nI hereby declare that the information furnished above is true to the best of my Knowledge. \\n\\n                                                                          \\n\\n                                                                                                                                      Yours Faithfully\\n\\n                                                                                                                       G Himaja',\n",
       " b'Name: Ravali P \\n\\n\\n\\n                                                                             Curriculum Vitae \\n\\n                                          Specialization: BE (computer science and Engg)   \\n\\n\\n\\n       \\n\\nC\\n\\nA\\n\\nR\\n\\nEE\\n\\nR\\n\\n \\n\\nOB\\n\\nJE\\n\\nCT\\n\\nI\\n\\nV\\n\\nE\\n\\n \\n\\n       \\n\\nC\\n\\nA\\n\\nR\\n\\nEE\\n\\nR\\n\\n \\n\\nOB\\n\\nJE\\n\\nCT\\n\\nI\\n\\nV\\n\\nE\\n\\n \\n\\n \\n\\nTo utilize my technical skills for achieving the target and developing the best performance in organization. \\n\\n \\n\\n \\n\\n\\n\\n        \\n\\nE\\n\\nD\\n\\nU\\n\\nC\\n\\nA\\n\\nT\\n\\nION\\n\\n \\n\\n        \\n\\nE\\n\\nD\\n\\nU\\n\\nC\\n\\nA\\n\\nT\\n\\nION\\n\\n \\n\\n \\n\\n \\n\\nDegree/Course \\n\\n \\n\\nCollege/Institute \\n\\nUniversity/ Board \\n\\nPercentage/ CGPA \\n\\n \\n\\nYear of Passing \\n\\n \\n\\n \\n\\n \\n\\n \\n\\n \\n\\n CGPACGPA \\n\\n \\n\\n \\n\\n \\n\\n \\n\\n             \\n\\n            BE \\n\\n \\n\\n S J B Institute of technology \\n\\n \\n\\n \\n\\nVTU \\n\\n \\n\\n6.5 CGPA \\n\\n \\n\\n \\n\\n2021 \\n\\n \\n\\n        \\n\\n         Diploma \\n\\nAryabharathi polytechnic \\n\\n Karnataka State Board of Technical Examination, \\n\\nBengaluru \\n\\n \\n\\n60% \\n\\n \\n\\n \\n\\n             2017 \\n\\n \\n\\n          \\n\\n           SSLC \\n\\nEmpress girls high school  \\n\\n \\n\\nKarnataka \\n\\nSecondary \\n\\nEducation \\n\\nBoard \\n\\n \\n\\n52.8% \\n\\n \\n\\n \\n\\n             2011 \\n\\n \\t \\n\\n \\n\\nMANUAL TESTING SKILLS \\n\\n \\n\\n   Strong knowledge in SDLC concepts. \\n\\n   Extensive knowledge in White Box Testing. \\n\\n   Good knowledge in Functional testing, Integration testing, \\n\\n   Extreme Knowledge on System Testing \\n\\n   Good knowledge in Adhoc Testing, Reliability testing.    Good Knowledge on Exploratory Testing    Good knowledge in STLC concepts. \\n\\n   Good knowledge in Test cases and Test scenarios. \\n\\n   Good knowledge in globalization testing, compatibility testing.    Through Knowledge on Regression Testing    Good  knowledge in Test plan.\\n\\n \\n\\n \\n\\n    \\n\\n  \\n\\nS\\n\\nQL\\n\\n \\n\\nS\\n\\nK\\n\\nI\\n\\nLL\\n\\nS\\n\\n \\n\\n  \\n\\n \\n\\nGoo\\n\\nd\\n\\n \\n\\nk\\n\\nn\\n\\no\\n\\nw\\n\\nl\\n\\ne\\n\\nd\\n\\ng\\n\\ne\\n\\n \\n\\no\\n\\nn\\n\\n \\n\\nRD\\n\\nB\\n\\nM\\n\\nS\\n\\n \\n\\nc\\n\\no\\n\\nn\\n\\nc\\n\\ne\\n\\np\\n\\nt\\n\\n.\\n\\n \\n\\n  \\n\\n \\n\\nG\\n\\n1\\n\\noo\\n\\nd\\n\\n \\n\\nu\\n\\nn\\n\\nd\\n\\ne\\n\\nr\\n\\ns\\n\\nt\\n\\na\\n\\nn\\n\\nd\\n\\ni\\n\\nn\\n\\ng\\n\\n \\n\\ni\\n\\nn\\n\\n \\n\\nF\\n\\nu\\n\\nn\\n\\nct\\n\\nio\\n\\nn\\n\\ns\\n\\n.\\n\\n \\n\\n  \\n\\n \\n\\nGoo\\n\\nd\\n\\n \\n\\nk\\n\\nn\\n\\no\\n\\nw\\n\\nl\\n\\ne\\n\\nd\\n\\ng\\n\\ne\\n\\n \\n\\no\\n\\nn\\n\\n \\n\\nw\\n\\nr\\n\\ni\\n\\nt\\n\\ning\\n\\n \\n\\nQ\\n\\nu\\n\\ne\\n\\nr\\n\\ni\\n\\ne\\n\\ns.\\n\\n \\n\\n  \\n\\n \\n\\nGoo\\n\\nd\\n\\n \\n\\nk\\n\\nn\\n\\now\\n\\nl\\n\\ne\\n\\ndg\\n\\ne\\n\\n \\n\\ni\\n\\nn\\n\\n \\n\\nJ\\n\\no\\n\\ni\\n\\nn\\n\\ns\\n\\n.\\n\\n \\n\\n  \\n\\n \\n\\nGoo\\n\\nd\\n\\n \\n\\nk\\n\\nn\\n\\no\\n\\nw\\n\\nl\\n\\ne\\n\\nd\\n\\ng\\n\\ne\\n\\n \\n\\no\\n\\nn\\n\\n \\n\\nS\\n\\nu\\n\\nbq\\n\\nu\\n\\ne\\n\\nr\\n\\ni\\n\\ne\\n\\ns.\\n\\n \\n\\n  \\n\\n \\n\\nE\\n\\nxt\\n\\nr\\n\\ne\\n\\nme\\n\\n \\n\\nK\\n\\nn\\n\\no\\n\\nw\\n\\nl\\n\\ne\\n\\nd\\n\\ng\\n\\ne\\n\\n \\n\\no\\n\\nn\\n\\n \\n\\nN\\n\\no\\n\\nr\\n\\nm\\n\\na\\n\\nl\\n\\ni\\n\\nz\\n\\na\\n\\nt\\n\\nio\\n\\nn\\n\\n \\n\\n \\n\\n    \\n\\n  \\n\\nS\\n\\nQL\\n\\n \\n\\nS\\n\\nK\\n\\nI\\n\\nLL\\n\\nS\\n\\n \\n\\n  \\n\\n \\n\\nGoo\\n\\nd\\n\\n \\n\\nk\\n\\nn\\n\\no\\n\\nw\\n\\nl\\n\\ne\\n\\nd\\n\\ng\\n\\ne\\n\\n \\n\\no\\n\\nn\\n\\n \\n\\nRD\\n\\nB\\n\\nM\\n\\nS\\n\\n \\n\\nc\\n\\no\\n\\nn\\n\\nc\\n\\ne\\n\\np\\n\\nt\\n\\n.\\n\\n \\n\\n  \\n\\n \\n\\nG\\n\\n1\\n\\noo\\n\\nd\\n\\n \\n\\nu\\n\\nn\\n\\nd\\n\\ne\\n\\nr\\n\\ns\\n\\nt\\n\\na\\n\\nn\\n\\nd\\n\\ni\\n\\nn\\n\\ng\\n\\n \\n\\ni\\n\\nn\\n\\n \\n\\nF\\n\\nu\\n\\nn\\n\\nct\\n\\nio\\n\\nn\\n\\ns\\n\\n.\\n\\n \\n\\n  \\n\\n \\n\\nGoo\\n\\nd\\n\\n \\n\\nk\\n\\nn\\n\\no\\n\\nw\\n\\nl\\n\\ne\\n\\nd\\n\\ng\\n\\ne\\n\\n \\n\\no\\n\\nn\\n\\n \\n\\nw\\n\\nr\\n\\ni\\n\\nt\\n\\ning\\n\\n \\n\\nQ\\n\\nu\\n\\ne\\n\\nr\\n\\ni\\n\\ne\\n\\ns.\\n\\n \\n\\n  \\n\\n \\n\\nGoo\\n\\nd\\n\\n \\n\\nk\\n\\nn\\n\\now\\n\\nl\\n\\ne\\n\\ndg\\n\\ne\\n\\n \\n\\ni\\n\\nn\\n\\n \\n\\nJ\\n\\no\\n\\ni\\n\\nn\\n\\ns\\n\\n.\\n\\n \\n\\n  \\n\\n \\n\\nGoo\\n\\nd\\n\\n \\n\\nk\\n\\nn\\n\\no\\n\\nw\\n\\nl\\n\\ne\\n\\nd\\n\\ng\\n\\ne\\n\\n \\n\\no\\n\\nn\\n\\n \\n\\nS\\n\\nu\\n\\nbq\\n\\nu\\n\\ne\\n\\nr\\n\\ni\\n\\ne\\n\\ns.\\n\\n \\n\\n  \\n\\n \\n\\nE\\n\\nxt\\n\\nr\\n\\ne\\n\\nme\\n\\n \\n\\nK\\n\\nn\\n\\no\\n\\nw\\n\\nl\\n\\ne\\n\\nd\\n\\ng\\n\\ne\\n\\n \\n\\no\\n\\nn\\n\\n \\n\\nN\\n\\no\\n\\nr\\n\\nm\\n\\na\\n\\nl\\n\\ni\\n\\nz\\n\\na\\n\\nt\\n\\nio\\n\\nn\\n\\n \\n\\n   \\n\\n     AGILE METHDOLOGY \\n\\n \\n\\n   Good knowledge on Scrum Methodology.    Expertise in Sprint Planning Meeting. \\n\\n   Good knowledge on Scrum Meeting \\n\\n   Extreme knowledge on Sprint Retrospective Meeting \\n\\n   Good knowledge on Product Backlog Meeting and Bug Triage Meeting. \\n\\n   Extreme Knowledge on Normalization \\n\\n \\n\\n \\n\\n \\n\\nJAVA SKILLS \\n\\n \\n\\n   Good knowledge on Method Overloading and Method Overriding. \\n\\n   Good understanding on Static and NonStatic. \\n\\n   Good understanding on Variables. \\n\\n   Good knowledge on Constructor. \\n\\n   Good knowledge in Abstraction. \\n\\n   Good knowledge in Encapsulation. \\n\\n   Good knowledge in Inheritance. \\n\\n   Good knowledge in Collections. \\n\\n \\n\\n \\n\\n   ACADEMIC  \\n\\n\\tPROJECTS:- \\t \\n\\n \\n\\nProjects \\n\\nYear of Completion \\n\\nA Smart Farmland for crop prevention and animal intrusion detection using CNN \\n\\n2021 \\n\\nLibrary management system \\n\\n2017 \\n\\n \\t \\n\\n \\n\\n \\n\\n\\tTRAINING OR COURSES:- \\t \\n\\n \\n\\nTraining/course \\n\\nConducted by \\n\\nDuration \\n\\nInternship \\n\\nZerozilla  \\n\\n1 \\n\\nMonth \\n\\n \\n\\n \\n\\n \\n\\n \\n\\n  \\n\\n \\n\\n     \\n\\n\\t  INDUSTRIAL EXPOSURE:- \\t \\n\\n \\n\\nIndustry \\n\\n\\n\\nSkills Learned \\n\\n \\n\\nZerozilla Software Company, Bengaluru\\n\\n \\n\\n\\n\\nWebTechnology,PHP,SQL,JAVA,Full\\n\\n \\n\\n\\n\\n\\n\\n\\n\\n\\n\\nStack \\n\\n\\n\\n\\t ACHIEVEMENTS:- \\t \\n\\n\\t     \\t  I\\xe2\\x80\\x99m certified in \\xe2\\x80\\x98Cyber Security\\xe2\\x80\\x99 Training at SJBIT in Bengaluru \\n\\n     \\t  I\\xe2\\x80\\x99m certified in Volleyball Olympics in Distict level  \\n\\n      ASSIGNEMENTS \\n\\n \\n\\n   I have identified 100 Functional Test cases on Flipkart.com \\n\\n   I have identified 200 Integration Test cases on WhatsApp \\n\\n   I have identified 200 Integration Test cases on  Amazon.com \\n\\n   I have found 100 defects while doing FT, Usability, Camaptibility, Globalization Testing \\n\\n \\n\\n STRENGTHS \\n\\n \\n\\n\\n\\n  \\n\\n \\n\\nP\\n\\no\\n\\ns\\n\\niti\\n\\nv\\n\\ne\\n\\n \\n\\nt\\n\\nh\\n\\nin\\n\\nk\\n\\nin\\n\\ng\\n\\n.\\n\\n \\n\\n \\n\\nWi\\n\\nll\\n\\nin\\n\\ng\\n\\nn\\n\\ne\\n\\ns\\n\\ns\\n\\n \\n\\nt\\n\\no\\n\\n \\n\\nl\\n\\ne\\n\\na\\n\\nr\\n\\nn\\n\\n \\n\\nn\\n\\ne\\n\\nw\\n\\n \\n\\nt\\n\\nh\\n\\nin\\n\\ng\\n\\ns\\n\\n.\\n\\n \\n\\n  \\n\\n \\n\\nP\\n\\no\\n\\ns\\n\\niti\\n\\nv\\n\\ne\\n\\n \\n\\nt\\n\\nh\\n\\nin\\n\\nk\\n\\nin\\n\\ng\\n\\n.\\n\\n \\n\\n \\n\\nWi\\n\\nll\\n\\nin\\n\\ng\\n\\nn\\n\\ne\\n\\ns\\n\\ns\\n\\n \\n\\nt\\n\\no\\n\\n \\n\\nl\\n\\ne\\n\\na\\n\\nr\\n\\nn\\n\\n \\n\\nn\\n\\ne\\n\\nw\\n\\n \\n\\nt\\n\\nh\\n\\nin\\n\\ng\\n\\ns\\n\\n.\\n\\n \\n\\n \\n\\nDATE OF BIRTH:                                     04/11/1995 \\n\\n \\n\\nGENDER:                                                     Female              \\n\\nFATHER NAME:                                     Fasala Reddy N \\n\\nLANGUAGES KNOWN:                         English, Telugu,Kannada,Hindi \\n\\n \\n\\n \\n\\nNATIONALITY:                                        Indian. \\n\\n \\n\\nADDRESS:                                                 Thirumaladevarahalli(v),Parthihalli(p)                                                                Kodigenahalli(H),Madhugiri(T),Tumkur(D)                                                           state: Karnataka \\n\\n \\n\\n\\n\\n \\n\\nD\\n\\nE\\n\\nC\\n\\nLA\\n\\nR\\n\\nA\\n\\nT\\n\\nI\\n\\nO\\n\\nN\\n\\n \\n\\n \\n\\nD\\n\\nE\\n\\nC\\n\\nLA\\n\\nR\\n\\nA\\n\\nT\\n\\nI\\n\\nO\\n\\nN\\n\\n \\n\\n \\n\\nI hereby declare that all the above-mentioned information is true to the best of my knowledge. \\n\\n                                                                                                                                              \\n\\n                                                                                                                                             Your\\xe2\\x80\\x99Sincerely \\n\\n                                                                                                                                                    Ravali P                                               \\n\\nPlace: Bangalore',\n",
       " b'SUSOVAN  BAG   \\n\\nSeeking  a  challenging  position  in  the  field  of  science  and  technology  to  utilize  my  skills  for  organization  and  individual  growth  and  to  enhance  my  knowledge  from  my  academic  learning  to  give  my  best  to  the  organization.   \\n\\n  \\n\\nSKILLS  \\n\\nCCNA -   Routing  &  Switching  subnetting  \\n\\nProgramming:  C,   C++,Java,  HTML,CSS,  SQL   \\n\\n  \\n\\nOOPS,  Algorithms,  Data  Structures,DBMS,  Networking  \\n\\n\\t\\t\\tOS  (Linux): Linux \\t  System  Administration  with  Troubleshooting  \\n\\n  \\n\\nSOFT  SKILLS  \\n\\n\\t\\t\\t Leadership, \\t  Collaboration,  Good  communication  and  customer  Handling  skills.  \\n\\n   \\n\\nLANGUAGES  \\n\\n\\t\\t\\t  English(Fluent), \\t  Hindi(Fluent),  Bengali(Native),  Telugu  \\n\\n  \\n\\n  \\n\\nPROJECTS   \\n\\n  \\n\\nSMART  AGRICULTURE   \\n\\nBuilt  a  product  for  farmers  using  IoT  as  a  solution     \\n\\nAUTOMATIC  WATER  MOTOR  CONTROLLER  (2019 -   2020)    \\n\\nIoT,  android  and  API  technologies  combined  to  automate  work  of  water  motor  controllers  using  sensors.   \\n\\n  \\n\\nBOOKSTORE  MANAGEMENT  INTERFACE: C PP  (2018  -  2019)    \\n\\nManage  the  purchase  and  return  of  books  in  a  books  store.    \\n\\nHOTEL  MANAGEMENT  SYSTEM(DEC - 2018)  \\n\\nDesigned  a  front  end  module  for  the  hotel  management  system  website  using  HTML,CSS  .  \\n\\n  \\n\\nONLINE  MOVIE  TICKET  BOOKING    \\n\\nDesigned  a  fully  functioning  website  using  HTML,CSS,Javascript.`  \\n\\n  \\n\\nEDUCATION  BACKGROUND   \\n\\n\\t\\t\\t\\tLovely  Professional  University \\t Punjab, \\t  India.  \\n\\nB-Tech  in  computer  science  and   Engineering                                                                        7.22  gpa,  2020.    \\n\\nSri  Chaitanya  junior  College \\n\\n\\t Visakhapatnam, \\t  India.  \\n\\nIntermediate  in  MPC(AP  intermediate) \\n\\n  95.4%,  2016.  \\n\\n\\t   Mrs.Mariadas \\t  U.P  school(ICSE) \\n\\n\\t      78%,2014.  \\t  \\n\\n\\t\\t\\t   HOBBIES :Web  Surfing,  Cricket,Carrom,Chess .  \\t  \\n\\n \\t  \\t  \\n\\n/\\n\\n/',\n",
       " b'JYOTI VERMA\\t\\t\\t\\t\\t\\n\\n\\n\\nPROFESSIONAL SUMMARY\\n\\nPROFESSIONAL SUMMARY\\n\\n\\n\\n\\n\\n\\t\\t3 years of Experience in Workday as Functional HCM Consultant.\\n\\n\\t\\tGood exposure in working on business improvements and process activities.\\n\\n\\t\\tExceptional ability in understanding the business needs and improving the process.\\n\\n\\t\\tExcellent communication skills and proven experience in working independently as well as in a team.\\n\\n\\t\\tInvolved in preparing business requirement documents and analysis of client functional requirements.\\n\\n\\t\\tExtensive knowledge on Complete Tenant configurations \\xe2\\x80\\x93 (Supervisory Organizations, Roles, Business Processes)\\n\\n\\tExperience in performing HCM tasks like defining Job Profiles, position creations, employee hiring, transfers, promotions, demotions and terminations etc., as part of Workday Testing requirements.\\n\\n\\tConfiguration of Supervisory Organizations, Business Process.\\n\\n\\tExperience working on Workday HCM Global roll out and Support projects\\n\\n\\t\\tProficient in analyzing and translating business requirements to technical requirements and architectures.\\n\\n\\t\\tDay to day support of Workday HCM, reporting issues and implementing enhancements when needed.\\n\\n\\t\\tCreated Custom Reports and scheduled reports as requested by end-users.\\n\\n\\t\\tExposure on modifying/troubleshooting/enhancing existing custom reports using Calculated Fields.\\n\\n\\t\\tCreated and used calculated fields in reporting, business processes, and integrations within Workday.\\n\\n\\t\\tUnderstanding and careful analysis of the Internal HR team requirements.\\n\\n\\t\\tExposure on object management skills in Workday like configuring Supervisory/Matrix Organizations (Divide organizations, Inactivate Organizations, create subordinates).\\n\\n\\t\\tExperience in creating Job Profiles, Job Families and Job Family Groups, also worked with the creation and maintenance of position and job staffing models.\\n\\n\\t\\tExperience in maintenance and creation of Workday Supervisory Organizations, Locations, Positions, Cost centers, Cost Center hierarchies\\n\\n\\t\\tExcellent interpersonal skills with a strong desire to achieve specified goals.\\n\\n\\t\\tKnowledge on Compensation (salary plans based on different grades, grade profiles and allowances).\\n\\n\\n\\nQUALIFICATION:\\n\\nQUALIFICATION:\\n\\n\\n\\n\\t\\n\\n\\t\\n\\n\\tDegree/Exams\\n\\n\\tYear\\n\\n\\tInstitute/Board\\n\\n\\t%Percentage\\n\\n\\tB. E in MECHANICAL ENGINEERING\\t\\n\\n\\t2009\\n\\n\\tGOVT. ENGINEERING COLLEGE AJMER\\n\\n\\t65.68%\\n\\n12\\xe2\\x80\\x8bth (R.B.S.E)\\n\\n\\t2004\\n\\n\\tALL SAINTS SR. SEC. SCHOOL,AJMER(RAJ)\\n\\n\\t58%\\n\\n10\\xe2\\x80\\x8bth (R.B.S.E)\\n\\n\\t2002\\n\\n\\tALL SAINTS SR. SEC. SCHOOL AJMER(RAJ)\\n\\n\\t77%\\n\\n\\t\\n\\n\\n\\n\\t\\t\\n\\n\\n\\n\\n\\n\\n\\nEXPERIENCE DETAILS:\\n\\nEXPERIENCE DETAILS:\\n\\n\\n\\n\\t\\tCurrently working as a Workday HCM Functional Consultant in Icroz Solutions Pvt Ltd, Hyderabad from September 2018 to till date.\\n\\n\\t\\n\\n\\tYEAR\\n\\n\\tINDUSTRY\\n\\n\\tROLE\\n\\n\\t JAN2015 \\xe2\\x80\\x93 OCT 2016\\n\\n\\tEDUCATION (JAIPUR ENGINEERING COLLEGE AND RESEARCH CENTRE)JAIPUR.\\n\\n\\tSenior Lecturer.\\n\\n\\tDomain\\n\\n\\tMechanical Deptt.\\n\\n\\t\\n\\n\\tYEAR\\n\\n\\tINDUSTRY\\n\\n\\tROLE\\n\\n\\tAug2012 \\xe2\\x80\\x93 AUG 2014\\n\\n\\tEDUCATION(YAGVALKYA  INSTITUTE OF TECHNOLOGY)JAIPUR.\\n\\n\\tLecturer and counselor \\n\\n\\tDomain\\n\\n\\tMechanical Deptt.\\n\\n\\t\\n\\n\\tYEAR\\n\\n\\tINDUSTRY\\n\\n\\tROLE\\n\\n\\tMarch2011 \\xe2\\x80\\x93 July2012\\n\\n\\tEDUCATION(Mayurakshi Institute Of Engineering &Technology)Jodhpur\\n\\n\\tLecturer\\n\\n\\tDomain\\n\\n\\tMechanical Deptt.\\n\\n\\t\\n\\n\\tYEAR\\n\\n\\tINDUSTRY\\n\\n\\tROLE\\n\\n\\tOct2009\\xe2\\x80\\x93 Feb2011\\n\\n\\tReligare\\n\\n\\tMaintenance  Engineer\\n\\n\\tDomain\\n\\n\\tMechanical Deptt.\\n\\n\\t\\n\\n\\t\\t\\n\\n\\n\\nPROFESSIONAL EXPERIENCE:\\n\\nPROFESSIONAL EXPERIENCE:\\n\\n\\t\\tProject-1\\t:\\tSupport of Workday HCM\\n\\n\\t\\tClient\\t:\\tElectronic Arts\\n\\n\\t\\tRole\\t:\\tWorkday Consultant Duration\\t:\\tSept 2018 to Till Date\\n\\n\\n\\nROLES&RESPONSIBILITIES:\\n\\nROLES&RESPONSIBILITIES:\\n\\n\\n\\n\\t\\tWorked extensively on creating calculated fields and setting up validation rules to  accomplish the Client needs for BP Setup and Reporting needs.\\n\\n\\t\\tInvolved in setting up Eligibility Criteria, Workflows and Security Groups to support Business Processes for Core HR.\\n\\n\\t\\tExposure in developing Standard, Advanced, custom reports  and  thorough understanding  of Workday data sources and business objects.\\n\\n\\t\\tDay to day support of Workday HCM\\n\\n\\t\\tCreated Supervisory Organizations, Cost Centers, Cost Center Hierarchies, and location hierarchies and modification of Workday Business Processes and definitions.\\n\\n\\t\\tCreating and maintaining Workday Custom reports like Simple, Advance Reports.\\n\\n\\t\\tCreating supervisory Organizations, creating sub ordinates, assign superior, Move workers, Creating Locations\\n\\n\\t\\tKnowledge on Workday Standard Reports and Custom Reports.\\n\\n\\t\\tKnowledge on Calculated Fields, System wide and Report Specific Fields.\\n\\n\\t\\tKnowledge on Staffing Models, Job profiles, Positions.\\n\\n\\t\\tKnowledge on security policies and security groups\\n\\n\\t\\tKnowledge on EIB integrations\\n\\n\\n\\n\\n\\n\\t Declaration:\\t\\n\\n\\n\\nI hereby declare that the information furnished above is true to the best of my Knowledge.\\n\\n\\n\\n     Yours faithfully\\n\\nJYOTI VERMA',\n",
       " b'KAMBALLA PRADEEP                                                                   \\n\\nSYNOPSIS\\n\\n\\n\\nLooking forward to aspire a challenging career, where in enhancing my technical   knowledge and work hardly towards the growth of the organization.\\n\\nSUMMARY\\n\\n\\n\\nHaving 2.8 years of Professional Software development experience in the areas of developing and supporting applications based on Microsoft SQL Server.\\n\\nProficient in Relational Database Management Systems (RDBMS).\\n\\nExpertise in Transact-SQL (DDL, DML, DCL) and in Design and Normalization of the database tables.\\n\\nExperience in implementing business logic using Triggers, Indexes, Views and Stored Procedures.\\n\\nExtensive knowledge of advance query concepts (e.g. group By, having clause, union so on).\\n\\nExperience with tools like SQL Server management studio and SQL Server2008r2/2012 Integration (SSIS).\\n\\nExperience in Creating and Updating Clustered and Non-Clustered Indexes to keep up the SQL Server Performance.\\n\\nSelf-motivated and ability to learn and grasp new technologies and domain knowledge.\\n\\nExcellent analytical, communication and interpersonal skills. Proficient in technical writing and presentations and a good team player.\\n\\nExperienced in authoring and deploying SQL Server Integration Services (SSIS) packages.\\n\\nGood Experience in optimizing the queries by creating various clustered, non-clustered indexes and indexed views\\n\\nExtensive experience with SQL Server and T-SQL in constructing Procedures, triggers, Tables, Table variables, user defined functions, views, indexes, CTE, temp tables, relational database models.\\n\\n\\n\\nEducation Details\\n\\n                        Graduated in B.sc  from Sri Venkateshwara University, Tirupathi,2018.\\n\\n\\tWORK EXPERIENCE\\n\\n\\n\\nCurrently working as a software Engineering in Coginic Technologies pvt Ltd., from JUN-2018 to 04th feb 2021 in Hyderabad.\\n\\nTECHNICAL SKILLS\\n\\n\\n\\nLanguages                            \\n\\nSQL, T-SQL, SSIS, MY SQL\\n\\nTechnologies                       \\n\\nMS SQL Sever \\n\\nOperating Systems\\n\\nWindows 10\\n\\nDBMS\\n\\nSQL Server 2012, 2016\\n\\nOLAP Tools\\n\\nSQL Server Analysis Services\\n\\nETL Tools\\n\\nSQL Server Integration Services\\n\\nReporting Tools\\n\\nSQL Server Reporting Services, Report Builder\\n\\n\\n\\n\\tProject Details:\\n\\nProject 1:\\n\\n\\n\\nProject Name\\n\\nCapital Finance & Core Accounting system\\n\\nClient Name\\n\\nL & T Finance Services\\n\\nEnvironment\\n\\nT-SQL, SQL Server, SQL Server 2012,2016, SSIS\\n\\nRole\\n\\nSQL Developer\\n\\nDescription\\n\\nPrecise is an information management system custom built in the late \\xe2\\x80\\x93 1990s. Precise is a system of record for Wells Fargo Capital Finance client information. It is modular in design and houses a suite of 7 applications. 1)Appraisal 2)Client information profile 3)Compliance tracking module 4) Document tracking system 5) Field Exam 6)Participants 7) Trends, terms and comments\\n\\nThe Enterprise Management System (\\xe2\\x80\\x9cEMS\\xe2\\x80\\x9d) is the system of record for the management of application access and distribution of business tools for Wells Fargo Capital Finance (WFCF) team members. It is used to capture all employee functional data , such as team member\\xe2\\x80\\x99s\\n\\nJob title, Division, Contact information, Business tools, Levels of system access and Emergency contact information in a central repository.\\n\\niReports Application is a web based centralized reporting application provides a consolidated view of all the reports related to Wells Fargo Capital Finance. iReports application is a 3 tier application, consisting with UI, Service and Data Access Layer. UI layer is developed in AngularJS mainly highlighting the UI layout of the Application. In the Data Access layer, it is responsible to communicate with respective application database, and we use ADO.Net to implement the DAL layer. \\n\\nFor showing the reports we are using the SSRS report viewer control to fetch the report from the respective SSRS server.\\n\\nResponsibility\\n\\nAnalyzing and Understanding the business requirements.\\n\\nCreated and manipulated many Packages.\\n\\nImplemented ETL and business logic with various tasks and transformations.\\n\\nWritten many customized queries, implemented many performance improvements across packages.\\n\\nPopulating the Data from different source systems into DW using SSIS. \\n\\nInvolved in unit testing against the developed packages.  \\n\\nResponsible for security and roles.\\n\\nWriting Adhoc queries for migration and Report Purpose.\\n\\nResponsible for development of\\xc2\\xa0Procedures, Functions\\xc2\\xa0and database\\xc2\\xa0Triggers.\\n\\nCreated\\xc2\\xa0indexes\\xc2\\xa0and analyzed its role for\\xc2\\xa0optimizations.\\n\\nCreating various types of reports like drill down, drill through, sub reports.\\n\\nWriting Migration Queries based on Requirement and data related issues.\\n\\nDeveloped Dynamic SQL queries and results with manipulated data.\\n\\nCoordinating the Developing activities with the development team and QA team\\n\\nEnhancements of the existing code according to client requirements.',\n",
       " b'Mooraboyina Guravaiah\\n\\nWorkday Integration Specialist\\t\\t\\t\\t                            \\n\\n\\t\\n\\nCARRIER OBJECTIVE: \\n\\nMy intention at this step would be to learn new things related to my profession. As it is a    technical field, one has to be updated because the technology changes often. It is my         responsibility to learn and adopt the new technology. It would be profitable for me as well as for my company\\n\\n\\n\\nPROFESSIONAL SUMMARY\\n\\n\\n\\nHaving 5+ years of experience in the field of IT, in which 3+ years of experience in providing Workday Technical Development in Workday Support and Enhancement Project.  \\n\\n\\n\\nTechnically proficient in customizations, enhancements and Reports using various tools like Report writer, EIB, Core Connector and Studio.\\n\\n\\n\\nGood working knowledge on Inbound and Outbound EIB integration concepts and created various EIB integrations.\\n\\n\\n\\nBuilding Core Connector integrations for extracting worker, position, status, leave and absence delta changes.\\n\\n\\n\\nDesigned and built all types of integrations using Document Transformation, EIB, PICOF, Cloud Connectors and Custom Report Writer.\\xc2\\xa0\\n\\n\\n\\nExperience with XML, XPATH and XSLT, and Expert in designing/development of Interfaces with legacy and third party systems.\\xc2\\xa0\\n\\n\\n\\nHands-on experience In Migrating the XSLT Code, Reports from Lower tenet to Sandbox and Production using Object Transporter.\\n\\n\\n\\nExperienced in developing Custom Reports, Advanced Reports using Report writer\\n\\n\\n\\nStrong experience using technologies involving\\xc2\\xa0Workday applications, reporting and analytics.\\xc2\\xa0\\n\\n\\n\\nGood experience on create Report Groups and Workbooks to create Excel worksheet groups. And creating Dashboards.\\n\\n\\n\\nStrong Knowledge on working with CR-Change Requests as per business requirement and Building and moving changes to production.\\n\\n\\n\\nWorked closely with business and development teams, designed and documented\\xc2\\xa0\\nenhancements as well as conducted production support troubleshooting around integrations for Global\\xc2\\xa0Workday\\xc2\\xa0HCM system.\\n\\n\\n\\nExcellent interpersonal, presentation and communication skills with the ability to work in a team and a stand-alone environment.\\xc2\\xa0\\n\\n\\n\\nEDUCATION QUALIFICATION\\n\\n\\n\\nCompleted B.Sc (Bachelor of Science) from Nagarjuna University - 2013 \\n\\n\\n\\nTECHNICAL SKILLS:   \\n\\n\\n\\nTechnical Expertise\\t              :  \\tXML, XSLT, EIB, Core Connectors, \\n\\nFunctional Expertise\\t               :  \\tCore HCM\\n\\nReporting Tools\\t\\t:  \\tReport Writer, Crystal Reports11, XMLP\\n\\nTechnical Skills\\t\\t:  \\tEIB, Core Connector, DT and Studio\\n\\n\\n\\nWork Experience \\n\\n\\n\\nCurrently Working as Workday Consultant in Jade Global, Pune from May\\xe2\\x80\\x992016 to Till Date \\n\\nProject Details \\n\\n\\n\\nJade Global, PUNE     ( Apr\\xe2\\x80\\x992018 to Till Date)\\n\\nProject:                Workday Support and Enhancement \\n\\nDesignation:\\t Workday Consultant \\n\\nRESPONSIBILITIES\\n\\n\\n\\nInvolved in Workday HCM for various HR modules such as Benefits, Compensation, Time tracking and Absence Management.\\n\\n\\n\\nWorking on Calculated Fields to create Report level and Global calculated Fields.\\n\\n\\n\\nMonitor daily schedulers and report errors as needed.\\n\\n\\n\\nDesign and build integrations and worked closely with testing and production teams to solve issue with integrations.\\n\\n\\n\\nCreated Custom reports like Simple, Advanced Reports as per the client requirements and shared with the security groups.\\n\\n\\n\\nWorked on Calculated Fields to create Report level and Global cal Fields.\\n\\n\\n\\nGood experience with Core Connector worker to work on employee demographics and build Benefit integrations and Account provisioning integrations.\\n\\n\\n\\nCreated complex Inbound/Outbound integrations using workday studio, core/cloud connectors, using EIB\\xe2\\x80\\x99s, document transformation process.\\n\\n\\n\\nInvolved in unit test on Integrations, UAT support and end user training.\\n\\n\\n\\nDesign, build or maintain integrations of all types: reports, EIB, Core Connectors, payroll connectors, or Studio.\\n\\n\\n\\nWrite / modify Technical Design/ Specifications as needed\\n\\n\\n\\nParticipate in integration testing and peer testing.\\n\\n\\n\\nWork independently or with minimal supervision with various stakeholders including the functional consultants.\\n\\n\\n\\nMonitor and update ticketing tool on daily basis. Manage work activities and ticket volumes to meet required SLA\\xe2\\x80\\x99s and service delivery measures.\\n\\n\\n\\nDeveloped Core connector and Document Transformation integrations to get changes file of CSV format from XML Output.\\n\\n\\n\\nUsed sequence generators, generating templates and validating inbound integration system results.\\n\\n\\n\\nDay to day support for Workday HCM, Integrations and Reporting issues.\\n\\n\\n\\nTECHNICAL ENVIRONMENT: Workday 30/31/32/33/34, Workday studio, workday EIB, Workday BIRT, Core concepts, Document transformation, Calculated fields, Oxygen Editor, Workday report writer, XML, XSLT.\\n\\n\\n\\n\\n\\n2.  Jade Global, Pune    (May\\xe2\\x80\\x9916 to Mar\\xe2\\x80\\x992018)\\n\\n     Project                  :      PeopleSoft Support and Enhancement \\n\\n     Designation         :\\tConsultant\\n\\n\\n\\nHave Customized and developed Application engines for loading bulk data from external systems.\\n\\n\\n\\nTrack and resolve user support issues with current system Maintain good working relationships with project team members, internal customers (e.g. AP,PO,BI and GL), and external service vendors\\n\\n\\n\\nHave designed technical documents and have worked towards development of interfaces and conversions based on design documents.\\n\\n\\n\\nModified, designed, configured and built fields, records, sub records, setting up keys to records, assign table edits like prompt table.\\n\\n\\n\\nInvolved in online changes to the delivered pages, components, menus and translate values.\\n\\n\\n\\nHave Customized and developed Application engines for loading bulk data from external systems.\\n\\n\\n\\nDeveloped and modified People Code to implement specific business rules and validations to enable the System to perform the business process.\\n\\n\\n\\nUsed File Layout Definition to get data from the legacy system to PeopleSoft tables.\\n\\n\\n\\nManaged and monitored process scheduler for any issues while scheduled interfaces/processes ran and resolved the issues\\n\\n\\n\\nDeveloped/Modified various PS queries in order to help the client day-to-day activity.\\n\\n\\n\\nInvolved in creating PS Query\\xe2\\x80\\x99s and sending it through email to different country FSCM heads.\\n\\n\\n\\nWorked on the reporting tools like PS Query, XML Publisher\\n\\n\\n\\nHave worked on File Layout, Application Engine, Component Interface, File layout, Excel to CI, XML Report\\n\\n\\n\\n\\t\\n\\n\\t\\n\\n\\t\\n\\n\\t\\n\\n\\t\\n\\n\\t\\n\\nPERSANAL DETAILS:\\n\\n\\t\\n\\n\\t\\tFather\\xe2\\x80\\x99s Name\\t         : Danaiah M\\n\\n\\t\\tDate of Birth\\t         : 15-02-1992\\n\\n\\t                     Gender                                 : Male\\n\\n                     Nationality                          : Indian \\n\\n                       Marital Status                   : Married\\n\\n\\n\\n\\n\\nDeclaration:  \\n\\n      I here by declare that all the information furnished is true to by best of my knowledge.\\n\\n\\n\\nPlace :\\n\\nDate  :                                                       \\n\\n                       \\t\\t\\t\\t\\t\\t\\t\\t\\t         (Guravaiah M)',\n",
       " b'Resume\\n\\nName     :  Neeraj Mishra\\n\\n\\n\\nExperience Summary\\n\\n\\n\\nHaving 3 year  6 Month of Experience on Oracle Developer.\\n\\nExperience in Oracle 11g, 12c, SQL and PL/SQL programming.\\n\\nExperience in Creation of Tables, Indexes using SQL and PL\\\\SQL.\\n\\nExtensively worked on Backend Programming using PL/SQL\\n\\n Stored Procedures, Functions, Packages, triggers, Exception Handling.\\n\\nExpertise in creating Oracle Tables, Views, Joins.\\n\\nExperience in Writing SQL Queries, Understanding Requirements.\\n\\nKnowledge on implementing securities using Roles, Privileges and Grants.\\n\\nGood Knowledge on Recursive Query Techniques, Pseudo Column implementations, SET Operators, Understanding Transaction Control, Materialized Views.\\n\\nExtensively worked with DDL, DML and TCL statements.\\n\\nAbility and willingness to learn new technology and acclimatize to any work culture.\\n\\nAble to adapt quickly to the environment and willing to work in shifts.\\n\\n\\n\\n\\n\\nQualification\\n\\n\\n\\nI have completed B.E from RGPV Bhopal in 2013.\\n\\n\\n\\nWorked Experience\\n\\n\\n\\nI am working in oracle developer in Fabex tech solution pvt Ltd from 2017 Till.\\n\\nSkills\\n\\n\\n\\nOperating system             : \\xc2\\xa0Windows \\n\\nDatabase                            :  Oracle 11g, 18c.\\n\\nProgramming Languages:  SQL, PL/SQL, UNIX \\n\\nTechnical Skill                    :  Oracle Sql , PL/SQL\\n\\nTools                                    :  SQL Developer, CRM, Sql* loader\\n\\nEnvironment                      :   Oracle 11g, Window\\n\\n\\n\\n\\n\\n\\n\\n\\n\\n \\n\\nProject Summary\\n\\n\\n\\n#           Project Name:  BOLT (Back Office Legacy Transition)\\n\\nTechnology     :  SQL, PL/SQL, Oracle\\n\\nTool\\t             :  SQL, Plsql Developer, CRM, Sql*loader\\n\\nRole                  :   Sql & PLSql developer\\n\\nEnvironment :   Oracle 11g, Windows\\n\\nTeam Size        :  8\\n\\nDuration          :  March 2019 to till \\n\\n\\n\\nDescription:  BOLT, Back Office Legacy Transition is an application which processes all the orders coming Into D&B through various order entry systems. BOLT is the heart of the back-office application. It is the prime application that is responsible for offers, pricing, transaction, billing and invoicing and doing the revenue recognition. Transaction records from several other systems come into BOLT and get processed. BOLT also Sends feeds to several other systems such as AR, Quantum, and GL etc.\\n\\n\\n\\nRoles &Responsibilities:\\n\\nInvolved in writing complex SQL Queries, PLSQL code to implement the business requirements.\\n\\nPerform DML, DDL Operations as per the Business Requirements.\\n\\nInvolved in the Development Backend Code, Altered Tables to Add New Columns, Constraints, Sequences and Indexes as per Business Requirements.\\n\\nResolved Production issues by modifying backend codes as and when required.\\n\\nInvolved in Creating the Procedures, Functions, Trigger and Views.\\n\\nAll these details we are updating in our database throw the help of sql*loader.\\n\\nWorked with Joins, Sub-Queries/Co-related Sub-queries .\\n\\nDetailed analysis of the change request or project requests received from the users or back end applications, development and implementation of the changes.\\n\\nExperience in Client interaction.\\n\\n\\n\\n\\n\\n#   Project Name:   M-ONE services\\n\\n    Technology    :  SQL, P L/SQL, Oracle \\n\\n    Tool\\t                :  SQL, Plsql Developer, CRM, Sql*loader\\n\\n    Role                 :   sql & plsql developer\\n\\n   Environment  :   Oracle 11g, Windows\\n\\n   Team Size        :  8\\n\\n   Duration          :   Oct 2017 to Feb 2019\\n\\n\\tDescription:  M-ONE is a web application, exclusively designed for the client MOT. They produce Website Designs and Products to Internet Users. In the process they offer Complete Graphic Design, Website Design and Development, Web Hosting & Maintenance, e Solutions, Various types of Online Requests, etc.\\n\\n\\t  It consists of Services & Admin Module. Services Module deals with maintenance of the user information. MOT provides services to the users based on the information which is maintained in this module from the Database.\\n\\n\\t\\n\\nRoles & Responsibilities:\\n\\nGathering the requirements from the business users and analyzing them to implement.  Analysis of the Problem Statement and Requirement Gathering.\\n\\nWorking upon production incidents, analyzing & resolving them.\\n\\nWorking on Change / Business Requirements.\\n\\n Extensively used the Procedures, Functions, Views, Materialized views, Packages.\\n\\nTriggers and Indexes etc to fulfill the business requirements. \\n\\nUsed SQL* Loader to load data into different tables.\\n\\nCoordinated with DBA in improving Database Performance. \\n\\nEnhancement of current functionality to improve system performance \\n\\n \\n\\n\\n\\nDeclaration\\n\\n\\n\\nI hereby declare that the information furnished above is true and correct to the best of my knowledge.\\n\\n\\n\\nDate:\\t                                                                                                                       N\\xc3\\xa9eraj Mishra\\n\\nPlace:                                                                                                                         Bangalore',\n",
       " b\"Harikrishna Akula                                                                                                                               \\n\\n\\n\\n\\n Summary:\\n\\n5.2 years of IT experience, around 3.8 years of experience in Workday involving various activities like Integrations, Reports and Requirement gathering, Design, Development, Testing and Go-Live, Support phases.\\n\\nGood knowledge of EIBs, Inbound/Outbound Integrations, Core connectors, Studio, Report Writer, and Calculated Fields.\\n\\nCreated Custom Reports used Calculated fields when necessary while creating reports in core HR, Benefits, Payroll, Finance.\\n\\nResearched issues developed workarounds and assisted end users.\\n\\nHands on experience in creating integrations EIB (Inbound/outbound), Cloud Connectors, DT, Studio, XSLT.\\n\\nMaintained studio integrations within the organization, responsible for bug fixes, debugging of the integration.\\n\\nExtensive experience in designing and developing conversations, integration, interfaces, reports and online customization.\\n\\nCommendable knowledge in developing applications using Programming languages like XSLT, XTT, ETV.\\n\\nProficient in understanding HR modules like Benefits, Payroll, compensation, Recruiting, staffing, Talent Management, Business process.\\n\\nMass Loading Data through EIB through Inbound Integration & Launching/ Scheduling Integration for data transfer to Third Party Vendor through Outbound Integration.\\n\\nWorked as a Techno/Functional consultant in the upgrade of PeopleSoft 8,9.0,9.1 HCM.\\n\\nExpertise in Resolving the issues related to HRIS and Benefits Administration.\\n\\nPrepared documentation for changes functionality due to upgrade.\\n\\nVery strong in Software Development Life Cycle of PeopleSoft Applications using Application Designer, Pages, Menus, People Code, SQR, Crystal, Security, Process Scheduler, People Tools, People Code/Tracing, Workflow, Integration Broker, WSDL, Component Interface, File Layout.\\n\\nParticipated in Project management activities - Issue resolution, Interaction with implementation team, risk management, project status reporting.\\n\\nSkilled at performing GAP analysis, SWOT analysis, Cost benefits analysis and Feasibility Analysis.\\n\\nA quick learner with strong Analytical & Communication skills. Excel in building Customer relationships.\\n\\n\\n\\n\\n\\n  ADDITIONAL INFORMATION:\\n\\nOperating Systems Windows: Windows, Linux, UNIX and Mac.\\n\\nIDE:  Workday studio.\\n\\nERP: Workday, PeopleSoft.\\n\\nReporting Tools: SQR, Crystal Reports, PS Query, XML Publisher, simple, Advance, Matrix, Composite, Trending.\\n\\nWorkday Integrating Tools: EIB, iLoads, Studio IDE,Web Services,Exchanger XML tool, PeopleSoft Tools, People code, SQR Package, VISIO\\n\\nOffice Suite: Microsoft Excel, Microsoft Word, Microsoft PowerPoint, Ms Office 365, Share point.\\n\\n\\n\\nCurrently working as  workdayconsultant in Sancus Technologies Pvt Ltd,Pune from June 2016 to till date.\\n\\n\\n\\n\\n\\nProfessional Experience:\\n\\nRole: Workday Consultant\\t\\t\\t\\nClient: TouchNet                                                                                         March 2019 to present\\n\\n\\n\\nResponsibilities:\\n\\nConsulting with clients on a variety of data integrity to identify/resolve all issues that could impact project scope and/or time frame.\\n\\nConducted and Involved in business meetings for requirements gathering. \\n\\nCreated EIB\\xe2\\x80\\x99s, CCW, PICOF/PECI, Studio.\\n\\nResponding for queries by email, phones.\\n\\nWork with third party support to define issues (cases) and test fixes prior to deployment.\\n\\n\\n\\nAnalysed the reports, Core Connectors based on business requirements and helped the developers on what changes to do. \\n\\n Experience in preparing Business Requirement Document (BRD) and Functional Requirement Document (FRD) for all the reports, EIB and Core Connectors.\\n\\nResponsible for administration of HRIS, including but limited to mass updates, maintenance of organization structures, job codes and tables, configuration of system in line with business requirements and regular maintenance (some routine data entry).\\n\\nCreates, maintains and supports a variety of standard and custom reports, queries and metrics to provide business insight into human capital data in line with reporting governance model.\\n\\nTested the reports, EIB and Integration.\\n\\nHelp in post Go-Live activities.\\n\\nUpdate the FRD for reports, EIB and Core Connectors according to the changes.\\n\\nClarified QA team issues and Reviewed test plans to make sure that all requirements will be covered in scripts and tested properly.\\n\\n\\n\\n\\n\\nEnvironment: Workday 30, Workday Report Writer, Workday Studio, EIB, and Cloud Connectors, XML/XSLT.\\n\\n\\n \\n\\n\\n\\n\\n\\n\\n\\nRole: Workday Integration Consultant\\n\\n Client: Slack Technologies                                                                           Jan 2018 to  Jan 2019\\n\\n\\n\\n \\n\\nResponsibilities:\\n\\nCreated an integration that establishes worker records in Kronos and updates the records when changes occur.\\n\\nTrack worker time and attendance through the Workday integration with Kronos Workforce timekeeper.\\xc2\\xa0\\n\\nWorked on different types of reports, EIB, CC, SI\\n\\nCreated Inbound/Outbound EIB's to receive/send benefits data from workday to external vendors like Wage works.\\n\\nDeveloped Fidelity 401K Integration using Workday Studio to send Employee contributions pre-tax amount based on Payroll Schedule.\\n\\nWorked on core connectors with document transformation - ETV and XTT transformations\\n\\nDeveloped to bring in daily worker data changes to Workday by using studio.\\n\\nExperience in developing studio integrations, EIB and Core connectors.\\n\\nProvided Mentorship and Design documents for Reports and Integrations.\\n\\nStrong knowledge of MS Office to include: advanced knowledge of Word, advanced Excel capabilities.\\n\\n\\n\\nEnvironment: Workday 26/27 (Core HR, Benefits, hire to retire), XML/XSLT, ETV& XTT, Workday Report Writer, Workday Studio, EIB, iLoad and Cloud Connector.\\n\\n\\n\\n      \\n\\n  Role:PeopleSoft Technical Consultant \\n  Client: Affigent                                                                                July 2016 to September 2017\\n\\n \\n\\n Responsibilities:\\n\\nInvolved in design and customization of tables and panels and adding new option using People Tools.  \\n\\nGenerated reports using SQR and Crystal.\\n\\nResponsible for Test Plan, Defect Report Status, and Knowledge Transfer Documents.\\n\\nUploading the test scripts from MS Excel to Test Director.\\n\\nDeveloped and executed the SQL queries to fetch the data from PeopleSoft HRMS (Oracle).\\n\\nThe fetched data has to be analysed against the bridge database and it should be reported if there is any deviation.\\n\\nIntegrated third party hiring application with PeopleSoft System using Component Interface program and loaded data into PS tables \\n\\nUnit tested the developed application and created test scripts and test cases for the Unit Testing and System Testing\\n\\nDeveloped technical specifications for customization issues/resolutions and for custom reports and interfaces explaining the process flow. \\n\\nClosely worked with the functional team to resolve the defects created during the UAT (User Acceptance Test)\\n\\nPerformed troubleshooting the problem areas in setting up HR tables that serve as the foundation of HR system and in producing HR reports.\\n\\nFine-tuned the long running batch process by efficiently tuning the SQL\\xe2\\x80\\x99s and bringing down the running time\\n\\nDeveloped and modified several SQR\\n\\n\\n\\n  Environment: Peoplesoft HCM 9, Microsoft SQL database,  People tools 8.50/54, SQR and Application Designer, people code, Application Engine.\\n\\n\\n\\n EDUCATION:\\n\\n             Bachelore in Civil Engineering From AVR&SVR College of Engineering&Techology\\n\\n              (J N T U A),Nandyala.\",\n",
       " b\"PEOPLESOFT Administrator\\n\\n\\n\\n\\n\\nSRINIVAS.K \\t\\t\\t\\t\\t\\t\\n\\nExperience Summary:\\n\\n\\n\\n10+ years of experience in IT as PeopleSoft Administrator and having ample experience on PeopleSoft installations/configurations, Security and System administration.\\n\\nAdept at implementing and supporting PeopleSoft database administration (DBA), including Human Resource Management System (HRMS) and Financial Systems (FS).\\n\\nThorough knowledge and experience in Administrating PeopleSoft Server components like PeopleSoft Application Servers, Process Scheduler Servers, Tuxedo, Web logic Servers, PIA (PeopleSoft Internet Architecture), Application Messaging, Integration Broker, Sql server, Application Issues and technical issues, etc.\\n\\nInstalling and Administering PeopleSoft software, configuring Workstations, Application Server, Process Scheduler, Tuxedo, Web Servers, PIA, Report Repository, Report Nodes for PeopleSoft applications.\\n\\nInstalled Elastic search and configured on PeopleSoft.\\n\\nSolid understanding of PeopleSoft technical architecture and tools.\\n\\nProficient in performing Administer patches, updates, and upgrades. Develop and implement plans for data migration.\\n\\nInstalling and configuring of PUM and Applied tax updates using PUM\\n\\nAided in maintenance of PeopleSoft Pure Internet Architecture, including Web Logic, Tuxedo, Reports, and Process Servers. \\n\\nPossess thorough knowledge in PeopleSoft Architecture, PeopleSoft System Administration, Design and Implementing to suite Corporation Specific needs.\\n\\nCOBOL Installation and Troubleshooting for compiling Cobol issues\\n\\nPerformed Integration Broker setup between two Modules.\\n\\nWorked on Instance verification test after data refresh from production\\n\\nEnsuring Data integrity using tools such as DDDAUDIT and SYSAUDIT during development phases Helped to create and implement security and server administration procedures for SQL and Oracle databases.\\n\\nDeveloped functional and technical specifications and performed administrative duties.\\n\\nWorked on Autosys for scheduling Process.\\n\\nMonthly maintenance activities like cleaning of all the Application, Web and Process Scheduler servers.\\n\\nExperienced in People Tool Upgrade and knowledge on Application Upgrade.\\n\\nExperienced in Monitoring of PeopleSoft jobs in Tivoli Job Scheduling console tool, creating new jobs and scheduling the jobs as per requirement and troubleshooting the issues.\\n\\nTraining junior employees on PeopleSoft Administration related tasks.\\n\\nHandled Project migrations and security requests as per work orders sent through ticketing system.\\n\\nPerformed Refreshing in source and Target databases in PeopleSoft.\\n\\nExperience in online and offline cloning for the Servers.\\n\\nAdaptive to Cloud Strategies based on AWS\\n\\nExperience in AWS Cloud platform and its features which includes EC2, VPC, EBS, Cloud watch, Load balancers, IAM and S3.\\n\\n\\n\\n   \\n\\nQualification:\\n\\n\\n\\nBachelor of Technology (CSE) from JNTU in Lenora college of Egg ,Andhrapradesh  in year  2006 .\\n\\n\\n\\nTECHNICAL SKILLS:\\n\\n\\n\\nPeopleSoft: \\n\\n    PeopleSoft Applications 8.9, 9.0, 9.1, 9.2.\\n\\n\\n\\nPeople Tools\\n\\nVersion 8.48/8.49/8.51/8.52/8.53/854/855/8.57/8.58 (Application Designer, Application Engine, People Code, Data Mover, Process Scheduler).\\n\\n\\n\\nPeopleSoft      \\n\\nReporting Tools \\n\\n\\n\\nPUM Images. \\n\\nSQR, PS Query, XML Publisher. \\n\\n\\n\\nWebLogic& Tuxedo \\n\\n\\n\\nWeblogic8.1,9.2,10gR3,11gR2&Tuxedo 8.1,9.1,10,11gR2, 12.2\\n\\nDatabases\\n\\nOracle 10g, Oracle 11g and Oracle 12c.\\n\\n\\n\\nOperating Systems\\n\\nWindows XP/2000/2003 And 2008, 2016R2 UNIX And LINUX.\\n\\n\\t\\n\\n\\n\\n\\n\\n\\n\\n\\n\\n\\n\\n                                \\n\\nWork Experience:\\n\\n\\n\\nCurrently working as a PeopleSoft Admin  in Tech Mahindra(Mahindra Satyam) From June2012 to till date\\n\\n\\n\\nWorked  as a PeopleSoft DBA in HEXAWARE TECHNOLOGIES From June 2009 to 2012\\n\\n\\n\\n\\n\\n\\n\\n\\n\\n\\n\\n\\n\\n\\n\\n\\n\\n\\n\\n\\n\\n\\n\\n\\n\\n\\n\\n\\n\\n\\n\\nProject#7\\n\\n\\n\\nEnvironment\\t\\t:\\tUnix & Windows 2016 Server  64bit  \\n\\nDatabase\\t\\t:\\t12c\\n\\nApplication Level\\t:\\tHRMS 9.2.35 and Tools Version 8.57.06\\n\\nProject\\t\\t:\\tNissan\\n\\n\\n\\n\\n\\nResponsibilities:\\n\\n\\n\\nInvolved in PeopleTools upgrade from People Tools 8.55 to 8.57\\n\\nSupporting HCM and FSCM Application as Apps DBA on 24*7 basis\\n\\nStrong experience on\\xc2\\xa0PeopleSoft\\xc2\\xa0PUM server installation and troubleshooting\\n\\nApplying fixes and patches bundles for PeopleSoft FSCM92 and HRMS92 using PeopleSoft PUM. \\n\\nApplied Security Patches for WebLogic and Tuxedo whenever Oracle releases CPU\\n\\nSetup Master/Slave load balance for pub/sub services\\n\\nWorked intensively on performance tuning of PIA architecture based on load testing and up scaling architecture to support the expected load\\n\\nCreated a dedicated Integration Broker gateway as message volume was high and for easy maintenance.\\xc2\\xa0\\n\\nInstalled Elastic search and configured on PeopleSoft.\\n\\nDeployment of PeopleSoft with DPK\\n\\n\\tExperience in applying PeopleSoft release Patches (prp) for PeopleSoft Images\\n\\n\\tExperience in applying Webserver (Oracle WebLogic) patches\\n\\n\\tExperiencing in applying Application server (Oracle TUXEDO) patches\\n\\nExperience in migrating code changes from Testing to Production environments\\n\\nRedesigned and Configured High availability and load balancing for existing\\xc2\\xa0PeopleSoft\\xc2\\xa0\\nInternet Architecture.\\xc2\\xa0\\n\\nBuild Verification Test - To check proper installation and running of all processes and report\\n\\nResponsible for the daily maintenance and troubleshooting of complex hosted solutions. Monitoring the day-to-day working of the system.\\n\\nHandled Application Management tasks like Applying Patches & Fixes.\\n\\nBuild Verification Test \\xe2\\x80\\x93 To check proper installation and running of all PeopleSoft components, processes and reports\\n\\nLoad balancing of Application server & Web server, Performed Database Refreshes, Imports, Exports and Backups.\\n\\nObject Migration between different instances involving compare reports, building objects etc. \\n\\nMonitoring Application servers, web servers and process scheduler errors\\n\\nCheck the reports for status Blocked, queued, processing, no success etc. Error Log Attached, Check the Reports Ran to Success\\n\\nPerform Remote call test\\n\\nCheck the integration broker\\n\\nCheck the REN server clusters\\n\\nCheck the Server Disk space, Load level, PeopleSoft ping under acceptable level\\n\\nStatus of Housekeeping activities (Checking and Cleaning up the logs)\\n\\nDaily perform Project Migrations and Data Migrations.\\n\\nGenerate Compare Reports between various environments.\\n\\nChecked and cleared cache on all servers such as Application Servers, Web Servers, and Process Scheduler Servers on a regular basis as a maintenance process.\\n\\nMaintain the workflow of PeopleSoft users.\\n\\nDownload Updates and Fixes and apply to the environments and maintain the customizations for the PeopleSoft.\\n\\nDownload PeopleSoft Update Image and Apply to the Applications.\\n\\nApplied Patches and Tax Updates.\\n\\nInstalled and Configured Change Assistant to apply PUM image.\\n\\nPerform setup of Integration Broker between various environments for HRMS and FSCM. \\n\\nMaintaining integrity and internal consistency of the database using DDDAUDIT, SYSAUDIT, ALTERAUDIT reports periodically.\\n\\nPerformed Jolt failover and load balancing of Application Server Domains and Process Scheduler Servers Domains.\\n\\nInvolved in the Performance of the databases and application by creating multiple domains across the instances\\n\\nMonitor the log files to find out bottleneck of the status of servers\\n\\nTroubleshoot of Data mover while installing PeopleSoft.\\n\\nTroubleshooting of Process Scheduler servers if the jobs are stacked on a Queue.\\n\\nMaintain and troubleshoot various servers like Application Servers, Process Scheduler Servers and Web Servers.\\n\\n\\t Involved in doing Refreshing on PeopleSoft instances weekly twice or thrice.\\n\\n\\n\\n\\n\\n\\n\\n\\n\\n\\n\\n\\n\\nProject#6\\n\\n\\n\\nEnvironment\\t\\t:\\tUnix & Windows 2008 Server  64bit  \\n\\nDatabase\\t\\t:\\t12c\\n\\nApplication Level\\t:\\tHRMS and FSCM(8.5312 and 9.1)\\n\\nProject\\t\\t:\\tBCBSLA\\n\\n\\n\\n\\n\\nResponsibilities:\\n\\n\\n\\nProject Migration SQR copying and SQL execution.\\n\\nTake care of the Migration of data and PeopleSoft objects.  \\n\\nCheck the physical condition of the all server.\\n\\nPreparing Daily status report of all the server condition \\n\\nChecked and cleared the application server cache on a regular basis as a maintenance process.\\n\\nMigrated several Projects from Development Database into QA Testing Database and then into Production after successful testing.\\n\\nTroubleshooting Application and Process Scheduler server\\xe2\\x80\\x99s.\\n\\nWeekly Database Refresh.\\n\\nExpertise in installation, configuration, setup and management of PeopleSoft Internet Architecture (PIA) environment.\\n\\nExperience on Setup Integration Broker , Integration of PeopleSoft instances with third party applications.\\n\\nAn analytical, hardworking individual with Good communication skills and natural ability to work in a team.\\n\\nHaving knowledge on Exporting / importing Database by using Oracle Data dump and Mapping schema level , table space level while importing.\\n\\nMotioning the long running processes from EM , running AWR and ADDM reports and analysing the long running SQL\\xe2\\x80\\x99s.\\n\\nInstall patches, Install change assist for Bundles and apply bundles on  HCM and FSCM  and Troubleshoot and fix performance issues.\\n\\n\\n\\n\\n\\n\\n\\nProject#5\\n\\n\\n\\nEnvironment\\t\\t:\\tUnix & Windows 2012 Server  64bit  \\n\\nDatabase\\t\\t:\\t12c\\n\\nApplication Level\\t:\\tHRMS and FSCM(857 and 9.2)\\n\\nProject\\t\\t:\\tTechmahindra Internal Project\\n\\n\\n\\n\\n\\nResponsibilities:\\n\\n\\n\\nProject Migration SQR copying and SQL execution.\\n\\nTake care of the Migration of data and PeopleSoft objects.  \\n\\nCheck the physical condition of the all server.\\n\\nPreparing Daily status report of all the server condition \\n\\nChecked and cleared the application server cache on a regular basis as a maintenance process.\\n\\nExperience in Deployment Packages(DPK PUM) for Update Images Installation.\\n\\nMigrated several Projects from Development Database into QA Testing Database and then into Production after successful testing.\\n\\nTroubleshooting Application and Process Scheduler server\\xe2\\x80\\x99s.\\n\\nWeekly Database Refresh.\\n\\nExpertise in installation, configuration, setup and management of PeopleSoft Internet Architecture (PIA) environment.\\n\\nExperience on Setup Integration Broker , Integration of PeopleSoft instances with third party applications.\\n\\nAn analytical, hardworking individual with Good communication skills and natural ability to work in a team.\\n\\nHaving knowledge on Exporting / importing Database by using Oracle Data dump and Mapping schema level , table space level while importing.\\n\\nMotioning the long running processes from EM , running AWR and ADDM reports and analysing the long running SQL\\xe2\\x80\\x99s.\\n\\nInstall patches, Install change assist for Bundles and apply bundles on ELM, HCM and ESA  and Troubleshoot and fix performance issues.\\n\\n\\n\\n\\n\\n\\n\\n\\n\\n\\n\\nProject#4\\n\\n\\n\\nEnvironment\\t\\t\\t:\\tSolaris, Windows NT.\\n\\n         Database\\t\\t\\t:\\t12C\\n\\n         Application Level\\t:\\tPeople Tools 8.55, 8.57, HRMS 9. Windows NT, Unix \\n\\n        Client\\t:\\tStarhub.\\n\\n\\n\\n\\n\\nResponsibilities:\\n\\n\\n\\nUpgrade PeopleSoft \\xe2\\x80\\x93 People Tools \\n\\nDownload Template from Customer Connection, Create a Job in Change  Assistant\\n\\nRun Change Assistant Steps for Tools upgrade.\\n\\nRun Compare reports and take over the customization functionality for Upgrade \\n\\nApply fixes, Updates and Patches for Demo, Dev, Test and Production Application\\n\\nTake care of the Migration of data and PeopleSoft objects\\n\\nInstall Change Assistant and involved in creating copy of Production for Initial Pass and Move to Production for the Upgrade Process.     \\n\\n Prepare and Maintain the Documentation for Entire Upgrade Process.\\n\\nInvolved in taking Backup of Databases such as Copy of current Demo and New Release Demo Databases.\\n\\nRun the Audits Reports which are DDDAUDIT, SYSAUDIT and ALTERAUDIT.\\n\\nConfiguration of Integration Broker, defining Gateway, creating and configuring nodes for HR and Finance.\\n\\nMigration of External Objects of PeopleSoft (Projects, SQR, NVision, Crystal and COBOL files).\\n\\nMaintaining integrity and internal consistency of the database using DDDAUDIT, SYSAUDIT, ALTERAUDIT reports periodically.\\n\\nPerformed Jolt failover and load balancing of Application Server Domains and Process Scheduler Servers Domains.\\n\\nInvolved in the Performance of the databases and application by creating multiple domains across the instances\\n\\nMonitor the log files to find out bottleneck of the status of servers\\n\\nTroubleshoot of Data mover while installing PeopleSoft.\\n\\nTroubleshooting of Process Scheduler servers if the jobs are stacked on a Queue.\\n\\nMaintain and troubleshoot various servers like Application Servers, Process Scheduler Servers and Web Servers.\\n\\n\\n\\n\\n\\n\\n\\n\\n\\n\\n\\n\\n\\nProject#3\\n\\n\\n\\nEnvironment\\t\\t:\\tSolaris  & Windows 2008 Server  64bit.\\n\\n         Database\\t\\t:\\t11.2.0.1\\n\\n         Application Level\\t:\\tHRCS 9.2 PT8.53\\n\\n         Client\\t\\t\\t:\\tMINACS Bangalore\\n\\n\\n\\n\\n\\nResponsibilities:\\n\\n\\n\\nInstalled PeopleSoft Database and Applications on NT and Solaris Operating Systems\\n\\nThe objective of the document is to prepare system architecture to enable the QF IT team to prepare the necessary IT infrastructure to facilitate the proper functioning of the PeopleSoft HCM T & L. \\n\\nThe application server is responsible for maintaining the SQL connection to the database for the browser requests and the Windows Development Environment. PeopleSoft uses TUXEDO to manage database transactions, and Jolt, TUXEDO's counterpart, to facilitate transaction requests issued from the Internet. Both TUXEDO and Jolt are products of BEA Systems\\n\\nChecked and cleared the application server cache on a regular basis as a maintenance process.\\n\\nInstalled People Books and configured the Web Server to access People Books.\\n\\nPrepared copy of production database, tasks involved were to run audit reports DDDAUDIT and SYSAUDIT \\n\\nMigrated several Projects from Development Database into QA Testing Database and then into Production after successful testing\\n\\nInstallation of Oracle 11g RAC on Solaris server and Installation of oracle gateway to replicate data from MS SQL server.\\n\\nExpertise in installation, configuration, setup and management of PeopleSoft Internet Architecture (PIA) environment.\\n\\nExperience on Setup Integration Broker , Integration of PeopleSoft instances with third party applications\\n\\nExperienced in Oracle RAC and datagaurd and Oracle gateway. \\n\\nAn analytical, hardworking individual with Good communication skills and natural ability to work in a team\\n\\nHaving knowledge on Exporting / importing Database by using Oracle Data dump and Mapping schema level , table space level while importing\\n\\nMotioning the long running processes from EM , running AWR and ADDM reports and analyzing the long running SQL\\xe2\\x80\\x99s\\n\\nInstallation and license Updation of  Cobol 5.0 and 5.1on AIX and Lintel\\n\\nInstall patches, Install change assist for Bundles and apply bundles on ELM, HCM and ESA  and Troubleshoot and fix performance issues\\n\\nHaving Knowledge in PUM and creation of Change Packages\\n\\n\\n\\n\\n\\n\\n\\n\\n\\n\\n\\nProject#2\\n\\n\\n\\nEnvironment\\t\\t:\\tUnix & Windows 2008 Server  64bit  \\n\\nDatabase\\t\\t:\\t11.2.0.1\\n\\nApplication Level\\t:\\tFSCM 9.1 PT852\\n\\nProject\\t\\t:\\tGE Health care\\n\\n\\n\\n\\n\\nResponsibilities:\\n\\n\\n\\nProject Migration SQR copying and SQL execution.\\n\\nTake care of the Migration of data and PeopleSoft objects.  \\n\\nCheck the physical condition of the all server.\\n\\nPreparing Daily status report of all the server condition \\n\\nChecked and cleared the application server cache on a regular basis as a maintenance process\\n\\nMigrated several Projects from Development Database into QA Testing Database and then into Production after successful testing.\\n\\nTroubleshooting Application and Process Scheduler server\\xe2\\x80\\x99s\\n\\nExpertise in installation, configuration, setup and management of PeopleSoft Internet Architecture (PIA) environment.\\n\\nExperience on Setup Integration Broker , Integration of PeopleSoft instances with third party applications\\n\\nAn analytical, hardworking individual with Good communication skills and natural ability to work in a team\\n\\nMotioning the long running processes from EM , running AWR and ADDM reports and analyzing the long running SQL\\xe2\\x80\\x99s\\n\\nInstallation and license Updation of  Cobol 5.0 and 5.1on AIX and Lintel\\n\\nInstall patches, Install change assist for Bundles and apply bundles on ELM, HCM and ESA  and Troubleshoot and fix performance issues\\n\\n\\n\\n\\n\\n\\n\\n\\n\\n\\n\\n\\n\\n\\n\\n\\n\\n\\n\\n\\n\\n\\n\\n\\n\\n\\n\\n\\n\\n\\n\\n\\n\\n\\n\\nProject#1\\n\\n\\n\\nEnvironment\\t\\t:\\tWindows 2008 Server  64bit\\n\\nDatabase\\t\\t:\\t10g\\n\\nApplication Level\\t:\\tHRCS 9 PT8.51\\n\\nProject\\t\\t:\\tUniversity of Qatar(QFIS)\\n\\n\\n\\n\\n\\nDescription: Implementation of PeopleSoft applications(HRMS) for the Qatar university\\n\\nConcentrating on student adminissions and transcripts, campus self service \\n\\n\\n\\nResponsibilities:\\n\\n\\n\\nInstalled PeopleSoft applications \\xe2\\x80\\x93 People Tools 8.51, Application (HCM CS 9), Tuxedo 10gR3and Web Logic 10gR3\\n\\nInstalled PIA, configured PIA for all the instances of DEMO, DEV, TEST CONFIG and PROD databases\\n\\nConfiguration of Integration Broker, defining Gateway, creating and configuring nodes \\n\\nPrepared and maintained the documentation of all the installation, configurations.\\n\\nExpertise in installation, configuration, setup and management of PeopleSoft Internet Architecture (PIA) environment.\\n\\nExperience on Setup Integration Broker , Integration of PeopleSoft instances with third party applications\\n\\nAn analytical, hardworking individual with Good communication skills and natural ability to work in a team\\n\\nMotioning the long running processes from EM , running AWR and ADDM reports and analyzing the long running SQL\\xe2\\x80\\x99s\\n\\nInstallation and license Updation of  Cobol 5.0 and 5.1on AIX and Lintel\\n\\nInstall patches, Install change assist for Bundles and apply bundles on ELM, HCM and ESA  and Troubleshoot and fix performance issues\\n\\nHaving Knowledge in PUM and creation of Change Packages\\n\\nUpdated databases by applying Updates/Fixes/Patches after backup on timely basis and kept the record of the updates/fixes/Patches\\n\\nConfigured Application Server, Web Server & Batch (Process Scheduler) Server.\\n\\nConfigured Windows development clients to connect 2-tier or 3-tier to the database for development and administration purposes.\\n\\nInstalled BEA Tuxedo Application Server, Web Server with database and created PeopleSoft Demo and System Databases and Applied related Database patches and Application Patches.\\n\\nExtensively used PSADMIN utility to Administer, Create & Delete Application Server and Process Scheduler Server.\\n\\nChecked and cleared the application server cache on a regular basis as a maintenance process.\\n\\nInstalled People Books and configured the Web Server to access People Books.\\n\\nPrepared copy of production database, tasks involved were to run audit reports DDDAUDIT and SYSAUDIT\",\n",
       " b'Vinod Akkala                                                              \\n\\nPeopleSoft DBA Admin.                                                        \\n\\n\\n\\nProfessional Summary:\\n\\n\\n\\nHaving 7+years of experience in PeopleSoft Admin/Dba implementation and Supporting PeopleSoft applications Like HCM/FSCM modules on Oracle Database and their supporting operating systems. \\n\\nImplementing PeopleSoft Internet architecture(PIA) on Demo,Dev,Test,Production Instances.\\n\\nExperience in configuration of Application Server Domains and Process Scheduler Setup.\\n\\nPerformed Installation, configuration and maintained Oracle 10g/11g/12C databases on UNIX, Linux and NT Servers.\\n\\nExperience in Project Migration and Data Migration.\\n\\nExperience in generating Compare Reports between various environments.\\n\\nWorked on applying Patches, Bundles and Tax Updates.\\n\\nConfiguring Change Assistant to apply Bundles and Tax updates.\\n\\nMaintaining integrity and internal consistency of the database using DDDAUDIT, SYSAUDIT, ALTERAUDIT reports periodically.\\n\\nExperienced in Integration Broker setup.\\n\\nWorked on applying Patches, Bundles and Tax Updates using Change Assistant and PeopleSoft Update Manager (PUM).\\n\\nExperience on  People Tools Upgrade.\\n\\nExperience on IB.\\n\\nExperience on PeopleSoft Refreshes.\\n\\nExperience on PeopleSoft Security.\\n\\nExperienced in COBOL Compilation on Windows and Linux.\\n\\nExperience in load balancing of Application server domains and Process Scheduler Server domains.\\n\\nInstalled People Books and configured the Web Server to access People Books.\\n\\nExperience in Troubleshooting of various servers like Application Servers, Web Servers, and Process Scheduler Servers.\\n\\nInvolved in Regular Backup/Recovery of Oracle Database including Logical & Physical Backups.\\n\\nExperience in Applying Database Patches.\\n\\nWorking on Capacity Planning For Table Spaces.\\n\\nExperience in Applying Database Upgrading.\\n\\nExperience in installing, maintaining, Upgrading, Migrating and Patching Oracle versions 10g/11g/12c.\\n\\nExperience in Database refreshes.\\n\\nExperience on Linux Admin.\\n\\nExperience in Rman configuration.\\n\\nExperience in Database Security Management: Users, Roles, Profile.\\n\\nTaking Hot and cold Backups.\\n\\nExperience in resolving developer issues like Resetting Passwords.\\n\\nSupporting role in Database Cloning.\\n\\nManaging the size and file of the Table spaces and adding Data files to Table Spaces.\\n\\nExperience in multiplexing of Control files.\\n\\nExperience in Data pump Technology.\\n\\nExperience in Tuning of Application Server Domains, Process Scheduler Domains and Web Server Domains.\\n\\n\\n\\nKEY SKILS\\n\\n\\n\\n                  TECHNOLOGY\\n\\n                  TOOLS\\n\\nERP TOOLS\\n\\nPeopleTools8.54/8.53/8.50,ChangeAssistant, IntegrationBroker, ApplicationDesigner,Configuration Manager, PeopleSoft Update Manager (PUM), and Data Mover.\\n\\nAPPLICATIONS\\n\\nPeopleSoft HRMS/FSCM/CRM 9.0/9.1/9.2\\n\\nAPPLICATION SERVER\\n\\nTuxedo 10.3./12c \\n\\nWEB SERVER\\n\\nWeb Logic 10.3/12c\\n\\nOPERATING SYSTEMS\\n\\nWindows Server 2012 R2/2008 R2/2003\\n\\nRed hat Enterprise Linux 5/6\\n\\nOracle Enterprise Linux 5.4/6/7\\n\\nDATABASE\\n\\nOracle 10gR2/11gR2/12c\\n\\n\\n\\n\\n\\nEDUCATIONAL QUALIFICATION\\n\\n\\n\\nM.ca.(Masterof Computer Application) from Sri Venkateswara University, Tirupati in 2012 with (75%), Andhra Pradesh.\\n\\n\\n\\n\\n\\n\\n\\nPROFESSIONAL EXPERIENCE\\n\\n\\t\\n\\n\\tWorking as PeopleSoft Database Administrator with Infosys  At Bangalore from May 2020 to Till Date (Parent Company-Gem Source India).\\n\\n\\tWorking as PeopleSoft Database Administrator with Sify Technologies At Bangalore from Oct 2019 to April 2020.\\n\\n\\tWorked as PeopleSoft Database Administrator with Wipro Technologies At Bangalore from Oct 2018 to Oct 2019.\\n\\n\\tWorked as PeopleSoft Administrator/ PeopleSoft DBA with Sonata Software Bangalore from June 2016 to August 2018.\\n\\n\\tWorked as a PeopleSoft DBA with, MoonStone Infotech Pvt.Ltd Hyderabad from Nov 2013 to May 2016\\n\\n\\t\\n\\n\\t\\n\\n\\t\\n\\n\\t\\n\\nRELEVENT EXPERIENCE                                                                       May 2020- Till Date\\n\\n\\t\\n\\nProject\\n\\n\\n\\nPeopleSoft Admin Support\\n\\nClient\\n\\n\\t\\tGoldman Sach\\n\\nDuration\\n\\n\\t\\tMay 2020-Till Date\\n\\nRole\\n\\n\\t\\tPeopleSoft Database Admin.\\n\\nEnvironment\\n\\nApplication Version:  HRMS,FSCM 9.2 , 8.9\\n\\nPeople Tools Version: PT 8.56, PT 8.53 Database: Oracle 12c\\n\\n\\t\\n\\nSupporting FSCM,HRMS Application as PeopleSoft DBA on 24*7 basis.\\n\\nPeopleSoft Database Administrator supporting FSCM,HRMS environments maintained on Oracle 12c,11g.\\n\\nPeopleSoft DBA supporting\\xc2\\xa0HRMS,FSCM 9.2 , 8.9 environments maintained on RHEL 4 and Oracle 12c 11g. PeopleSoft Internet Architecture (PIA) including UNIX file systems, application servers, web servers and batch servers.\\n\\nMigration of all PeopleSoft projects to DEV, TEST, PROD instances.\\n\\nAnalysis of production issues raised by clients and providing solutions.\\n\\nExecuting DDD Audit and SYS Audit and ALTER Audits.\\n\\nGenerating Compare Reports..\\n\\nExperience on PeopleTools Patches.\\n\\nExperience on Tools upgrade.\\n\\nExperience on Certificates.\\n\\nExperience on PeopleSoft Refreshes.\\n\\nExperience on IB.\\n\\nExperience on PUM.\\n\\nSetting up report nodes and checking their posting status.\\n\\nExperience on PeopleSoft Security.\\n\\nExperience on Disk Space issues.\\n\\nConfiguring and monitoring Process Scheduler and troubleshooting various issues related.\\n\\nInvolved in the Performance of the databases and application by creating multiple domains across the instances.\\n\\nTroubleshooting Tuxedo Application Server, Process Scheduler & Web Server.\\n\\nDatabase Administration, Performance Tuning and support for the database requirements.\\n\\nCreating database users and by setting the default temporary Table spaces and assigning quotas, roles, privileges, and profiles to users.\\n\\nTaking logical backups and logical incremental backups.\\n\\nTaking exp/imp backups\\n\\nTaking cold backups and hot backups.\\n\\nExperience in multiplexing of control files.\\n\\nInvolving in performance tuning.\\n\\nExperience in Datapump Technology.\\n\\nCreate and Managing Database Users, Roles, Profiles and Granting Permissions.\\n\\nChecking log file for any database errors.\\n\\nChecking alter log files and trace files.\\n\\nPerforming database refreshing.\\n\\nLoad balancing of Application server &Webserver \\n\\nInstalled and Configured Change Assistant to apply PUM image.\\n\\n\\n\\n\\t\\n\\n\\t\\n\\nRELEVENT EXPERIENCE                                                                       Oct 2019- April2020\\n\\n\\t\\n\\n\\t\\n\\nProject\\n\\n\\n\\nPeopleSoft Admin Support\\n\\nClient\\n\\n\\t\\tPPS, MCC, ARP, and CoT\\n\\nDuration\\n\\n\\t\\tOct 2019-April 2020\\n\\nRole\\n\\n\\t\\tPeopleSoft Database Admin.\\n\\nEnvironment\\n\\nApplication Version: HRMS 9.2, FSCM 9.2\\n\\nPeople Tools Version: PT 8.56,PT8.53 Database: Oracle 12c\\n\\n\\t\\n\\nSupporting HCM and FSCM Application as PeopleSoft DBA on 24*7 basis.\\n\\nPeopleSoft Database Administrator supporting HCM environments maintained on Oracle 10g.\\n\\nPeopleSoft DBA supporting\\xc2\\xa0HCM 9.1 environments maintained on RHEL 4 and Oracle 10g. PeopleSoft Internet Architecture (PIA) including UNIX file systems, application servers, web servers and batch servers.\\n\\nMigration of all PeopleSoft projects to DEV, TEST, PROD instances.\\n\\nAnalysis of production issues raised by clients and providing solutions.\\n\\nExecuting DDD Audit and SYS Audit and ALTER Audits.\\n\\nGenerating Compare Reports.\\n\\nRman configuration for backup.\\n\\nConfiguring and monitoring Process Scheduler and troubleshooting various issues related.\\n\\nInvolved in the Performance of the databases and application by creating multiple domains across the instances.\\n\\nTroubleshooting Tuxedo Application Server, Process Scheduler & Web Server.\\n\\nDatabase Administration, Performance Tuning and support for the database requirements.\\n\\nCreating database users and by setting the default temporary Table spaces and assigning quotas, roles, privileges, and profiles to users.\\n\\nTaking logical backups and logical incremental backups.\\n\\nTaking exp/imp backups\\n\\nTaking cold backups and hot backups.\\n\\nExperience in multiplexing of control files.\\n\\nInvolving in performance tuning.\\n\\nExperience on PeopleSoft Refreshes.\\n\\nExperience in Datapump Technology.\\n\\nCreate and Managing Database Users, Roles, Profiles and Granting Permissions.\\n\\nChecking log file for any database errors.\\n\\nChecking alter log files and trace files.\\n\\nPerforming database refreshing.\\n\\nLoad balancing of Application server &WebserverPerformed Database Refreshes, Imports, Exports and Backups.\\n\\nInstalled and Configured Change Assistant to apply PUM image.\\n\\n\\n\\n\\t\\n\\n\\t\\n\\n\\t\\n\\n\\t\\n\\n\\n\\nRELEVENTEXPERIENCE                                                                       Oct 2018-Oct 2019\\n\\n\\t\\n\\nProject\\n\\n\\n\\nPeopleSoft Admin Support\\n\\nClient\\n\\n\\t\\tNABARD\\n\\nDuration\\n\\n\\t\\tOct 2018-Till Date\\n\\nRole\\n\\n\\t\\tPeopleSoft Database Admin.\\n\\nEnvironment\\n\\nApplication Version: HRMS 9.2, FSCM 9.2\\n\\nPeople Tools Version: PT 8.54,PT8.55 Database:Oracle 12c\\n\\n\\n\\n\\n\\nRoles and Responsibilities:\\n\\nExperience in installing, maintaining, Upgrading, Migrating and Patching Oracle versions 10g/11g/12c.\\n\\nExperienced in Integration Broker setup.\\n\\nWorked on applying Patches, Bundles and Tax Updates using Change Assistant and PeopleSoft Update Manager (PUM).\\n\\nExperience in People Tools Upgrade.\\n\\nExperienced in COBOL Compilation on Windows and Linux.\\n\\nExperience in Project Migration and Data Migration.\\n\\nExperienced in Integration Broker setup\\n\\nExperience in Applying Database Patches.\\n\\nExperience in Applying Database Upgrading.\\n\\nExperience in installing, maintaining, Upgrading, Migrating and Patching.\\n\\nExperience in Database Security Management: Users, Roles, Profile.\\n\\nTaking Hot and cold Backups.\\n\\nExperience in resolving developer issues like Resetting Passwords.\\n\\nManaging the size and file of the Table spaces and adding Data files to Table Spaces.\\n\\nExperience in multiplexing of Control files.\\n\\nExperience on PeopleSoft Refreshes.\\n\\nExperience in Datapump Technology.\\n\\nCreate and Managing Database Users, Roles, Profiles and Granting Permissions.\\n\\nPerforming database refreshing.\\n\\nLoad balancing of Application server & Web server, Performed Database Refreshes, \\n\\nInstalled and Configured Change Assistant to apply PUM image.\\n\\nMigration of all PeopleSoft projects to DEV, TEST, PROD instances.\\n\\nExecuting DDD Audit and SYS Audit and ALTER Audits.\\n\\nGenerating Compare Reports.\\n\\n\\n\\n\\n\\n\\n\\n\\n\\nPASTEXPERIENCE                                                                        June 2016-August 2018\\n\\n\\n\\nProject\\n\\n\\n\\nPeopleSoft Admin Support\\n\\nClient\\n\\n\\t\\tCdi Corporation\\n\\nDuration\\n\\n\\t\\tJune 2016 \\xe2\\x80\\x93 August 2018\\n\\nRole\\n\\n\\t\\tPeopleSoft Admin.\\n\\nEnvironment\\n\\nApplication Version: HRMS 9.2, FSCM 9.2\\n\\nPeople Tools Version: PT 8.54 Database:12c\\n\\n\\n\\nRoles and Responsibilities:\\n\\n\\n\\nSupporting HCM and FSCM Application as PeopleSoft DBA on 24*7 basis.\\n\\nPeopleSoft Database Administrator supporting HCM environments maintained on Oracle 10g.\\n\\nPeopleSoft DBA supporting\\xc2\\xa0HCM 9.1 environments maintained on RHEL 4 and Oracle 10g. PeopleSoft Internet Architecture (PIA) including UNIX file systems, application servers, web servers and batch servers.\\n\\nMigration of all PeopleSoft projects to DEV, TEST, PROD instances.\\n\\nAnalysis of production issues raised by clients and providing solutions.\\n\\nExecuting DDD Audit and SYS Audit and ALTER Audits.\\n\\nGenerating Compare Reports.\\n\\nRman configuration for backup.\\n\\n\\n\\nConfiguring and monitoring Process Scheduler and troubleshooting various issues related.\\n\\nInvolved in the Performance of the databases and application by creating multiple domains across the instances.\\n\\nTroubleshooting Tuxedo Application Server, Process Scheduler & Web Server.\\n\\nDatabase Administration, Performance Tuning and support for the database requirements.\\n\\nCreating database users and by setting the default temporary Table spaces and assigning quotas, roles, privileges, and profiles to users.\\n\\nTaking logical backups and logical incremental backups.\\n\\nTaking exp/imp backups\\n\\nTaking cold backups and hot backups.\\n\\nExperience in multiplexing of control files.\\n\\nInvolving in performance tuning.\\n\\nExperience on PeopleSoft Refreshes.\\n\\nExperience in Datapump Technology.\\n\\nCreate and Managing Database Users, Roles, Profiles and Granting Permissions.\\n\\nChecking log file for any database errors.\\n\\nChecking alter log files and trace files.\\n\\nPerforming database refreshing.\\n\\nLoad balancing of Application server & Web server Performed Database Refreshes, Imports, Exports and Backups.\\n\\nInstalled and Configured Change Assistant to apply PUM image.\\n\\n\\n\\n\\n\\n\\n\\n\\n\\n\\n\\nPAST EXPERIENCE                                                                              Nov 2013\\xe2\\x80\\x93 May 2016\\n\\n\\n\\n\\n\\nProject\\n\\n\\n\\nImplementation, Configure and Production Support of PeopleSoft Applications and Databases.\\n\\nClient\\n\\n\\t\\tPerkin Elmer\\n\\nDuration\\n\\n\\t\\tNov2013 \\xe2\\x80\\x93 May 2016\\n\\nRole\\n\\n\\t\\tPeopleSoft Admin.\\n\\nEnvironment\\n\\nApplication Version: HCM9.2,9.1, FSCM 9.2,9.1\\n\\nPeople Tools Version: PT 8.53,50 Database:10g/11g\\n\\n\\n\\nRoles and Responsibilities:\\n\\nMonitoring the day-to-day working of the system.\\n\\nCreated Application Server Domains and Process Scheduler Domains\\n\\nInstalled PIA, configured PIA for all the instances of DEMO, DEV, TEST CONFIG, STG and PROD databases\\n\\nCreated Databases DEMO, DEV, TEST, CONFIG and PRODUCTION databases on UNIX\\n\\nExperience on Migration of data and PeopleSoft objects.\\n\\nInvolved in the Performance of the databases and application by creating multiple domains across the instances\\n\\nPrepared and maintained the documentation of all the installation and configurations of databases and applications\\n\\nConfiguration of Integration Broker, defining Gateway, creating and configuring nodes for HRMS and Finance\\n\\nInstall People Books for HRMS, Financials.\\n\\nLoad balancing of Application server & Web server Performed Database Refreshes, Imports, Exports and Backups.\\n\\nReport Node configurations.\\n\\nExecuting DDDAUDIT, SYSAUDIT and ALTER Audit.\\n\\nWorked on Project Migrations and Data Migrations.\\n\\nGenerating Compare Reports.\\n\\nConfiguring and monitoring Process Scheduler and troubleshooting various issues related.\\n\\nInvolved in the Performance of the databases and application by creating multiple domains across the instances.\\n\\nTroubleshooting of Application Server Domains, Process Scheduler Domains and Web Server Domains.\\n\\nSetup Application Security using User Profiles, Roles and Permission lists.\\n\\nRefreshing PeopleSoft test environment for synchronisation to production.\\n\\nApplying fixes and patches bundles for\\xc2\\xa0PeopleSoft\\xc2\\xa0FSCM9.2 and HRMS9.2 using\\xc2\\xa0PeopleSoft\\xc2\\xa0PUM.\\n\\nPerformed Database Refreshes, Imports, Exports and Backups.\\n\\nInvolved in Logical Backups using Data Pump Technology.',\n",
       " b\"PeopleSoft Admin/PeopleSoft DBA\\n\\n\\n\\nGanesh Alladi\\n\\n                                                                                                                                                                                                           \\t\\n\\n\\n\\nCareer Objective: \\n\\n\\n\\nI have total 6.4 Years Experience in IT. With my valid expertise of 4.4 years in PeopleSoft Admin and PeopleSoft DBA. I hope to enhance my skill set while adding value to the business, to enable implementation of solutions, which aid the company\\xe2\\x80\\x99s objectives, understanding and anticipating the needs, interests and motivations of the clients and to deliver on time, budget and to quality, Delivering value through improving agility, quality and reliability\\n\\n\\n\\nProfessional Summary:\\n\\n\\n\\nOver 4.4 years of experience in PeopleSoft implementation, Support , PeopleTools  Upgrades,  Application upgrades ,configuration, migrations, maintenance and administration of Application Server Domains, Process Scheduler Servers, Web Server Domains, PUM  and SES.\\n\\nInvolved in various Tools and Application Upgrades.\\n\\nExtensively involved in resolving Performance issues.\\n\\nConfigured https and secure web server (SSL) administration.\\xc2\\xa0\\n\\nMonitor system by developing and maintaining monitoring Shell scripts\\n\\nExperience in Oracle Database Administration for 11gR2 , 12cR1 and 12cR2\\n\\nExperience in Health Check for all the PeopleSoft Environments\\n\\nExperience in PeopleSoft Database Refreshes from Production to Development and Testing Environments\\n\\nExperience in Performance and Tuning of Application Servers, Web Servers\\n\\nExperience in LINUX, HP-UX and Windows Administration\\n\\nImplemented PeopleSoft Internet Architecture (PIA) on Demo, Test, Development and Production instances.\\n\\nExperience in PeopleSoft Installations of PeopleTools 8.56, HCM 9.2, WebLogic 12.1.3,\\n\\nTuxedo 12cR2 and People Books 8.56 on HP-UX and Windows 2012R2\\n\\nExperience in PeopleSoft Installations of PeopleTools 8.54, HCM 9.2, Weblogic 12.1.2, Tuxedo 12c R1 and People books 8.54 on windows 2012 R2 and Oracle Enterprise Linux 6.\\n\\nExperience in PeopleSoft Installations of PeopleTools 8.53, FSCM 9.2, Weblogic 10.3.6, Tuxedo 10.3 and People Books 8.53 on windows 2008 R2 and Oracle Enterprise Linux 5.4\\n\\nExperience in PeopleSoft Installations of PeopleTools 8.50, HCM 9.1,Weblogic 10.3, Tuxedo 10.3, Oracle 10g R2 and People Books 8.50 on Windows Server 2003 and Oracle Enterprise Linux 5.\\n\\nIn depth experience on PeopleSoft Update Manager (PUM)  for applying PeopleTools patches, Application Bundles on PeopleTools and HRMS 9.2 and FSCM 9.2 Applications \\n\\nIn Depth Experience in Integration Broker setup.\\n\\nExperience in Secure Socket Layer (SSL) implementation on PeopleSoft.\\n\\nProficiency in creation and configuration and administration of Application Server Domains, Process scheduler Domains, Web Server Domains \\n\\nExperience in Reconfiguration of Application Server Domains, Process Scheduler Server Domains and Web Server domains.\\n\\nExperience in Project Migrations using Application Designer and Quest STAT tool and Data Migrations using Data Mover\\n\\nExperience in generating Pre-compare reports and Post Compare Reports between various environments.\\n\\nExperience in setting up client Work Station for developers and testers.\\n\\nExperience in resolving developer issues like resetting passwords, locking and unlocking user accounts.\\n\\nMaintain the workflow of PeopleSoft users.\\n\\nWorked on applying Patches, Bundles and Tax Updates using Change Assistant and PeopleSoft Update Manager (PUM)\\n\\nInstalling and Configuring Change Assistant to apply bundles and tax-updates.\\n\\nInvolved in setup configuration of Integration Broker in Financials and HCM Applications.\\n\\nMaintaining integrity and internal consistency of the database using DDDAUDIT, SYSAUDIT, ALTERAUDIT reports periodically.\\n\\nExperience on clearing the cache of all servers such as Application Server Domains, Web Server Domains and Process Scheduler servers on a regular basis.\\n\\nMonitor the log files  to find out bottleneck of the status of servers\\n\\nMaintaining and troubleshooting various servers like Application Server domains, Process Scheduler Domains and Web Server Domains\\n\\nRegularly involved in doing Database Cloning and Refreshing on PeopleSoft Instances.\\n\\nExperience in Installing COBOL Software and compilation.\\n\\nExperience in Tuning of Application Server Domains, Process Scheduler Domains and Web Server Domains.\\n\\nIn Depth Experience  in PeopleSoft Database Performance and Tuning\\n\\nExperience in Data Guard (DR) support\\n\\nExperience in Database patching.\\n\\nExperience in PeopleSoft Database Refreshes using RMAN.  \\n\\nGood team player and a proven individual contributor\\n\\n\\n\\n\\n\\n\\n\\nArea of Technical Skills:\\n\\n\\t\\t\\n\\n                  TECHNOLOGY\\n\\n                  TOOLS\\n\\nERP TOOLS\\n\\nPeopleTools 8.55/8.54/8.53/8.50,Change Assistant, Integration Broker, Application Designer, Configuration Manager, PeopleSoft Update Manager (PUM) , SES and Data Mover.\\n\\n \\n\\nPeopleSoft HRMS/FSCM/CRM 9.0/9.1/9.2\\n\\nAPPLICATION SERVER\\n\\nTuxedo 10.3.6/12c R1/12c R2\\n\\nWEB SERVER\\n\\nWeb Logic 10.3/12c R1/12.1.3\\n\\nOPERATING SYSTEMS\\n\\nWindows Server 2012 R2/2008 R2/2003\\n\\nRedhat Enterprise Linux 5/6\\n\\nOracle Enterprise Linux 5.5/6.5/7\\n\\nHP-UX 11.31\\n\\nDATABASE\\n\\nOracle 10gR2/11gR2/12cR1/12cR2 ,MS SQL Server 2008/2012\\n\\nEducational Qualification:\\n\\n\\n\\nB.Tech  from J.N.T.U, Hyderabad  in 2012.\\n\\nProfessional experience:\\n\\n\\tWorked  as PeopleSoft Administrator/ PeopleSoft DBA with DXC Technologies Ltd from July 2019 to Jan 2021\\n\\n\\tWorked  as PeopleSoft Administrator/ PeopleSoft DBA with San Information Technology Solutions Pvt. Ltd from Sep 2016 to July 2019\\n\\n\\tWorked as an Oracle DBA with San Information Technology Solutions Pvt. Ltd from Aug 2014 to Aug 2016\\n\\n\\t\\n\\nProject Experience and Achievement\\xe2\\x80\\x99s:\\n\\n\\n\\nProfessional Work Experience\\n\\nClient\\t\\t\\t:\\tCanara Bank\\n\\nProject\\t:\\tInstall, Configure and Production Support of PeopleSoft \\n\\n\\t\\tApplications and Databases.\\t\\n\\nEnvironment\\t\\t:\\tPeople Tools 8.56, HRMS9.2, Oracle 12c\\n\\nTuxedo, Oracle WebLogic, HP-UX 11.31 & Windows                                              Server 2008 R2\\n\\nRole\\t\\t\\t:           PeopleSoft Admin/PeopleSoft DBA\\n\\nDuration                     :           July 2019 to Jan 2021\\n\\n\\n\\nRoles and Responsibilities:\\n\\nPeopleSoft implementation, Support, PeopleTools Upgrades, Application upgrades configuration, maintenance and administration of Application Server Domains, Process Scheduler Servers, Web Server Domains.\\n\\n\\tExtensively involved in resolving Performance issues.\\n\\n\\tDaily Health Check for all the PeopleSoft Environments.\\n\\n\\tImplemented Application servers and Web servers.\\n\\n\\tImplemented Development and Testing environments.\\n\\n\\tData Guard (DR) support\\n\\nInvolved in Database patching.\\n\\nInstalled COBOL Software and compilation.\\n\\nApplied Cobol Licencing.\\n\\nWorked in PeopleSoft Database Refreshes using RMAN.  \\n\\nProficiency in creation and configuration and administration of Application Server Domains, Process scheduler Domains, Web Server Domains.\\n\\nInvolved in reconfiguration of Application Server Domains, Process Scheduler Server Domains and Web Server domains.\\n\\nWorked in Tuning of Application Server Domains, Process Scheduler Domains and Web Server Domains.\\n\\nInvolved Project Migrations using Application Designer .\\n\\nExperience in generating Pre-compare reports and Post Compare Reports between various environments.\\n\\n\\tExperience in setting up client Work Station for developers and testers.\\n\\n\\tExtensively worked in resolving developer issues like resetting passwords, locking and unlocking user accounts.\\n\\n\\tInvolved in database related activities.\\n\\n\\tExperience in standalone RAC. \\n\\n\\tAdding or resizing datafiles.\\n\\n\\tExperience in database patching on Test, Dev and Prod Environments.\\n\\nInvolved and configured Integration Broker setup with loadbalancer.\\n\\n\\tInvolved in Integration activities.\\n\\n\\tInvolved in DC to DR and DR to DC activities.\\n\\n\\t\\n\\n\\n\\n\\n\\n\\n\\nClient\\t\\t\\t:\\tArizona State University\\xc2\\xa0Phoenix, AZ\\n\\nProject\\t:\\tInstall, Configure and Production Support of PeopleSoft \\n\\n\\t\\tApplications and Databases.\\t\\n\\nEnvironment\\t\\t:\\tPeople Tools 8.53, 8.54,8.55 HRMS9.2, FSCM9.2, Oracle 11g,12c\\n\\nTuxedo 12.1, Oracle WebLogic 10.3,12.1, Windows Server 2008 R2,Oracle Enterprise Linux 5.5,6\\n\\nRole\\t\\t\\t:           PeopleSoft Admin/PeopleSoft DBA\\n\\nDuration                     :           Sep 2016 to July 2019\\n\\n\\n\\nRoles and Responsibilities:\\n\\n\\n\\nMonitoring the day-to-day working of the system.\\n\\nBuild Verification Test \\xe2\\x80\\x93 To check proper installation and running of all PeopleSoft components, processes and reports.\\n\\nObject Migration between different instances involving compare reports, building objects etc.\\n\\nInvolved in Implementation of PeopleSoft Internet Architecture (PIA) including Application Servers, Web Servers and Batch Servers.\\n\\nHandled Security Management tasks like creating new user profiles, roles, permission lists and granting privileges.\\n\\nHandled Application Management tasks like Applying Patches & Fixes.\\n\\nConfigured workstation for\\xc2\\xa0PeopleSoft\\xc2\\xa0developers on their VM's for accessing PeopleTools\\n\\nlike Application designer, Data Mover, nVision reports.\\n\\nAdministrating Application Server and Process Scheduler Server using PSAdmin utility\\n\\nMigration of all PeopleSoft projects to DEV, TEST and PROD instances.\\n\\nAnalysis of production issues raised by clients and providing solutions.\\n\\nReport Node configurations.\\n\\nWorked on Project Migrations and Data Migrations.\\n\\nGenerating Compare Reports.\\n\\nDownloading Patches, Tax updates & applied to the environments and maintains the customizations for the PeopleSoft.\\n\\nExperience in applying Patches, Bundles and Tax Updates using Change Assistant and PeopleSoft Update Manager (PUM)\\n\\nInstalling and Configuring Change Assistant to apply bundles and tax-updates.\\n\\nAppling Tax updates, Patches for Demo, Dev, Test and Production Environments.\\n\\nConfiguring and monitoring Process Scheduler and troubleshooting various issues related.\\n\\nInvolved in the Performance of the databases and application by creating multiple domains across the instances\\n\\nTroubleshooting of Application Server Domains, Process Scheduler Domains  and  Web Server Domains \\n\\nConfigure Https and secure web server (SSL) administration\\n\\nSetup load Balancer configuration and application server clustering setups / Master Process scheduler set up for high availability systems\\n\\nPerformed data migration using data pump and data mover utilities\\n\\nLoad balancing of Application server & Web server.\\n\\nSetup Application Security using User Profiles, Roles and Permission lists.\\n\\nRefreshing PeopleSoft test environment for synchronisation to production.\\n\\nMaintaining integrity and internal consistency of the database using DDDAUDIT, SYSAUDIT, ALTERAUDIT reports periodically.\\n\\nInvolved in 24/7 Production Support to clients.\\n\\nChecked and cleared the application server cache on a regular basis as a maintenance process. \\n\\nInstalled People Books and configured the Web Server to access People Books.\\n\\nConfigured and maintained Report Nodes and Settings.\\n\\nGenerating compare reports between various environments.\\n\\nDocumenting all support issues with their resolutions and feedback.\\n\\n\\n\\n\\t.\",\n",
       " b'Arun Venu\\n\\n\\n\\n\\t  EXPERIENCE SUMMARY\\t\\n\\n\\n\\n\\t\\tExperience of 04 Years 08 Months in multiple PeopleSoft Upgrade, Implementation and Support projects in FSCM/HCM with Global clients.\\n\\n\\t\\tIn Depth Knowledge and experience in working with PeopleTools - Application Engine, PeopleCode, Application Package, File Layout, ExcelToCI, PSQuery, and reporting with SQRs, BI Publisher.\\n\\n\\t\\tWorked on FSCM upgrade which includes Vanilla Compare, Retrofitting of Objects SIT, UAT and Go Live activities.\\n\\n\\t\\tGood experience in Upgrade, Implementation modules.\\n\\n\\t\\tGood experience in all phases of the Application Development cycle - Design, Coding, Testing, Maintenance and Documentation.\\n\\n\\t\\tWorked on creating custom reports using BI Publisher, SQR, and PS Query.\\n\\n\\t\\tWorked on Testing tool PTF(Peoplesoft Testing Framework)\\n\\n\\t\\tExcellent capability to explore, learn and understand newer business domains and technologies.\\n\\n\\t\\tGood communication skills.\\n\\n\\n\\n\\t  SOFTWARE PROFICIENCY\\t\\n\\n\\n\\nSkills\\n\\nApp Package, Application Engine, People Code, SQR, BIP, PS Query\\n\\nDomain Knowledge\\n\\nFinancial Services, Retail, Healthcare\\n\\nDevelopment Tools\\n\\nPeopleSoft Application Designer\\n\\nData Management\\n\\nData Mover\\n\\nIntegration Tools\\n\\nIntegration Broker\\n\\nDatabase\\n\\nOracle 11G, 12c\\n\\n\\n\\n\\n\\n\\t  WORKING EXPERIENCE\\t\\n\\n\\n\\nCurrently working as PeopleSoft technical consultant since December 2016 till date in Wipro Technologies.\\n\\n\\n\\n\\t  EDUCATIONAL QUALIFICATION\\t\\n\\n\\n\\n\\t\\tBCA (COMPUTER APPLICATIONS) from Guru Gobind Singh Indraparastha University.\\n\\n\\t\\tM.Tech (Software Engineering) from BITS Pilani at Wipro WASE program.\\n\\n\\n\\n\\t  PROFESSIONAL EXPERIENCE\\t\\n\\n\\n\\nProject\\n\\nTools Upgrade 8.58\\n\\nCustomer\\n\\nCredit Suisse\\n\\nDomain\\n\\nFinancial Services\\n\\nRole\\n\\nHCM Technical Consultant\\n\\nPeriod\\n\\nFeb 2022 \\xe2\\x80\\x93 June 2021\\n\\nDescription\\n\\nCredit Suisse Group AG is a global investment bank and financial services firm founded and based in Switzerland\\n\\nResponsibilities\\n\\n\\tAnalysis of all customizations for ESS and MSS pages for Fluid Implementation.\\n\\n\\tConverting ESS pages to Fluid. Pages like Name change, Home and Mailing Address, Swiss Payslip, Phone number, Email Address, Emergency Contacts and Ethnic Groups.\\n\\n\\tConverting MSS pages to Fluid.\\n\\n\\tData conversion to bring attachments from Previous Custom tables to new fluid delivered table.\\n\\n\\tBatch Catchup analysis to check those batch process which require catchup after Go-Live.\\n\\n\\tWorked on Cutover and Security Documents for Go-Live.\\n\\nModules\\n\\nESS, MSS, WA\\n\\nEnvironment\\n\\nPeopleSoft HCM 9.2, People Tools 8.57/8.58\\n\\n\\n\\n\\n\\n\\n\\nProject\\n\\nGlobal OffBoarding Automation\\n\\nCustomer\\n\\nCredit Suisse\\n\\nDomain\\n\\nFinancial Services\\n\\nRole\\n\\nHCM Technical Consultant\\n\\nPeriod\\n\\nJuly 2020 \\xe2\\x80\\x93 Jan 2021\\n\\nDescription\\n\\nCredit Suisse Group AG is a global investment bank and financial services firm founded and based in Switzerland\\n\\nResponsibilities\\n\\n\\tCreated Custom MSS Termination page where manager can submit resignation on behalf of his direct reportees.\\n\\n\\tCreated Checklist automation program to complete checklist items as per configuration and framework to avoid manual checks of the items.\\n\\n\\tCreated Contract Expiry Reminder process to send out reminders to the short term employees whose Contracts are getting expired in 30,15,7 and 2 days.\\n\\n\\tCreated many BI reports to generate letters for different regions.\\n\\n\\tCreated Custom Stakeholder response page\\n\\n\\tCreation of cutover documents for Go-live.\\n\\n\\tProvided 24/7 support in the warranty period after the Go-Live.\\n\\nModules\\n\\nESS, MSS\\n\\nEnvironment\\n\\nPeopleSoft HCM 9.2, People Tools 8.57\\n\\n\\n\\n\\n\\n\\n\\nProject\\n\\nEnd of Life and PTF\\n\\nCustomer\\n\\nCredit Suisse\\n\\nDomain\\n\\nFinancial Services\\n\\nRole\\n\\nFinancial Technical Consultant\\n\\nPeriod\\n\\nApril 2020 \\xe2\\x80\\x93 June 2020\\n\\nDescription\\n\\nCredit Suisse Group AG is a global investment bank and financial services firm founded and based in Switzerland\\n\\nResponsibilities\\n\\n\\tRetrofit of objects like App Package, App Engine, Pages, Peoplecode, and SQL.\\n\\n\\tWorked in GL \\xe2\\x80\\x93 Journal Entry, Journal Edit, Posting of Journal, Reversal Journals.\\n\\n\\tWorked on Peoplesoft Testing Framework for Regression testing of GL.\\n\\nModules\\n\\nGL\\n\\nEnvironment\\n\\nPeopleSoft FSCM 9.2, People Tools 8.56\\n\\n\\n\\n\\n\\n\\n\\nProject\\n\\nLease Administration\\n\\nCustomer\\n\\nCredit Suisse\\n\\nDomain\\n\\nFinancial Services\\n\\nRole\\n\\nFinancial Technical Consultant\\n\\nPeriod\\n\\nJanuary 2020 \\xe2\\x80\\x93 April 2020\\n\\nDescription\\n\\nCredit Suisse Group AG is a global investment bank and financial services firm founded and based in Switzerland\\n\\nResponsibilities\\n\\n\\tCreated feed process to load lease into system from files received from External Source.\\n\\n\\tWorked on creation/managing both Financial and Operating Leases.\\n\\n\\tRan the lease processes like Straight-line process, Depreciation Calculate, Accounting Entry, Depreciation Close and validated the data in DIST_LN record.\\n\\n\\tWorked on Amendment of the lease.\\n\\nModules\\n\\nAM & LM\\n\\nEnvironment\\n\\nPeopleSoft FSCM 9.1 & 9.2, People Tools 8.51/8.56\\n\\n\\n\\n\\n\\n\\n\\nProject\\n\\nLabCorp 9.2 Upgrade\\n\\nCustomer\\n\\nLaboratory Corporation of America Holdings\\n\\nDomain\\n\\nHealthcare\\n\\nRole\\n\\nFinancial Technical Consultant\\n\\nPeriod\\n\\nDecember 2018 \\xe2\\x80\\x93 November 2019\\n\\nDescription\\n\\nLaboratory Corporation of America Holdings had Peoplesoft FSCM system in 9.1, People tools version 8.51 and Oracle 11g DB. Upgraded to Peoplesoft FSCM system to 9.2, PeopleTools to 8.56.16 and Oracle 12c DB.\\n\\n\\n\\nResponsibilities\\n\\n\\tAnalyzed impacted objects which needs retrofit and retrofitted objects from for all the modules in PeopleSoft 9.2 application.\\n\\n\\tWorked on customizing the Fluid pages based on the classic customizations in Modules like GL, AP, Requisition, and Travel & Expenses.\\n\\n\\tWorked on Classic to Fluid Conversion for Voucher Approval Component.\\n\\n\\tWorked on multiple bug fixes which were reported in SIT and UAT phases of testing.\\n\\n\\tProvided 24/7 support in the warranty period after the Go-Live.\\n\\nModules\\n\\nGL, AP, eProcurement, T&E\\n\\nEnvironment\\n\\nPeopleSoft FSCM 9.1 & 9.2, People Tools 8.51/8.56\\n\\n\\n\\nProject\\n\\nBupa NZ Implementation\\n\\nCustomer\\n\\nBUPA\\n\\nDomain\\n\\nHealthcare\\n\\nRole\\n\\nDeveloper\\n\\nPeriod\\n\\nMay 2018 \\xe2\\x80\\x93 November 2018\\n\\nDescription\\n\\nBupa is a British international healthcare provisioning and multi- insurance group\\n\\nResponsibilities\\n\\n\\tCreated Custom AE interface to convert CSV file data to XML format.\\n\\n\\tCreated Custom AE Interface which used to call a PSQuery and fetch the data according to the user parameters and create a CSV.\\n\\n\\tDid Customer data conversion with ExcelToCI load.\\n\\n\\tCreated Custom SQR process for AR Aging Reports.\\n\\nModules\\n\\nGL, AP, AR, AM\\n\\nEnvironment\\n\\nPeopleSoft 9.2, PeopleTools 8.55\\n\\n\\n\\nProject\\n\\nAMP IDMS Decommission\\n\\nCustomer\\n\\nAMP Services\\n\\nDomain\\n\\nFinancial Solutions\\n\\nRole\\n\\nDeveloper\\n\\nPeriod\\n\\nJuly 2017 \\xe2\\x80\\x93 March 2018\\n\\nDescription\\n\\nAMP is a financial services company in Australia and New Zealand providing superannuation and investment products, insurance, financial advice and\\n\\nbanking products including home loans and savings accounts.\\n\\nResponsibilities\\n\\n\\tCreated new Component, Pages with Grids to show Conversion Data.\\n\\n\\tCreated new Application classes for EFM files Transfer according to the requirement.\\n\\n\\tFixed multiple SIT Bugs.\\n\\nEnvironment\\n\\nPeopleSoft 9.2, PeopleTools 8.55\\n\\n\\n\\nProject\\n\\nPetco Support\\n\\nCustomer\\n\\nPetco Animal Supplies, Inc\\n\\n\\n\\nDomain\\n\\nRetail\\n\\nRole\\n\\nDeveloper\\n\\nPeriod\\n\\nMay 2017 \\xe2\\x80\\x93 July 2017\\n\\nDescription\\n\\nPetco Animal Supplies, Inc., or simply Petco, is an American pet retailer in the United States, with corporate offices in San Diego and San Antonio. Petco sells\\n\\npet products and services, as well as certain types of live animals\\n\\nResponsibilities\\n\\n\\tWorked on many Incident tickets.\\n\\n\\tRegular Job Monitoring.\\n\\n\\tUsed PSQuery for report development as per user requirement.\\n\\nEnvironment\\n\\nPeopleSoft HCM 8.80, People Tools 8.48.\\n\\n\\n\\n\\n\\nSensitivity: Internal & Restricted',\n",
       " b'Personal Details\\t\\t\\n\\n\\n\\nName\\n\\nPritam Biswas\\n\\nDate Of Birth\\n\\n26/01/1996\\n\\nPresent Location\\n\\nPune\\n\\n\\n\\n\\n\\n\\n\\n\\t\\n\\n\\tExperience Summary\\n\\n4.1 years- Experience of Development, Support and maintenance, Upgrade in PeopleSoft Project in IBM.\\n\\nCurrently working in PeopleSoft implementation project in Accenture.\\n\\nExposure of working in Finance module and HCM module.\\n\\nTechnical knowledge and hands on experience in People tools versions 9.1 and 9.2\\n\\nHave worked on PeopleSoft HRMS application versions 8.55 to 8.58\\n\\nHave worked on technical aspects as: creating PeopleSoft Objects like Field, Record, Page, Component, File Layout, Application Engine, BI Publisher Report, Form etc.\\n\\nHave worked on creating SQRs.\\n\\nHave worked on creating Application Engine.\\n\\nHave worked on creating BI Publisher report.\\n\\nHave worked on creating PS Query.\\n\\nHave hands-on experience in generic Event mapping.\\n\\nHave worked on PeopleSoft Job and Job Stream management through IWS.\\n\\nHave Basic idea of Control M to Schedule and monitor Jobs.\\n\\nHave basic idea of Service Now, JIRA and PHIRE as ticketing tool.\\n\\n\\tSkills\\n\\n\\tTechnical Skills\\n\\nTechnologies: PeopleSoft- ERP, HRMS Applications V 8.X\\n\\nOperating Systems: Windows (all versions till 10), Mac OS (10.9 to 10.13)\\n\\nProgramming Language: C, Python (Beginner), PeopleCode, SQR\\n\\nTools: People Tools 8.54 to 8.58, Oracle SQL Developer, App Designer, Tectia Client, ServiceNow, WinScp, IWS, Control M.\\n\\nDatabases: Oracle. DB2, SQL Server 2005\\n\\nReporting Tools: SQR, PS Query, BI Publisher\\n\\nIndustries: HCM, Finance\\n\\n\\tSoft Skills\\n\\nDedicated to work.\\n\\nEager to adopt new skills.\\n\\nGood communication and Presentation Skill in English, Hindi, Bengali.\\n\\nInterested in solving analytical problems.\\n\\nGood Team player.\\n\\nCan adopt any hazardous Situations \\n\\nEducational Qualifications\\n\\nDegree\\n\\nInstitution\\n\\nStream\\n\\nPercentage/ CGPA\\n\\nYear Of Passing\\n\\nB.Tech\\n\\nNational Institute Of Technology Durgapur\\n\\nElectrical Engineering\\n\\n8.41\\n\\n2017\\n\\n12th Higher Secondary\\n\\nBurdwan Municipal High School\\n\\nPure Science (includes Computer Science)\\n\\n82.24\\n\\n2013\\n\\n10th Secondary\\n\\nBurdwan Municipal High School\\n\\nAll Subjects\\n\\n87.2\\n\\n2011\\n\\n\\n\\nJob History\\n\\nIBM India Pvt Ltd\\n\\nJuly 2017 to May 2020\\n\\nAccenture India\\n\\nJune 2020 ti till date\\n\\n\\n\\nProfessional Summary\\n\\nEmployer / Client\\n\\nIBM India / CitiGroup Finance\\n\\nProject\\n\\nPeopleSoft Production Support and Maintenance \\n\\nTenure\\n\\nOctober 2017-December 2018\\n\\nResponsibilities\\n\\nProvide Technical Support\\n\\nProvide Analysis of any PeopleSoft related issue coming to Level 2 support Team\\n\\nWorking and supporting in 6 Applications: CRC, ETL, APSS, CitiGL, CBSI, FRS.\\n\\nSupport User directly when issue comes.\\n\\nHost Team meetings to update and manage Status of all issues.\\n\\nCreate Calendar for Autosys Jobs, Batch files to run.\\n\\nSupport on Green Zones and Production Checkouts.\\n\\nMake Daily/Weekly Reports in various applications\\n\\nAnalyze and solve Problem Tickets, Incidents\\n\\nCan handle ServiceNow tool to create, modify Incident Tickets, Change Requests\\n\\nHave Worked on Full NDM Certificate Update, NDM Testing and got successful signoff from 16 clients.\\n\\nHave worked on DSMT Load Activity and did Checkout from team\\n\\nHave worked on COB Test Activity and provided Checkout from Team.\\n\\n Experience in monitoring Jobs and analyzing Failures from Process Monitor, App Designer, SQL Developer, Tectia Client\\n\\nAttend Meetings with Clients and update on behalf of Team.\\n\\n\\n\\n\\n\\nEmployer / Client\\n\\nIBM India / AXA Insurance Uprade\\n\\nProject\\n\\nPeopleSoft HCM Development and Upgrade \\n\\nTenure\\n\\nJanuary 2019-September 2019\\n\\nResponsibilities\\n\\nAssigned in AXA upgrade Team as a developer for upgrading Peoplesoft Version 9.1 to 9.2.\\n\\nHave worked in Mapping and tracing all steps for a Peoplesoft Upgrade Project.\\n\\nHave worked on identifying different objects like Bolt-on, Custom, Peoplesoft modified objects.\\n\\nHave worked on Retrofitting Peoplesoft objects to make a development environment.\\n\\nHave worked on Data Reconciliation process in every intermediate environment.\\n\\nHave worked on SQR analysis, creating PS Query, Pages, records, components, menus etc.\\n\\nHave worked in Batch Process running in each intermediate phase for Testing purpose.\\n\\n\\n\\nEmployer / Client\\n\\nIBM India / AXA Insurance Support\\n\\nProject\\n\\nPeopleSoft HCM Enhancement and Support \\n\\nTenure\\n\\nOctober 2019-Present\\n\\nResponsibilities\\n\\nWorked on Basic enhancement and support.\\n\\nHave worked in creating PS Query\\n\\nHave created SQR, modified SQR.\\n\\nHave worked in Job management and Job Scheduling for PeopleSoft through IWS.\\n\\nGive Technical Support as L2 team.\\n\\n\\n\\nEmployer / Client\\n\\nAccenture India / Florida PALM Project\\n\\nProject\\n\\nPeopleSoft Finance implementation\\n\\nTenure\\n\\nJune 2020-Present\\n\\nResponsibilities\\n\\nCurrently working on developing interfaces, reports, workflow, form, PS Query, BI Publisher from scratch.\\n\\nWorked on creating App Engine, App package, Component Interface, multi-level Page, XML Report.\\n\\nSupporting as resolving Service request raised while doing production release. Tickets are expected to be resolved within stipulated timeline.\\n\\nMentor Associate developers and supervise their tasks.\\n\\n\\n\\nAchievements\\n\\nGot Acknowledgement from Client for Excellent, Uninterrupted and Professional Support within 6 months.\\n\\nGot acknowledged for leading Yearly COB Activity in 8 months experience.\\n\\nGot Manager\\xe2\\x80\\x99s Choice Award for 4 times in 2 years from 2 projects.\\n\\nGot 5 IBMer\\xe2\\x80\\x99s appreciation in 2 years from 2 Projects.\\n\\nHave been awarded with Eminence and Excellence Award, IBM.\\n\\nHad been awarded with Rising Star Award, IBM.\\n\\nHave been awarded with Shining Star Award, Accenture.\\n\\nRecipient of Central Sector Scheme of Scholarship for College and University for year 2013, 2014 .\\n\\nRecipient of Dr. B. R. Ambedkar Medha Puraskar 2011 .\\n\\n\\n\\nExtra Curriculars\\n\\nSinging\\n\\nSketching\\n\\n===========================================================================================',\n",
       " b'Rahul Ahuja\\n\\n---------------------------------------------------------------------------------------------------------------------------\\n\\nSummary:\\n\\n\\n\\n10.2 years of experience in PeopleSoft as a Technical Consultant.\\n\\nCustomization of PeopleSoft application using PeopleSoft 8.x,9.x, People Tools.\\n\\nIn-depth knowledge in PeopleTools like Application Designer, PeopleCode, Application Engine, Application Package, PS Security, File layout, XML Publisher, Data Mover, Integration Broker, Workflow Notification, AWE, Web Services.\\n\\nWorked extensively on Application Engine, PeopleCdoe, File Layout, Application Package, AWE, Env Refresh and Upgrade activities.\\n\\nExperience in Implementation of projects.\\n\\nFair Knowledge in PeopleSoft Reporting Tools such as PS/Query. Worked on Component Interface.\\n\\nExcellent knowledge in Agile Methodology.\\n\\nSelf motivated person with strong debugging, problem solving, and analytical skills with better understanding of Application development methodologies, techniques and tools.\\n\\nAbility to write documents clearly and concisely\\n\\nGoal oriented and ability to work within tight deadlines\\n\\nPossess excellent and effective communication skills \\n\\nPossess strong interpersonal and leadership skills \\n\\n\\t\\n\\n\\tTechnical skills:\\n\\n\\t\\n\\nERP\\t\\t\\t:PeopleSoft Financials v 8.9/9.1/9.2\\n\\nPeople Tools\\t\\t:PT8.54/55/56, Application Designer, PS Security, Application \\n\\nEngine, Application Package, Process Scheduler, People code, Workflow Notification, File Layout, Data mover, XML Publisher, Integration Broker, SQR, Component Interface, Web Services, Workflow Notifications, AWE.\\n\\n\\n\\nReporting Tools\\t: SQR, PS Query\\n\\nDatabases\\t\\t: Oracle 11g\\n\\nOperating Systems\\t: Windows 7, 8,10\\n\\n\\n\\n\\n\\nExperience Summary:\\n\\n\\n\\nWorking as a PeopleSoft Technical Lead and Team Lead in Wipro Limited. Pune from 07th Jan 2019 till date. \\n\\nWorked as a Senior PeopleSoft Technical Consultant in Rotary International Infotech Pvt. Ltd. Pune from 11th Jan 2016 to 04th Jan 2019.\\n\\nWorked as a Software Engineer with HSBC GLT Hyderabad from 27th June 2011 to 05th Jan 2016 as a PeopleSoft Technical Consultant.\\n\\n\\n\\n\\n\\nEducational Qualifications:\\n\\n\\n\\nBachelor of Engineering in Information Technology from Nagpur University with 70.52%.\\n\\n\\n\\n\\t\\n\\n\\tProject Profile:\\n\\n\\t\\n\\n\\tProject #1: Financial Transformation Platform (FTP)\\xe2\\x80\\x93Development, UIT Testing, Production Support\\n\\n\\n\\n\\t\\t\\tClient\\t:\\t\\tHSBC \\n\\n\\t\\t\\tEnvironment\\t:\\t\\tPS FSCM 8.9/9.1/9.2, People Tools 8.49/8.51/8.54\\n\\n\\t\\t\\tDatabase\\t:\\t\\tDB2/Oracle\\n\\n\\t\\t\\tPlatform\\t:\\t\\tWindows 7\\n\\n\\t\\t\\tRole\\t:\\t\\tTeam Member\\n\\n\\t\\t\\tTeam Size\\t:\\t\\t15\\n\\n\\t\\t\\tDuration\\t:\\t\\tSeptember 2011 to December 2015\\n\\n\\t\\n\\n\\tDescription\\n\\n\\t\\n\\n\\tHSBC is leading Bankproviding top-class banking facilities & services. Leveraging deep industry and functional expertise, leading technology practices and a global delivery model, enable companies achieve their business goals and transformation objectives.This FTP project is a vast project consisting of more than 15 modules used for the Ledger purpose of HSBC. FTP involves customized module named as Reference Data subdivided into Rules Maintenance Facility (RMF), Rules Tables Maintenances (RTM) and Reference Data Maintenance Facility (RDMF).\\n\\n\\t\\n\\n\\tResponsibilities:\\n\\n\\tDeveloping the Components comprising of various Pages, Application Engine, SQRs as per the Change Requests.\\n\\n\\tCustomize the developed Components, SQR Reports and Application Engines according to the Change Requests.\\n\\nMake test material/plan to validate development and modification of code. \\n\\n\\tInvolved in the code drops.\\n\\n\\tInvolved in Data migration using Data Mover, DB2 Scripts via SSH.\\n\\n\\tSupporting the various SIT and UAT Cycles for our module.\\n\\n\\tCoordinating the team as per requirements and schedules.\\n\\nMaintaining &preventing defects as a member of Defect Prevention & Control using HP Quality Centre.\\n\\nExamining systems applications issues, problems, improvements and present options for resolution.\\n\\n\\tProject #2: PeopleSoft Business Improvement Proposals (PS BIPs) \\xe2\\x80\\x93 Development, UIT Testing, Production Support\\n\\n\\n\\n\\t\\t\\tClient\\t:\\t\\tRotary Headquarter (Evanston) and International Offices \\n\\n\\t\\t\\tEnvironment\\t:\\t\\tPS FSCM 9.2, People Tools 8.53/8.54\\n\\n\\t\\t\\tDatabase\\t:\\t\\tOracle 11g\\n\\n\\t\\t\\tPlatform\\t:\\t\\tWindows 10\\n\\n\\t\\t\\tRole\\t:\\t\\tTeam Member\\n\\n\\t\\t\\tTeam Size\\t:\\t\\t7\\n\\n\\t\\t\\tDuration\\t:\\t\\tJanuary 2016 to July 2017\\n\\n\\t\\n\\n\\tDescription\\n\\n\\t\\n\\n\\tRotary International\\xc2\\xa0is an international\\xc2\\xa0service organization\\xc2\\xa0whose stated purpose is to bring together business and professional leaders in order to provide humanitarian services, encourage high ethical standards in all vocations, and to advance goodwill and peace around the world. It is a non-political and non-sectarian organization open to all people regardless of race, color, creed, religion, gender, or political preference. As a part of IT team (Rotary International Infotech Private Limited) we support the IT operations of Rotary International all over the globe.\\n\\n\\t\\n\\n\\tResponsibilities:\\n\\n\\tDeveloping and maintaining the Custom Components comprising of various Pages, Application Engine, Web services etc as per the requirements.\\n\\n\\tCustomize the developed Components, Application Engines according to the Change Requests.\\n\\nMake test material/plan to validate development and modification of code. \\n\\n\\tInvolved in the code migration and deployments.\\n\\n\\tInvolved in Data migration using Data Mover.\\n\\n\\tSupporting the QAT.\\n\\n\\tCoordinating the team as per requirements and schedules.\\n\\nMaintaining & preventing defects as a member of Defect Preventionteam.\\n\\nExamining systems applications issues, problems, improvements and present options for resolution.\\n\\nRefresh Activities.\\n\\n\\tProject #3: Grants Centre \\xe2\\x80\\x93 Web Services, Development, UIT Testing, Production Support\\n\\n\\n\\n\\t\\t\\tClient\\t:\\t\\tRotary Headquarter (Evanston) and International Offices \\n\\n\\t\\t\\tEnvironment\\t:\\t\\tPS FSCM 9.2, People Tools 8.53/8.54\\n\\n\\t\\t\\tDatabase\\t:\\t\\tOracle 11g\\n\\n\\t\\t\\tPlatform\\t:\\t\\tWindows 10\\n\\n\\t\\t\\tRole\\t:\\t\\tTeam Member\\n\\n\\t\\t\\tTeam Size\\t:\\t\\t6\\n\\n\\t\\t\\tDuration\\t:\\t\\tAugust 2016 to Till March 2017 \\n\\n\\t\\n\\n\\tDescription\\n\\n\\t\\n\\n\\tRotary International\\xc2\\xa0is an international\\xc2\\xa0service organization\\xc2\\xa0whose stated purpose is to bring together business and professional leaders in order to provide humanitarian services, encourage high ethical standards in all vocations, and to advance goodwill and peace around the world. It is a non-political and non-sectarian organization open to all people regardless of race, color, creed, religion, gender, or political preference. As a part of IT team (Rotary International Infotech Private Limited) we support the IT operations of Rotary International all over the globe.\\n\\n\\t\\n\\n\\tResponsibilities:\\n\\n\\tDeveloping and maintaining Web services (Integration Broker) for third party application integration.\\n\\nMake test material/plan to validate development and modification of code. \\n\\n\\tInvolved in the code migration and deployments.\\n\\n\\tSupporting the QAT, UAT.\\n\\n\\tRefresh Activities.\\n\\n\\tCoordinating the team as per requirements and schedules.\\n\\nMaintaining & preventing defects as a member of Defect Prevention team.\\n\\nExamining systems applications issues, problems, improvements and present options for resolution\\n\\n\\tProject #4: Financial Application Management System (FAMS) \\xe2\\x80\\x93 Development, UIT Testing, Production Support\\n\\n\\n\\n\\t\\t\\tClient\\t:\\t\\tRotary Headquarter (Evanston) and International Offices \\n\\n\\t\\t\\tEnvironment\\t:\\t\\tPS FSCM 9.2, People Tools 8.54/8.56\\n\\n\\t\\t\\tDatabase\\t:\\t\\tOracle 11g\\n\\n\\t\\t\\tPlatform\\t:\\t\\tWindows 10\\n\\n\\t\\t\\tRole\\t:\\t\\tTeam Lead (PeopleSoft Developer)\\n\\n\\t\\t\\tTeam Size\\t:\\t\\t8\\n\\n\\t\\t\\tDuration\\t:\\t\\tJuly 2017 \\xe2\\x80\\x93 Dec 2018\\n\\n\\t\\n\\n\\tDescription\\n\\n\\t\\n\\n\\tRotary International\\xc2\\xa0is an international\\xc2\\xa0service organization\\xc2\\xa0whose stated purpose is to bring together business and professional leaders in order to provide humanitarian services, encourage high ethical standards in all vocations, and to advance goodwill and peace around the world. It is a non-political and non-sectarian organization open to all people regardless of race, color, creed, religion, gender, or political preference. As a part of IT team (Rotary International Infotech Private Limited) we support the IT operations of Rotary International all over the globe.\\n\\n\\t\\n\\n\\tResponsibilities:\\n\\n\\tDeveloping and maintaining the Custom Components comprising of various Pages, Application Engine, Web services etc as per the requirements.\\n\\n\\tCustomize the developed Components, Application Engines according to the Change Requests.\\n\\nMake test material/plan to validate development and modification of code. \\n\\n\\tInvolved in the code migration and deployments.\\n\\n\\tInvolved in Data migration using Data Mover.\\n\\n\\tSupporting the QAT.\\n\\n\\tCoordinating the team as per requirements and schedules.\\n\\nMaintaining & preventing defects as a member of Defect Prevention team.\\n\\nExamining systems applications issues, problems, improvements and present options for resolution.\\n\\nRefresh Activities.\\n\\n\\tProject #5: PeopleSoft Global Book Management (GBM) \\xe2\\x80\\x93 Development, Unit Testing, Deployment\\n\\n\\n\\n\\t\\t\\tClient\\t:\\t\\tCredit Suisse Services India Pvt. Ltd. \\n\\n\\t\\t\\tEnvironment\\t:\\t\\tPS FSCM 9.2, People Tools 8.55\\n\\n\\t\\t\\tDatabase\\t:\\t\\tOracle 12c\\n\\n\\t\\t\\tPlatform\\t:\\t\\tWindows 10\\n\\n\\t\\t\\tRole\\t:\\t\\tTeam Lead (PeopleSoft Technical Lead)\\n\\n\\t\\t\\tTeam Size\\t:\\t\\t12\\n\\n\\t\\t\\tDuration\\t:\\t\\tJan 2019 \\xe2\\x80\\x93 Till date\\n\\n\\t\\n\\n\\tDescription\\n\\n\\t\\n\\n\\tPeopleSoft GBM is a customized system, which provides a front-end GUI to allow users to create and maintain Book and Department static data as well as Hierarchy roll-ups for specific trees. It has a workflow mechanism that automatically routes the request through various approval channels based on pre-defined rules. The system holds mappings between Book data in GBM and more than 50 transaction systems that are connected with GBM. The primary use of GBM is to serve as a Golden Source of information for all books and related attributes which originates from GBM defined across all applications globally.\\n\\n\\t\\n\\n\\tResponsibilities:\\n\\n\\tDeveloping and maintaining the Custom Components comprising of various Pages, Application Engines, Approval workflows etc as per the requirements.\\n\\n\\tCustomize the developed Components, Application Engines according to the Change Requests.\\n\\nMake test material/plan to validate development and modification of code. \\n\\n\\tInvolved in the code migration and deployments.\\n\\n\\tSupporting the SIT and UAT.\\n\\n\\tCoordinating the team as per requirements and schedules.\\n\\nMaintaining & preventing defects as a member of Quality Management Leads team.\\n\\nExamining systems applications issues, problems, improvements and present options for resolution.\\n\\nTeam lead activities like resource planning and management, quarterly appraisal discussion, estimations and reporting etc.',\n",
       " b'R Ahmed                                                                                               PeopleSoft Technical Consultant \\t\\n\\n\\n\\nPROFESSIONAL SUMMARY\\n\\nHaving 3.2 years of Experience as PeopleSoft Consultant.\\n\\nGood experience on PeopleSoft FSCM Applications.\\n\\nTechnical Experience in Support and Maintenance & customization of PeopleSoft FSCM Applications. \\n\\nProficient on Application Design, Creation of various types of Definitions and Implement validations according to business requirement.\\n\\nCreated and modified Components, Pages, Records, Fields and Process Definitions. \\n\\nHave knowledge on Functional modules like E-Procurement, Purchasing and payables modules.\\n\\nGood exposure in various PeopleTools like Application Designer, Application Engine, People Code, File layout, Component Interface and Process Scheduler. \\n\\nProficient in creation of reports using PS Query and XML Publisher. \\n\\nInvolved in implementation of interface with Component Interface.\\n\\nPosses\\xe2\\x80\\x99 effective Communication, Problem Solving and Team Working skills.\\n\\n\\t\\n\\n\\tPROFESSIONAL EXPERIENCE\\n\\n\\tWorking as PeopleSoft Consultant with VIRTUSA from June 2018 to Till Date (Optimum Solutions Pvt Ltd).\\n\\n\\n\\nEDUCATIONAL PROFILE\\n\\n\\n\\n\\tB.SC(Computers) with MBA , Affiliated to JANTUK\\n\\n\\t\\n\\n\\t\\n\\n\\t\\n\\n\\t\\n\\n\\t\\n\\n\\t\\n\\n\\t\\n\\n\\t\\n\\n\\t\\n\\n\\t\\n\\n\\t\\n\\n\\t\\n\\n\\t\\n\\n\\t\\n\\n\\t\\n\\n\\tTECHNICAL SKILL SET\\n\\n\\t\\n\\nProgramming Languages\\t:      People Code.\\n\\nERP Applications\\t\\t:      PeopleSoft FSCM 9.0& 9.1\\n\\nTools\\t\\t\\t            :       People Tools 8.49&8.51\\n\\nPeople Tools\\t\\t\\t:      App Designer, People Code, Application Engine,\\n\\n       CI and File Layout.\\n\\nReporting Tools\\t\\t:      PS Query and XML Publisher.\\n\\n\\n\\nPROJECT:\\n\\nProject          : Citi FSCM\\n\\nDuration       : April 2018 \\xe2\\x80\\x93 Till date\\n\\nRole              : PeopleSoft Technical consultant.\\n\\nEnvironment: People Tools 8.51, PeopleSoft FSCM 9.1.\\n\\nDescription   : \\tProject with Involves in the maintenance of PeopleSoft 9.1 FSCM Modules such as e-procurement, Purchase Order, Account Payable etc.\\n\\n\\n\\nResponsibilities:\\n\\n\\n\\n\\tInvolved in Customizations, Enhancements and also Product support activities like Jobs monitoring and working on incidents and Interact with On-site team to clarify requirements.\\n\\n\\tCustomized system applications and designed many applications from scratch.\\n\\n\\t\\n\\n\\tCustomized the Application by modifying the Records, Pages, using Application Designer to fulfill the Business user requirements.\\n\\n\\tTailored People Code to implement data validation. \\n\\n\\t\\n\\n\\t\\n\\n\\t\\n\\n\\t\\n\\n\\t\\n\\n\\t\\n\\n\\t\\n\\n\\tCreated PS queries as a part of business requirements. \\n\\n\\tInvolved in Enhancement to Create an Interface to Load Positive pay into PS Build in Staging Tables.\\n\\n\\tAlso Involved in Enhancement to create run control pages with GLBUs and to replace inactive GLBUs with Active GLBUs.\\n\\n\\tDone few customizations to delivered App Engine process AP-APY2015, which can be used for Create Payments for Vouchers.',\n",
       " b'SQL SERVER DEVELOPER\\n\\n\\n\\n\\n\\nPriyanka L              \\t\\t\\t                     \\n\\n\\n\\n\\n\\n\\n\\nProfessional summary:\\n\\n\\n\\n2.5 Years of Total Experience in MICROSOFT SQL SERVER development and \\n\\n1 year of experience in SSIS.\\n\\n\\n\\nKey highlights:\\n\\n\\n\\nStrong Knowledge in SQL COMMANDS like (DDL, DML, DCL, TCL) Operators.\\n\\nStrong Knowledge on SQL JOINS, SET OPERATORS and CONSTRAINTS.\\n\\nGood Knowledge on  STRING FUNCTIONS, DATE FUNCTIONS,\\n\\nAGGREGATE FUNCTIONS and RANK FUNCTIONS.\\n\\n\\t\\tExtensive experience with SQL Server in constructing  SUBQUERIES, COMMON TABLE EXPRESSIONS (CTE), RECURSIVE CTE, TEMP TABLES, TABLE VARIABLES, VIEWS with proper naming convention.\\n\\n\\t\\tGood Experience in T-SQL Concepts STOREDPROCEDURES, USER DEFINED FUNCTIONS.\\n\\n\\t\\tGood Knowledge on  SQL TRIGGERS (FOR TRIGGERS AND INSTEAD OF TRIGGERS)\\n\\n\\t\\t Knowledge on TCL and ERROR HANDLING.\\n\\n\\tGood Experience in creating INDEXES and PERFORMANCE TUNING.\\n\\n\\t\\t\\t\\t\\t\\t\\t\\t\\t\\t\\t\\t\\t\\t\\t\\tGood Knowledge on WHILE LOOPS, DYNAMIC SQL.\\n\\nExperience in Designing and coding database tables to store the application\\xe2\\x80\\x99s data\\n\\n\\t\\t\\t\\t\\t\\t\\t\\t\\t\\t\\t\\t\\t\\t\\t\\tGood knowledge on Loading data from file into database through SQL Import export \\n\\n\\t\\t\\t\\t\\t\\t\\t\\t\\t\\t\\t\\t\\t\\t\\t\\tWizard.\\n\\nGood knowledge on SLOWLY CHANGED DIMENSIONS (SCD1, SCD2).\\n\\nExperience in design and development of SSIS packages.\\n\\nExperience in Data Transformations like LOOKUP, DERIVED COLUMN, CONDITIONAL SPLIT, SORT, DATA CONVERSION, UNION ALL, MERGE JOIN, SCD, MERGE, MULTICAST, COPY COLUMN TO LOAD DATA INTO SQL SERVER DESTINATION.\\n\\n\\n\\nTechnical profile:\\n\\n\\t\\t\\tOperating Systems\\t\\t:\\tWindows 7.0\\n\\n\\tDatabases\\t\\t          :\\tSQL Server 2008,2012\\n\\n\\tETL\\t\\t\\t          :    \\tSSIS\\n\\n\\t\\n\\n\\tCareer profile:\\n\\nCurrently working as Software Engineer in Perigon Technologies Pvt Ltd from January 2019 to till date.\\n\\nEducation qualification:\\n\\nB. Tech from New Horizon college of engineering, Bangalore in 2019.\\n\\nProject summary:\\n\\nProject \\t\\t:    Health Care system \\n\\nClient\\t\\t\\t:    Cedars Sinai\\n\\nRole\\t\\t\\t:    SQL DEVELOPER\\n\\nDESCRIPTION:\\n\\nCedars is an application which maintains all the information about patient details; under this we have active Modules are Registration, Outpatient, Billing (OP Billing), Inpatient Billing (IP Billing), OT Modules etc. Cedars caters primarily to the professionals of Medical, visionary doctors, Nursing, Pharmacy, Physiotherapy, Paramedical, Allied Health, and the related fields. Major Service Offerings are in the fields of Healthcare and Medical Micro job and Journals Publishing, And Research & Publication Consultation and Assistance. We have been a part of your lives and have dispensed quality medical information related to all fields and diseases.\\n\\nResponsibilities:\\n\\nCoordinating the Developing activities with the development team And QA team.\\n\\n\\t\\tWritten stored procedures, functions and views.\\n\\n\\t\\tCreated Views on multiple tables in a database.\\n\\n\\t\\tUsed Table variables inside functions and stored procedures.\\n\\n\\t\\tWritten (CTE\\xe2\\x80\\x99s) and Sub queries for proper testing while debugging.  \\n\\n\\t\\tDeveloped SQL joins based on different conditions in order to meet requirements.\\n\\nImplemented Dataflow tasks like Lookup, Merge Join, Union all Execute Sql, Bulk Insert, for each loop container, Derived column, Conditional split, Data conversion, Sort, Merge, and Multicast.\\n\\nImplemented SCD-I.\\n\\nEnvironment: SQL server 2008,2012, Visual Studio 2015, Excel.\\n\\nDeclaration:\\n\\nI hereby declare that the above written particulars are true to the best of my knowledge and belief\\n\\n\\n\\nPLACE: Hyderabad\\t\\t\\t\\t\\t\\t\\t                    (Priyanka L)',\n",
       " b'Punugoti Swetha\\n\\nWorkday Technical Consultant\\n\\n\\n\\nPROFILE SUMMARY\\n\\n\\n\\n3.3 years of IT experience as Workday HCM Technical Consultant in Workday Support and Enhancement Projects.\\n\\nDeveloped and maintained custom-report types (Advanced, Matrix) using report writer tool.\\n\\nWorked on custom report and calculated fields, Schedule the reports as per client requirements.\\n\\nWorked on Alerts and Notification for reports.\\n\\nWorked on Report Transfers ownership task and removed unnecessary reports from schedules.\\n\\nWorked on Work-lets and Dashboards, Set up announcements, set up Hyperlink to help on account.\\n\\nDeveloped Core connector and Document Transformation integrations to get changes file of CSV format from XML Output.\\n\\nGood experience with Core Connector worker to work on employee demographics and build Benefit integrations and Account provisioning integrations.\\n\\nCreated Inbound/Outbound integrations using workday studio, core/cloud connectors,\\n\\nusing EIB\\xe2\\x80\\x99s, document transformation process.\\n\\nDesign, build or maintain integrations of all types: reports, EIB, Core Connectors, payroll connectors, and Studio.\\n\\nWorked on BIRT report, created BIRT report as per client requirement like change the view of report\\n\\nUsed delivered ETV/XTT functions from a Custom XSLT file to transform the content into a CSV file format.\\n\\nWorked on Employee Type and Contract type for local and global (Different countries).\\n\\nWorked on Business Process Level security and Domains level security.\\n\\nInteract with clients and vendor on a regular basis for gathering/clarifying business requirements, testing and deployment.\\n\\nWorked on Delegation, Reassignments, Shift Creation, and Dashboard\\n\\n\\n\\n\\n\\nEMPLOYMENT DETAILS\\n\\n\\n\\nWorking as Workday Consultant in FireEye, Bangalore From June 2018 to Till Date\\n\\n\\n\\n\\n\\nSKILLS\\n\\n\\n\\nWorkday Skills\\n\\nReport Writer, Core HCM, Business process, Security, EIB, Core connector, DT, Basic Studio, Birt\\n\\nProgramming Languages\\n\\nXML,XSLT\\n\\n\\n\\nCAREER CONTOUR\\n\\n\\n\\nProfessional Experience:\\n\\n\\n\\n\\tCompany\\t: FireEye\\n\\n\\tRole\\t: Workday Consultant\\n\\n\\tDuration\\t: June 2018 \\xe2\\x80\\x93 Till Date\\n\\n\\tProject\\t: Workday Support and Enhancement\\n\\n\\n\\nDescription:\\n\\n\\n\\nFireEye is a publicly traded cybersecurity company headquartered in Milpitas, California. It has been involved in the detection and prevention of major cyber attacks. It provides hardware, software, and services to investigate cybersecurity attacks, protect against malicious software, and analyze IT security risks.\\n\\n\\n\\nResponsibilities:\\n\\n\\n\\nGathering the client business requirements and configure the Workday solution\\n\\nEstimation and planning for Change Request (CR) execution\\n\\nDeveloped Core connector and Document Transformation integrations to get changes file of CSV format from XML Output.\\n\\nGood experience with Core Connector worker to work on employee demographics and build Benefit integrations and Account provisioning integrations.\\n\\nCreated Inbound/Outbound integrations using workday studio, core/cloud connectors,\\n\\nusing EIB\\xe2\\x80\\x99s, document transformation process.\\n\\nDesign, build or maintain integrations of all types: reports, EIB, Core Connectors, payroll connectors, or Studio.\\n\\nWorked on fixing the issues based on client requirement.\\n\\nResponsible for scheduling the related interface programs and Monitoring them timely basis\\n\\nUsed delivered ETV/XTT functions from a Custom XSLT file to transform the content into a CSV file format.\\n\\nCreated design and technical documents.\\n\\nConfiguring Delivery Service, Sequence Generators and Business Process Definitions for Integration systems.\\n\\nWorked with Onshore coordinators for requirements gathering.\\n\\nProviding Daily status reports to onshore managers and handling other project management activities such as Daily Status discussion, reporting, work assignments.\\n\\nModifications and implementing multiple enhancements to existing Integrations, Custom Reports, Calculated field and XSLT.\\n\\nExperience in creating all kinds of custom reports like Simple and Advanced.\\n\\nWorked on Security Groups, Configured User based security group, Role Based security groups and created intersection security group.\\n\\nWorked on Business Process Level security and Domains level security.\\n\\n\\n\\n\\n\\nSCHOLASTICS\\n\\n\\n\\n\\tBachelor of Technology(B.Tech),\\tQIS College Of Engineering And Technology in 2018 affiliated to JNTUK University.\\n\\n\\n\\nPERSONAL DETAILS\\n\\n\\n\\n\\tName\\tSwetha\\n\\n\\tGender\\tFemale\\n\\n\\tNationality\\tIndian\\n\\n\\tLanguages Known\\tEnglish and Telugu\\n\\n\\n\\n\\n\\nI hereby declare that all the details and particulars furnished above are true to the best of my knowledge.\\n\\n\\n\\nBest Regards, Swetha.',\n",
       " b'FULLSTACK SOFTWARE DEVELOPER / WEB DEVELOPER\\n\\nPavas Goswami\\n\\n\\n\\n\\n\\nPROFILE\\n\\nSearching for the opportunity to bring 3+ years of experience with software developing, technology engineering, designing, and maintenance to cater to the specific needs of the people with critical thinking, problem-solving, and leadership.\\n\\n\\nCORE SKILLS AND PROGRAMMING LANGUAGES\\n\\n\\n\\n\\t  JAVA\\t                                                                JAVASCRIPT\\t                                                         MySQL\\t\\n\\nSPRING BOOT\\n\\n\\n\\n\\n\\n\\n\\n\\nREACT.JS ANGULAR\\n\\nCSS3/Bootstrap HTML5\\n\\n\\n\\nPERSONAL DETAILS\\n\\nBirth date\\n\\n05-APR-1991\\n\\nNationality\\n\\nINDIAN\\n\\nAddress\\n\\n\\n  Node.js\\n\\n\\n\\n  MICROSERVICES\\n\\n\\n\\n\\n\\nWORK EXPERIENCE\\n\\n\\n\\nSoftware Engineer\\n\\nBRAINO SERVICES, NEW DELHI\\n\\n\\n   MongoDB AWS/AZURE\\n\\n\\n\\n\\n\\n\\n\\n\\n\\n\\n\\n\\n\\n\\nFeb 2019-PRESENT\\n\\n\\n\\nKailash Nagar, Vrindavan, UP-281121\\n\\n\\n\\nCONTACT\\n\\n\\n\\n\\n\\n\\nReport iCredit System: In this project there is multiple data stream that keeps on dumping data in our Oracle database. These are the financial data from different sources. Our responsibility is to capture data from the oracle database, apply the business rules, and further expose them to a spring boot based on the REST-API endpoint. The React.js application consumes it with the help of AG Grid shown using beautiful UI.\\n\\nRegular users can perform multiple operations like update/delete data. They have read-only permission for the report, but the admin has the power to refresh it. This project is specifically for the investors. Based on these reports, they are suggesting investment decisions to their client.\\n\\nWebsite Developer (UI/UX DESIGNER)\\n\\n\\n\\nMember of IAENG (International\\n\\n\\nFREELANCER\\n\\n\\n2019-PRESENT\\n\\n\\n\\n  Association of Engineers): 197174\\n\\n\\n\\n\\n\\n\\nI design and develop e-commerce dynamic websites for clients, Learning Management Systems for schools, Fundraiser websites for NGOs using HTML/CSS/JavaScript/Adobe XD/Figma.\\n\\nAssistant Professor\\n\\n\\n\\nNARAINA VIDYAPEETH ENGINEERING & MANAGEMENT INSTITUTE, KANPUR\\n\\n\\tProject Supervised at UG level: Design of GSM-based vehicle theft control system.\\n\\n\\n2017-2019\\n\\n\\n\\n\\tSubjects Taught at UG level: EMFT, Digital Communication, Wireless Communication, Digital Signal Processing, Data Communication and Networks.\\n\\n\\n\\nM.Tech Project (Thesis)\\n\\nDESIGN AND ANALYSIS OF LI-FI SYSTEM\\n\\n\\n\\n\\n\\n\\n\\n\\n\\n\\n2017\\n\\n\\n\\n\\tPublication: P. Goswami, and M. Shukla, \\xe2\\x80\\x9cDesign of a Li-Fi Transceiver\\xe2\\x80\\x9d, Wireless Engineering and Technology, Vol.8 No.4, October 2017, pp 71-86. Doi: 10.4236/wet.2017.84006.\\n\\n\\tINDEXING: The 2-year Google-based Journal Impact Factor (2-GJIF) is 1.88. The published paper has got 17,329 downloads & 26,387 views as of July 2021\\n\\n\\n\\nB.Tech Major Project\\n\\n\\n\\nOFDM WIRELESS COMMUNICATIONS (MATLAB SIMULATIONS)\\n\\n\\tTeam leader of a team of 4 members.\\n\\n\\tEnvironment: MATLAB\\n\\n\\n2013\\n\\n\\n\\n\\tDescription: OFDM is the key technology for next-generation cellular communications as well as wireless LAN and broadcasting. Using MATLAB, simulation of wireless channel modelling, MIMO channel modelling, MIMO channel capacity, PAPR reduction techniques are presented.\\n\\n\\n\\nINTERNSHIP\\n\\n\\n\\nBHARAT SANCHAR NIGAM LIMITED (BSNL), KANPUR\\n\\n\\tProject Titled \\xe2\\x80\\x98Broadband Communication\\xe2\\x80\\x99.\\n\\n\\n2012\\n\\n\\n\\n\\tHands-on experience and learned how to work with different splicing tools used in fibre optics.\\n\\n\\n\\nEDUCATION\\n\\n\\n\\nM.Tech (Electronics and Communication Engineering)\\n\\n\\n\\nHARCOURT BUTLER TECHNICAL UNIVERSITY (HBTU), KANPUR.\\n\\n2015-2017\\n\\nB.Tech (Electronics and Communication Engineering)\\n\\n\\n\\nMAHARANA PRATAP ENGINEERING COLLEGE, KANPUR AFFILIATED TO UTTAR PRADESH TECHNICAL UNIVERSITY (UPTU).\\n\\n2009-2013\\n\\nIntermediate\\n\\n\\n\\nSUN BEAMS SCHOOL, UP BOARD, KANPUR\\n\\n2009\\n\\nHigh School\\n\\n\\n\\nSUN BEAMS SCHOOL, UP BOARD, KANPUR\\n\\n2007\\n\\n\\n\\n\\n\\nGRADUATE APTITUDE TEST IN ENGINEERING (GATE)\\n\\n\\n\\nQualified GATE exam with a score of 605 and GATE percentile of 98.47 in 2015.\\n\\n\\n\\nNPTEL CERTIFICATION COURSE\\n\\n\\n\\n\\xe2\\x80\\x9cIntroduction to Programming in C\\xe2\\x80\\x9d with a percentile score of 89% from IIT Kanpur in 2014.\\n\\n\\n\\n\\n\\n\\xe2\\x80\\x9cBasic Electrical Circuits\\xe2\\x80\\x9d with a percentile score of 94% from IIT Madras in 2014\\n\\n\\n\\n\\n\\n\\tSKILLS & STRENGTH\\tHOBBIES\\n\\n\\n\\n\\n\\n  Adaptability and willingness to learn.    Leadership qualities and team spirit.\\n\\nSense of Responsibility.\\n\\n\\n   Singing\\n\\n\\n\\n   Watching Sci-Fi movies    Gaming\\n\\nPC building',\n",
       " b'HIMA.MENDU\\n\\n\\t  \\n\\n\\n\\nCareer Objective\\n\\nTo continue growing in knowledge and skills in cloud-based HR solutions by beginning with challenging Workday assignments which would value add to the organization and my professional merit.\\n\\n\\n\\nCareer Stream - Current\\n\\n\\n\\nWorking on Workday HCM based production support assignment handling both functional and integration tickets. \\n\\n\\n\\n\\n\\nMy Growth Path\\n\\n\\n\\nWorking as workday consultant at Accenture, Hyderabad from Jan 2018 till date (Parent Company- I-Fact Technologies).\\n\\nWorked as HR Executive Q Ventures pvt Ltd, Hyderabad from April 2011 to Dec 2014.\\n\\nMaternity Leave from January 2015 to Dec 2017.  \\n\\n\\n\\n    \\n\\nProfessional Summary      \\n\\nHR Systems - ERP (Workday)                      \\n\\n                                                                                             \\t\\t\\t  \\n\\nKnowledge in Workday Functional concepts (Events, Tasks & Business Processes related to Core HCM) including Supervisory Organizations, Jobs & Positions, Business Processes and Compensation.\\n\\nIn-depth understanding of Workday HCM components encompassing Management Hierarchies, Location, Organization Types like Company, Cost Center, Region, Matrix Organization, Custom Organization etc.,\\n\\nProficient with Workday Compensation including Eligibility Rule setup, Grades & Grade Profiles, Salary & Allowance Plans, Bonus / Stock Plans and grouping into Compensation Packages.\\n\\nPracticed Report Writer, Creation of Calculated Fields and Custom Reports.\\n\\nSkilled in simple Integrations (Inbound and Outbound) through Core Connectors & EIB.\\n\\nAbility in building EIB Outbound Integration System with Get Data-Transform-Deliver Model.\\n\\n\\n\\n\\n\\nCareer Stream - HR Systems - ERP Consulting (Workday)\\n\\n\\n\\nWorkday HCM Techno-Functional Consultant from Jan 2018 till date     \\n\\nOrganization \\xe2\\x80\\x93 Accenture, Hyderabad.                                                                                                                                \\n\\nClient & Engagement - Confidential\\n\\n\\n\\nRoles and Responsibilities \\n\\nCreation and maintenance of Workday Supervisory Organizations, Locations, Positions, Organization Types, Hierarchies and Assignments.\\n\\nWorking with different staffing models, defining hiring restrictions to Position, Job and Headcount Management.\\n\\nInvolving in enhancements and post-production support activities. \\n\\nWorkday HCM Functional: Core Organization Setup, Business Process and Compensation Configuration, in few instances assisting security team to configure Workday Security.\\n\\nIntegration: Maintenance and modification of Enterprise Interface Builder (EIB).\\n\\nCreating custom calculated fields for different business scenarios and built condition rules based on client requirements.\\n\\nDeveloping complex custom reports, converting simple to advanced reports and incorporating calculated fields, using advanced filtering options including grouping and outlining while deploying related business objects.\\n\\n \\n\\nCareer Stream \\xe2\\x80\\x93 HR Executive\\n\\n\\n\\nWorked as HR Executive from April 2011 to Dec 2014\\n\\n    \\n\\nOrganization \\xe2\\x80\\x93Q Ventures pvt Ltd, Hyderabad \\n\\n\\n\\n\\n\\nRoles and Responsibilities\\n\\n\\n\\nThe following are job Responsibilities of HR Executive \\xe2\\x80\\x93\\xc2\\xa0\\n\\n\\nRecruitment \\xe2\\x80\\x93\\xc2\\xa0\\n\\n  1. Job Description,\\xc2\\xa0\\n  2. Identify the Competencies required,\\n  3. Identify the source for hiring,\\xc2\\xa0\\n  4. Interview the candidate,\\xc2\\xa0\\n  5. Coordinate the interview with the respective department and\\n  6. If selected, complete the documentation.\\n\\n\\nOperations -\\xc2\\xa0\\n  1. Joining formalities.\\n  2. Handling Employee Database (Both in Soft Form and Files Management)\\n  3. Leaves and Attendance Management\\n  4. Confirmations, Performance Appraisals, Performance Management\\n  5. Exit-Interviews\\n\\n\\nEmployee Relations -\\xc2\\xa0\\n  1. Handling all the queries of the employees. Be it related to Salary, Leaves, Attendance, and Transfer etc.\\n  2. They are also expected to explain the various policies, strategies and benefits to employees.\\n  3. They are expected to stop all type of rumours and misleading communications.\\n  4. They should motivate the employees on day-to-day basis.',\n",
       " b\"Maryala Vinay Reddy\\n\\n\\n\\n\\tProfessional Summary:\\t\\n\\n\\n\\nHaving 2 years of successful IT experience in all phases of Software Development Life Cycle (SDLC) as a React.JS Developer and JavaScript.\\n\\n\\n\\nProfessional Experience:\\n\\nExperience in design and configuration for implementation, development, maintenance and support as a React.JS Developer to meet business needs. \\n\\nGood working knowledge on React Hooks, JavaScript, HTML.\\n\\nDeveloping new user-facing features using React.js\\n\\nBuilding reusable components and front-end libraries for future use.\\n\\nStrong proficiency in JavaScript, including DOM manipulation.\\n\\nThorough understanding of React.js and its core principles\\n\\nFamiliarity with newer specifications of ECMA Script\\n\\nA proactive learner for adopting emerging trends and addressing industry requirements to achieve the organizational objectives.\\n\\nGood communication, presentation and interpersonal skills.\\n\\n\\t\\n\\nProject Experience:\\n\\n\\t\\t\\n\\nPROJECT :1\\n\\n\\n\\nTitle                           : simplify Application\\n\\nOrganizer                  : Metrolabs Services Pvt ltd.\\n\\nDesignation              :  UI Developer\\n\\nTechnologies            : REACTJS, HTML5, CSS3, JAVASCRIPT\\n\\nsummary:-\\n\\nIt is an end to end project tracking web application for EPC companies. \\n\\nthere are many stake holders in the project such as project manager, warehouse manager, on-site engineering and supervisor \\n\\nEach one of them have a different user interface. The application has many modules such as \\n\\nConstruction planning, Procurement,Optimization billing of material, inventory and construction engineering.   \\n\\nIt helps in process Optimization and Process Parallelization. \\n\\nMy part in this Application is planning modules and Optimization, billing of material, inventory and construction engineering.\\n\\n\\n\\n My Roles & Responsibilities: \\n\\nResponsible for understanding  user requirements, designing and developing application. \\n\\n  \\n\\n\\n\\nPROJECT:2\\n\\n\\n\\nTitle                   :  Healthy Chef Creations\\n\\nOrganizer          :  AMBESTTECH SOLUTIONS\\n\\nRole                   :  Front-end Developer\\n\\nTechnologies     :  HTML5, CSS3, JavaScript\\n\\nSummary     :  Healthy Chef Creations is one the organic food provide and menu application. The customers one who wants the organic food diet menu he should register through signup page and login and order the raw materials. And who wants menu and what is Healthy Chef Creations just they can open the home page and see their details.\\n\\n\\n\\n\\n\\nWorking Experience:\\n\\n\\tWorking as a UI Developer for METROLABS SERVICES PVT. LTD. from July 2020 -Present.\\n\\n\\tWorked as a Front-end Developer for AMBESTTECH SOLUTION from October 2019 \\xe2\\x80\\x93 \\n\\n\\tJune 2020.\\n\\n\\t\\n\\n\\t\\n\\n\\t\\n\\nTechnical Proficiency:\\n\\n\\tWeb Technologies    :  HTML, JavaScript, Bootstrap.\\n\\n\\tLibraries                     :  ReactJS ,Hooks and Redux(Knowledge).\\n\\n\\t\\tStyle Sheets                :   CSS3 and SASS (Knowledge).\\n\\n\\n\\n\\tEducational Profile:\\n\\nJawaharlal Nehru Technological University Hyderabad \\n\\nBachelor's Degree in EEE Branch 2018\\n\\n\\n\\n\\n\\nDeclaration: I hereby declare that all the details furnished above are true to the best of my knowledge and belief.\\n\\n     Hyderabad                                                                                                                                       \\n\\n                                                                                                                                      Vinay Reddy\",\n",
       " b'CURRICULUM VITAE\\n\\n\\n\\n\\n\\n\\n\\nAnjani Priyadarshini\\n\\nSr. Web Developer / React\\n\\n\\n\\n\\n\\n\\n\\n\\n\\nPersonal Details:\\n\\nDOB\\xc2\\xa0: 05-09-1985\\n\\nSex\\xc2\\xa0: Female \\n\\nNationality : Indian\\n\\nCity\\xc2\\xa0:\\xc2\\xa0Hyderabad \\n\\n\\n\\n\\n\\n\\n\\nObjective\\n\\n\\n\\nTo acquire a position in a company that would allow me to be creative and keep me challenged with various web projects that require employing the latest trends and technologies.\\n\\n\\n\\nEmploying my passion on a multitude of design work, especially online design & develop!\\xc2\\xa0Enable to constantly learn, develop in varying areas of web development.\\n\\n\\n\\nHaving  9+ years of experience in development of Web applications using HTML 5 Sass, JavaScript and other frame works like Angular 2+, React Js Bootstrap, materialize css. Aspiring for a career in a professional organization where I can apply my varied thoughts for the fulfillment of the organization objectives and to scale greater heights along with the organization.\\n\\n\\n\\nEducation\\n\\n\\n\\nCompleted BA from Kasturba Gandhi college in 2005, with an aggregate of 61.26% from Osmania       University.\\n\\n\\n\\nSkill Set\\n\\n\\n\\nSkilled in:\\n\\n\\n\\nHTML\\n\\nHTML5\\n\\nCSS\\n\\nCSS3\\n\\nPhotoshop CS6\\n\\nDreamweaver CS6\\xc2\\xa0\\n\\nW3C Standards\\n\\nXHTML\\n\\nReact Frameworks\\n\\nMobile Website Designs/Development\\n\\nIllustrator CS6\\n\\nResponsive\\n\\nTemplate Designs\\n\\n\\n\\n\\n\\n\\n\\n\\n\\n\\xc2\\xa0Knowledgeable in:\\n\\n\\n\\nJQuery\\xc2\\xa0\\n\\nJavaScript\\n\\nBootstrap Framework\\n\\nFoundation Framework\\n\\nWordpress Framework\\n\\nEclipse\\n\\nCorelDraw X5\\n\\nJQuery Mobile themes \\n\\n\\n\\nMac xcode\\n\\nResponsive Design  \\n\\n\\n\\n\\n\\nWork Experience\\n\\n\\n\\nCompany\\n\\n:\\n\\nQUAQUA Tavel Experiences pvt,Ltd.\\n\\nCurrent Position\\n\\n:\\n\\nSr. Web Developer\\n\\nDuration\\n\\n:\\n\\nDec 2017 to till date \\n\\nResponsibilities\\n\\n:\\n\\nHTML , Responsive web designing, React components, Quality Analyst etc. \\n\\nProject\\n\\n\\n\\nTitle \\xe2\\x80\\x93  Quaqua Product \\n\\n\\n\\nRole \\xe2\\x80\\x93 Sr.Software Engineer \\n\\n\\n\\nTeam Size - 3\\n\\n\\n\\nTechnologies \\xe2\\x80\\x93React, HTML 5, CSS 3.\\n\\n\\n\\nDescription: \\n\\nQuaQua is a digital experience platform that integrates 360-degree virtual reality content for the global travel and tourism industry.\\xc2\\xa0\\xc2\\xa0\\n\\nWe strive to translate world\\'s travel experiences into captivating 360 videos and AR/VR stories to provide real and immersive end to end travel experiences.\\n\\n\\n\\nResponsibilities. \\n\\nResponsible for the architecture design and involved in high and low-level design of the individual components. Responsible for setting coding standards in the application.\\n\\n\\n\\nWorking with Team in Implementing and taking the In Charge for Quality Testing.\\n\\n\\n\\nExperience in working with\\xc2\\xa0Angular 2/4\\xc2\\xa0modules, services, templates, directives, services and dependency injection to create a\\xc2\\xa0SPA.\\n\\nHands on Experience on\\xc2\\xa0Angular CLI\\xc2\\xa0(Command line Interface).\\n\\nExpertise in using\\xc2\\xa0React JS\\xc2\\xa0components, Forms, Events, Keys, Router concept.\\n\\nWorked on some of the new features of\\xc2\\xa0Angular 4\\xc2\\xa0like new if else syntax, ng-templates, form validators.\\n\\nKey Challenges \\n\\n\\t\\tWorked on new frame work with the support of a Technical Lead.\\n\\n\\t\\t\\n\\n\\n\\nWebsites & Mobile sites\\n\\n\\n\\nhttps://www.quaqua.com/\\n\\nhttps://m.quaqua.com/\\n\\n\\n\\n\\n\\nWork Experience\\n\\n\\n\\n\\n\\n\\n\\n\\n\\nCompany\\n\\n:\\n\\nPurpleTalk India (p) ltd,  Hyderabad  \\n\\nCurrent Position\\n\\n:\\n\\nFront End Developer/ UI designer\\n\\nDuration\\n\\n:\\n\\nDec 2011 to Oct 2017 \\n\\nResponsibilities\\n\\n:\\n\\nDesigning of web sites, Mobile apps, Web sites and applications, Html Works, Responsive, Browser Compatibility, UI Designs, etc. \\n\\nProjects\\n\\n\\n\\nTitle \\xe2\\x80\\x93  GE \\xe2\\x80\\x93 Knowledge Sharing \\n\\n\\n\\nRole \\xe2\\x80\\x93 Sr.UI  Developer\\n\\n\\n\\nDuration \\xe2\\x80\\x93 October 2016 \\xe2\\x80\\x93 September 2017\\n\\n\\n\\nTeam Size - 4\\n\\n\\n\\nTechnologies \\xe2\\x80\\x93Angular JS , Javascript, HTML 5, CSS 3.\\n\\n\\n\\nDescription: \\n\\nThis is a group of GE internal applications which consists of a mobile application and\\n\\nfew web applications which are used to view the statistics of the corresponding device or requirement.\\n\\n\\n\\n\\n\\nResponsibilities. \\n\\nWorking to modify the existing code base as per the clients need and guiding the team which work on other web application. Make the code reviews and optimize the code for better maintain and performance of the app. Created Webparts in share point using share point designer \\n\\n\\n\\nKey Challenges \\n\\nWorked on new frame work with the support of a Technical Lead. \\n\\n\\n\\n\\t\\t\\n\\n\\t\\t\\n\\n\\t\\tProject -2\\n\\nTitle \\xe2\\x80\\x93  Magellan \\n\\n\\n\\nRole \\xe2\\x80\\x93Module Lead\\n\\n\\n\\nDuration \\xe2\\x80\\x93 Feb 2015 \\xe2\\x80\\x93Aug 2016\\n\\n\\n\\nTeam Size - 4\\n\\n\\n\\nTechnologies \\xe2\\x80\\x93CSS,\\xc2\\xa0 Java Script, Web Services, Android and IOS/ web application.\\n\\n\\n\\nDescription: \\n\\nWe move beyond the traditional by delivering behavioral health and employee assistance program services; specialty health, including musculoskeletal, cardiac, advanced imaging management and physical medicine; and integrated care management to health plans, employers, Medicaid, Medicare and the Federal government.\\n\\n\\n\\n\\n\\nResponsibilities. \\n\\nResponsible for the architecture design and involved in high and low-level design of the individual components. Responsible for setting coding standards in the application.\\n\\n\\n\\nWorking with Team in Implementing and taking the In Charge for Quality Testing.\\n\\n \\n\\n\\n\\nKey Challenges \\n\\nWorked on Issues related to Process flow Orchestration Module where the entire business is depended.\\n\\n\\n\\n\\n\\nMain Contribution \\n\\nClient Implementation work is handled. Implemented as per the client requirements. Also involved in code review. Played an active role as mentor for group of developers.\\n\\n\\n\\n\\t\\t\\n\\n\\t\\tProject -3\\n\\nTitle \\xe2\\x80\\x93 UHCOMW\\xc2\\xa0\\xc2\\xa0\\xc2\\xa0\\xc2\\xa0\\xc2\\xa0\\xc2\\xa0\\xc2\\xa0\\xc2\\xa0\\xc2\\xa0\\xc2\\xa0\\xc2\\xa0\\xc2\\xa0\\xc2\\xa0\\xc2\\xa0\\xc2\\xa0\\xc2\\xa0 \\xc2\\xa0\\xc2\\xa0\\xc2\\xa0\\xc2\\xa0\\xc2\\xa0\\xc2\\xa0\\xc2\\xa0\\xc2\\xa0\\xc2\\xa0\\xc2\\xa0 \\xc2\\xa0\\xc2\\xa0\\xc2\\xa0\\xc2\\xa0\\xc2\\xa0\\xc2\\xa0\\xc2\\xa0\\xc2\\xa0\\xc2\\xa0\\xc2\\xa0\\xc2\\xa0\\xc2\\xa0\\xc2\\xa0\\xc2\\xa0\\xc2\\xa0\\xc2\\xa0\\xc2\\xa0\\xc2\\xa0\\xc2\\xa0\\xc2\\xa0\\xc2\\xa0\\xc2\\xa0\\xc2\\xa0\\xc2\\xa0\\xc2\\xa0\\xc2\\xa0\\xc2\\xa0\\xc2\\xa0\\xc2\\xa0\\xc2\\xa0\\xc2\\xa0\\xc2\\xa0\\xc2\\xa0\\xc2\\xa0\\xc2\\xa0\\xc2\\xa0\\xc2\\xa0\\xc2\\xa0\\xc2\\xa0\\xc2\\xa0\\xc2\\xa0\\xc2\\xa0\\xc2\\xa0\\xc2\\xa0\\xc2\\xa0\\xc2\\xa0\\xc2\\xa0\\xc2\\xa0\\xc2\\xa0\\xc2\\xa0\\xc2\\xa0\\xc2\\xa0\\xc2\\xa0\\xc2\\xa0\\xc2\\xa0\\xc2\\xa0\\xc2\\xa0\\xc2\\xa0\\n\\n\\n\\nRole \\xe2\\x80\\x93  Sr Developer\\n\\n\\n\\nDuration \\xe2\\x80\\x93 March 2013 \\xe2\\x80\\x93 Feb 2015\\n\\n\\n\\nTeam Size - 6\\n\\n\\n\\nTechnologies \\xe2\\x80\\x93CSS,\\xc2\\xa0 Java Script, Web Services, Team Foundation Server 2010.\\n\\n\\n\\nDescription:                      \\n\\nIf you\\xe2\\x80\\x99re a teen or young adult who\\'s getting ready to live on your own, UnitedHealthcare OMWTM\\xc2\\xa0(UnitedHealthcare On My Way) is for you. You\\xe2\\x80\\x99ll learn what it takes be independent. Like finding housing, getting a good job, managing your money \\xe2\\x80\\x93 and more. It\\xe2\\x80\\x99s easy. It\\xe2\\x80\\x99s fun. And it\\xe2\\x80\\x99s all right here.\\n\\n\\n\\nMain Role generating Icon Fonts. Converting forms into pdf online generator.  Unit Testing the project before Uploading  to the sever.\\n\\n\\n\\nArchitecture Details \\n\\nThis project was implemented in multi-languages Using Bootstrap frame work and Javascript. \\n\\n\\n\\nResponsibilities. \\n\\nResponsible for on time delivery for client. Giving Appropriate Estimations for the required Project paln.  Design and involved in high and low-level design of the individual components. Responsible for setting coding standards in the application.\\n\\n \\n\\n\\n\\nKey Challenges \\n\\nPerformance tuning of the queries and created an mobile application and Responsive web site..\\n\\n\\n\\nMain Contribution \\n\\nImplemented functionality of a classic website to the Current website ,which will decrease the maintenance cost of the application to the organization.\\n\\n\\n\\nAlso involved in code review. Played an active role as mentor for group of developers.\\n\\n\\n\\n\\n\\n\\n\\nProject \\xe2\\x80\\x93 4\\n\\n\\n\\nTitle \\xe2\\x80\\x93 Option Monster\\n\\n\\n\\nRole \\xe2\\x80\\x93 Sr UI Developer \\n\\n\\n\\nDuration \\xe2\\x80\\x93 July 2012 \\xe2\\x80\\x93 February 2013\\n\\n\\n\\nTeam Size - 4\\n\\n\\n\\nTechnologies \\xe2\\x80\\x93 HTML 5 CSS3, Mobile and Web Application, Jquiry Mobile /UI\\n\\n\\n\\nDescription:\\n\\n\\n\\nIt\\xe2\\x80\\x99s all about Trade marketing . It is a Cross-platform App. Built in jQuery Mobile framework takes the \"write less, do more\" mantra to the next level: Instead of writing unique applications for each mobile device or OS, the jQuery mobile framework allows you to design a single highly branded responsive web site or application that will work on all popular smartphone, tablet, and desktop platforms.\\n\\n\\n\\n\\n\\nArchitecture Details \\n\\nThis project was implemented in Day and Night based on Theme Roller in jQuery UI.\\n\\n\\n\\nResponsibilities. \\n\\nResponsible for the architecture design and involved in high and low-level design of the individual components. Responsible for setting coding standards in the application. \\n\\n\\n\\n\\n\\nKey Challenges \\n\\nPerformance tuning of the queries. Also created UI/UX . Designing for Android and IOS applications also for responsible view.\\n\\n\\n\\nMain Contribution \\n\\nAlso involved in Design review. Played an active role as mentor for group of developers.\\n\\n Co-ordinating with the Team.\\n\\n\\n\\n\\n\\n\\n\\nProject \\xe2\\x80\\x93 5 \\n\\n\\n\\nTitle \\xe2\\x80\\x93 rockfordfosgate.com\\n\\n\\n\\nRole \\xe2\\x80\\x93 UI Developer\\n\\n\\n\\nDuration \\xe2\\x80\\x93 Dec 2011 \\xe2\\x80\\x93 June 2012 \\n\\n\\n\\nTeam Size - 2\\n\\n\\n\\nTechnologies \\xe2\\x80\\x93 Photoshop cs, Illustrator, Icon Conversion.\\n\\n\\n\\nDescription:\\n\\n\\n\\nROCKFORD FOSGATE AUDIO FOR FANATICS!\\n\\nFor over 35 years Rockford Fosgate has made lifestyle products that deliver the best audio experience in cars, boats, and recreational vehicles. We build our car audio subwoofers, car speakers and car amplifiers to fit your ride and music taste, while we design our moto-marine products to be element ready solutions for marine audio, motorcycle audio and UTV audio systems.\\n\\n\\n\\n\\n\\nArchitecture Details \\n\\nThis project was implemented in Photoshop for designing. Logo designing and icon creations in Illustrator. \\n\\n\\n\\nResponsibilities. \\n\\nInvolved in Designing and back-end Development with wireframe supporting and design Guide lines. Developing and maintaining a project Plan. Working with mentor to ensure the project meets its business needs and delivery in time.\\n\\n\\n\\nMain Contribution \\n\\nWorked on Unit Testing and Design QC with in the Team.\\n\\n\\n\\nDesign Qualities\\n\\n\\n\\nHighly passionate\\xc2\\xa0\\n\\nDetermined\\n\\nSelf Motivated\\xc2\\xa0\\n\\nAble to work under pressure\\n\\nThinking out of box\\n\\nOffer varying styles\\n\\n\\n\\n\\n\\nPersonal Qualities\\n\\n\\n\\nFriendly\\n\\nHardworking\\n\\nWillingness to Learn\\xc2\\xa0\\n\\nOptimistic\\n\\n\\n\\nHobbies/Interest\\n\\n\\n\\nAnything Design related                      \\n\\nTechnology\\n\\nMusic\\n\\nMaking friends\\n\\n\\n\\n\\n\\n\\n\\n\\n\\nI hereby declare that the above-mentioned particulars are true to my knowledge.\\n\\n\\n\\nPlace: Hyderabad \\t\\t\\t\\t\\t\\n\\n\\nDate: \\t\\t\\t\\t\\t\\t\\t\\t(Anjani Priyadarshini)',\n",
       " b'Shireesh Balasani                                                                                                                                                  \\n\\n\\tHCM Consultant                                                                                                                                \\n\\n  \\n\\nPROFILE SUMMARY:\\n\\nHCM Tester and Consultant with 10 plus years of experience into WORKDAY, ZENEFITS and HR Activities, which includes hands on Experience in Workday Functional and Technical for more than 4 years. \\n\\nExperience on E2E on Benefits, OE, Time tracking and Absence Modules and HR Transformations.\\n\\nHaving experience in Functional testing on Benefits, Time Tracking and Absence.\\n\\nExperience in Define, build and implement enhancements to HR/P&O processes and structures that will improve the P&O function\\xe2\\x80\\x99s alignment to business objectives and ability to help drive business results. \\n\\nOwned/Participated in the following key activities: Release Management, Regression Testing, Tenant Management, Data Upload, Major Outage/Communication/Updates and Incident Management. Manage Application Life Cycle services with WD. Mentor team members and processes. \\n\\nEnsured system designs adhere to solution architecture design (i.e. high-level conceptual design) and are traceable to functional as well as non-functional requirements in projects/enhancements. \\n\\nEnsured the overall user experience is taken into account when designing new solutions and services are peer reviewed, formally detailed and signed off by business.\\n\\n Ensure system design standards are defined to improve and sustain standardization of solutions adhere to architectural roadmap and support the development, execution and operations of solutions. Core Workday Competencies (knowledge and skills).\\n\\nExperience in EIBs, Core Connector Worker, Payroll Common Interface Output file, Report Writer and creating inbound & outbound Integrations. including, Custom Reports Calculated Fields, Simple & Advanced, Standard Reports \\n\\n\\n\\nWork Experience\\n\\nWorking as HCM Consultant Dev IT-Infosys Ltd (C2H) from August 2020 to Present.\\n\\nWorked as workday Consultant Eron Infoways Pvt Ltd from April 2017 to  August 2020\\n\\nWorked as Workday HCM-HR operations in Eron Infoways Pvt Ltd from November 2015 to March 2017.\\n\\nWorked as HRIS Administrator in Tachus Software Solutions from Sep 2010 to Oct 2015.\\n\\n\\n\\nKnowledge and skillset:\\n\\n\\tERP Packages              :   Workday HCM, ZENEFITS\\n\\n\\tWorkday skills            :   Workday HCM and Integrations, Workday Report Writer, \\n\\n\\t                                              EIB, Core Connectors, PICOF.\\n\\n\\tTicketing Tool             :  Service Now\\n\\nOperating Systems    :   Windows 2008/2012/XP/Vista/7/8\\n\\n\\n\\nEducation qualification:\\n\\nOsmania University College of Commerce & Business Management, Hyderabad \\xe2\\x80\\x94 MBA Finance Special Elective June 2009-June 2010.\\n\\nOsmania University College of Commerce & Business Management, Hyderabad \\xe2\\x80\\x94 MBA HR and Marketing Aug 2007 - May 2009\\n\\n\\n\\nProfessional experience:\\n\\nInfosys Ltd (C2H) \\n\\nProject -1 Open Enrollment (Benefits)\\n\\nDuration:  Aug 2020\\xe2\\x80\\x93 Present\\n\\nEnvironment\\t:\\tWorkday\\n\\nRole                      : \\tWorkday Consultant \\n\\nScope\\t\\t:\\tFunctional Testing\\n\\n\\n\\nResponsibilities\\n\\nResponsible for the OE Strategy, Execution, Enhancement and Test planning, Testing the new requirements or changes in sandbox system for UAT and production.\\n\\nInvolved in comprehensive Functional Regression testing with End-to-End process ,identifying Test Scenarios, Test cases for SIT, UAT\\n\\nIdentifying the process to be engaged for each test phase, including risk-based testing, defect management, status reporting, and defect triage.\\n\\nResponsible for supporting the new change requests and enhancements in the project.\\n\\nParticipated in the discovery sessions with client and vendors, create the design and mapping documents and submit the same for sign off.\\n\\nParticipated in the design sessions, create the design documents and get sign off for each module\\n\\nAnalyze feasibility and complexity of new requirements and provide feedback to BAU/Client.\\n\\nSuccessfully tested and implemented/Initiated (go-live) OE for the client.\\n\\n\\tDocumentation of the entire configuration and flow for the customer future reference, responsible for Business Strategy document preparation, Test approach data.\\n\\n\\tProviding daily status reports to onshore/offshore managers and handling projects management activities such as daily status discussion, reporting, work assignments.\\n\\n\\tResponsible for test execution, identifying the issues and raising & tracking defects as per severity.\\n\\n\\tWorked closely with Project Managers and Functional leads to understand requirements, to translate the same into functional specifications and recognizing impact on business processes.\\n\\n\\t\\n\\n\\n\\nEron Infoways Pvt Ltd, Nov 2015-Aug 2020\\n\\nProject -1 Regression Test Suite- Time Tracking & Absence Module\\n\\n\\tDuration:  Nov 2019\\xe2\\x80\\x93 Aug 2020\\n\\nEnvironment\\t:\\tWorkday\\n\\nRole                      : \\tWorkday Consultant \\n\\nScope\\t\\t:\\tRegression Test Suite\\n\\n\\n\\nResponsibilities\\n\\nInvolved in comprehensive Functional Regression testing with End to End process.\\n\\nIdentifying Test Scenarios, Test Cases for E2E , Test data identification, Test Automation, \\n\\nDetailing of all regression scenarios, working closely with Automation team for successful Automation of E2E scripts.\\n\\nReviewing of test cases/scenarios for Regression.\\n\\n\\tDocumentation of the entire configuration and flow for the customer future reference, responsible for Business Strategy document preparation, Test approach data.\\n\\n\\n\\nProject - 2\\n\\nDuration: Jan 2018\\xe2\\x80\\x93 Sep 2018\\n\\nEnvironment\\t:\\tWorkday\\n\\nRole                      : \\tWorkday Consultant \\n\\nScope\\t\\t:\\tPost Production Support & Development \\n\\n\\n\\nResponsibilities\\n\\nAnalyze feasibility and complexity of new requirements and provide feedback to lead.\\n\\nParticipate in meetings with Client to finalize the Design Approach for Workday Integrations and resolve any understanding gaps.\\n\\nDesign and develop Integrations in Workday using different tools like CCW, EIB, and Custom Reports based on client requirement.\\n\\nIntegration monitoring and scheduling.\\n\\nResponsible for developing Reports, Calculated Fields, Integrations and Testing.\\n\\nHaving Knowledge on XSLT Transformations\\n\\nResponsible for supporting the new change requests and enhancements in the project.\\n\\nParticipated in the discovery sessions with client and vendors, create the design and mapping documents and submit the same for sign off.\\n\\nParticipated in the design sessions, create the design documents and get sign off for each integration.\\n\\nConfiguring business processes, security, integration/interfaces, and reports.\\n\\n               \\n\\nProject -3\\n\\n           Duration: March 2017- Dec 2017\\n\\n\\n\\nEnvironment\\t\\t:\\tWorkday\\n\\nRole                  \\t  \\t : \\tHCM Consultant \\n\\nScope\\t\\t\\t:\\tHR Transformation/ Enhancement\\n\\nProject Description:\\n\\n                     Hired as part of a global team that supports a seamless network of systems and services to enable our  HR  and  line  management  colleagues  to  be  as  self-sufficient  as  possible  by  integrating databases, automated workflow systems, intranets and other technologies with key HR processes. Responsible for delivering day-to-day HR systems service delivery activities in support of policies and  practices,  this  role  will  primarily  focus  on  supporting  the  management  of  our  external, contingent workforce within the Workday HR system.\\n\\n\\n\\nRoles and Responsibilities:\\n\\nSupport the implementation of workday HCM system.\\n\\nConfigured security, configured hire business process following position management staffing model per business needs.\\n\\nConfigured Various HCM related business process, such as Change personal Information propose compensation, Change Organization Assignments.\\n\\nResolved Daily tickets based on priority given in Service Now Ticketing tool.\\n\\nDesign and creation of custom reports like advanced and Matrix.\\n\\nCreated outbound Integration for new hire employees.\\n\\nWorked on the Inbound Integration for Create Position, Compensation changes and Onetime Payment.\\n\\nWorked on the Core Connector worker template to track the worker personal information changes. \\n\\n\\n\\n\\n\\nDuration: Nov 2015\\xe2\\x80\\x93 Feb 2017\\n\\nEnvironment\\t:\\tWorkday\\n\\nRole                      : \\tData Management Specialist \\n\\nScope\\t\\t:\\tHR Operations & Support\\n\\n\\n\\n\\n\\nRoles & Responsibilities:\\n\\nResponsible for end to end transactions in Workday like Hire, Promotion, Transfers, Data Changes, one-time Payment, Adhoc Compensation Changes, Pay Group, Cost Centers, Termination, Job Profile/Job Title, Legal Entity Changes, Location Changes, Pay rule/Function/Business Unit Changes.\\n\\nResponsible for Supervisory organization creation and maintenance & Reorganizations, Subordinate Sup Orgs and Organizational Hierarchies.\\n\\nData Management for all forms of Employee Data.\\n\\nData Audits of MSS (Manager Self Service) and ESS (Employee Self Service) Transactions.\\n\\nHaving good Knowledge and hands- on experience in Workday Functional HCM. \\n\\nHandling employee queries (On policies, employee history / data, benefits and Compensation).\\n\\nTesting the new requirements or changes in sandbox system for UAT and production.\\n\\nResponsible - HR system updates and tracking of HR requests via the case management tool.\\n\\nManaging Confidential Employee Data and processing necessary updates whenever required in Workday.\\n\\n \\n\\nTachus Software Solutions, Sep 2010-Oct 2015\\n\\n\\n\\n Designation:  HR Administrator\\n\\n \\n\\nResponsibilities:\\n\\n\\n\\nWorked along with HRIS specialist and manager to identify ways to reduce errors in data entry and assist in implementing improved processes/systems\\n\\nCreated test scenarios and assisted in performing tests to insure all processes work according to predetermined goals\\n\\nWorked closely with the Infrastructure team and business users to maintain the Lawson and Lawson related applications\\n\\nResponsible for troubleshooting system related issues and opens support cases to resolve issues when needed\\n\\nActs as a liaison to the business users to maintain integrity and confidence in the system. \\n\\nCoordinated and provided end user training for upgrades, new modules, etc\\n\\nTrained associates on the various tools and applications in Zenefits and ServiceNow\\n\\nMonitoring and triage the ticket queue to groom ServiceNow requests\\n\\nAssisted in the evolving development of workday\\n\\nDeveloped and executed audit queries for HRIS data integrity\\n\\nProvided excellent customer service to associates.\\n\\n2.2     Designation: HR Associate\\n\\n          \\n\\nResponsibilities:\\n\\n\\n\\nExpertise in full life cycle of Recruitments, as a part of Talent Acquisition team work with Business Directors, Associate Directors and Hiring Managers, giving them end-to-end recruiting solutions.\\n\\nExpert in recruitment through various channels including \\xe2\\x80\\x93 Applicant Tracking System, Referrals, Job Boards, Social Media, networking and Head Hunting.\\n\\nExpertise includes Quality Management, Candidate Assessment and Management/ Skill Set Mapping.\\n\\nWorking in compliance with the tight deadlines of the SLA\\xe2\\x80\\x99s prescribed by the practice along with adhering to recruitment likelihood attributes also managing overall TAT, Cost per hire and hire loss ratio.\\n\\nInteract with the hiring managers and delivery heads to analyze their satisfaction levels and improve the quality of resources, ensuring speedy resolution of queries & grievances to maximize client satisfaction levels.\\n\\nClient Management, Partnering with Managers and Business unit heads to determine staffing needs, provide recruiting expertise, design hiring and sourcing strategies, help build a strong talent force.',\n",
       " b\"Workday Integration Consultant\\n\\n\\n\\nName         : Sri Krishna S\\t\\t\\n\\n\\n\\nPROFESSIONAL SUMMERY:\\n\\n\\n\\nWorking as a Software Consultant with 4+ years of Professional IT experience, with 4 years as\\xc2\\xa0Workday\\xc2\\xa0Consultant\\xc2\\xa0and good experience on Report Writing, Integrations and Functional Understanding of HCM. And I have great commitment to implement client\\xe2\\x80\\x99s Workday Strategy.\\n\\n\\n\\nKnowledge of the software development life cycle from design through scoping, requirements gathering, analysis, development, testing, user acceptance, deployment, maintenance/support, and change management.\\xc2\\xa0\\n\\nExperience in developing technical architectures and producing end- to- end technical specification and design artifacts\\n\\nLead efforts in new integration/interface development including documenting requirements, integration design, build, testing and deployment.\\n\\nGood working knowledge on Inbound and Outbound EIB integration concepts and created various EIB integrations.\\n\\nBuilding Core Connector integrations for extracting worker, position, status, leave and absence delta changes.\\n\\nDesigned and built all types of integrations using Document Transformation, EIB, PECI, PICOF, Cloud Connectors and Custom Report Writer.\\xc2\\xa0\\n\\nGood experience with Workday Studio to build complex integrations\\n\\nExcellent experience in Service Oriented Architecture (SOA) using SOAP, WSDL and Web Services.\\xc2\\xa0\\n\\nExperience with XML, XPATH and XSLT, and Expert in designing/development of Interfaces with legacy and third party systems.\\xc2\\xa0\\n\\nHands-on experience In Migrating the XSLT Code, Reports from Lower tenet to Sandbox and Production using Object Transporter.\\n\\nExperienced in developing Custom Reports, Advanced Reports using Report writer.\\n\\nStrong experience using technologies involving\\xc2\\xa0Workday applications, reporting and analytics.\\xc2\\xa0\\n\\nStrong Knowledge on Involved in CR-Change Request as for business requirement and Building and moving changes to production.\\n\\nWorked closely with business and development teams, designed and documented\\xc2\\xa0\\nenhancements as well as conducted production support troubleshooting around integrations for Global\\xc2\\xa0Workday\\xc2\\xa0HCM system.\\n\\nExperience with administration of Kronos, scheduling module including database and table maintenance, application maintenance and upgrades, licenses, and platform maintenance.\\n\\nCoordinating with functional team and providing technical solutions for the incoming requirements.\\n\\nWorked closely with SME\\xe2\\x80\\x99s to understand the business requirements.\\n\\nExcellent working experience of Software Development Life Cycle (SDLC), Software Testing Life Cycle (STLC) and testing methodologies like Agile/Scrum.\\n\\nExcellent interpersonal, presentation and communication skills with the ability to work in a team and a stand-alone environment.\\xc2\\xa0\\n\\nTECHNICAL SKILLS:           \\n\\nIDE\\n\\nWorkday Studio, Oxygen, Eclipse.\\n\\nSoftware/ Products\\n\\nWorkday, Core Java.\\n\\nLanguages\\n\\nXML, XSLT, MVEL Web Services SOAP & REST.\\n\\nHCM Modules\\n\\nCore HR, Benefits, Compensation, Time Tracking, Absence Management, Studio, Core Connectors, Calculated Fields, Change deduction, Report Writing, Integration,  EIB  Inbound/Outbound, Sup Orgs, Business Objects.\\n\\n\\n\\n\\n\\nAptiv, Banglore, India\\t\\t\\t\\t\\t\\t\\t\\t           (Mar 2019 to Till date)\\n\\nWorkday Integration Consultant\\n\\nParent Company: Digee IT Networks\\n\\n\\n\\nWorked extensively on payroll Interfaces for several vendors and have designed and developed integrations in both\\xc2\\xa0Workday Studio and EIB.\\xc2\\xa0 \\n\\nWorked in inbound EIB's, managing business processes, working with EIB, report writer, creating\\xc2\\xa0Workday Calculated fields and custom reports.\\xc2\\xa0\\xc2\\xa0 \\n\\nDeveloped several custom reports using Workday Report Writer and Modified Workday Standard reports according to client requirements.\\n\\nModified the Business Processes according to the Business Requirement.\\xc2\\xa0 \\n\\nWorked data from legacy system performed a date transform to Workday compatible iLoad format. \\xc2\\xa0 \\n\\nLead and Supported Workday HCM System Testing, End-to-End testing, and UAT.\\xc2\\xa0 \\n\\nWorked on setting up of PICOF connector and configured attributes and maps and merging integration outputs. And worked on Payroll change detection.\\n\\nUsed sequence generators, generating templates and validating inbound integration system results.\\n\\nDay to day support for Workday HCM, Integrations and Reporting issues.\\n\\nInvolved in sending data to IAM teams to give access to new hires and remove access from closing accounts for workers on downstream services.\\n\\nInvolved in developing of Benefit integrations like Vanguard and medical plans using Cloud connector.\\n\\nLead and Supported Workday HCM System Testing, End-to-End testing, and UAT.\\xc2\\xa0 \\n\\nConfigured Hire Business process following Position management staffing model according to business needs.\\n\\n\\n\\nEnvironment: Workday 32, Workday Studio, Payroll Connectors, CCB, CCW, EIB, XML, Web Services, XSLT 2.0, Report Writer, Oxygen, Calculated fields, DT, MS Word, Replicon.\\n\\n\\n\\nDelphi Technologies, Banglore, India\\t\\t\\t\\t\\t                      (May 2017 to Feb 2019)\\n\\nWorkday Consultant\\n\\n\\n\\nResponsibilities: \\n\\nDesign and build integrations and worked closely with testing and production teams to solve issue with integrations.\\n\\nCreated Custom reports like Simple, Advanced Reports as per the client requirements and shared with the security groups.\\n\\nCreated Reports against the Worker business object and worked on Headcount, Turnover and Compensation Reports.\\n\\nWorked on Calculated Fields to create Report level and Global cal Fields.\\n\\nWorked on Workday delivered Configurable Integrations like vendor specific connectors. Worked on Core connectors by using Generic templates.\\n\\nGood experience with Core Connector worker to work on employee demographics and build Benefit integrations and Account provisioning integrations.\\n\\nInvolved in sending data to IAM teams to give access to new hires and remove access from closing accounts for workers on downstream services.\\n\\nInvolved in developing of Benefit integrations on  medical plans using Cloud connector.\\n\\nCreated complex Inbound/Outbound integrations using workday studio, core/cloud connectors, using EIB\\xe2\\x80\\x99s, document transformation process.\\n\\nCreated External payroll organization and assigned roles and created pay groups for third-party payroll.\\n\\nWorked on setting up of PECI connector and configured attributes and maps and merging integration outputs. And worked on Payroll change detection.\\n\\nDesigned regression testing scenarios for the integrations during upgrades.\\n\\nLeveraged robust workday web service API framework to load data inputs into workday via EIB Inbound Integration development.\\n\\nWorked on Agile methodology as a Software development life cycle for collaborating with the Cross-functional teams and end user. \\n\\nInvolved in unit test on Integrations, UAT support and end user training.\\n\\n\\n\\nTechnical Environment: Workday 27/28/29/30, Workday studio, workday EIB, Core concepts, Document transformation, Calculated fields, Workday report writer, XML, XSLT.\\n\\n\\n\\nEducation details:\\n\\nBachelors in Electronics & Communication Engineering from JNTU-Kakinada, India in 2017.\",\n",
       " b'Tatikonda Kiran Kumar.\\n\\n\\n\\n\\n\\n\\n\\n\\t\\tCareer objective\\n\\n\\t\\n\\nA rewarding opportunity in a growth-oriented company, this gives me scope to apply my knowledge and become an active member of a team to work. I am seeking responsible position as to use my diverse skills, experience and advanced technical knowledge to develop innovative solutions. \\n\\n\\n\\n\\t\\tExperience Summary\\n\\n\\n\\nI.T. Professional with 3.2 years of total experience in MICROSOFT SQL SERVER Development with a talent for analyzing problems, developing and simplifying procedures and finding innovative solutions.\\n\\nExperience in writing joins and set operators in order to pull data from multiple tables and combines data from multiple select queries results.s\\n\\nGood knowledge in creating constraints on tables.\\n\\nHands on experience in Sub queries in order to store temporary result set of select queries.\\n\\nGood knowledge on CTE (Common table expression) and Recursive CTE.\\n\\nExperience In using system functions (aggregate functions, date functions, string functions, rank functions, cast and convert functions) in order to meet business criteria.\\n\\nGood knowledge in using temp tables and table variables in order to store data temporary purpose.\\n\\nExtensive experience with SQL Server and T-SQL in constructing \\n\\nStored procedures, user defined functions, dynamic sql, Cursor.\\n\\nGood Knowledge on triggers (for triggers, instead of triggers).\\n\\nGood knowledge in implementing TCL (Transactional control language) inside stored procedures.\\n\\nGood knowledge on Views.\\n\\nKnowledge on SQL Indexes and Performance Tuning.\\n\\nBasic Knowledge on Normalization and Normalization forms.\\n\\nGood knowledge in using sql server import export wizard in order to dump data into database from multiple sources like flat files and excel files etc.\\n\\n\\n\\n\\t\\tEducation Qualification\\n\\n. M.com SV University Education, during 2014-2016.\\n\\n\\tBachelor of computer application in SV University Education, during 20011-2014.\\n\\n\\t Intermediate from Board of Intermediate Education, during 2009-2011.\\n\\n\\tS.S.C from Secondary Board Of Education during 2009.\\n\\n\\t\\n\\n\\t\\n\\n\\t\\n\\n\\t\\tProfessional Experience\\n\\n\\n\\nDuration\\n\\nOrganisation\\n\\nDesignation\\n\\nMarch 2018 to till date\\n\\nOSCORP Information systems\\n\\n      Software Engineer\\n\\n\\n\\n\\t\\tProject Details\\n\\n\\n\\nProject Name\\n\\nDigital Health Care System\\n\\nTeam Size\\n\\n8\\n\\nStart Date\\n\\nMarch 2018\\n\\nEnd Date\\n\\nTill date\\n\\nDescription\\n\\nE-Knowledge in health care system is to provide the browser to get appointments from a doctor through internet instead of going there and fixing an appointment. In Doctor\\xe2\\x80\\x99s side they can view their appointments and prescribe medicine for their patients-Knowledge in health care system maintains patient\\xe2\\x80\\x99s prescriptions so that their medical details are always available in internet, which will be more convenient for the patients. This will be more comfortable for the patient. Patient details and prescriptions are maintained confidentially. There are four modules in E-knowledge in Health care system they are Patient module, Doctor module, Administrator module, General  user module\\n\\nRole & Contribution\\n\\n\\tCoordinating the Developing activities with the development team And QA team.\\n\\n\\tDeveloped sql joins based as per business requirements.\\n\\nWriting and worked on complex stored procedures, triggers, functions and views.\\n\\nWriting complex SQL queries using joins, sub queries and correlated sub queries to retrieve data from the database.\\n\\nReviewing and Execution of Test cases.\\n\\nModifying existing code according to the client requirement.\\n\\n\\t\\n\\nTechnologies\\n\\nSQL Server 2008R2.\\n\\nClient\\n\\nNorton\\xe2\\x80\\x99s Hospital\\n\\n\\n\\n\\t\\tPersonal Information\\n\\n\\t\\t\\n\\n\\t\\tDate of Birth\\t\\t:\\t12 July 1994.\\n\\n\\t\\tSex\\t\\t\\t:\\tMale\\n\\n\\t\\tMarital Status\\t\\t:\\tSingle.\\n\\n\\t\\tNationality\\t\\t:\\tIndian.\\n\\n\\t\\tLinguistic Abilities\\t:\\tTelugu and English.\\n\\n\\t         Current Location \\t:\\tHyderabad.',\n",
       " b'Venkateswarlu.B\\t\\t\\t\\t\\t\\t\\t\\tWorkday Consultant                                                                                                                                                                                                                 \\n\\n\\t\\t\\t\\t\\t    \\n\\n\\n\\nProfessional Summary\\n\\n\\n\\n\\n\\n\\t\\tHaving 5.3 years of experience in IT in which 3+ years of experience in implementations and Maintaining Workday HCM Reporting and Integrations.\\n\\n\\t\\tExperience in one full life cycle implementation of Workday and played a key role as Integration Developer. Must have hands on technical experience with Workday HCM suite (including custom reporting, calculated fields, XSLT, Workday Studio, Workday Security etc.)\\n\\n\\t\\tStrong exposure in all phases of the Workday implementation lifecycle namely - Requirement gathering, Analysis, Design, Development and Testing.\\n\\n\\tHands on experience in inbound/ outbound integrations using core connector, Workday studio, BIRT, EIB, business processes, Security, report writer etc.\\n\\n\\tExpertise in developing Payroll interfaces using PICOF/PECI with the help of Workday Studio and Document Transformation to meet client\\xe2\\x80\\x99s complex payroll requirements.\\n\\n\\tDeveloped and maintained various custom-reports types (Advanced, Matrix, Composite, Trending) by using report writer tool with the help of Calc fields as per business requirement.\\n\\n\\tConfiguring the security for various integrations/ Reports as well as to Security group.\\n\\n\\tTrack and resolve user support issues with current system Maintain good working relationships with project team members, internal customers (e.g. Core HCM, Absence, Time Tracking and Recruiting.), and external service vendors.\\n\\n\\tHaving good experience in Workday Core HCM, recruiting, Benefits, Payroll, Time Tracking modules.\\n\\n\\tStrong experience in building Workday Studio inbound/Outbound integrations \\n\\n\\tExposure to Edit Tenant setup related configuration for HCM, System, Security, Business Processes and Notifications and reporting and Analytics.\\n\\n\\tInvolved in writing transformation code for converting XML into XSLT for different web Services.\\n\\n\\tHaving good knowledge on  Defining Security and Business Processes\\n\\n\\tTroubleshoot day to day issues in\\xc2\\xa0Workday,\\xc2\\xa0Integrations, and reporting issues and fix root causes.\\n\\n\\tStrong analytical and problem-solving skills coupled with outstanding communication, presentation and negotiation abilities.\\n\\n\\tGood experience in Migration tool Business object transporter to move the objects from one environment to another environment. \\n\\n\\n\\nTechnical- Skills:\\n\\n\\n\\nWorkday Skills\\n\\nWorkday HCM, Workday Advanced Report Writer, Core connectors PICOF, Document Transformation and Workday Studio,EIB, Workday Web Services, Workday Security.\\n\\n\\n\\nProgramming Lang\\n\\nXML, XSLT, X-Path\\n\\nWeb Technologies\\n\\nSOAP, XML, Web Services.\\n\\nOperating System\\n\\nWindows XP/Windows7/10 \\n\\n\\n\\nWork Experience:\\n\\n\\n\\n\\t\\n\\nWorking as a Workday Integration Consultant in Genpact, Bangalore from May\\xe2\\x80\\x992018 to Till Date.\\n\\nWorking As software Engineer in OSI Consulting, Hyderabad from Mar\\xe2\\x80\\x992016- Apr\\xe2\\x80\\x992018.\\n\\n\\n\\nEducation:\\n\\n\\t\\n\\n\\t\\n\\n\\tCompleted Bachelor of Technology (B. Tech) in 2011 from JNTUH.\\n\\n\\n\\nProject Experience:\\n\\n\\n\\n\\tProject # 2\\n\\n\\t\\n\\n\\tClient\\t\\n\\nAIG (Support &Implementation Of Workday HCM)\\n\\n\\tProject Description\\n\\nAmerican International Group, Inc., also known as AIG, is an American multinational finance and insurance corporation with operations in more than 80 countries and jurisdictions. As of January 1, 2019, AIG companies employed 49,600 people. The company operates through three core businesses: General Insurance, Life & Retirement, and a standalone technology-enabled subsidiary.General Insurance includes Commercial, Personal Insurance, U.S. and International field operations. Life & Retirement includes Group Retirement, Individual Retirement, Life, and Institutional Markets.AIG is proud sponsor of AIG Women\\xe2\\x80\\x99s Open (golf) and of New Zealand Rugby.\\n\\n\\tRole\\n\\nWorkday Integration Consultant\\n\\n\\tResponsibilities\\n\\n\\t\\tInvolved in requirements gathering phase.\\n\\n\\t\\tPrepare business requirement specification document and technical documents\\n\\n\\t\\tResponsible for creating custom reports Advance, Matrix, Search, trending and nbox reports\\n\\n\\t\\tInvolved in building EIB inbound outbound integrations for recruitment, core HCM, compensation and Payroll modules.\\n\\n\\t\\tWorked on building CCW/WECI integrations for extracting the delta changes \\n\\n\\t\\tWorked on PICOF/PECI integrations for extracting the payroll data changes \\n\\n\\t\\tDesign, build or maintain integrations of all types: reports, EIB, Core Connectors, payroll connectors, or Studio.\\n\\n\\t\\tProvide Day to day support of Workday Integrations, and Reporting issues.\\n\\n\\t\\tHaving good experience in building Studio inbound and outbound integrations for complex integrations.\\n\\n\\t\\tUtilized DT for converting the CCW, PICOF output XML files into text files\\n\\n\\t\\tHaving good knowledge on Functional concepts like Business processes \\n\\n\\t\\tHands-on experience In Migrating the XSLT Code, Reports from Lower tenet to Sandbox and Production \\n\\n\\t\\tInvolved in configuring security, roles and access restrictions at domain level and BP level.\\n\\n\\t\\tUsed sequence generators, generating templates and validating inbound integration system results.\\n\\n\\n\\n\\t\\n\\n\\t\\n\\n\\t\\n\\n\\t\\n\\n\\t\\n\\n\\t\\n\\n\\tProject # 1\\n\\n\\tClient\\t\\n\\n\\tToll Group (Support &Implementation Of Workday HCM)\\n\\n\\tProject Description\\n\\nToll Global Logistics (TGL) is a division of the Toll Group. It provides what it calls \"integrated logistics solutions\" across the Asia Pacific region. The division offers a range of transport, warehousing and value-added services. The division operates a fleet of air, sea, rail and road vehicles and vessels. The fleet has more than 19,000 vehicles including courier trucks, prime movers, b-doubles, and trailers; and 13,000 units of containers, ships, vessels and aeroplanes operating across the Asia Pacific region. In Singapore specifically, TGL was reported in 2011 as owning small cargo ships, which ferry container trucks to and from nearby ports in neighbouring Malaysia and Indonesia and a fleet of trucks consisting of about 70 Hino, Fuso and UD prime movers that have roughly seven single trailers for each mover. In Vietnam TGL has over 300 trucks.\\n\\n\\tRole\\n\\nPeopleSoft Consultant\\n\\n\\tResponsibilities\\n\\n\\tBuilding Custom reports like Simple, Advanced, Matrix using calculation fields.\\n\\n\\tCreated simple inbound/ outbound integrations using EIB integration tool\\n\\n\\tCreate CCW outbound integrations for worker, Job, Position and Leave absence details \\n\\n\\tBuilding payroll outbound integrations using PICOF integration tool.\\n\\n\\tCreate Workday Studio inbound /outbound programs to send it to external systems\\n\\n\\tInvolved in Migration activities to move the code from one tenant to other tenant.\\n\\n\\tPerform Unit testing \\n\\n\\tAlso having experience in Support activities like fixing the errors, scheduling.',\n",
       " b\"Name:\\tJ. Sumanth Royal.\\n\\n\\t\\n\\nPROFESSIONAL SUMMARY:\\n\\n\\n\\nHave total 5.7 years of experience in Information Technology with 3.10 years of experience on Workday platform and extensive familiarity with Workday integrations.\\xc2\\xa0\\n\\nExtensively worked on Workday data conversion and Workday integrations.\\n\\nTechnically proficient in customizations, enhancements and Reports using various tools like Report writer, EIB, Core Connector, DT and Workday Studio.\\n\\nGood understanding of Integrations including Web Services, Workday Architecture, Business Process Framework.\\n\\nHaving good experience and knowledge in Inbound & Outbound Integrations through EIB.\\n\\nExperienced in developing Custom Reports using Advanced Reports, Matrix, Trending and Composite.\\n\\nGood working knowledge in technologies XML, XSLT, SOAP, Web services.\\n\\nInvolved in transformation of XML into XSLT for presenting data for different web Services.\\n\\nPrioritizing, reproducing and verifying bug fixes in different Workday integrations, Reports.\\n\\nWork experience in configuring Business Processes, Security and Developing Reports.\\n\\nWorked on creating Complex Calculated Fields using Single Instance, lookup related Value, Lookup As of date fields in Custom reports in Workday HCM.\\n\\nPerformed validation testing and end to end testing and also involved in integration testing.\\n\\nExcellent interpersonal and communication skills with the ability to work in a team and a stand-alone environment.\\n\\nEDUCATION:\\n\\n\\t\\n\\nB. Tech (ECE) from NBKRIST, Nellore, 2014.\\n\\n\\t\\n\\nTECHNICAL SKILLS:\\n\\n\\t\\n\\nERP\\n\\nReport writer, Calculated fields, EIB and Workday Studio, Core connector, Web services, Document Transformation.\\n\\nLanguages\\n\\nXml, XSLT, X-Path.\\n\\nOperating systems\\n\\nWindows XP, 7, 8, 10.\\n\\n\\n\\nWORK EXPERIENCE:\\n\\n\\n\\nWorking as Workday Technical Consultant in FX ABS Software Solutions Pvt. Ltd from November 2015 to till date.\\n\\nPROJECT DETAILS: 1\\n\\n\\tClient\\t\\t\\t:\\tFirst Solar Inc.\\n\\n\\tRole\\t\\t\\t:\\tWorkday Technical Consultant\\n\\n\\tDuration\\t\\t:\\tOct 2019to till date.\\n\\n\\n\\nDescription:- First Solar, Inc. is an American manufacturer of Solar Panels, and a provider of utility-scale PV power plants and supporting services that include finance, construction, maintenance and end-of-life panel recycling.\\n\\nResponsibilities:\\n\\nInvolved in creating the inbound integration using Workday studio and Workday out SOAP, router component to load the currency rates into workday system.\\n\\nCoordinate with users in UAT phase.\\n\\nCreated the new outbound integrations to sending the time off corrections information\\xc2\\xa0from workday to ADP payroll system.\\n\\nModified\\xc2\\xa0the XSLT code As per CR-request and adding the new XSLT code for Different info types.\\n\\nCreate the new workday studio programs to sending AI-Statement to worker documents using BIRT layout.\\n\\nCreating the custom reports as per the client requirement and preparing the UTP documents.\\n\\nCreated Workday Studio inbound studio programs to load compensation information from ADP to workday.\\n\\nHands-on experience In Migrating the Xslt Code, Reports from Lower tenet to Sandbox and Production using Object Transporter.\\n\\nCreated EIB Inbound integrations for loading the employees personal Information like, Emergency contacts, Compensation, One time payments, Bank account information, cost center information.\\n\\nHands-on experience in creating the calculated fields using different functions for complete logics.\\n\\nSupporting the Different teams in UAT phase as well as with test factory teams during integration testing phase.\\n\\nPROJECT DETAILS: 2\\n\\nClient\\t\\t\\t:\\tCatalent Pharma Solutions\\n\\nRole\\t\\t\\t:\\tWorkday Integration Consultant\\n\\nDuration\\t\\t:\\tAugust 2017 to Oct 2019.\\n\\nDescription:\\n\\nCatalent is the leading global provider of advanced delivery technologies, development, and manufacturing solutions for drugs, biologics, cell and gene therapies, and consumer health products. With over 85 years serving the industry, Catalent has the proven expertise, superior technologies and flexible solutions at the right scale to help ensure successful product development, launch, tech transfer and reliable global supply.\\n\\n\\tResponsibilities:\\t\\n\\nCreated Custom reports like Simple, Advanced Reports as per the client requirements and shared with the security groups.\\n\\nWorked on Calculated Fields to create Report level and Global Calculated Fields.\\n\\nGood experience with Core Connector worker to work on employee demographics and build Benefit integrations and Account provisioning integrations.\\n\\nCreated complex Inbound/Outbound integrations using workday studio, core/cloud connectors, using EIB\\xe2\\x80\\x99s, document transformation process.\\n\\nParticipate in integration testing and peer testing.\\n\\nDeveloped Core connector and Document Transformation integrations to get changes file of CSV format from XML Output.\\n\\nUsed sequence generators, generating templates and validating inbound integration system results.\\n\\nAlert notifications creation and schedule reports as per user\\xe2\\x80\\x99s request.\\n\\nDay to day support for Workday HCM, Integrations and Reporting issues.\\n\\n\\n\\nPROJECT DETAILS: 3\\n\\n\\n\\nClient\\t\\t\\t:\\tGeneral Electric.\\n\\nDesignation\\t\\t:\\tOracle DBA.\\n\\nDuration\\t\\t:\\tNov 2015 to Aug 2017.\\n\\n\\n\\nResponsibilities:\\tWorked as an Oracle DBA.\\n\\nDescription: General Electric Company is an American multinational conglomerate incorporated in New York City and head quartered in Boston. As of 2018, the company operates through the following segments: aviation, healthcare, power, renewable energy, digital industry, additive manufacturing and venture capital and finance. Installing Oracle software.\\n\\nCreating Oracle databases.\\n\\nPerforming upgrades of the database and software to new release levels.\\n\\nStarting up and shutting down the database.\\n\\nManaging the database's storage structures.\\n\\nManaging users and security.\\n\\nManaging schema objects, such as tables, indexes, and views.\\n\\nMaking database backups and performing recovery when necessary.\\n\\nProactively monitoring the database's health and taking preventive or corrective action as required.\\n\\nMonitoring and tuning performance.\",\n",
       " b'Madeeswar A\\n\\n\\t\\n\\n\\t\\t\\n\\n\\t\\t\\tPROFILE SUMMARY:\\n\\n\\n\\nHaving around 6 years of IT experience in developing and Implementation of ERP technology by using Workday HCM and ETL (informatica) technologies.\\n\\n3.5 years of experience as Workday Integration Consultant and involved in a maintenance and implementation.\\n\\nExperience in all phases in Workday like requirements gathering, Analysis, Design, Development and Testing.\\n\\nHands on experience in inbound/outbound integrations using core connector, Workday studio, managing business processes, working with EIB, Report Writer.\\n\\nDeveloped and maintained custom-report types (Advanced, Matrix, Composite) using report writer tool.\\n\\nInvolved in transformation of XML into XSLT for presenting data for different web Services.\\n\\nBuilding Workday Integration (EIB), calculated fields, Custom Reports and Writing XSLT transformation code.\\n\\nHaving knowledge in XML, WD-SOAP Web Service, and WD- REST Web Service and experienced in using tools such as Soap, XML Exchanger.\\n\\nInvolved in writing transformation code for converting XML into XSLT  for different web services.\\n\\nKnowledge in Software Development Life Cycle process (Analysis, Design, Development, Testing) for Implementation and Support in different application domain.\\n\\nExperience of working  in Production support model.\\n\\nExcellent client interaction skills and proven experience in working independently as well as in a team.\\n\\n\\n\\nTECHNICA SKILLS:\\n\\n\\n\\nWORKDAY SKILLS\\n\\nWorkday HCM, Workday Advanced Report Writer, Core connectors PICOF, Document Transformation and Workday Studio, EIB, Workday Web Services, Workday Security.\\n\\nProgramming Languages\\n\\nXML, XSLT, X-Path, SQL.\\n\\nETL tools\\n\\nInformatica 9 &10 ,Teradata\\n\\nOperating systems\\n\\nLinux, Windows.\\n\\nTools\\n\\nSQL developer, Talend, Putty, Appworx, Maestro, Winscp.\\n\\n\\n\\n\\t\\t\\tEducation Details:\\n\\n\\tB.Tech   from JNTU Anantapuramu , A.P, India.\\n\\n\\t\\t\\tWork Experience:\\n\\nWorking as a Workday Technical Consultant for INTEGRATED DATA SYSTEMS LTD from   June- 2015 to till date.\\n\\n\\t\\t\\tProjects under taken:\\n\\n\\n\\n\\n\\nClient: Gap Inc, USA\\t\\t\\t\\t\\t                                          June 2019 - Present\\n\\nRole: Workday Technical Consultant\\n\\nDescription: Gap Inc.\\xc2\\xa0is an American worldwide clothing and accessories retailer. The company operates six primary divisions: Gap (the namesake banner),\\xc2\\xa0Banana Republic,\\xc2\\xa0Old Navy, Intermix, Hill City, and Athleta. Gap Inc. is the largest specialty retailer in the United States.\\n\\nResponsibilities:\\n\\n\\tExpertise in understanding the Functional Requirement Documents.\\n\\n\\tBuild and maintain Custom reports s Simple, Advanced, Matrix, trending, nBox, Search reports using calculation fields.\\n\\n\\tCreated inbound/ outbound integrations using integration tools EIB, Core connector worker and Studio and DT integration tools.\\n\\n\\tCreating security users and groups like ISU,ISG,ISSG.\\n\\n\\tInvolved in building CCW integrations for fetching delta changes and full file.\\n\\n\\tWrite XSLT code to transform Xml files to text files and working on validation test conditions.\\n\\n\\tTaking care of production issues and done few enhancements based on CR-Request.\\n\\n\\tHands-on experience In Migrating the XSLT Code, Reports from Lower tenet to Sandbox and Production using Object Transporter.\\n\\nProvide Day to day support of Workday Integrations and Reporting issues Created test scripts and coordinated the testing\\xc2\\xa0effort with all the stakeholders for System and UAT. \\n\\nCollaborate with the ST (System Testing) and UAT (User Acceptance Testing) teams to test the integration builds. Fix issues encountered in ST and UAT phase.\\n\\n\\n\\nClient: Alliance healthcare\\t\\t\\t\\t\\t\\t              \\tDec  2017- May 2019\\n\\nRole: Workday Technical Consultant\\n\\n\\n\\nResponsibilities:\\n\\nIntegrations in Workday using different tools like CCW, EIB, DT, Custom Report and Workday Studio, Responsible for developing Integrations and testing them.\\n\\nResponsible for supporting the new change requests and enhancements in the project\\n\\nCreated calculated fields and Worked on Simple and Advanced Reports.\\n\\nWorked on Integration Systems (EIBs, Core Connectors).\\n\\nDay to day support of Workday Integrations, Security, and Reporting issues.\\n\\nHad knowledge on hire, terminate, data changes etc. of employees\\n\\nExpertise in developing Payroll interfaces using PICOF, PECI with the help of Workday Studio and DocumentTransformation to meet client\\xe2\\x80\\x99s complex payroll requirements.\\n\\nDesign of web services to send/receive data between Workday and Third party system.\\n\\nDeveloped analytics dashboards utilizing multiple data sources to provide actionable reporting and embedded analytics.\\n\\nExperienced in analyzing and preparing Project Deliverables such as Technical Design Document (TDD) and Functional Design Document (FDD).\\n\\nCreated test scripts and coordinated the testing\\xc2\\xa0effort with all the stakeholders for System and UAT.\\n\\n\\n\\nClient:  Bumiputra Commerce bank, Malaysia.\\t\\t        \\t                    Jun  2015 \\xe2\\x80\\x93 Nov 2017\\n\\nRole:  ETL Developer\\n\\n\\n\\nResponsibilities:\\n\\nAnalyzed the requirements and framed the business logic for the ETL process\\n\\nStrong understanding of application architecture and business functionality.\\n\\nDeveloped Informatica Mappings and Mapplets to load data using various Power Center transformations and Performing Unit test cases for various types of Mappings.  \\n\\nCreated Transformations like Source Qualifier, Aggregator, Expression, filter, Sequence generator, Joiner and Update Strategy transformations in Informatica Designer.\\n\\nResponsible for Performance Tuning, Debugging and Error Handling of Informatica mappings.\\n\\nProviding application support and handling production issues within SLA specified.\\n\\nProduction Informatica, batch jobs scheduling, monitoring, failure debugging and fixing.\\n\\n\\n\\n\\t\\t\\tDeclaration:\\n\\n\\n\\n\\tI hereby declare that the information provided above is true to the best of my knowledge.\\n\\n\\n\\n\\tDate:                                                                                                                       Name: Madeeswar A\\n\\n\\n\\nPage 1',\n",
       " b'Name\\t: Naresh Babu Cherukuri\\n\\n\\n\\nObjective:\\n\\nTo take up a responsible and challenging position in an organization which provides competitive environment to demonstrate my abilities and skills which strongly enables career growth while fulfilling organizational goals.\\n\\n\\n\\nProfessional Summary:\\n\\nHaving 5+  years of extensive experience in IT industry, with 3+ years as\\xc2\\xa0Workday HCM Techno Functional developer.\\n\\nTechnically proficient in Implementation, support and maintenance of Workday HCM applications.\\n\\nCoordinates with the team\\xe2\\x80\\x99s business and functional analysts and/or external consultants, particularly in integration projects that impact our applications.\\n\\nHaving good knowledge and hands-on experience in workday integration tools like EIB (Enterprise Interface Builder), Core Connectors, BIRT reports and Workday Studio.\\n\\nCreate or amend reports, dashboards and calculated fields\\n\\nConfigure and implement functional changes in Workday in the following areas: HCM, Compensation, Recruitment, On boarding, Talent Performance\\n\\nWorkday Web Services API, XML, XSLT and Cloud Connect for Worker\\n\\nCreated outbound EIB to report worker changes (Hire, Term, Address changes and Compensation changes) to EMEA payroll and India payroll team.\\n\\nExpertise in both Inbound and Outbound Integrations using Workday Studio.\\n\\nDeveloped Core connector and Document Transformation integrations to get changes file of CSV format from XML Output\\n\\nEnhancement of existing integrations, On boarding process, Hire, Business processes, analysing the requirements and Terminations\\n\\nExperience in work on all project phases including fit/gap, configuration, and testing.\\n\\nCreating Technical design document and Unit Test Plan sheet for the Integration system designed as per the client requirement and involved in System Integration Testing.\\n\\nProviding Post production support and resolved many defects and change requests.\\n\\nWorked with Onshore coordinators for requirements gathering, and testing.\\n\\nHolding meetings at regular intervals with the client and team in order to have corrective and preventive action on day-to-day actions.\\n\\nGood understanding of SDLC, involved in all the different phases like Requirement gathering, Planning, Design, Execution and Delivery.\\n\\n\\n\\nAcademics:\\n\\nCompleted Bachelor of Technology (B.Tech) from JNTU, K in 2015 \\n\\nEmployment History: \\n\\nCurrently Working as Consultant in Thomson Reuters Corporation, Bangalore (Apr 2016 to present)\\n\\n\\n\\nTechnical Skills:\\n\\n\\n\\nTechnical Expertise\\n\\nCore Connectors, Calculated Fields, Report Writing, Integrations, EIB Inbound/Outbound, Core HR, Benefits, Compensation, Time Tracking, Absence Management, Studio, XSLT, Document Transformer, BIRT& Business Objects.\\n\\nProfessional experience:\\n\\nName of the Company: Thomson Reuters Corporation:\\n\\nProject #1:\\n\\nClient\\n\\nThomson Reuters Corporation\\n\\nDuration\\n\\nMay 2018-till date\\n\\nRole\\n\\nWorkday Analyst\\n\\n\\n\\nResponsibilities:\\n\\nUnderstanding the requirements from the client and developing new integrations. Experienced to work with Workday Report Writer and creating custom integrations with third party applications using Enterprise Interface Builder (EIB).\\n\\nDeveloped the new custom reports for capturing all business process and transactions based on the client requirement and creating the calculated field for transfer, promotion etc\\n\\nEditing Business Processes, optimizing and their maintenance.\\n\\nDay to day support for Workday HCM, Integrations and Reporting issues\\n\\nWorked on Calculated Fields to create Report level and Global calculated Fields.\\n\\nUsed sequence generators, generating templates and validating inbound integration system results\\n\\nInvolved in developing of Benefit integrations like medical care and medical plans using connectors.\\n\\nDeveloped various Custom Reports Using Lookup and Audit Reports using Calculated Fields\\n\\nPrepared and supported the Workday annual compensation processes (merit, talent, performance)\\n\\nCreated outbound integrations using Core connector worker and Document transformation and sending data from workday to ADP payroll system.\\n\\nGood experience in creating custom reports using Report Writer, creating calculated fields using different functions and integration concepts for inbound and outbound reports using XSLT\\n\\nScheduling the custom reports on daily, weekly, monthly basis based on client requirement\\n\\nCreated Custom reports like Simple, Advanced Reports as per the client requirements and shared with security groups.\\n\\nGood experience with Core Connector worker to work on employee demographics and build Benefit integrations and Account provisioning integrations. \\n\\nDesign, build or maintain integrations of all types: reports, EIB, Core Connectors, payroll connectors, or Studio. \\n\\nCreated Reports against the Worker business object and worked on Headcount, Turnover and Compensation Reports.\\n\\nMonitor daily schedulers and report errors as needed. \\n\\nInvolved in Workday HCM for various HR modules such as Benefits, Compensation, Time tracking and Absence Management.\\n\\nWorked closely with business and development teams, designed and documented enhancements\\n\\nGood working knowledge on Inbound and Outbound EIB integration concepts and created various EIB integrations. \\n\\nProject #2:\\n\\nClient\\n\\nThomson Reuters Corporation\\n\\nDuration\\n\\nApr 2016 \\xe2\\x80\\x93Apr 2018\\n\\nRole\\n\\nPeopleSoft Analyst\\n\\nResponsibilities:\\n\\nHave Customized and developed Application engines for loading bulk data from external systems.\\n\\nTrack and resolve user support issues with current system Maintain good working relationships with project team members, internal Managers (e.g. Hire, Absence and performance), and external service vendor\\n\\nHave designed technical documents and have worked towards development of interfaces and conversions based on design documents.\\n\\nModified, designed, configured and built fields, records, sub records, setting up keys to records, assign table edits like prompt table.\\n\\nInvolved in online changes to the delivered pages, components, menus and translate values.\\n\\nHave Customized and developed Application engines for loading bulk data from external systems.\\n\\nDeveloped and modified People Code to implement specific business rules and validations to enable the System to perform the business process.\\n\\nUsed File Layout Definition to get data from the legacy system to PeopleSoft tables.\\n\\nManaged and monitored process scheduler for any issues while scheduled interfaces/processes ran and resolved the issues\\n\\nDeveloped/Modified various PS queries in order to help the client day-to-day activity.\\n\\nInvolved in creating PS Query\\xe2\\x80\\x99s and sending it through email to different country HCM heads.\\n\\nWorked on the reporting tools like PS Query, XML Publisher\\n\\nHave worked on File Layout, Application Engine, Component Interface, File layout, Excel to CI, XML Report',\n",
       " b\"\\xef\\x81\\x81 Hyderabad\\n\\n\\nNazeer Basha\\n\\nSQL and Power BI Developer\\n\\n\\n\\n\\n\\n\\t SUMMARY\\t\\n\\nHaving 2.6 + years of experience with SQL server and Power BI.\\n\\nI am a talented, ambitious and hardworking individual, with broad skills and experience in SQL Server and Power BI and leading projects. Furthermore, I am adept at handling multiple tasks on a daily basis competently and at working well under pressure. A key strength is communication; building strong relationships with people in order to deliver the best results.\\n\\nExtensively worked on enhancing the Data Model by creating new columns, measures and tables using DAX Expressions. Proficient in designing/building complex stunning reports/dashboards using Filters (Slicers), Drill down Reports, drill through reports in Power BI Desktop.\\n\\nWorked with On-premise and cloud data sources.\\n\\nGood experience in Power BI Data Modelling by merging and appending of multiple datasets. Experience in implementing row level security by creating roles, groups, and content packs in Power BI. Good understanding of SQL, T-SQL database programming technologies.\\n\\nExpert in publishing reports to Power BI Service and setting up the necessary connection details and scheduling by installing and configuring Power BI Gateways to keep the dashboards, reports up to date.\\n\\nSharing Reports, Dashboards, Organizational Content Packs, Apps Workspace and made Power BI Dashboards available in Web clients and mobile apps.\\n\\nTransform business requirements into technical design specifications, Identifying KPI's as per business/stakeholder\\xe2\\x80\\x99s demand and designing the same.\\n\\nHands on experience in scripting T-SQL queries, Complex Stored Procedures, User Defined Functions (UDF) and Database Triggers.\\n\\nExperience in creating, maintaining database objects like Temporary Tables, Table Variables, Indexes, Functions and views.\\n\\nExperience on Joins, Set Operators, CTE, Sub Queries, Constraints and Identity property.\\n\\nExperience on constructing Views, Indexes.\\n\\n\\n\\n\\n\\n\\n\\n\\n\\n\\t SKILLS\\t\\n\\n\\n\\nSQL Server\\n\\nPower Bi\\n\\nDAX\\n\\nSSIS\\n\\nSSAS\\n\\nSSRS\\n\\n\\n\\n\\t PROFESSIONAL EXPERIENCE\\t\\n\\n\\tSQl & Power BI Developer\\n\\n\\tDec '18  - June 2021\\n\\n\\tPride Technologies\\tPUNE,MAHARASTRA\\n\\nUnderstand business requirements in BI context and design data models to transform raw data into meaningful insights . Create dashboards and interactive visual reports using Power BI.\\n\\nIdentify key performance indicators (KPIs) with clear objectives and consistently monitor those. Analyzing data and present data through reports that aid decision-making.\\n\\nConvert business requirements into technical specifications and decide timeline to accomplish. Chart creation and data documentation explaining algorithms, parameters, models, and relations Design, develop, test, and deploy Power BI scripts and perform detailed analytics.\\n\\nPerform DAX queries and functions in Power BI.\\n\\nAnalyze current ETL process, define and design new systems.\\n\\nRedefine and make technical/strategic changes to enhance existing Business Intelligence systems\\n\\nCreate customize charts and custom calculations as per requirements Design, develop and deploy business intelligence solutions as per needs SQL querying for best results, use of filters and graphs for better understanding of data Work with users and team members at all level for performance improvement and suggestions.\\n\\n\\tProject Details\\tNov '19 - Feb '21\\n\\nProject 1: Retail Sales Analysis System. Client : A&M Retail Ltd. Duration: November 2019 to February 2021. Environment : MS SQL Server , Power Bi Desktop, Power Bi service, DAX.\\n\\nDESCRIPTION: A&M Retail Ltd is a retail chain of discount stores operating in Canada. A&M has more than 70 stores in Canada. Products include health & beauty, household textiles, house wares, electrical and home decor. Using this project we can generate various types of reports like best Employee Report, Best Customer Report, Best Product sold report, Best Promotion report, etc.\\n\\nResponsibilities:\\n\\nMeeting with client, collecting requirement of product and converting into technical specification. Understand the business requirement document.\\n\\nDeveloped Stored Procedures and using joins, sub queries, functions and views. Retrieve the data as per the requirement from Database using SQL Queries.\\n\\nTransferred data from various data sources, such as MS Excel, Flat files, CSV files into SQL Server. Scheduled Reports Weekly and Monthly basis as per the Client Requirements.\\n\\nDesigned and developed matrix and tabular reports with drill down, drill through, and KPI using Power Bi. Designed Power BI data visualization utilizing cross tabs, maps,scatter plots, pie, bar and density charts.\\n\\nDeveloped Power BI reports and dashboards from multiple data sources using data.\\n\\nShared dashboards with various users across business based on their country level applied roles to restrict data to specific region.\\n\\nDesign and Developed the Reports in Power BI Report Builder and Publishing into the Power BI Online Services. Using roles, we are providing security to the Users for Specific Data and for Specific Locations\\n\\nWritten simple DAX calculation as per the requirement to maintain business measures. Contributed to the development of knowledge transfer documentation.\\n\\nDesign and Developed the Paginated Reports in Power BI Report Builder and Publishing into the Power BI Online Services. Using roles, we are providing security to the Users for Specific Data and for Specific Locations\\n\\n\\n\\n\\tProject Details\\tJan '19 - Oct '19\\n\\nProject 2 : Woolworths Enterprise Reporting . Client :\\n\\nWoolworths. Environment : Power BI Desktop, SQL SERVER,Power Bi Service. .\\n\\nDescription: Woolworths is the biggest retailer in Australia. It deals with the selling of food items, clothing,accessories, and everything. All the data is stored in a warehouse having more than 15 Cubes and morethan 10 relational databases. All the reports are pointing either to cube or to relational DB. The major taskis to understand the requirement of report then replicate it in power bi. As both the tools are entirelydifferent, many challenges are handled to achieve the same.\\n\\nResponsibilities:\\n\\nDesign and Developed the Reports in Power BI Report Builder and Publishing into the Power BI Online Services. Using roles, we are providing security to the Users for Specific Data and for Specific Locations\\n\\nWritten simple DAX calculation as per the requirement to maintain business measures. Contributed to the development of knowledge transfer documentation.\\n\\nDesign and Developed the Paginated Reports in Power BI Report Builder and Publishing into the Power BI Online Services. Using roles, we are providing security to the Users for Specific Data and for Specific Locations\\n\\nContributed to the development of knowledge transfer documentation.\\n\\nDesigned Power BI data visualization utilizing cross tabs, maps,scatter plots, pie, bar and density charts. Developed Power BI reports and dashboards from multiple data sources using data blending.\\n\\nInvolved in importing data from developed excel into power bi desktop using get data option Creating the roles for the dashboards, sharing the developed dashboards to the client in power BI\\n\\nEmbedded Power BI reports on portal page and managed access of reports and data for individual users using Roles. Shared dashboards with various users across business based on their country level applied roles to restrict data to specific region.\\n\\nWorking with SQL queries like DDL and DML operations and working with date functions. Developed Stored Procedures and using joins, sub queries, functions and views.\\n\\n\\t EDUCATION\\t\\n\\n\\n\\nJawaharlal Nehru Technological University Hyderabad, Telangana.\\n\\nB. Tech (Electronics and Communications Engineering ) in 2015\",\n",
       " b'G. Ananda Rayudu \\n\\n\\t\\t       https://www.linkedin.com/in/anandgudapati\\t\\n\\n\\n\\n\\n\\n\\n\\n\\n\\n\\n\\n\\n\\n\\t\\n\\n\\n\\nProfile Summary:\\t\\t\\t\\t\\t\\t\\t\\t\\t\\t\\n\\n7+ years of experience in implementing, upgrading, and supporting PeopleSoft database administration including Human Capital Management (HCM), Financials, Campus Solutions and Portal IHUB\\n\\nExpertise in installation, configuration, setup, security and management of the PeopleSoft Internet Architecture PIA environment.\\n\\nIn-depth experience in analysis, planning, development, and implementation stages, including load testing, quality assurance, and tuning.\\n\\n\\tGained extensive exposure in deploying PeopleSoft Environments.\\n\\n\\tExperienced in Troubleshooting PeopleSoft Components.\\n\\nSkilled with the capability to analyse & interpret unique problems with a combination of training experience & logical thinking to find the right solutions\\n\\n\\n\\nCore Competencies:\\t\\t\\t\\t\\t\\t\\t\\t\\t\\t\\t  \\n\\n\\n\\nPeopleSoft Implementation. \\n\\nTroubleshooting\\t PeopleSoft performance issues.                             \\n\\nProject /Data Migration        \\n\\nInstallation & Configuration of PeopleSoft components.                     \\n\\nPUM (DPK) Install and configure. \\n\\nUpgrades \\xe2\\x80\\x93 People tools.\\n\\nExpertise in applying Patches, and Updates via Change Assistant tool including Tax Updates.\\n\\nElastic Search Install and configure.\\n\\nPeopleSoft Refreshes / Cloning.\\n\\nIntegration Broker setup and configuration\\n\\nMaintaining workflow of PeopleSoft users & monitoring log files and search bottleneck of servers.\\n\\n\\tPeopleSoft Security resetting passwords and locking/unlocking user profiles.\\n\\nInstalling Middle tier components and Oracle quarterly Security patches.\\n\\nConfiguring Change Assistant to apply fixes and patch sets.\\n\\nPeopleSoft Cloud Infrastructure-IaaS.\\n\\nAWS-EC2.\\n\\nCloud Manager-Lift and Shift of application to cloud.\\n\\n\\t\\t\\t\\t\\t\\n\\n\\xc7\\x81 Work Experience:\\t\\t\\t\\t\\t\\t\\t\\t\\t\\t\\t   \\n\\n\\t\\n\\nOrganization                        :          IDC Technologies Sol. (I) Pvt. Ltd.\\n\\nPROJECT   #1\\t\\t\\n\\nMultiple clients\\t\\t:           Texas Department of Transportation(TxDOT)\\n\\n                                                             \\n\\nDURATION\\t\\t:           Aug 2019 to till the date\\n\\nROLE \\t\\t\\t:           PeopleSoft DBA\\n\\nENVIRONMENT\\t:            People Tools 8.56, HRMS 9.2, FSCM 9.2  \\n\\n            Tuxedo 12.2.2.0, WebLogic 12.2,3 and Oracle 12c.\\n\\n\\n\\nRESPONSIBILITIES\\t:\\n\\n\\tPerforming Project Migration using Phire.\\n\\n\\tPerforming Oracle Security Patching(Java and WLS).\\n\\n\\tInstalled middle Tier components Tuxedo, WebLogic, JDK and Java.\\n\\n\\tPerforming PeopleSoft database refresh.\\n\\n\\tTroubleshooting Application Servers, Process Scheduler servers for Reports posting and performance issues.\\n\\n\\tResolved developer issues like resetting passwords and locking/unlocking users.\\n\\n\\tExamining and clearing cache from servers like application server on monthly maintenance process.\\n\\n\\tPrepared and maintained the documentation of the all Non Prod and Prod Refresh.\\n\\n\\t \\n\\n\\t\\n\\n\\t\\n\\nOrganization                        :          Safalta InfoTech Pvt Ltd. (Nov 2013 to Aug 2019(\\n\\nPROJECT   #1\\t\\t\\n\\nMultiple clients\\t\\t:           University of Texas Systems (UTS),\\n\\n                                                             Papa Jones.\\n\\nDURATION\\t\\t:           2016 to 2019\\n\\nROLE \\t\\t\\t:           PeopleSoft DBA\\n\\nENVIRONMENT\\t:            People Tools 8.55, 8.56, HRMS 9.2, FSCM 9.2, Campus Solutions 9.0, Portal Solutions 9.1,  \\n\\n            Tuxedo 11.2.2.0, 12.2.2.0, WebLogic 11.2.3, 12.2,3 and Oracle11g and12c.\\n\\n\\n\\nRESPONSIBILITIES\\t:\\n\\n\\tImplemented complete PeopleSoft life cycle from scratch to production go-live activities in Executing PeopleSoft Internet Architecture (PIA) Demo, Development, Support, Test, and Production instances.\\n\\n\\tPSADMIN utility to Administer and create App server, process scheduler server and webserver domains.\\n\\n\\tInstalled middle Tier components Tuxedo, WebLogic, JDK and Java.\\n\\n\\tPerformed PeopleSoft database refresh and PeopleSoft cloning activities.\\n\\n\\tPerforming Project Migration using Application Designer\\n\\n\\tMaintaining workflow of PeopleSoft users & monitoring log files and search bottleneck of servers.\\n\\n\\tTroubleshooting Application Servers, Process Scheduler servers for Reports posting and performance issues.\\n\\n\\tResolved developer issues like resetting passwords and locking/unlocking users.\\n\\n\\tProvided resolutions to client and analysed production issues.\\n\\n\\tExamining and clearing cache from servers like application server on monthly maintenance process.\\n\\n\\tSetup for Integration Broker, defining Gateway, creating and configuring application nodes.\\n\\n\\tPrepared and maintained the documentation of the entire configuration.\\n\\n\\tRunning Audit reports and reviews the SYS and DDD audit for any data inconsistency. \\n\\n\\tPerformed Data migration while performing production moves.\\n\\n\\tPerformed server load balancing for webserver and Application tiers.\\n\\n\\tHands on experience on setting up the PUM/DPK images for creating change packages for Application fixes and bugs.\\n\\n\\tConfigured Change Assistant to Download Updates and Fixes and apply to the target environments.\\n\\n\\tInstall and configure Elastic search.\\n\\n\\tPerformed and executed Oracle CPU quarterly security patches for nprod and prod environments.\\n\\n\\tPerfumed Instances verification tests for patching, database refresh, cloning activities.\\n\\n\\tPerformed People Tools upgrade from release 8.55 to 8.56.\\n\\n\\tInstall and configure DPK images for extracting PeopleSoft change packages for bugs, fixes and tax updates.\\n\\n\\tTroubleshooting for reports posting issues and IB related issues in production and nprod environments. \\n\\n\\n\\nPROJECT   #2\\t\\t\\t\\n\\nMultiple clients\\t\\t:             Daytona State University (DSC), \\n\\n                                                                Algonquin College Canada.\\n\\nDURATION\\t\\t:             2014 to 2016\\n\\nROLE \\t\\t\\t:              PeopleSoft DBA\\n\\nENVIRONMENT\\t\\t:              Implementation and Production Support (HRMS, FSCM, Portal), \\n\\n                                                                All Development, Functional Testing, Acceptance Testing, and DEMO         \\n\\nMODULE\\t\\t:              HCM/FSCM/CS/PIHUB -9.2, 9.0, 9.1 with People tools 8.53, 8.54\\n\\nRESPONSIBILITIES\\t:\\n\\n\\n\\n\\xe2\\x80\\xa2\\tCreated PeopleSoft Demo, System and Production Instances.\\n\\n\\xe2\\x80\\xa2\\tConfigured Application server Domains, web server & Batch (process scheduler) server.\\n\\n\\xe2\\x80\\xa2\\tTroubleshooting the various issues of Application server, Web server and process Scheduler domains.\\n\\n\\xe2\\x80\\xa2\\tConfigured windows development clients to connect 2-tier or 3-tier to the database for the development and administration purposes.\\n\\n\\xe2\\x80\\xa2\\tDownload Updates and Fixes and stored for Implementation.\\n\\n\\xe2\\x80\\xa2\\tInstall/configure Change Assistant.\\n\\n\\xe2\\x80\\xa2\\tApplying bundles and fixes.\\n\\n\\xe2\\x80\\xa2\\tInvolved in Tools only upgrade from 8.51 to 8.55\\n\\n\\xe2\\x80\\xa2\\tConfigured Change Assistant to Download Updates and Fixes and apply to the environments and maintain the customization for the PeopleSoft.\\n\\n\\xe2\\x80\\xa2\\tEnable tracing through PIA page and configuration manager.\\n\\n\\xe2\\x80\\xa2\\tDatabase pre and post refresh activities.\\n\\n\\xe2\\x80\\xa2\\tSetup for Integration Broker, defining Gateway, creating and configuring application nodes.\\n\\n\\xe2\\x80\\xa2\\tRunning Audit reports and reviews the SYS and DDD audit for any data inconsistency.\\n\\n\\xe2\\x80\\xa2\\tInstalled and configured verity search.\\n\\n\\n\\n\\xc7\\x81 Technical Skills:\\t\\t\\t\\t\\t\\t\\t\\t\\t   \\t\\t\\t\\t\\t\\t\\t\\n\\n\\t\\n\\n\\tTroubleshooting for reports posting issues and IB related issues in production and nprod environments. \\n\\n\\tPeople Tools 8.51/8.52/8.53/8.54/8.55/8.56\\n\\n\\tPeopleSoft Applications 9.0, 9.1, 9.2\\n\\n\\tOracle DB 10g,11g,12, Web Logic 11.2.1,12.1.3 Tuxedo 11.2..1.12.1.3\\n\\n\\tUNIX, Windows NT, 2000, 2003, 2005, 2008R2, 2016.\\t\\n\\n\\tPeopleSoft Admin/DBA, Oracle DBA\\n\\n\\tMulti-Tasking.\\n\\n\\tEffective and Good Team Player.\\n\\n\\tGood Interaction with customers.\\n\\n\\tSelf-motivated and quick learner of new concepts and technologies.\\n\\n\\t\\n\\n\\t\\n\\n\\xc7\\x81 Education:\\t\\t\\t\\t\\t\\t\\t\\t\\t   \\t\\t\\t\\t\\t\\t\\t\\n\\nBachelors in Computer Science Anil Neerukonda Institute of technology and sciences Andhra University.\\n\\n\\xc7\\x81 Awards:\\t\\t\\t\\t\\t\\t\\t\\t   \\n\\nClient delight Award for best performance.\\n\\nSport Award for achieving good CSAT score from end users. \\n\\n\\xc7\\x81 Personal details:\\t\\t\\t\\t\\t\\t\\t   \\n\\n\\t\\t\\t\\t\\t\\t\\t\\n\\n\\tFather\\xe2\\x80\\x99s Name\\t\\t\\t:\\tG. Ananda Rayudu\\n\\nDate of Birth\\t\\t\\t:\\t27/05/1987\\n\\nMarital Status\\t\\t\\t:\\tSingle\\n\\nPAN Details\\t\\t\\t:\\tAVQPG5770Q\\n\\nPassport Details\\t\\t                :\\tJ7958541\\n\\n\\t\\t\\t\\t\\t\\n\\n\\n\\nI hereby declare that the above-mentioned information is true to the best of my knowledge.\\n\\n\\n\\n\\n\\n\\n\\n\\n\\nPLACE:\\t\\t\\t\\t\\t\\t\\t\\t\\tG. Ananda Rayudu',\n",
       " b'PeopleSoft Database Administrator\\n\\n                                                                                                                     \\n\\nGangareddy                                                                               \\t\\t\\t \\t                     \\n\\n\\n\\n\\t \\n\\n\\tPROFESSIONAL OBJECTIVE:\\n\\n\\t\\n\\n\\t             To work in a professional and challenging environment, while best utilizing my   talent and keeping abreast with the latest technical advancement in the field of PeopleSoft Application  DBA, by which I can derive utmost job satisfaction and knowledge of the field and to become a successful in Oracle PeopleSoft Application DBA activities.\\n\\n\\t\\n\\n\\tPROFESSIONAL SUMMARY:\\n\\n\\t\\n\\n\\tHaving  4+  years of experience as an PeopleSoft Applications ADMIN/DBA\\n\\n\\tExperience in Creating and Configuring Application Server Domains.\\n\\n\\tCreated multiple Server domains on separate host systems to access one database, an effective strategy for performance and tuning.\\n\\n\\tExperience in Application Server Administration.\\n\\n\\tEnsured system availability by implementing failover by spreading multiple domains across\\n\\nMultiple hosts.\\n\\n\\tPeopleSoft Server Administration - expertise in installation, configuration, setup and management of the Database and PeopleSoft Internet Architecture PIA environment and related processing objects.\\n\\n\\tExtensive experience in applying Tax updates, patches, fixes, bundles and maintenance packs.\\n\\n\\tExperienced PeopleSoft Applications Administrator including performance problems with SQR \\n\\nReports, App Engine, tuning SQL, index creation, migration and change management.\\n\\n\\tExtensive experience in refreshing development & QA from Production database, migrating changes to QA and production, evaluating the required patches and applying them to the PeopleSoft system on a timely basis.\\n\\n\\tExperience in Report Management and Monitoring the Batch Environment.\\n\\n\\tPeopleSoft Server Administration - expertise in installation, configuration, setup and management of the Database and PeopleSoft Internet Architecture PIA environment and related processing objects.\\n\\n\\tExperience in monitoring and scheduling Jobs.\\n\\n\\tExperience in Security Administration.\\n\\n\\tExperience in creating and managing the batch environment.\\n\\n\\tTaking scheduled backup as per backup strategy using RMAN.\\n\\n\\tConfigured and maintaining RMAN to  take   backup of the Oracle and SQL server databases\\n\\n\\tExperienced in taking regular off-line, on-line and logical Backups\\n\\n\\tExperience in Backups like Logical Backups (Exp, Imp, and DataPump).\\n\\n\\tSuccessfully installed and configured Oracle SES to PeopleSoft environment.\\n\\n\\tInvolved in the configuration of SSL certificate to weblogic 10.3, 12c.\\n\\n\\tSuccessfully installed and applied PUM (PeopleSoft Update Manager).\\n\\n\\t\\n\\n\\n\\n\\n\\n\\t\\n\\n\\tTECHNICAL SKILLS:\\n\\n\\t\\n\\nERP Package \\t\\t                                :  PeopleSoft HRMS/FSCM/CRM/CS/HCM/PORTAL 9.0/ 9.1/9.2\\n\\nPeople Tools Versions\\t                  :  PeopleTools 8.48/8.50/8.52/8.53/8.54/8.55/8.57\\n\\nApplication Server\\t\\t                        :  BEA TUXEDO 8.1/Oracle Tuxedo 10.3/12c\\n\\nWeb Server\\t   \\t                                 :  BEA WebLogic 8.1/Oracle WebLogic 10.3/12c\\n\\nDatabases\\t\\t          \\t                         \\t  :  ORACLE 10gR2, 11gR2 , MS-SQL SERVER 2008R2/2012/2014.\\n\\nOperating System\\t\\t                        :  RHEL AS4, OEL 5.5, OEL 6, Windows 2003/2008R2.\\n\\nPROFESSIONAL EXPERIENCE :\\n\\n\\n\\nWorking with Emergtech Business Solutions India Pvt. Ltd from May 2017 to Till date.\\n\\n\\n\\n                                                                    \\t\\t\\t\\t\\t\\t\\t\\t\\t\\t\\t\\t\\t\\t\\t\\t\\t\\t\\t\\t\\t\\t\\t\\t\\t\\t\\t\\t\\t\\t\\t\\t\\t\\t\\t\\t\\t\\t\\t\\t\\t\\t\\t\\t\\t\\t\\t\\t\\t\\t\\t\\t\\t\\t\\t\\t\\t\\t\\t\\t\\t                          \\t\\n\\nClient: AMERIT FLEET SOLUTIONS\\t\\t\\t\\t\\t\\t\\t\\t\\t\\t\\t\\t\\t\\t\\t\\t\\t\\t\\t\\t\\t\\t\\t\\t\\t\\t\\t\\t\\t\\t\\t\\t\\t\\t\\t\\t\\t\\t\\t\\t\\t\\t\\t\\t\\t\\t\\t\\t\\t\\t\\t\\t\\t\\t\\t\\t\\t\\t\\t\\t\\t                          \\tDuration: Sep 2019-Till\\n\\nDatabase: MS-SQL SERVER 2012/2014\\n\\nRole: PeopleSoft Administrator/DBA\\n\\n\\tEnvironment:  PeopleSoft HCM, FSCM, CRM, ELM, CS, Portal 9.0/9.1, PT V8.52/8.53/8.54, Oracle 10g/11gR2, 12cR1, RHEL and Windows 2008 R2 Servers\\n\\nProject: KC Managed Services\\n\\n\\tResponsibilities: \\n\\n\\t\\n\\nSuccessfully installed and configured Web Logic Server, Application Server components and Database Servers on Windows operating systems.\\n\\nSuccessfully installed and configured Oracle SES to Peoplesoft environment.\\n\\nInvolved in the installation of Application and Database Environments.\\n\\nInvolved in the configuration of SSL certificate to weblogic 10.3.\\n\\nWorking on daily Production and development administration activities.\\n\\nPerform the Pro-Active monitoring.\\n\\nInvolved in supporting the team members for the various projects.\\n\\nSuccessfully applied to PeopleSoft Update Manager(PUM).\\n\\nHandled Application Management tasks like Applying Patches & Fixes.\\n\\nCloning the Production server for testing purpose like while applying patches and bundles. Installed PeopleSoft Database and Applications on NT and Unix Operating Systems\\n\\nInstalled and configured Oracle database \\n\\nUpdated databases by applying Updates/Fixes/Patches after backup on timely basis and kept the record of the updates/fixes/Patches\\n\\nConfigured Application Server, Web Server & Batch (Process Scheduler) Server.\\n\\nConfigured Windows development clients to connect 2-tier or 3-tier to the database for development and administration purposes\\n\\n\\n\\n\\n\\n\\n\\nPROFESSIONAL EXPERIENCE :\\n\\nClient: DBS                                                                         \\t\\t\\t\\t\\t\\t\\t\\t\\t\\t\\t\\t\\t\\t\\t\\t\\t\\t\\t\\t\\t\\t\\t\\t\\t\\t\\t\\t\\t\\t\\t\\t\\t\\t\\t\\t\\t\\t\\t\\t\\t\\t\\t\\t\\t\\t\\t\\t\\t\\t\\t\\t\\t\\t\\t\\t\\t\\t\\t\\t\\t                          \\tDuration: May 2017-Aug 2019\\n\\nDatabase: DB2\\n\\nRole: PeopleSoft Administrator/DBA\\n\\n\\tEnvironment:  PeopleSoft FSCM, PT V8. 8.54/8.57, DB2,  RHEL and Windows 2008 R2 Servers\\n\\nProject: DBS Managed Services\\n\\n\\t\\n\\n\\tResponsibilities: \\n\\nConfigured Application Server, Webservers & Batch (Process Scheduler) Server.\\n\\nExtensively used PSADMIN utility to Administer, Create & Delete Application Server and Process Scheduler Server.\\n\\nMonitored the Server and Client queue status at several tuxedo domains\\n\\nChanged the PSAPPSRV.CFG/PSPRCS.CFG configuration file for performance and tuning to specific environment.\\n\\nChecked and cleared the application server cache on a regular basis as a maintenance process.\\n\\nSetup trace logs at various levels like the Logfence parameter in Domain Setting Section in the APPSRV.CFG file, trace logs in Configuration Manager for SQL, People Code, AE, etc and Enable Trace parameter psappserv.cfg and psprcs.cfg files in application server and Process Scheduler \\n\\nCreated multiple Web Logic Server instances\\n\\nTaking care of Security related issues.\\n\\nAdding Additional security groups and mapping.\\n\\nTaking care of DR setup from the snap shots backup.\\n\\nMutli Factor Authentication setup.\\n\\nMonitoring processes and helping customer in terms of Troubleshooting and performance gaining.\\n\\nTake care of the migrations and other script executions.\\n\\nDocument preparation for the Issues and troubleshooting steps for issues occurred.',\n",
       " b'Priyanka Ramadoss\\n\\n\\t61/46, MountPleasant, \\n\\n\\tCoonoor\\n\\n\\tThe Nilgiris- 643102                                                                                            \\n\\n\\t\\n\\nCareer Objective\\n\\n\\n\\nTo excel as a software professional by working in a learning and challenging environment and utilize the skills and knowledge through diligence, dedication and ensure maximum contribution to the growth of the organization I work for.\\n\\n\\t\\n\\nProfile Summary\\n\\n\\n\\nAn Adept IT professional with 4.11 years (September 2016 - present) of experience as Peoplesoft Admin with Accenture\\n\\n\\t\\n\\nProfessional Summary\\n\\n\\n\\nPeopleSoft Administrator (September 2016-Present)\\n\\n\\n\\nExperience in PeopleSoft Administration for Finance application.\\n\\nProficient in creating and configuring PeopleSoft components like Web server, Application server and process schedulers.\\n\\nActive monitoring in Non production databases and applications.\\n\\nKnowledgeable on PeopleSoft migrations using application designer, data mover and taking compare reports and also moving the codes from DEV to TEST and production environments.\\n\\nUsage of HP PPM tool as well to perform PeopleSoft migrations and compare report generation.\\n\\nFull life cycle installation of PeopleSoft Environments.\\n\\nPre and Post database Refresh activities.\\n\\nChange package creation and applying bug fixes using change assistant to Peoplesoft DB. \\n\\nProficient in administration of Peoplesoft server components like application server, process scheduler, webserver. (Peoplesoft Internet Architecture)\\n\\nGood knowledge on basic PeopleSoft configurations like Integration Broker setup, PUM Setup, SSL and File attachments and trouble shooting them.\\n\\nHands on experience in Peoplesoft security level activities like creating user profile, assigning roles and permission list.\\n\\nSSO login creation for users by renewing web certificates.\\n\\nPerforming SOX checks and migrations as part of Production releases on monthly basis.\\n\\nConversant on the usage of Control-M V9 tool that is used for creating and scheduling the jobs.\\n\\nExperienced in setting up batch profile setup in server level for running control-m jobs in testing and production environments. \\n\\nPeoplesoft batch monitoring and implementation.\\n\\nWorked on Change Assistant.\\n\\nExperience in applying People tools patches.\\n\\nExperience in creating change packagees and target databases in CA and online.\\n\\nExperience in working in both Unix and Windows.\\n\\nWorked on Delphix virtual databases for non production database refreshes.\\n\\nCarrying out maintenance activities in servers.\\n\\nGood communication, Leadership abilities and problem solving skills.\\n\\n\\n\\nVMware ITBM Application Support Associate \\n\\n\\n\\nConfiguring and maintaining infrastructure for ITBM application in Windows OS.\\n\\nWorked on Apache Tomcat 7.0.39 and 7.0.52.\\n\\nVMware ITBM 80 and 82 versions on windows server.\\n\\nSSL configuration\\n\\nComplete batch setup in windows envrironment.\\n\\nHandling production and non production databases in ITBM\\n\\n\\n\\n\\n\\nTools and Technologies\\n\\n\\n\\nOperating Systems\\n\\nWindows 2007/2008/2012 server R2\\n\\n Solaris Server and Linux Red hat Version\\n\\nApache Tomcat 7.0.39 and 7.0.52\\n\\nAWS Service Tools\\n\\nCompute\\n\\nStorage\\n\\nNetworks\\n\\nDatabases\\n\\nMonitoring\\n\\nIdentity access management\\n\\nProject Management Tools\\n\\nOdyssey Dashboard\\n\\nOdyssey JIRA\\n\\nService Now\\n\\nTransporter\\n\\n\\n\\nDatabases\\n\\nSQL Developer\\n\\n\\n\\nPeopleSoft People Tools\\n\\n8.55.06\\n\\n8.55.22\\n\\n8.57\\n\\n\\n\\nPeopleSoft Application\\n\\n   FSCM and 9.22 version\\n\\n\\n\\nReporting and PS Tools\\n\\nApplication Designer\\n\\nData Mover\\n\\nDelphix virtual database\\n\\nConfiguration Manager\\n\\nChange Assistant\\n\\nSQR, N-Vision,\\n\\nControl-M Scheduler \\n\\nHP PPM\\n\\nSQL developer\\n\\nCentrify Putty\\n\\nConfiguration manager\\n\\n\\t\\n\\n\\t\\n\\nKey Achievements :\\n\\n\\n\\n\\tInfrastructure support for Production environments and also provide system contingency plans.\\n\\n\\tAnalyze technical and functional aspects of the supported applications and troubleshoot problems based on requirements.\\n\\n\\tDetailed Analysis and Reporting of Project activities.\\n\\n\\t\\n\\n\\tExperience Summary:\\n\\n\\t\\n\\n\\tOrganization : Accenture Solutions Pvt Ltd.\\n\\n\\tClient : Credit - Suisse\\n\\n\\tClient Description : Credit Suisse Group AG is a global wealth manager, investment bank and financial services company providing services in investment banking, provate banking and asset management and sahred services.\\n\\n\\tResponsibility:  Environment administration and management for a financial application.\\n\\n\\tLocation : Bangalore\\n\\n\\tDuration : September 2016- Present\\n\\n\\t\\n\\n\\t\\n\\nEducation\\n\\n\\n\\n\\n\\nCourse\\n\\n\\n\\nSchool/College\\n\\n\\n\\nBoard/University\\n\\nYear of passing\\n\\n\\n\\nPercentage\\n\\n\\n\\nB.E - ECE\\n\\n\\n\\nSri Krishna College of Engineering and Technology, Coimbatore\\n\\n\\n\\nAnna University\\n\\n\\n\\n2016\\n\\n86%\\n\\n\\t\\n\\n\\n\\nHSC\\n\\nBharathi Vidya Bhavan,\\n\\nErode\\n\\nState Board of Technical Education\\n\\n\\t\\n\\n\\t2012\\n\\n\\t\\t             96.08%\\n\\n\\t\\t        School Topper\\n\\nS.S.L.C\\n\\nSt. Joseph\\xe2\\x80\\x99s Convent Anglo Indian Girls Higher Secondary School,\\n\\nThe Nilgiris\\n\\nAnglo-Indian\\n\\n2010\\n\\n\\t\\t93.8%\\n\\n\\t\\t          District Third\\n\\n\\n\\nPersonal Profile\\n\\n\\n\\nOotacamund  (Ooty),\\n\\nTamil Nadu district\\n\\nPlace of birth\\n\\nTamil \\xe2\\x80\\x93 Native\\n\\nEnglish - Advanced- Comprehension - Oral\\n\\nKannada - Intermediate \\xe2\\x80\\x93 Oral\\n\\nHindi -  Intermediate\\n\\nSanskrit- Intermediate\\n\\nLanguages\\n\\nReading books, Yoga, Gardening, Surfing.\\n\\nHobbies',\n",
       " b\"Hari Krishna M\\n\\n\\n\\n\\n\\nSummary:\\n\\nA result oriented professional with 6.10 yrs. of experience in Software Engineering with 3.10 yrs. of relevant experience in Workday Consultant.\\n\\nExceptional ability in understanding the business needs and improving the process.\\n\\nExcellent communication skills and proven experience in working independently as well as in a team.\\n\\nInvolved in preparing business requirement documents and analysis of client functional requirements.\\n\\nExtensive knowledge on Complete Tenant configurations \\xe2\\x80\\x93 (Supervisory Organizations, Roles, Compensation, Business Processes)\\n\\nConfiguration of Supervisory Organizations, Job Profiles & Positions, Compensation (salary plans based on different grades, grade profiles and allowances), Security and Business Processes.\\n\\nDay to day support of\\xc2\\xa0Workday\\xc2\\xa0HCM, Security, Compensation, reporting issues and implementing enhancements when needed.\\n\\nCreated Custom Reports and scheduled reports as requested by end-users.\\n\\nWorked on modifying/troubleshooting/enhancing existing custom reports using Calculated Fields.\\n\\nCreated and used calculated fields in reporting, business processes, and integrations within\\xc2\\xa0Workday.\\xc2\\xa0\\n\\nExperience in performing HCM tasks like defining Job Profiles, position creations, employee hiring, transfers, promotions, demotions and terminations etc., as part of Workday Testing requirements.\\n\\nUnderstanding and careful analysis of the Internal HR team requirements.\\n\\nSetting up the Email notifications and Business Process configurations.\\n\\nExcellent object management skills in\\xc2\\xa0Workday\\xc2\\xa0like configuring Supervisory/Matrix Organizations (Divide organizations, Inactivate Organizations, create subordinates).\\n\\nExtensive knowledge on other HCM Org structures like Custom Organizations and Service Center Organizations.\\n\\nExperience in creating Job Profiles, Job Families and Job Family Groups, also worked with the creation and maintenance of position and job staffing models.\\n\\nExperienced in\\xc2\\xa0WORKDAY\\xc2\\xa0security related to creating and assigning Users / Roles Permissions.\\n\\nInvolved in\\xc2\\xa0Workday\\xc2\\xa0HCM for various HR modules such as Compensation, Time Tracking, Security and Absence Management.\\n\\nExcellent interpersonal skills with a strong desire to achieve specified goals. \\n\\nSupport the team with product backlog grooming activities\\n\\nA valuable team player with capability to share the team vision and achieve goals and deadlines\\n\\nWork Experience:\\n\\nWorking as Workday Consultant at CTS from Mar- 2019 To till date (Parent Company- Riosoft Technologies)\\n\\nWorked as Workday Developer for TCS from Aug- 2014 To Feb 2019\\n\\n\\t\\n\\nEducation:\\n\\nMCA from JNTU University, Kakinada in 2013.\\n\\n\\n\\n\\tTechnical Skills:\\n\\nERP Systems\\n\\nWorkday, PeopleSoft\\n\\nWorkday Modules\\n\\nCore HCM, Compensation, Benefits and Absence management.\\n\\nWorkday Skills\\n\\nIntegrations-EIB, Studio, Reports, Calculated Fields, Business Processes, Dashboards.\\n\\nDatabase Technologies\\n\\nOracle 10g,11i\\n\\nOperating Systems\\n\\nMS-DOS, Windows XP/ 7, Windows Server 2008, UNIX\\n\\n\\n\\nProfessional Background:\\n\\nProject#1\\n\\n\\t\\t\\t\\t\\t\\t\\t\\tNCR \\xe2\\x80\\x93 Workday Implementation/Enhancements\\t\\t\\t\\t\\t                                            Mar 2019 \\xe2\\x80\\x93Till Date\\n\\n\\t\\t\\t\\t\\t\\t\\t\\tNCR Corporation                                                                                      Mar 2019 -Till Date\\n\\nDescription:\\n\\nThe\\xc2\\xa0NCR Corporation\\xc2\\xa0(formerly\\xc2\\xa0National Cash Register) is US-Based computer hardware, software and Electronics Company that provides products and services that enable businesses to connect interact and transact with their customers. Its main products are self-service kiosks,\\xc2\\xa0point-of-sale terminals,\\xc2\\xa0automated teller machines,\\xc2\\xa0check\\xc2\\xa0processing systems,\\xc2\\xa0barcode scanners, and business consumables. They also provide IT maintenance support services.\\n\\n\\n\\nRoles &Responsibilities\\n\\nUnderstanding and analyzing the Business Requirements by studying the Functional Documents.\\n\\nResponsible for data migration from legacy system to workday using EIB.\\n\\nWorked with workday studio to fix integration related issues.\\n\\nBuilt many Enterprise interface builders (EIB\\xe2\\x80\\x99s) on inbound and core connector worker and benefits On outbound\\xe2\\x80\\x99s\\n\\nCreate the new workday studio programs to sending AI-Statement to worker documents using BIRT layout.\\n\\nCreating the custom reports as per the client requirement and preparing the UTP documents.\\n\\nCreated Workday Studio inbound studio programs to load compensation information from ADP to workday.\\n\\nHands-on experience In Migrating the XSLT Code, Reports from Lower tenet to Sandbox and Production using Object Transporter. \\n\\nCreated EIB Inbound Integrations for loading the employees personal Information like, Emergency contacts, Compensation, One-time payments, Bank account information, cost center information.\\n\\nCreated EIB outbound Integrations, written XSLT code and sending data from workday to downstream systems.\\n\\nHands-on experience in creating the calculated fields using different functions for complete logics. \\n\\nSupporting the Different teams in UAT phase as well as with test factory teams during integration testing phase.\\n\\nInvolved in calls with client and update the work status as well as clarifications if any.\\n\\nEnvironment: Workday HCM, Workday Studio, XML, Web Services, XSLT 2.0, Report Writer.\\n\\n\\n\\n\\n\\n\\n\\nProject#2:\\n\\n\\t\\t\\t\\t\\t\\t\\t\\tTCS\\t\\t\\t\\t\\t                                                                          Aug 2017 \\xe2\\x80\\x93 Feb 2019\\n\\n\\t\\t\\t\\t\\t\\t\\tToyota\\t\\t\\t\\t\\n\\nDescription:\\n\\nToyota Motor Corporation, usually shortened to Toyota, is a Japanese multinational automotive manufacturer headquartered in Toyota, Aichi, Japan. In 2017, Toyota's corporate structure consisted of 364,445 employees worldwide and, as of September 2018, was the sixth-largest company in the world by revenue. As of 2017, Toyota is the world's second-largest automotive manufacturer. Toyota was the world's first automobile manufacturer to produce more than 10 million vehicles per year which it has done since 2012, when it also reported the production of its 200-millionth vehicle. As of July\\xc2\\xa02014, Toyota was the largest listed company in Japan by revenue.\\n\\nRoles &Responsibilities:\\n\\nExperienced to work with\\xc2\\xa0Workday\\xc2\\xa0Report Writer and creating custom integrations with third party applications using Workday Core Connector and Enterprise Interface Builder (EIB).\\n\\nKnowledge of Domain, Role and User based security.\\n\\nUsing sequence generators, generating templates and validating inbound integration system results.\\n\\nCreated new integration to pull the new hires information using Core Connector Worker and Document Transformation which uses connector integrations XML Output as its data source input.\\n\\nCreating the new business processes and notifications in deployment and sandbox tenants based on the designed business flow diagrams.\\n\\nDeveloped Several Complex Integrations using Workday Studio and EIB.\\n\\nCreated test data and executed Test cases for System testing. Created test scenarios and test cases and coordinated the testing\\xc2\\xa0effort with all the stakeholders for System and UAT.\\n\\nDay to day support of Workday HCM, Security, Payroll, Benefits, Compensation and Reporting issues\\n\\nInvolved in the design phase and prototyping for further discussions with the client.\\n\\nExperienced to work with\\xc2\\xa0Workday\\xc2\\xa0Report Writer and BIRT tool and creating custom integrations with third party applications using Workday Cloud Connect and Enterprise Interface Builder (EIB).\\n\\nCreated and used calculated fields in reporting, business processes, integrations and other areas within Workday.\\n\\nEnvironment: Workday HCM, Core Connecters, Absent management, Workday Studio, XML, XSLT, Xpath, Oxygen XML.\\n\\n\\n\\nProject#3\\n\\nCatamaran, Schaumburg, IL USA\\n\\n\\t\\t\\t\\t\\t\\t\\t\\tCatamaran Rx\\t\\t\\t                                                                            Aug 2014 \\xe2\\x80\\x93Jul 2017\\t\\n\\nRoles&Responsibilities:\\n\\n\\tLead day-to-day operations of the PeopleSoft Technical teams (including Off-Shore) with business assignments, technical development, support, and issue resolution\\n\\n\\tTechnical Lead for FY14 Compensation, Pharma Spin-off from PeopleSoft HCM system, eV3 applicant conversion into PeopleSoft and Resume Parsing integration with PeopleSoft\\n\\n\\tEnsure project team follows methodology selected for projects and produces quality deliverables\\n\\n\\tParticipated in the design effort by assisting in the development of design specifications applying business expertise and best business practices.\\n\\n\\tHighly experienced with PeopleSoft Manager Self Service & Employee Self Service applications\\n\\n\\n\\nEnvironment:PeopleSoft HCM 9.1, People Tools 8.51, Oracle 11i\",\n",
       " b'VENKATA SAIKRISHNA\\n\\n Workday Consultant\\n\\n\\n\\n\\n\\nPROFSSIONAL SUMMARY:\\n\\n\\t\\n\\nOver all 3 years of IT experience as a Workday Consultant.\\n\\nIntegral in maintenance and creation of Workday Supervisory Organizations, Business Process, Locations, Positions, Company, Cost centers, and Hierarchies.\\n\\nExperience in understanding the Client Business Requirements, Organizational Hierarchy Setup, Configurable Security Setup and Tenant Setup.\\n\\nWorked with different Staffing Models, defining Hire restrictions to Job Management, Position Management.\\n\\nHands on experience with Compensation Module like creating Compensation Grades, Compensation Eligibility Rules, Allowance Plans, Salary Plans, Hourly Plans.\\n\\nExperience in creating Job Profiles, Job Families, and Job Family Group.\\n\\nExperience with Workday security groups like Role based security, User based Security, Intersection, and Job based Security.\\n\\nExperience with creating Staffing models for Supervisory Orgs, Reorganizations and business process framework, Organization Types, Organization Hierarchies.\\n\\nStrong Experience with Workday Report Writer - Custom Reporting (Calculated Fields, Advanced, Standard Reports).\\n\\nHands on experience in inbound/ outbound integrations using EIB and core connectors.\\n\\nTroubleshooted day to day issues arising in Workday, reporting issues to identify and fix root causes.\\n\\n\\n\\nTECHNICAL SKILLS:\\n\\n\\n\\nERP Systems\\n\\nWorkday\\n\\nWorkday Modules\\n\\nCore HCM, Workday Reports\\n\\nWorkday Skills\\n\\nBusiness Processes, Notifications, Alerts, Security, Integrations-EIB, Core Connectors, Reports, Calculated Fields, Compensation,\\n\\nWindows\\n\\nWindows 7, Windows 8/8.1, Windows 10\\n\\n\\n\\nPROFESSIONAL EXPERIENCE:\\n\\n\\n\\nWorking as Workday Consultant in Value Momentum, from Aug-2018 to Till Date.\\n\\nRole: Workday Consultant\\n\\nResponsibilities:\\n\\nCreated Supervisory Organizations, Cost Centers, Cost Centre Hierarchies, and location hierarchies\\xe2\\x80\\x99 maintenance, Staffing Models, Job details Positions and Job Requisitions.\\n\\nSetup end to end recruiting process for clients from creating business processes like job application, Offer, Hire, and Onboarding, setup external career site, questionnaires, offer letters and review documents. \\n\\nStaffing Movements, An employee changes in position, inbound process and outbound process.\\n\\nTermination Process, initiate termination process, review termination process, to do tasks\\n\\nWorked on the creation of benefit plans, job profiles, and job families.\\n\\nConfigured Workday compensation packages including salary, bonus, allowance, commission, and compensation eligibility rules based on management levels, job profile, and job family.\\n\\nManaged job description and workflow of employee data for compensation module including job families, pay ranges and supervisor setup.\\n\\nSetup Merit plans including merit and bonus plan processing and created the business process for bonus plan, merit plan, salary plan and hourly plan.\\n\\nWorked on several calculated fields like look up related value, Evaluate Expression, True or false conditions, Arithmetic Calculation, formatting date fields etc... \\n\\nPerformed arithmetic calculation in Matrix report for counting, averaging, summing, ranging between maximum and minimum. \\n\\nWorked with Simple and Advanced Reports, defining columns, business objects, fields.\\n\\nSetup security groups, domain security policies and business process security policies.\\n\\nWorked with Business Process and configurations various business process on Compensation, Talent Management, Recruiting, Benefits. \\n\\nConfiguration of Workday\\xe2\\x80\\x99s business process framework configured conditional rules to guide workflow or validate data as required to accommodate desired outcomes.\\n\\nDeveloping the integrations using tool Enterprise Interface Builder (EIB), Core connector\\n\\nDesigned and built both inbound and outbound EIB in various segments of Workday system.\\n\\nEnvironment: EIB, Web services, Workday Report Writing, custom Reports, calculated fields, compensation, MS PowerPoint, MS Excel, Windows.\\n\\n\\n\\n\\n\\n\\n\\nEDUCATION:\\n\\nMBA in HR and Marketing from KL University in 2018.\\n\\n\\t\\t\\t\\t\\t\\t\\t\\t\\t\\n\\n\\n\\nDECLARATION:\\n\\n\\n\\nI do here by declare that all particulars mentioned above are true to the best of my knowledge.\\n\\n\\n\\n\\n\\n\\n\\n\\n\\n\\n\\n\\n\\n\\n\\n\\n\\n\\n\\nHyderabad',\n",
       " b'Anubhav Kumar Singh\\t\\t\\n\\n\\n\\nCore Competencies:\\n\\n\\n\\nScripting\\t\\t: Shell Scripting\\n\\n\\n\\nApplication\\t\\t: PeopleSoft HCM, FINANCIALS\\n\\n\\n\\nOperating System\\t: Linux ,Windows\\n\\n\\n\\nWeb/App Servers\\t: Weblogic, Tuxedo\\n\\n\\n\\nRDBMS\\t\\t: Oracle\\n\\n\\n\\nRepository \\t\\t: Github\\n\\n\\n\\nCore Competencies:\\n\\n\\n\\nScripting\\t\\t: Shell Scripting\\n\\n\\n\\nApplication\\t\\t: PeopleSoft HCM, FINANCIALS\\n\\n\\n\\nOperating System\\t: Linux ,Windows\\n\\n\\n\\nWeb/App Servers\\t: Weblogic, Tuxedo\\n\\n\\n\\nRDBMS\\t\\t: Oracle\\n\\n\\n\\nRepository \\t\\t: Github\\n\\n\\n\\n  To work in a globally competitive environment on \\n\\n  challenging assignments that shall yield the \\n\\n  twin benefits of the job satisfaction and a steady-paced \\n\\n  professional growth.\\n\\n\\n\\n\\n\\n\\n\\n\\n\\n\\n\\n\\n\\n \\n\\n\\n\\n\\n\\n \\n\\n\\n\\n\\n\\n Professional Experience\\n\\n\\n\\n 06/2019 - Current\\tHCL\\t\\t\\t\\t\\t\\t\\t\\t\\t\\t\\n\\n\\t\\t\\tCurrent Role: System Admin Offshore\\n\\n\\t\\t\\tSkills : Shell Scripting, Linux , PeopleSoft Administration , Github\\n\\n\\n\\nManaging PeopleSoft HCM and PeopleSoft FSCM production environments along with support environments installed on Linux and Windows OS.\\n\\nInvolved in Day to Day activities such as Project Migration, Database Refresh, System admin changes, Tax updates etc.\\n\\nTroubleshooting of various servers like application servers, Web Servers, Process Scheduler Servers.\\n\\nApplying Tuxedo and WebLogic Middleware CPU patches for various applications.\\n\\nWorking on shell scripting used as integration method for exchange of files to external systems\\n\\nInstallation and troubleshooting of 2-tier setup as per requirement.\\n\\nReviewing Vulnerabilities reported by Security Teams.\\n\\nRenewal of SSL in Weblogic.\\n\\nVulnerability remediation whenever a vulnerability is report by RMIS team.\\n\\nWorked on PUM (PeopleSoft Update Manager) and installation through DPK.\\n\\nWorking Knowledge of Ansible and Docker.\\n\\nDeveloping new Shell scripts and troubleshooting Shell Script failures.\\n\\n\\n\\n\\n\\n 07/2017- 06/2019\\tTechMahindra\\t\\t\\t\\t\\t\\t\\t\\t\\t\\n\\n\\t\\t\\tRole/Project: Application Support through Automation/Devops Tools and PeopleSoft Admin\\n\\n\\t\\t\\tSkills : Shell Scripting, Linux , PeopleSoft Administration, Jenkins, Ansible\\n\\n\\t\\t\\t\\n\\n\\t\\t\\tProject 1: People Tools 8.55 Upgrade & HCM 9.2 Application Upgrade\\n\\n\\t\\t\\tProject 2: Migration of Applications from NTT Cloud and On-premises to AWS Cloud\\n\\n\\n\\nWorked on shell scripting for various application requirement.\\n\\nWorking on Ansible and Jenkins to automated start/stop and various activities of application.\\n\\nBasic knowledge of Docker.\\n\\nApplying SSL certificates on new released applications.\\n\\nWorked on Elastic Search Configuration in PeopleSoft.\\n\\nGained knowledge in AWS Resources..\\n\\nStrong understanding of Unix architecture/Command and trouble shooting in Unix/Linux platform.\\n\\nEfficient in using Configuration Management & Deployment Tool like Ansible.\\n\\nGood experience in job scheduling via crontab and IBM Tivoli Workload Scheduler (TWS).\\n\\nHaving good knowledge in automation using shell scripting \\n\\nContinuous integration management using Jenkins, installing and configuring Jenkins.\\n\\nResponsible for writing Ansible playbook to perform various task\\n\\nManaged administration tasks installation, configuration, applications, troubleshooting, and performance related issue.\\n\\nApplying Tuxedo and WebLogic CPU patches for various applications.\\n\\nWorking on Vulnerabilities reported by Security Teams.\\n\\nReviewing the platform certification information of products, platforms, database servers, web and application servers, browsers, and other products for PeopleTools 8.55.\\n\\nServer Migration to AWS (Amazon Web Service).\\n\\nInstallation of PeopleSoft server components Application Servers, Process Scheduler Servers, Tuxedo, Web logic Servers for New release PeopleTools on Unix/Linux Servers.\\n\\nApplying latest patch to PeopleTools.\\n\\nInstalling and configuring Change assistant for various upgrade passes.\\n\\nCreating and running PeopleTools Upgrade Job for PeopleTools 8.55 Upgrade.\\n\\nSetting up Performance monitor.\\n\\nCreating new app, web and process scheduler domains post upgrade on new Linux severs.\\n\\nTroubleshooting common Domain boot problems.\\n\\nIdentifying and configuring source and target databases in CA for HCM 9.2 application upgrade.\\n\\nWorking with HCM PUM Images.\\n\\nCreating Change packages using PUM and applying to Source/Target databases as per requirement.\\n\\nCreating application upgrade job using change assistant.\\n\\n\\n\\n\\n\\n 09/2015 - 07/2017\\tSRDT Pvt Ltd. (SRM GROUP)\\n\\n\\t\\t\\tRole/Project: PeopleSoft application and Database Admin\\n\\n\\t\\t\\tSkills : PeopleSoft Administration, Weblogic, Tuxedo, App designer, PUM, PeopleTools \\t\\t\\t\\t\\tUpgrade, PeopleSoft Campus Application Upgrade.\\t\\t\\t\\n\\n\\n\\nMaintaining 7 Production Environments with 21 supporting environments installed on Windows server 2008 R2 and Oracle 11g.\\n\\nPossess through knowledge and experience in PeopleSoft architecture, administering PeopleSoft server components Application Servers, Process Scheduler Servers, Tuxedo, Web logic Servers, PIA (PeopleSoft Internet Architecture), Integration Broker, Report Nodes, application issues and technical issues.\\n\\nPeopleSoft Skills with experience in Migrations & Production support of PS Applications\\n\\nExposure in applying PeopleSoft Bundle Updates through Change Assistant.\\n\\nExposure in working on both Windows & UNIX/Linux Environments with Oracle database.\\n\\nWorking knowledge of integration broker.\\n\\nRefreshed Testing, DEV and Pre-PROD from PROD environments.\\n\\nExperience in Troubleshooting of various servers like application servers, Web Servers, Process Scheduler Servers.\\n\\nExperienced in providing 24/7 support on production and development environments.\\n\\nInstallation of Database Servers, Web servers and Application Server and PeopleSoft Application (HRMS 9.2,FSCM9.2, CS9.0, CS 9.2,HRMS 9.2) and People Tool (8.53,8.54, 8.55)\\n\\nInstalled and Configured SES (Secure Enterprise Search) for HRMS Instance.\\n\\nExperience in Installing Oracle Policy Automation, Oracle Policy Modelling and creating OPA Database in existing database (Oracle)\\n\\nImplemented Single Sign On between PeopleSoft Applications.\\n\\nImplemented PeopleSoft Interaction Hub to integrate external content and information with PeopleSoft applications.\\n\\nUpgraded People Tool 8.53 to 8.54 for Campus 9.0Production Environment.\\n\\nUpgraded People Tool 8.53 to 8.55 for Finance 9.2 Testing Environment.\\n\\nUpgraded application CS 9.0 to 9.2.\\n\\nConfigured PUM (PeopleSoft Update Manager) for every new Image.\\n\\nApplying Tax Updates, BUGS and Tailored Change Packages through PUM.\\n\\nUpgraded Oracle Database 11.2.0.1 to 11.2.0.4 using DBUA. \\n\\nCreated Instances on People Tools 8.55 to provide Testing environments.\\n\\nPrepared Upgrade Status reports and sheets.\\n\\nCo-ordinated and provided support for offshore projects.\\n\\nImported Self Signed Certificate into WebLogic to provide secure port access of Instances.\\n\\nSet up of Terminal Server to provide a Central access of People Tools for Technical/Developers.\\n\\nCreated tickets to development team and followed up with them to get the resolution for any error occurred. \\n\\n\\n\\n\\n\\n\\t\\t\\tProjects:\\n\\n\\n\\n\\t\\tClient: DRDO\\n\\n\\t\\tProject: Single Sign On\\n\\n\\t\\tRole: PeopleSoft Admin\\n\\n\\t\\tEnvironment: People Tool 8.50, HRMS 9.1, FSCM 9.1\\n\\n\\n\\n\\t\\tDescription:\\n\\n\\t\\tSingle sign-on (SSO) is a property of access control of multiple related, but independent software \\t\\t\\tsystems. With this property a user logs in with a single ID and password to gain access to a \\t\\t\\tconnected system or systems without using different usernames or passwords.\\n\\n\\n\\n\\n\\n\\t\\tClient: NetApp\\n\\n\\t\\tProject: Support and Maintenance\\n\\n\\t\\tRole: PeopleSoft Admin/L2 Support\\n\\n\\t\\tEnvironment: PeopleTool 8.49, HRMS 8.9\\n\\n\\n\\n\\t\\tDescription:\\n\\n\\t\\tHandled IB related issue.\\n\\n\\t\\tClear process scheduler cache as per weekly maintenance process.\\n\\n\\t\\tHandled PSADMIN related activities.\\n\\n\\n\\n\\n\\n 11/2013 - 05/2015\\tACS                                                                                                                           \\n\\n\\n\\n Personal Details\\n\\n\\n\\n\\n\\nFather\\xe2\\x80\\x99s name\\n\\nRajeev Kumar Singh\\n\\nDate of Birth\\n\\n11/09/1990\\n\\nSex\\n\\nMale\\n\\nLanguage (Read And Write)\\n\\nHindi, English\\n\\nReady to relocate\\n\\nYes\\n\\nEducation\\n\\nB.Tech in Electrical & Electronic Engineering 2012',\n",
       " b'Classification: Internal\\n\\nClassification: Internal\\n\\n\\n\\n\\t\\tMurali\\n\\n\\n\\n\\t\\tExperience Summary \\n\\n\\t\\t\\n\\nI have 6 years of experience working in PeopleSoft Administration and performing various infrastructure related activities in PeopleSoft environments. \\n\\n\\n\\nInstalled and configured PeopleSoft 9.0,9.1,9.2 Web server, Application server, Database server and Process scheduler \\n\\nserver on Windows, UNIX and Linux platforms.\\n\\nCreating Domains for Web server, Application server and Process scheduler server.\\n\\nApplied Patches Manually and applied Maintenance Packs through Change Assistant tool.\\n\\nExperience in DPKs installations.\\n\\nApplying TAX UPDATES and fixes using PUM\\n\\nMigrating projects from one environment to another environment using Application Designer and also through CAPI, STAT tools.\\n\\nPerformed Single sign on (SSO)Implementation.\\n\\nExperience in running Compare Reports between pre and Post Migrations.\\n\\nExperience in setting up Client Workstation for Developers and Testers.\\n\\nInvolved in Configuration of Integration Broker setting up Between the Modules for sending the Messages.\\n\\nInvolved 24/7 production Support to Client.\\n\\nInvolved in Running Audit Reports (DDDAUDIT AND SYSAUDIT) for Integrity Checks.\\n\\nExperience in Configuration and Setup the REN server.\\n\\nConfigured and Maintained Report Nodes settings.\\n\\nChecked and Clear Cache for the servers.\\n\\nInvolved in Troubleshooting of the servers like Application server, web server and Process scheduler server. \\n\\nWorked on Peopletools Upgrade PT8.52 to PT8.55 and 8.55 to 8.57.\\n\\nInstalling and configuring Elastic Search 6.1.2\\n\\n\\n\\n\\t\\tCareer Profile:\\n\\n\\tDates\\n\\nOrganization\\n\\nRole\\n\\n\\t22nd  Mar 2021 \\xe2\\x80\\x93 25th May 2021\\n\\nL N T INFOTECH\\n\\nPeopleSoft Administrator\\n\\n\\t\\t\\n\\n\\t\\tClient :Sembcorp , Brazil\\n\\n\\t\\t\\n\\nDescription:\\n\\nThis project involved active production support in the fields of HRMS 9.2. Additionally also involved in maintenance and enhancement of the system.\\n\\n\\t\\t\\n\\nResponsibility:\\n\\n\\n\\n\\n\\n Installation and setup of People Soft HCM & ELM 9.2 on Oracle.\\n\\n Creating database user, assigning roles & privileges to the users.\\n\\n Maintaining various People Soft instances.\\n\\n Debugging and resolving issues related to application server\\\\web server\\\\process    scheduler.\\n\\n Weekly\\\\monthly database maintains.\\n\\nPerformed People tools upgrade from 8.55.14 to 8.57.05.\\n\\nPerforming Post refresh Activities.\\n\\n\\t\\t\\n\\n\\tDates\\n\\nOrganization\\n\\nRole\\n\\n\\t9th Nov 2018 \\xe2\\x80\\x93  19TH Mar 2021\\n\\nRegency Technologies\\n\\nPeopleSoft Administrator\\n\\n\\t\\t\\n\\n\\t\\t\\n\\n\\t\\tClient :Wipro, IND\\n\\nPlatforms : People Tools 8.56, People Soft HCM 9.2.\\n\\n\\n\\nDescription:\\n\\nThis project involved active production support in the fields of HRMS 9.2. Additionally also involved in maintenance and enhancement of the system.\\n\\n\\n\\nResponsibility:\\n\\n Installation and setup of People Soft HCM 9.2 on Oracle.\\n\\n Creating database user, assigning roles & privileges to the users.\\n\\n Maintaining various People Soft instances.\\n\\n Debugging and resolving issues related to application server\\\\web server\\\\process    scheduler.\\n\\n Weekly\\\\monthly database maintains.\\n\\n Creating and modifying data mover scripts.\\n\\n Migrating projects using CAPI.\\n\\n Applying Patches.\\n\\n Setting up a PeopleSoft Reporting environment for reporting.\\n\\n Interacting with the client for various Production related issues.\\n\\nApplying TAX UPDATES using PUM.\\n\\nPerforming Post refresh Activities.\\n\\n\\n\\n\\t\\t\\n\\n\\tDates\\n\\nOrganization\\n\\nRole\\n\\n\\t9th  Nov 2015 \\xe2\\x80\\x93  30th Nov 2017\\n\\nDXC Technologies (Formerly known as CSC)\\n\\nPeopleSoft Administrator\\n\\n\\n\\n\\n\\n Project Title :People Soft HCM Production Support and Enhancement\\n\\nClient : ASG, USA\\n\\nPlatforms : People Tools 8.52,8.54 People Soft HCM 9.0,9.2 DB2\\n\\nAIX 5.1.\\n\\n\\n\\nDescription:\\n\\nThis project involved active production support in the fields of HRMS 9.0. Additionally also involved in maintenance and enhancement of the system.\\n\\n\\n\\nResponsibility:\\n\\n\\n\\n Installation and setup of People Soft HCM 9.0,9.1 on DB2.\\n\\n Creating database user, assigning roles & privileges to the users.\\n\\n Maintaining various People Soft instances.\\n\\n Debugging and resolving issues related to application server\\\\web server\\\\process    scheduler.\\n\\n Weekly\\\\monthly database maintains.\\n\\n Creating and modifying data mover scripts.\\n\\nMigrating projects using STAT,CAPI.\\n\\n Applying Patches.\\n\\n Setting up a PeopleSoft Reporting environment for reporting.\\n\\n Interacting with the client for various Production related issues.\\n\\nApplying TAX UPDATES using PUM.\\n\\nPerforming Post refresh Activities.\\n\\n\\n\\n\\t\\t\\n\\n\\t\\t\\n\\n\\n\\n\\t\\t\\n\\n\\t\\tTechnology\\n\\nOperating Systems\\n\\n All Windows Platforms, Linux\\n\\nERP and Tools\\n\\nPeopleSoft HRMS 9.0, PeopleTools 8.47,8.48, 8.50, 8.52, Putty, sql, TOAD, Beyond Compare.\\n\\n\\n\\nRDBMS\\n\\nOracle 10g,11g\\n\\nScheduling Tool\\n\\nAutosys\\n\\nVersion Control Tool\\n\\nCAPI , STAT\\n\\nLanguages\\n\\nC, C++, SQL\\n\\n\\n\\n\\n\\n\\n\\n\\n\\n\\n\\n\\n\\n\\n\\t\\tPersonal Details\\n\\n\\t\\t\\n\\n\\t\\t\\t\\t\\t\\t\\t\\t\\t\\t\\tDate of Birth\\n\\n\\t\\t\\t\\t\\t\\t\\t\\t\\t\\t\\t15-08-1982\\n\\n\\t\\t\\t\\t\\t\\t\\t\\t\\t\\t\\tNationality\\n\\n\\t\\t\\t\\t\\t\\t\\t\\t\\t\\t\\tIndian\\n\\n\\t\\t\\t\\t\\t\\t\\t\\t\\t\\t\\t\\n\\n\\t\\t\\t\\t\\t\\t\\t\\t\\t\\t\\t\\n\\n\\t\\t\\t\\t\\t\\t\\t\\t\\t\\t\\t\\n\\n\\n\\n\\n\\n\\n\\nDate:\\n\\n\\n\\nPlace:  Hyderabad',\n",
       " b\"SIRAZUDDIN M\\n\\n\\tBangalore, INDIA\\t\\n\\n\\n\\n\\n\\nSIRAZUDDIN M\\n\\n\\tBangalore, INDIA\\t\\n\\n\\n\\n\\n\\n\\n\\n\\n\\n\\n\\n\\n\\n\\n\\n\\n\\n\\n\\n\\n\\n\\n\\n\\n\\n\\n\\n\\n\\nPROFILE SUMMARY\\n\\n\\n\\nI have overall 6.8 years\\xe2\\x80\\x99 experience as PeopleSoft Administrator. Installed PeopleTools 8.55 from the scratch including its products. \\n\\nExperience in Peopletools 8.51, 8.54.08, 8.55.07&Application 9.0 and 9.2 (HRMS/FSCM). Deterministic approach towards problem solving & troubleshooting.\\n\\nProficient in Integration Broker.\\n\\nUpgraded FSCM and HCM applications to PeopleTools 8.55.07 from PeopleTools 8.54.08.\\n\\n\\n\\nEDUCATION\\n\\n\\n\\nGraduated B-Tech in Electronics and Communication Engg. from M.V.G.R College of Engineering, Vizianagaram(JNTUK) with an aggregate of 68.93%.\\n\\nAchieved 90% marks in 12th standard. Scored 86% in 10th standard.\\n\\n\\n\\nACHIEVEMENTS\\n\\nAwarded Bravo in 2015 Q3, 2016 Q1 and Pat on Back in Q2, 2016, Q1, 2017 in Techahindra.\\n\\nAwarded Associate of the month award and Innovator of the month (1 time). Awarded spot and pat on back in Capgemini\\n\\n\\n\\nWORK EXPERIENCE\\n\\nCAPGEMINI (MAY\\xe2\\x80\\x9919 \\xe2\\x80\\x93 TILL NOW)\\n\\nProduction support for 5 finance environment and their respective non production environments.\\n\\n\\n\\nProject Experience:\\n\\nProject Name \\t\\t\\t\\t: AXA\\n\\nRole\\t\\t\\t\\t\\t: Consultant\\n\\nEnvironment\\t\\t\\t\\t: Windows Server 2012 R2\\n\\n\\n\\nCOGNIZANT TECHNOL OGY SOL UT IONS (AUGUS T ' 1 8 \\xe2\\x80\\x93 APRIL\\xe2\\x80\\x9919)\\n\\nVoya Financial Insurance US client project which deals with support and managing Finance applications.\\n\\n\\n\\nProject Experience:\\n\\nProject Name \\t\\t\\t\\t: Voya Financials\\n\\nRole\\t\\t\\t\\t\\t: Associate\\n\\nEnvironment\\t\\t\\t\\t: Windows Server 2012 R2\\n\\n\\n\\n TECH MAHINDRA LIMIT ED (JULY ' 1 4 - AUGUS T ' 18)\\n\\n\\n\\nPeopleSoft 9.2 Implemented for HR and FIN application. PeopleSoft 9.2 Implementation project includes 10 PeopleSoft applications, interfaces with third-party applications and interfaces with live production PeopleSoft 9.2 environment in SDLC.\\n\\n\\n\\nProject Experience: Project Name \\n\\nRole Environment\\n\\n\\n\\n\\n: CIO COMMON\\n\\n: Software Engineer\\n\\n: SOLARIS, Windows Server 2008R2\\n\\n\\n\\n\\n\\nRESPONSIBILITIES:\\n\\nProvided administrative supports for PEOPLESOFT tools version 8.51, 8.54, 8.55.25, 8.56.10 and application HRMS 9.0, 9.2 & Financials/SCM 9.0, 9.2 modules on Windows and UNIX OS\\n\\nCreation of indexes for tables from application designer.\\n\\nPeopleSoft Database Setup, troubleshooting issues and other daily PeopleSoft admin activities\\n\\nConfigured PeopleSoft application server, process scheduler & web server domains, setup Master Scheduler.\\n\\nInstalling Oracle Tuxedo, Weblogic, Java, Application Disk (FSCM and HCM) and Oracle database on UNIX and Windows servers from scratch\\n\\nInstalled PeopleTools 8.55 for HCM and FSCM with a demo database. Upgraded FSCM application to Peopletools 8.55 from PeopleTools 8.54.08. Applied patch 8.55.07 in FSCM\\n\\nConfigured Report Nodes. Bouncing of App, Web and Process schedulers and clearing cache\\n\\nPerformed pre-refresh and post refresh activity during Database cloning activity.\\n\\nRecompilation of COBOL source codes\\n\\nWorked on project migrations using Application Designer and Change Assistant.\\n\\nApplied image 15, 16, 25 and 37 on FSCM 9.2 using PUM and change assistant. Good hands-on experience in application designer, data mover, and change assistant. Well aware of PIA (PeopleSoft Internet Architecture).\\n\\n\\n\\nConfiguring Integration broker and report nodes\\n\\nCreating UDM file transfer Interfaces and monitoring them\\n\\nDeploying gnupg keys and certificates in servers.\\n\\nInstalled and configured Elastic search. \\n\\nTOOLS USED:\\n\\nPeopleTools 8.54.08, 8.56.10, 8.55.25, Application Designer, Data Mover\\n\\nToad, Sqldeveloper, Microsoft SQL Management Studio 2014 \\n\\nOracle 11g,\\xc2\\xa0Oracle 12c, Microsoft SQL server 2014\\n\\nFilezilla, Winscp, PCOMM, TWS, Service now, Silva\\n\\n\\n\\nTRAINING & CERTIFICATIONS\\n\\nOracle Cloud Infrastructure Architect Associate\\n\\nOracle Cloud Infrastructure Architect Professional\",\n",
       " b\"PeopleSoft Admin\\n\\nVARKALA VIKAS\\n\\n\\n\\nCareer Objective:\\n\\n\\n\\nI have total 4.2 Years\\xe2\\x80\\x99 Experience in PeopleSoft Admin and PeopleSoft DBA. I hope to enhance my skill set while adding value to the business, to enable implementation of solutions, which aid the company\\xe2\\x80\\x99s objectives, understanding and anticipating the needs, interests and motivations of the clients and to deliver on time, budget and to quality, delivering value through improving agility, quality and reliability\\n\\n\\n\\nProfessional Summary:\\n\\n\\n\\n\\tHaving 4.2 years of experience in PeopleSoft implementation, Support, People Tools Upgrades, configuration, migrations, maintenance and administration of Application Server Domains, Process Scheduler Servers, Web Server Domains, PUM and Elastic search.\\n\\n\\tInvolved in various Tools and Application Upgrades.\\n\\n\\tExperience in driving Infrastructure Hardware Upgrades, Disaster Recovery Activities.\\n\\n\\tConfigured https and secure web server (SSL) administration.\\n\\n\\tMonitor system by developing and maintaining monitoring Shell scripts\\n\\n\\tExperience in Oracle Database Administration for 11gR2, 12cR1 and 12cR2\\n\\n\\tExperience in Health Check for all the PeopleSoft Environments\\n\\n\\tExperience in PeopleSoft Database Refreshes from Production to Development and Testing Environments\\n\\n\\tExperience in Performance and Tuning of Application Servers, Web Servers\\n\\n\\tExperience in Windows Administration\\n\\n\\tImplemented PeopleSoft Internet Architecture (PIA) on Demo, Test, Development and Production instances.\\n\\n\\tExtensively involved in resolving Performance issues.\\n\\n\\tExperience in PeopleSoft Installations of PeopleTools 8.56,8.57 HCM 9.2, WebLogic 12cr2 Tuxedo 12cR2 and People Books 8.56,8.57 Windows 2012R2\\n\\n\\tIn depth experience on PeopleSoft Update Manager (PUM) for applying PeopleTools patches, Application Bundles on PeopleTools and HRMS 9.2 and FSCM 9.2 Applications\\n\\n\\tIn Depth Experience in Integration Broker setup.\\n\\n\\tExperience in Secure Socket Layer (SSL) implementation on PeopleSoft.\\n\\n\\tProficiency in creation and configuration and administration of Application Server Domains, Process scheduler Domains, Web Server Domains\\n\\n\\tExperience in Reconfiguration of Application Server Domains, Process Scheduler Server Domains and Web Server domains.\\n\\n\\tExperience in Project Migrations using Application Designer and Data Migrations using Data Mover\\n\\n\\tExperience in generating Pre-compare reports and Post Compare Reports between various environments.\\n\\n\\n\\n\\tExperience in setting up client Work Station for developers and testers.\\n\\n\\tExperience in resolving developer issues like resetting passwords, locking and unlocking user accounts.\\n\\n\\tMaintain the workflow of PeopleSoft users.\\n\\n\\tWorked on applying Patches, Bundles and Tax Updates using Change Assistant and\\n\\nPeopleSoft Update Manager (PUM)\\n\\n\\tInstalling and Configuring Change Assistant to apply bundles and tax-updates.\\n\\n\\tInvolved in setup configuration of Integration Broker in Financials and HCM Applications.\\n\\n\\tMaintaining integrity and internal consistency of the database using DDDAUDIT, SYSAUDIT, ALTERAUDIT reports periodically.\\n\\n\\tExperience on clearing the cache of all servers such as Application Server Domains, Web Server Domains and Process Scheduler servers on a regular basis.\\n\\n\\tMonitor the log files to find out bottleneck of the status of servers\\n\\n\\tMaintaining and troubleshooting various servers like Application Server domains, Process Scheduler Domains and Web Server Domains\\n\\n\\tRegularly involved in doing Database Cloning and Refreshing on PeopleSoft Instances.\\n\\n\\tExperience in Installing COBOL Software and compilation.\\n\\n\\tExperience in Tuning of Application Server Domains, Process Scheduler Domains and Web Server Domains.\\n\\n\\tIn Depth Experience in PeopleSoft Database Performance and Tuning\\n\\n\\tExperience in Data Guard (DR) support\\n\\n\\tExperience in Database patching.\\n\\n\\tExperience in PeopleSoft Database Refreshes using RMAN.\\n\\n\\tGood team player and a proven individual contributor\\n\\n\\n\\n\\n\\nArea of Technical Skills:\\n\\n\\n\\nTECHNOLOGY\\n\\nTOOLS\\n\\nERP TOOLS\\n\\nPeople Tools 8.57,8.56,8.55/8.54/8.53,Change Assistant, Integration Broker, Application Designer, Configuration Manager, PeopleSoft Update Manager (PUM) , SES and Data Mover.\\n\\n\\n\\nPeopleSoft HRMS/FSCM/CRM 9.0/9.1/9.2\\n\\nAPPLICATION SERVER\\n\\nTuxedo 10.3.6/12c R1/12c R2\\n\\nWEB SERVER\\n\\nWebLogic10.3/12c R1/12.1.3,12.2.1.3,12.2.1.4\\n\\nOPERATING SYSTEMS\\n\\nWindows Server 2012 R2/2008 R2/2003 Oracle Enterprise Linux 5.5/6.5/7\\n\\nHP-UX 11.31\\n\\nDATABASE\\n\\nOracle 12cR1/12cR2\\n\\nEducational Qualification:\\n\\nB.SC from Osmania university in 2017.\\n\\n\\n\\nProfessional experience:\\n\\n\\tWorked as PeopleSoft Administrator/ PeopleSoft DBA with Progile infotech Pvt LTD from July 2017 to till date.\\n\\nProject Experience and Achievement\\xe2\\x80\\x99s:\\n\\n\\n\\n\\n\\n\\n\\n\\n\\n\\t\\tClient\\t:\\tHartford Insurance Group, Hartford, CT.\\n\\n\\t\\tProject\\t:\\tInstall, Configure and Production Support of PeopleSoft Applications and Databases.\\n\\n\\t\\tEnvironment\\t:\\tPeople Tools 8.57,8.56,8.55 HRMS9.2, FSCM9.2, Oracle 12c,\\n\\nTuxedo 12cR2, Oracle WebLogic 12cR2, Windows Server 2012 R2, Oracle Enterprise Linux 5,6.\\n\\n\\t\\tRole\\t:\\tPeopleSoft Admin/PeopleSoft DBA\\n\\n\\t\\tDuration\\t:\\tJuly 2017 to till date\\n\\n\\n\\nRoles and Responsibilities:\\n\\n\\n\\n\\tMonitoring the day-to-day working of the system.\\n\\n\\tBuild Verification Test \\xe2\\x80\\x93 To check proper installation and running of all PeopleSoft components, processes and reports.\\n\\n\\tObject Migration between different instances involving compare reports, building objects etc.\\n\\n\\tInvolved in Implementation of PeopleSoft Internet Architecture (PIA) including Application Servers, Web Servers and Batch Servers.\\n\\n\\tHandled Security Management tasks like creating new user profiles, roles, permission lists and granting privileges.\\n\\n\\tHandled Application Management tasks like Applying Patches & Fixes.\\n\\n\\tConfigured workstation for PeopleSoft developers on their VM's for accessing PeopleTools like Application designer, Data Mover, Administrating Application Server and Process Scheduler Server using PSAdmin utility\\n\\n\\n\\n\\tMigration of all PeopleSoft projects to DEV, TEST and PROD instances.\\n\\n\\tAnalysis of production issues raised by clients and providing solutions.\\n\\n\\tReport Node configurations.\\n\\n\\tWorked on Project Migrations and Data Migrations.\\n\\n\\tGenerating Compare Reports.\\n\\n\\tDownloading Patches, Tax updates & applied to the environments and maintains the customizations for the PeopleSoft.\\n\\n\\tExperience in applying Patches, Bundles and Tax Updates using Change Assistant and\\n\\nPeopleSoft Update Manager (PUM)\\n\\n\\tInstalling and Configuring Change Assistant to apply Change packages and tax-updates.\\n\\n\\tAppling Patches for Demo, Dev, Test and Production Environments.\\n\\n\\tConfiguring and monitoring Process Scheduler and troubleshooting various issues related.\\n\\n\\n\\n\\tInvolved in the Performance of the databases and application by creating multiple domains across the instances\\n\\n\\t\\t\\tTroubleshooting  of  Application  Server  Domains,  Process Scheduler Domains\\tand\\tWeb Server Domains\\n\\n\\tConfigure Https and secure web server (SSL) administration\\n\\n\\tSetup load Balancer configuration and application server clustering setups / Master Process scheduler set up for high availability systems\\n\\n\\tPerformed data migration using data pump and data mover utilities\\n\\n\\tLoad balancing of Application server & Web server.\\n\\n\\tSetup Application Security using User Profiles, Roles and Permission lists.\\n\\n\\tRefreshing PeopleSoft test environment for synchronisation to production.\\n\\n\\t\\tMaintaining   integrity   and   internal   consistency   of   the   database\\tusing DDDAUDIT, SYSAUDIT, ALTERAUDIT reports periodically.\\n\\n\\tInvolved in 24/7 Production Support to clients.\\n\\n\\tChecked and cleared the application server cache on a regular basis as a maintenance process.\\n\\n\\tInstalled People Books and configured the Web Server to access People Books.\\n\\n\\tConfigured and maintained Report Nodes and Settings.\\n\\n\\tGenerating compare reports between various environments.\\n\\n\\tDocumenting all support issues with their resolutions and feedback.\\n\\n\\n\\n\\n\\n.\",\n",
       " b'PeopleSoft Administration\\n\\n \\n\\nVivekanand Sayana                                                                                                                                                                                                           \\t\\n\\n\\n\\nCareer Objective: \\n\\n\\n\\nWith my valid expertise of 7.5 years in PeopleSoft, I hope to enhance my skill set while adding value to the business, to enable implementation of solutions, which aid the company\\xe2\\x80\\x99s objectives, understanding and anticipating the needs, interests and motivations of the clients and to deliver on time, budget and to quality, delivering value through improving agility, quality and reliability\\n\\n\\n\\nProfessional Summary:\\n\\n\\n\\nOver 7.5 years of experience in PeopleSoft implementation, Support, configuration, migrations, maintenance and administration of Application Server Domains, Process Scheduler Servers, Web Server Domains, PeopleTools Upgrades, Application Updates, PUM, SES and Elastic Search. \\n\\nExperience in integration activities between various\\xc2\\xa0PeopleSoft\\xc2\\xa0Financials, HRMS, EPM and FSCM environments.\\xc2\\xa0\\n\\nExtensively involved in resolving Performance issues.\\n\\nExperience in driving Infrastructure Hardware Upgrades, Disaster Recovery Activities.\\xc2\\xa0\\n\\nExperience in Health Check for all the PeopleSoft Environments\\n\\nExperience in PeopleSoft Database Refreshes from Production to Development and Testing Environments\\n\\nExperience in Performance and Tuning of Application Servers, Web Servers\\n\\nPerformed 3 full life cycle implementations in PeopleSoft.\\n\\nImplemented PeopleSoft Internet Architecture (PIA) on Demo, Test, Development and Production instances.\\n\\nExperience in PeopleSoft Implementation on PeopleTools 8.56, FSCM 9.2, Web Logic 12.2.1, Tuxedo 12.2.2 and Oracle 12c R2 on Oracle Enterprise Linux 7 and Windows 2012 R2.\\n\\nExperience in PeopleSoft Installations of PeopleTools 8.55, HCM 9.2, WebLogic 12.1.3,\\n\\nTuxedo 12.1.3 and People Books 8.55 on Oracle Enterprise Linux 6 and Windows 2012R2\\n\\nExperience in PeopleSoft Installations of PeopleTools 8.54, HCM 9.2, Weblogic 12.1.2, Tuxedo 12.1.0 and People books 8.54 on windows 2012 R2 and Oracle Enterprise Linux 6.\\n\\nExperience in PeopleSoft Installations of PeopleTools 8.53, FSCM 9.2, Weblogic 10.3.6, Tuxedo 10.3 and People Books 8.53 on windows 2008 R2 and Oracle Enterprise Linux 5.4\\n\\nExperience in PeopleSoft Installations of PeopleTools 8.50, HCM 9.1,Weblogic 10.3, Tuxedo 10.3, Oracle 10g R2 and People Books 8.50 on Windows Server 2003 and Oracle Enterprise Linux 5.\\n\\nIn depth experience on PeopleSoft Update Manager (PUM) for applying PeopleTools patches, Application Bundles on PeopleTools 8.53, 8.54 and HRMS 9.2 and FSCM 9.2 Applications, Using DPK\\xe2\\x80\\x99s to deploy PUM latest Images and DPK\\xe2\\x80\\x99s to Install, Middle tier, App Tier and PeopleTools.\\n\\nIn Depth Experience in Integration Broker Troubleshooting.\\n\\nProficiency in creation and configuration and administration of Application Server Domains, Process scheduler Domains, Web Server Domains \\n\\nExperience in Reconfiguration of Application Server Domains, Process Scheduler Server Domains and Web Server domains.\\n\\nExperience in Project Migrations using Application Designer and Data Migrations using Data Mover\\n\\nExperience in generating Pre-compare reports and Post Compare Reports between various environments.\\n\\nExperience in setting up client Work Station for developers and testers.\\n\\nExperience in resolving developer issues like resetting passwords, locking and unlocking user accounts.\\n\\nMaintain the workflow of PeopleSoft users.\\n\\nWorked on applying Patches, Bundles and Tax Updates using Change Assistant and PeopleSoft Update Manager (PUM)\\n\\nInstalling and Configuring Change Assistant to apply bundles and tax-updates.\\n\\nInvolved in setup configuration of Integration Broker in Financials and HCM Applications.\\n\\nMaintaining integrity and internal consistency of the database using DDDAUDIT, SYSAUDIT, ALTERAUDIT reports periodically.\\n\\nExperience in load balancing of Application server domains and Process Scheduler Servers.\\n\\nExperience on clearing the cache of all servers such as Application Server Domains, Web Server Domains and Process Scheduler servers on a regular basis.\\n\\nMonitor the log files to find out bottleneck of the status of servers\\n\\nExperience in Troubleshooting of Data mover while installing PeopleSoft.\\n\\nMaintaining and troubleshooting various servers like Application Server domains, Process Scheduler Domains and Web Server Domains\\n\\nExperience in Tuning of Application Server Domains, Process Scheduler Domains and Web Server Domains.\\n\\nStrong communication, collaboration, team building and inter-personal skills\\n\\nGood team player and a proven Individual contributor\\n\\n\\n\\nArea of Technical Skills:\\n\\n\\t\\t\\n\\n                  TECHNOLOGY\\n\\n                  TOOLS\\n\\nERP TOOLS\\n\\nPeople Tools 8.56/8.55/8.54/8.53/8.50,Change Assistant, Integration Broker, Application Designer, Configuration Manager, PeopleSoft Update Manager (PUM) , SES and Data Mover.\\n\\nAPPLICATIONS\\n\\nPeopleSoft HRMS/FSCM/CRM 9.0/9.1/9.2\\n\\nAPPLICATION SERVER\\n\\nTuxedo 8.1/10.3.6/12c R1/12c R2\\n\\nWEB SERVER\\n\\nWeb Logic 8.1/10.3/12c R1/12.1.3\\n\\nOPERATING SYSTEMS\\n\\nWindows Server 2012 R2/2008 R2/2003\\n\\nRedhat Enterprise Linux 5/6\\n\\nOracle Enterprise Linux 5.5/6/7\\n\\nDATABASE\\n\\nOracle 10gR2/11gR2/12cR1/12cR2\\n\\nEducational Qualification:\\n\\n\\n\\nMBA (HR & Marketing) from KBN College, Nagarjuna University, Vijayawada in 2011.\\n\\n\\n\\nB.Sc (Bachelor of Science) from SRR & CVR College, Nagarjuna University, Vijayawada in 2009.\\n\\nProfessional experience:\\n\\n\\t\\n\\n\\tWorked as PeopleSoft Systems Administrator in Capgemini Technology Services India Limited from Feb 2020 to Sept 2020.\\n\\n\\tWorked as PeopleSoft Systems Administrator in Cognizant Technology Solutions India Pvt Ltd from Oct 2017 to Sept 2019.\\n\\n\\tWorked as Associate - PeopleSoft Administrator with A&A Innovative Solutions Pvt. Ltd from Jan 2013 to Oct 2017.\\n\\n\\t\\n\\nProject Experience and Achievement\\xe2\\x80\\x99s\\n\\n\\n\\nClient\\t\\t\\t: \\tDisney (Fox Entertainment) & Allegis \\n\\n\\n\\nEnvironment \\t\\t:\\tHCM, FSCM & ELM\\xc2\\xa09.2, People Tools 8.56, Oracle 12c, \\n\\n                                                WebLogic 12.2.1, Tuxedo 12.2.2, Red Hat Enterprise Linux 6.      \\n\\n\\n\\nRole\\t\\t\\t:           Sr. PeopleSoft Admin/PeopleSoft DBA \\n\\n                                                \\n\\nDuration                     :           Feb 2020  to Sept 2020\\n\\n\\n\\n\\n\\nRoles and Responsibilities:\\n\\n\\n\\nInvolved in PeopleTools upgrade from PeopleTools 8.55 to 8.57\\n\\nInvolved in Application update from FSCM 9.2.017 to FSCM 9.2.032\\n\\nStrong experience on\\xc2\\xa0PeopleSoft\\xc2\\xa0PUM server installation and troubleshooting.\\n\\nApplying fixes, patches and bundles for\\xc2\\xa0PeopleSoft\\xc2\\xa0FSCM92 and HRMS92 using\\xc2\\xa0PeopleSoft\\xc2\\xa0PUM.\\xc2\\xa0\\n\\nWorked intensively on performance tuning of PIA architecture based on load testing and up scaling architecture to support the expected load\\n\\nCreated a dedicated Integration Broker gateway as message volume was high and for easy maintenance.\\xc2\\xa0\\n\\nRedesigned and Configured High availability and load balancing for existing\\xc2\\xa0PeopleSoft\\xc2\\xa0\\nInternet Architecture.\\xc2\\xa0\\n\\nResponsible for the daily maintenance and troubleshooting of complex hosted solutions\\nMonitoring the day-to-day working of the system.\\n\\nHandled Application Management tasks like Applying Patches & Fixes.\\n\\nLoad balancing of Application server & Web server, Performed Database Refreshes, Imports, Exports and Backups.\\n\\nObject Migration between different instances involving compare reports, building objects etc. \\n\\nMonitoring Application servers, web servers and process scheduler errors\\n\\nCheck the reports for status Blocked, queued, processing, no success etc. Error Log Attached, Check the Reports Ran to Success\\n\\nPerform Remote call test\\n\\nCheck the integration broker\\n\\nCheck the Server Disk space, Load level, PeopleSoft ping under acceptable level\\n\\nStatus of Housekeeping activities (Checking and Cleaning up the logs)\\n\\nDaily perform Project Migrations and Data Migrations.\\n\\nGenerate Compare Reports between various environments.\\n\\nChecked and cleared cache on all servers such as Application Servers, Web Servers, and Process Scheduler Servers on a regular basis as a maintenance process.\\n\\nMaintain the workflow of PeopleSoft users.\\n\\nDownload Updates and Fixes and apply to the environments and maintain the customizations for the PeopleSoft.\\n\\nDownload PeopleSoft Update Image and Apply to the Applications.\\n\\nApplied Patches and Tax Updates.\\n\\nInstalled and Configured Change Assistant to apply PUM image. \\n\\nMaintaining integrity and internal consistency of the database using DDDAUDIT, SYSAUDIT, ALTERAUDIT reports periodically.\\n\\nPerformed Jolt failover and load balancing of Application Server Domains and Process Scheduler Servers Domains.\\n\\nInvolved in the Performance of the databases and application by creating multiple domains across the instances.\\n\\nMonitor the log files to find out bottleneck of the status of servers\\n\\nTroubleshoot of Data mover while installing PeopleSoft.\\n\\nTroubleshooting of Process Scheduler servers if the jobs are stacked on a Queue.\\n\\nMaintain and troubleshoot various servers like Application Servers, Process Scheduler Servers and Web Servers.\\n\\n\\t Involved in doing Refreshing on PeopleSoft instances weekly twice or thrice.\\n\\n\\tDocumenting all support issues with their resolutions and feedback.\\n\\n\\n\\n\\n\\nClient\\t\\t\\t: \\tInter-Continental Hotels Group\\n\\n\\n\\nEnvironment \\t:\\tFSCM\\xc2\\xa09.2, People Tools 8.56, Oracle 12c, \\n\\n                                                WebLogic 12.2.1, Tuxedo 12.2.2, Red Hat Enterprise Linux 6.      \\n\\n\\n\\nRole\\t:           Sr. PeopleSoft Admin/PeopleSoft DBA \\n\\n                                                \\n\\nDuration                     :           Oct 2017 to Sept 2019\\n\\n\\n\\n\\n\\nRoles and Responsibilities:\\n\\n\\n\\nInvolved in PeopleTools upgrade from PeopleTools 8.54 to 8.55\\n\\nInvolved in Application update from FSCM 9.2.006 to FSCM 9.2.016\\n\\nStrong experience on\\xc2\\xa0PeopleSoft\\xc2\\xa0PUM server installation and troubleshooting.\\n\\nApplying fixes, patches and bundles for\\xc2\\xa0PeopleSoft\\xc2\\xa0FSCM92 and HRMS92 using\\xc2\\xa0PeopleSoft\\xc2\\xa0PUM.\\xc2\\xa0\\n\\nPerform Remote call test\\n\\nCheck the integration broker\\n\\nCheck the Server Disk space, Load level, PeopleSoft ping under acceptable level\\n\\nStatus of Housekeeping activities (Checking and Cleaning up the logs)\\n\\nDaily perform Project Migrations and Data Migrations.\\n\\nGenerate Compare Reports between various environments.\\n\\nChecked and cleared cache on all servers such as Application Servers, Web Servers, and Process Scheduler Servers on a regular basis as a maintenance process.\\n\\nMaintain the workflow of PeopleSoft users.\\n\\nDownload Updates and Fixes and apply to the environments and maintain the customizations for the PeopleSoft.\\n\\nDownload PeopleSoft Update Image and Apply to the Applications.\\n\\nApplied Patches and Tax Updates.\\n\\nInstalled and Configured Change Assistant to apply PUM image. \\n\\nMaintaining integrity and internal consistency of the database using DDDAUDIT, SYSAUDIT, ALTERAUDIT reports periodically.\\n\\nPerformed Jolt failover and load balancing of Application Server Domains and Process Scheduler Servers Domains.\\n\\nInvolved in the Performance of the databases and application by creating multiple domains across the instances\\n\\nMonitor the log files to find out bottleneck of the status of servers\\n\\nSetup Master/Slave load balance for pub/sub services\\n\\nWorked intensively on performance tuning of PIA architecture based on load testing and up scaling architecture to support the expected load\\n\\nCreated a dedicated Integration Broker gateway as message volume was high and for easy maintenance.\\xc2\\xa0\\n\\nRedesigned and Configured High availability and load balancing for existing\\xc2\\xa0PeopleSoft\\xc2\\xa0\\nInternet Architecture.\\xc2\\xa0\\n\\nResponsible for the daily maintenance and troubleshooting of complex hosted solutions\\nMonitoring the day-to-day working of the system.\\n\\nHandled Application Management tasks like Applying Patches & Fixes.\\n\\nLoad balancing of Application server & Web server, Performed Database Refreshes, Imports, Exports and Backups.\\n\\nObject Migration between different instances involving compare reports, building objects etc. \\n\\nMonitoring Application servers, web servers and process scheduler errors\\n\\nCheck the reports for status Blocked, queued, processing, no success etc. Error Log Attached, Check the Reports Ran to Success\\n\\nTroubleshoot of Data mover while installing PeopleSoft.\\n\\nTroubleshooting of Process Scheduler servers if the jobs are stacked on a Queue.\\n\\nMaintain and troubleshoot various servers like Application Servers, Process Scheduler Servers and Web Servers.\\n\\n\\t Involved in doing Refreshing on PeopleSoft instances weekly twice or thrice.\\n\\n\\tGenerating weekly status reports on all support issues to delivery manager\\n\\n\\tDocumenting all support issues with their resolutions and feedback.\\n\\n\\n\\n\\n\\nClient\\t\\t\\t: \\tBaylor\\xc2\\xa0Scott and White\\n\\n\\n\\nEnvironment\\t:           HRMS\\xc2\\xa09.2, People Tools 8.55, Oracle 12c, \\n\\n                                                WebLogic 12.1.2, Tuxedo 12.1.1, Red Hat Enterprise Linux 6.      \\n\\n                       \\n\\nRole\\t:           Sr. PeopleSoft Admin/PeopleSoft DBA \\n\\n                                                \\n\\nDuration                     :           Jun 2013 to Oct 2017\\n\\n\\n\\nRoles and Responsibilities:\\n\\n\\n\\nStrong experience on\\xc2\\xa0PeopleSoft\\xc2\\xa0PUM server installation and troubleshooting.\\n\\nApplying fixes and patches bundles for\\xc2\\xa0PeopleSoft\\xc2\\xa0FSCM92 and HRMS92 using\\xc2\\xa0PeopleSoft\\xc2\\xa0PUM.\\xc2\\xa0\\n\\nSetup Master/Slave load balance for pub/sub services\\n\\nWorked intensively on performance tuning of PIA architecture based on load testing and up scaling architecture to support the expected load\\n\\nCreated a dedicated Integration Broker gateway as message volume was high and for easy maintenance.\\xc2\\xa0\\n\\nRedesigned and Configured High availability and load balancing for existing\\xc2\\xa0PeopleSoft\\xc2\\xa0\\nInternet Architecture.\\xc2\\xa0\\n\\nResponsible for the daily maintenance and troubleshooting of complex hosted solutions\\nMonitoring the day-to-day working of the system.\\n\\nHandled Application Management tasks like Applying Patches & Fixes.\\n\\nLoad balancing of Application server & Web server, Performed Database Refreshes, Imports, Exports and Backups.\\n\\nObject Migration between different instances involving compare reports, building objects etc. \\n\\nMonitoring Application servers, web servers and process scheduler errors\\n\\nCheck the reports for status Blocked, queued, processing, no success etc. Error Log Attached, Check the Reports Ran to Success\\n\\nPerform Remote call test\\n\\nCheck the integration broker\\n\\nCheck the Server Disk space, Load level, PeopleSoft ping under acceptable level\\n\\nStatus of Housekeeping activities (Checking and Cleaning up the logs)\\n\\nDaily perform Project Migrations and Data Migrations.\\n\\nGenerate Compare Reports between various environments.\\n\\nChecked and cleared cache on all servers such as Application Servers, Web Servers, and Process Scheduler Servers on a regular basis as a maintenance process.\\n\\nMaintain the workflow of PeopleSoft users.\\n\\nDownload Updates and Fixes and apply to the environments and maintain the customizations for the PeopleSoft.\\n\\nDownload PeopleSoft Update Image and Apply to the Applications.\\n\\nApplied Patches and Tax Updates.\\n\\nInstalled and Configured Change Assistant to apply PUM image.\\n\\nPerform setup of Integration Broker between various environments for HRMS and FSCM. \\n\\nMaintaining integrity and internal consistency of the database using DDDAUDIT, SYSAUDIT, ALTERAUDIT reports periodically.\\n\\nPerformed Jolt failover and load balancing of Application Server Domains and Process Scheduler Servers Domains.\\n\\nInvolved in the Performance of the databases and application by creating multiple domains across the instances\\n\\nMonitor the log files  to find out bottleneck of the status of servers\\n\\nTroubleshoot of Data mover while installing PeopleSoft.\\n\\nTroubleshooting of Process Scheduler servers if the jobs are stacked on a Queue.\\n\\nMaintain and troubleshoot various servers like Application Servers, Process Scheduler Servers and Web Servers.\\n\\n\\t Involved in doing Refreshing on PeopleSoft instances weekly twice or thrice.\\n\\n\\tGenerating weekly status reports on all support issues to delivery manager\\n\\n\\tDocumenting all support issues with their resolutions and feedback.',\n",
       " b'Hari Narayana \\t\\t              \\n\\n\\t\\n\\n\\n\\n\\n\\n\\n\\n\\n\\n\\n\\n\\n\\n\\n\\nPROFESSIONAL SUMMARY\\n\\nHaving 4.6 years of experience in PeopleSoft application enhancement, implementation, Data conversion, Support and Upgrade projects. Well experienced on People tools and having Functional knowledge HCM and FSCM Applications.\\n\\nSkill\\n\\n\\n\\n\\n\\n\\n\\nPeople Tools\\n\\nApplication Designer, Application Engine, People Code, Application Packages\\n\\nPeopleSoft Application\\n\\nFSCM and HCM Applications\\n\\nFSCM Modules\\n\\nProcurement, PO, AP, AR, Billing and GL\\n\\nHCM Modules\\n\\nRecruiting, Performance Management, WAF, Benefits\\n\\nInterfaces\\n\\nComponent Interface and File Layout\\n\\nOther Languages\\n\\nC, C++\\n\\nDatabase \\n\\nOracle, SQL Server, DB2\\n\\nOperating System\\n\\nWindows, UNIX\\n\\n\\n\\n\\n\\nEDUCATION\\n\\n\\n\\n\\n\\n\\n\\nBachelor of Technology (B-Tech) from JNTU-K\\n\\n\\t   Currently Working as a People Soft Consultant in Randstad, Hyderabad\\n\\n\\n\\n\\n\\nRELEVANT EXPERIENCE\\n\\nPeopleSoft Consultant \\xe2\\x80\\x93 Randstad, Hyderabad, Andhra Pradesh, India (June 2020 to till date)\\n\\nProject:  Randstad (Enhancements)\\n\\nClient:    Randstad Staffing \\n\\nResponsibilities:\\n\\n\\tAnalyze the requirement documents to understand the customer business requirement.\\n\\n\\tProvide the technical approach for each FDD assign me.\\n\\n\\tCustomize the system applications and designed many objects from scratch.\\n\\n\\tWrite people code to implement the business logic.\\n\\n\\tDesign custom Application engine programs to process the data.\\n\\n\\tDesign Application engine programs to send notifications.\\n\\n\\tResponsible to prepare unit test cases and technical design documents.\\n\\n\\tResponsible to support SIT and UAT.\\n\\n\\n\\nEnvironment: People Tools (Application Designer, Application Engine, People Code, Component Interface, Application Packages), PeopleSoft HCM, Oracle, Windows.\\n\\n\\n\\n\\n\\n\\n\\n\\n\\n\\n\\nTechnical Associate \\xe2\\x80\\x93 Verizon, Hyderabad, Andhra Pradesh, India (Dec 2018 to May-2020)\\n\\nProject:  Verizon Wireless (Development)\\n\\nClient:    Verizon\\n\\nResponsibilities:\\n\\n\\tAnalyze the requirement documents to understand the customer business requirement.\\n\\n\\tProvide the technical approach for each FDD assign me.\\n\\n\\tCustomize the system applications and designed many objects from scratch.\\n\\n\\tWrite people code to implement the business logic.\\n\\n\\tDesign custom Application engine programs to process the data.\\n\\n\\tDesign Application engine programs to send notifications.\\n\\n\\tImplemented component interface program to load data into people soft.\\n\\n\\tUsed file layout in inbound programs.\\n\\n\\tResponsible to prepare unit test cases and technical design documents.\\n\\n\\tResponsible to support SIT and UAT.\\n\\n\\t\\t\\t\\n\\nEnvironment: People Tools (Application Designer, Application Engine, People Code, Component Interface, Application Packages), PeopleSoft FSCM 9.1, Oracle, Windows.\\n\\n\\n\\n\\n\\nSoftware Engineer \\xe2\\x80\\x93 HSBC, Hyderabad, India (Aug 2016 to Nov 2018)\\n\\nProject:  HSBC (Upgrade Project)\\n\\nClient:    HSBC Bank\\n\\nResponsibilities:\\n\\n\\tAnalysis and Understand the Source and Target system business process.\\n\\n\\tCompare the objects between source and targets and identify the changes.\\n\\n\\tRetrofit all the objects based on compare reports.  \\n\\n\\tUnit testing and prepare unit Test cases on each retrofit.\\n\\n\\tDesign and Development new modifications required by customer.\\n\\n\\tPrepared Technical design documents on each retrofit and enhancement.\\n\\n\\tAdd new text catalogues for various languages.\\n\\n\\tResponsible for overseeing the Quality procedures related to the project. \\n\\nResponsible for move objects from Development to SIT Environment\\n\\n\\t\\n\\nEnvironment: People Tools (Application Designer, Application Engine, People Code), PeopleSoft HCM 9.1, DB2, Windows, UNIX.\\n\\n\\n\\n\\n\\n\\n\\n\\t\\n\\nPage 1 of 3 \\n\\nPage 1 of 3 \\n\\n\\n\\n\\n\\n\\n\\nPage 1 of 3 \\n\\nPage 1 of 3 \\n\\n\\xc2\\xa9 2012 Ciber, Inc.  All rights reserved.\\n\\n\\xc2\\xa9 2012 Ciber, Inc.  All rights reserved.',\n",
       " b'Murali\\t\\t       \\n\\n\\t\\n\\n\\n\\n\\n\\n\\n\\n\\n\\n\\n\\n\\n\\n\\n\\nPROFESSIONAL SUMMARY\\n\\nHaving 4.6 years of experience in PeopleSoft application enhancement, Support and Upgrade projects. Well experienced on People tools and having Functional knowledge HCM and FSCM Applications.\\n\\nSkill\\n\\n\\n\\n\\n\\n\\n\\nPeople Tools\\n\\nApplication Designer, Application Engine, People Code, Application Packages\\n\\nPeopleSoft Application\\n\\nFSCM and HCM Applications\\n\\nFSCM Modules\\n\\nProcurement, PO, AP, AR, Billing and GL\\n\\nHCM Modules\\n\\nRecruiting, Performance Management, WAF, Benefits\\n\\nInterfaces\\n\\nComponent Interface and File Layout\\n\\nOther Languages\\n\\nC, C++\\n\\nDatabase \\n\\nOracle, SQL Server, DB2\\n\\nOperating System\\n\\nWindows, UNIX\\n\\n\\n\\n\\n\\nEDUCATION\\n\\n\\n\\n\\n\\nMaster of computer applications, Vinayaka Missions University, Chennai, Tamilnadu, India (3year program- 2010).\\n\\n\\n\\nRELEVANT EXPERIENCE\\n\\nSenior Consultant \\xe2\\x80\\x93 Randstad, Hyderabad, Andhra Pradesh, India (June 2020 to till date)\\n\\n\\n\\nProject:  Randstad (Enhancements)\\n\\nClient:    Randstad Staffing \\n\\nResponsibilities:\\n\\n\\tAnalyze the requirement documents to understand the customer business requirement.\\n\\n\\tProvide the technical approach for each FDD assign me.\\n\\n\\tCustomize the system applications and designed many objects from scratch.\\n\\n\\tWrite people code to implement the business logic.\\n\\n\\tDesign custom Application engine programs to process the data.\\n\\n\\tDesign Application engine programs to send notifications.\\n\\n\\tResponsible to prepare unit test cases and technical design documents.\\n\\n\\tResponsible to support SIT and UAT.\\n\\n\\n\\nEnvironment: People Tools (Application Designer, Application Engine, People Code, Component Interface, Application Packages), PeopleSoft HCM, Oracle, Windows.\\n\\n\\n\\n\\n\\n\\n\\n\\n\\n\\n\\nSr. Technical Associate \\xe2\\x80\\x93 Verizon, Hyderabad, Andhra Pradesh, India (Dec 2018 to May-2020)\\n\\n\\n\\nProject:  Verizon Wireless (Development)\\n\\nClient:    Verizon\\n\\nResponsibilities:\\n\\n\\tAnalyze the requirement documents to understand the customer business requirement.\\n\\n\\tProvide the technical approach for each FDD assign me.\\n\\n\\tCustomize the system applications and designed many objects from scratch.\\n\\n\\tWrite people code to implement the business logic.\\n\\n\\tDesign custom Application engine programs to process the data.\\n\\n\\tDesign Application engine programs to send notifications.\\n\\n\\tImplemented component interface program to load data into people soft.\\n\\n\\tUsed file layout in inbound programs.\\n\\n\\tResponsible to prepare unit test cases and technical design documents.\\n\\n\\tResponsible to support SIT and UAT.\\n\\n\\t\\t\\t\\n\\nEnvironment: People Tools (Application Designer, Application Engine, People Code, Component Interface, Application Packages), PeopleSoft FSCM 9.1, Oracle, Windows.\\n\\n\\n\\nSenior Software Engineer \\xe2\\x80\\x93 HSBC, Hyderabad, India (Aug 2016 to Nov 2018)\\n\\n\\n\\nProject:  HSBC (Upgrade Project)\\n\\nClient:    HSBC Bank\\n\\nResponsibilities:\\n\\n\\tAnalysis and Understand the Source and Target system business process.\\n\\n\\tCompare the objects between source and targets and identify the changes.\\n\\n\\tRetrofit all the objects based on compare reports.  \\n\\n\\tUnit testing and prepare unit Test cases on each retrofit.\\n\\n\\tDesign and Development new modifications required by customer.\\n\\n\\tPrepared Technical design documents on each retrofit and enhancement.\\n\\n\\tAdd new text catalogues for various languages.\\n\\n\\tResponsible for overseeing the Quality procedures related to the project. \\n\\nResponsible for move objects from Development to SIT Environment\\n\\n\\t\\n\\nEnvironment: People Tools (Application Designer, Application Engine, People Code), PeopleSoft HCM 9.1, DB2, Windows, UNIX.\\n\\n\\n\\n\\n\\n\\n\\n\\n\\n\\t\\n\\nPage 1 of 3 \\n\\nPage 1 of 3 \\n\\n\\n\\n\\n\\n\\n\\nPage 1 of 3 \\n\\nPage 1 of 3 \\n\\n\\xc2\\xa9 2012 Ciber, Inc.  All rights reserved.\\n\\n\\xc2\\xa9 2012 Ciber, Inc.  All rights reserved.',\n",
       " b'Priyabrata Hota\\n\\n\\n\\n\\n\\nCAREER OBJECTIVE\\t\\t\\n\\n\\n\\nPursuing Peoplesoft Executive role, having an overall experience of 3.6 Years in Financial Supply Chain Management and processes include Modification, Testing, and Supporting in PeopleSoft FSCM modules.\\n\\n\\n\\n PROFESSIONAL SKILL\\t\\t\\n\\n\\n\\nFunctional: Purchasing, Inventory, Billing, Sound knowledge Account Payable, Sound knowledge in Peoplesoft Security\\n\\nTechnical: PS Query, Basic knowledge in Peoplesoft Security, Application Designer, Peoplecode, SQL\\n\\nTOOLS: People Tools, ORACLE SQL Developer\\n\\nDatabase: ORACLE\\n\\n\\n\\nPROFESSIONAL SUMMARY\\n\\nProject # 1\\n\\nModule:   Accounts Payables \\n\\nClient\\t: Accounts Team Aptara \\n\\n\\n\\nRole\\t: Developer\\n\\nTechnologies Used\\t: Crystal Reports, People Tools, Application Designer, Reporting Tools\\n\\n\\n\\n\\n\\nApplication Designer: By using this tool we have created page which contains run control record and that page add in the component and register the component so that its reflected in the PIA(pure internet architecture)\\n\\nPeople Tools:          we have created a permission list by the help of people Tools and that permission                list to a separate role so that selected user can access the page.\\n\\n we have also created a process to run the crystal through this tools so that the output will visible through process monitor.\\n\\nReporting Tools:      we have created PS queries by the help of Reporting Tools for main report and for sub report in the crystal report.\\n\\nCrystal Reports:      by this tool we can used the PS queries, formula fields, running Total fields to get the required output\\n\\n\\n\\nProject # 2\\n\\nModule:   Purchasing\\n\\nClient\\t: Admin Team\\n\\n\\n\\nRole\\t: Developer\\n\\nTechnologies Used\\t: People Tools\\n\\n\\n\\nAs for the client requirement for requisition purpose we have to create a new origin for admin so that any requisition raise through that origin it\\xe2\\x80\\x99s only for Admin purpose.\\n\\nto get the requisition approval flow for admin we have created the origin for admin and add that origin in the route control profile by the help of People Tools. And that route control profile\\n\\nadded in the approver user ids to get the work done.\\n\\n\\n\\n\\n\\n.\\n\\n\\xe2\\x80\\xa2 Tracking the Defects to Closure and Defects Verification.\\n\\n\\xe2\\x80\\xa2 Status meetings with Client.\\n\\n\\xe2\\x80\\xa2 Creating Peoplesoft User id as per the User requirement\\n\\n\\xe2\\x80\\xa2 creating Origin, route control profile, Roles for requisition.\\n\\n\\xe2\\x80\\xa2 Handling Requisition, Purchase Order, Receipt and Inventory related issue.\\n\\n\\xe2\\x80\\xa2 creating Billing specialist etc. as per the requirement from the user, also resolve the bug (e.g. if invoice not get printed etc.).\\n\\n\\xe2\\x80\\xa2 Handling journal error issues (e.g. its might be combo error, amount difference, open period error or zero line error)\\n\\n\\n\\n\\xe2\\x80\\x8bFUNCTIONAL SUMMARY\\n\\n\\n\\nOracle PeopleSoft Application (Finance) 8.9\\n\\nModules Handled: Resource Management of FSCM\\n\\nPurchasing\\n\\nInventory\\n\\nBilling\\n\\nSound knowledge in Account Payable\\n\\nSound knowledge of PeopleSoft security\\n\\n\\n\\nTECHNICAL SUMMARY\\n\\n\\n\\nPrimary Skills: PS Query, Application Designer (Field, Record, Page, Component, Menu), SQL\\n\\nSecondary Skills: Peoplecode\\n\\nTOOLS: People Tools, ORACLE SQL Developer\\n\\nDatabase: ORACLE\\n\\n\\n\\nEDUCATION\\t\\t\\t\\t\\t\\n\\nB.Tech in Electrical and Electronics Engineering, Indus college of engineering, Biju Patnaik University of Technology, Orissa from0\\n\\n\\n\\nPERSONAL VITAE\\n\\n\\n\\nDate of Birth\\t: 10th Jan 1991\\n\\nLanguages \\t: English, Hindi, Odia\\n\\nNationality\\t: Indian\\n\\nGender\\t\\t: Male\\n\\n.\\n\\n\\n\\nDECLARATION\\n\\n\\n\\nI do hereby declare that the information given above is true and correct to my knowledge and belief.\\n\\n\\t\\t\\t\\t\\t\\t\\n\\nDate:                                         \\t\\t\\t\\t\\t\\t    \\t    Priyabrata Hota.',\n",
       " b'Tanna Sujatha \\n\\n\\n\\n\\n\\n\\n\\nOBJECTIVE\\n\\nSeeking a challenging role in the area of IT to work in an organization where I can utilize my functional knowledge to provide the best solutions to the business.\\n\\n\\n\\nPROFESSIONAL SUMMARY:\\n\\n\\n\\n\\t\\tFunctional Expertise in the below PeopleSoft Finance modules\\n\\n\\tPurchase\\n\\n\\tAccount Payables\\n\\n\\t\\tExperienced in working with Reporting tools like PS-query.\\n\\n\\t\\tEnd-End functional knowledge of AP & PO modules and handled various change requests from the user.\\n\\n\\n\\nSYNOPSIS\\n\\n\\t\\tEnergetic and result oriented professional with 3.6 years of experience in IT. Extended expertise in PeopleSoft Financials 9.2 in the area of design, maintenance and production support. Deep understanding of technology with focus on delivering business solutions. Presently working as Sr. System Engineer\\n\\n\\t\\tExcellent decision-making skills with a positive approach.\\n\\n\\t\\tDedicated and highly ambitious to achieve personal goals as well as the organizational goals.\\n\\n\\t\\tAbility to build new territories and expand opportunities towards the achievement of stated targets.\\n\\n\\n\\n\\n\\nEDUCATION\\n\\n\\n\\n\\tBTECH from KAUSHIK COLLEGE OF ENGINEERING, Visakhapatnam in 2015 with an academic percentage of 63%.\\n\\n\\n\\n\\tPUC from NARAYANA junior college Visakhapatnam in 2011 with an academic percentage of 74.2%.\\n\\n\\n\\n\\tS.S.C from ZP High School, BURJA in 2009 with an academic percentage of 71.1%.\\n\\n\\n\\nSOFTWARE PROFICIENCY\\n\\n\\n\\n\\tPeopleSoft Functional:\\tPurchase, Account Payables, Vendor Management\\n\\n\\tDatabases:\\tOracle SQL Developer.\\n\\n\\tReporting Tools:\\tPS Query \\n\\n\\t\\n\\nWORK HISTORY\\n\\n\\t\\tCompany: Datum Technologies                                                   (Mar\\xe2\\x80\\x9917-Present) \\n\\n\\t\\tDesignation: Sr. System Engineer\\n\\n\\n\\nPROJECTS HANDLED\\n\\n\\n\\nProject- #1:\\n\\n(Jul\\xe2\\x80\\x9917 \\xe2\\x80\\x93Present)\\n\\nProject Name: Datum (PeopleSoft FSCM Maintenance and Support)\\n\\n\\tClient:\\tDATUM\\n\\n\\tRole:\\tSr. System Engineer\\n\\n\\tDuration:\\tJul\\xe2\\x80\\x9917\\xe2\\x80\\x93 Present\\n\\n\\tTeam Size:\\t6members\\n\\n\\n\\nDescription:\\n\\nThis is a maintenance and Production Batch Support project. Maintenance involves working on the tickets which needs customization, Setup and enhancements for creating or modifying the PeopleSoft objects. Production support involves monitoring the batch jobs scheduled.\\n\\nRoles and Responsibilities:\\n\\n\\t\\tMonitoring of Batch jobs and resolving the job failures on time.\\n\\n\\t\\tUnit testing and documentation as per organizational requirement.\\n\\n\\t\\tDocumentation of process flow as per the business requirement.\\n\\n\\t\\tInvolved in interactions with users for requirement/change gathering, UATs etc. Handling various requests from the user.\\n\\n\\t\\t\\n\\n\\t\\t\\n\\n\\t\\tPERSONAL DETAILS\\n\\n\\tDate of Birth:\\t1st July, 1994\\n\\n\\tLanguages:\\tEnglish, Telugu\\n\\n\\tGender:\\tFemale\\n\\n\\tMarital Status:\\tMarried\\n\\n\\tNationality\\tIndian\\n\\n\\tPresent Address:\\tPocharam, Hyderabad, Telangana, India.\\n\\n\\n\\nI hereby declare that the information furnished above is true to the best of my knowledge.\\n\\n\\n\\nSujatha Tanna',\n",
       " b'SQL DEVELOPER\\n\\nName: -   Bandi prem sai\\n\\n\\n\\nCareer Objective :-\\n\\n\\n\\nWilling to work under a challenging and professional environment with exposure to new Technologies as a T-SQL in the area of SQL SERVER 2012/2016 with Enterprise Portal and where there is ample scope for Organizational growth as well as individual growth.\\n\\n\\n\\nProfessional Experience :-\\n\\n\\n\\n2.6 years of experience in Microsoft SQL Server environment, with thorough knowledge of SQL Server 2012/2016 databases. \\n\\nExpertise in scripting T-SQL queries, Stored Procedures, User Defined Functions and Triggers.\\n\\nHands on experience in performing Error Handling and performance tuning in Stored Procedure.\\n\\nGood experienced in creating and using Temporary table, Table Variable and CTE\\xe2\\x80\\x99s (Common table Expressions)\\n\\nUsed Sub-Queries, Derived table and Joins to simplify complex queries involving multiple tables.\\n\\nExpertise in creating, maintaining database objects like Indexes, Functions, views, UDF\\xe2\\x80\\x99s, constraints.\\n\\nGood experience in using Ranking Functions, Date Functions, String Functions and Aggregate Functions\\n\\nGood Knowledge in Transactions, Isolation level, Concurrency Problems\\n\\nVery good experience in building the Relationship using Constraints.\\n\\nGood Knowledge in Creating Jobs to automate process using SQL Server Agent.\\n\\nGood Knowledge on new features in SQL Server 2016, 2019.\\n\\n\\n\\n\\n\\n\\n\\nTechnical skills :-\\n\\n\\n\\n\\n\\nRelational Databases\\n\\n\\n\\nSQL SERVER 2012/2016\\n\\n\\n\\nTools and packages\\n\\n\\n\\nSSMS\\n\\n\\n\\nLanguages \\n\\n\\n\\nSQL, T-SQL \\n\\n\\n\\nOperating System\\n\\n\\n\\nWindows 8/10\\n\\n\\n\\nApplication Packages\\n\\n\\n\\nMS-Outlook, Microsoft office suite \\n\\n\\n\\n\\n\\nEducation:-\\n\\n\\n\\n\\n\\nB.C.A from Sri Venkateswara University,Tirupathi.\\n\\n\\t\\n\\nProfessional Experience:- \\n\\n\\n\\nWorked At TECHASOFT PVT LTD as Software Engineer, Bangalore since OCT-2018 to till date.\\n\\n\\n\\nProject Details:-\\n\\n\\n\\n Project II:-\\n\\n\\n\\n\\tProject Name: -   Haematology Solutions\\n\\n\\tClient Name \\t : -   BRAVO PHARMA\\n\\n\\tDomain\\t : -    Health Care \\n\\n\\tDuration            : -    Feb/2019 \\xe2\\x80\\x93 Till date\\n\\n\\tRole\\t\\t : -    SQL Developer \\n\\n\\t\\n\\n\\tDescription      :- \\n\\n\\t\\tBravo Pharma cares for the protection and enhancement of human health and well-being on all levels. The spectrum of our activities ranges from supporting education in life sciences and strengthening start-ups in health technologies, offering novel solutions for diagnostics and personalized treatment to production and sales of pharmaceuticals.\\n\\n\\tResponsibilities:- \\n\\nDeveloped and optimized database structures, stored procedures, views, and user-defined functions for the Application.\\n\\nCreated some T-SQL queries, Stored Procedures.\\n\\nDesign and create SQL tables, indexes. \\n\\nResponsible for Query optimization and Performance tuning. Performing query plans and making sure each and every query is using appropriate useful indexes.\\n\\nDesign and create SQL tables, indexes. \\n\\nResponsible for Query optimization and Performance tuning. Performing query plans and making sure each and every query is using appropriate useful indexes.\\n\\nCreated Constraints mainly Primary Key and Foreign key.\\n\\n\\n\\n\\n\\n\\n\\n\\n\\n\\n\\n\\n\\n\\n\\n\\n\\n\\n\\nProject I:-\\n\\n\\n\\n\\tProject Name: -   Integrated Simple Commerce Solution\\n\\n\\tClient Name \\t : -   CODI\\n\\n\\tDomain\\t : -    E- Commerce \\n\\n\\tDuration            : -    Nov/2018 \\xe2\\x80\\x93 Feb/2019\\n\\n\\tRole\\t\\t : -    SQL Developer \\n\\n\\t\\n\\n\\tDescription      :- \\n\\n\\t\\tIntegrated Simple Commerce Solution is an Ecommerce application to sell products (such as Laptop, Printers etc.) through online. Integrated Simple Commerce Solution built with high end technology and it is integrated with many upstream and downstream systems to handle the business and full fill customer needs. Integrated Simple Commerce Solution having millions of customers around 16 countries and provides an easy way to find and buy the products.\\n\\n\\tResponsibilities:- \\n\\nDeveloped and optimized database structures, stored procedures, views, and user-defined functions for the Application.\\n\\nCreated some T-SQL queries, Stored Procedures.\\n\\nDesign and create SQL tables, indexes. \\n\\nResponsible for Query optimization and Performance tuning. Performing query plans and making sure each and every query is using appropriate useful indexes.\\n\\nDesign and create SQL tables, indexes. \\n\\nResponsible for Query optimization and Performance tuning. Performing query plans and making sure each and every query is using appropriate useful indexes.\\n\\nCreated Constraints mainly Primary Key and Foreign key.',\n",
       " b'SQL SERVER DEVELOPER\\n\\n\\n\\n\\n\\nP. Syam Kumar              \\t\\t\\t          \\t\\t\\n\\n\\n\\n\\n\\nProfessional summary:\\n\\n\\n\\nHaving 2.3+ years of professional experience in IT industry. Involved in Microsoft SQL SERVER 2008, 2012, 2017 and have trained on ETL tools of SSIS.\\n\\nGood in designing objects of Tables with Constraints, Views.\\n\\nExperience in writing SQL Joins and Set Operators for data pulling and combining from multiple tables.\\n\\n\\t\\tExperience in using system functions (String functions, Date functions, Aggregate functions, Rank functions) to meet business requirement.  \\n\\n\\t\\tExperience with SQL Server in constructing Subqueries, Common Table Expressions (CTE), Temp Tables, and Table Variable with proper naming convention.\\n\\n\\t\\tGood working experience in T-SQL Concepts Stored Procedures, User Defined Functions, while loops, Cursors and Triggers.\\n\\n\\t\\tKnowledge on TCL , Error Handling and using of Magic Tables.\\n\\n\\tKnowledge in creating Indexes and Performance Tuning\\n\\nWorked on data flow transformations like Look up, Sort, Data conversion, union-all and SCD\\xe2\\x80\\x99s.\\n\\nGood in Data Bases Backups, Restores, and Changing Synonyms.\\n\\nTrained on data extraction, transformation and loading (ETL) using SQL server integration services (SSIS) tool using different kinds of Sources and Destinations.\\n\\nDesign the packages using Control Flow, Extract the data from source using of different transformations.\\n\\n\\n\\nTechnical Profile:\\n\\n\\n\\n\\tDatabases\\t\\t          : SQL Server 2008, 2012, 2017\\n\\n\\tIDE\\t\\t\\t          : MS Visual Studio 2013, SSMS.  \\n\\n\\tOther Tools \\t\\t          : MS Office Suite (Excel, Word, Notepad).\\n\\n\\tETL Tool\\t\\t          : SQL Server Integration Services (SSIS).\\n\\n\\t\\n\\n\\t\\n\\n\\t\\n\\n\\n\\n\\n\\n\\n\\nCompany\\xe2\\x80\\x99s\\xc2\\xa0Information:\\n\\n\\n\\nCurrently working as Software Engineer in Volaris Group-Tarantula India Pvt.Ltd from April 2019 to till date.\\n\\n\\n\\nEducational Qualification:\\n\\n\\n\\nM.C.A from S.V. University, Tirupathi from 2014- June 2017.\\n\\n\\n\\nProject summary:\\n\\n\\n\\nProject\\n\\n\\n\\n\\tProject/ Client\\t\\t: ATC - American Tower Company.\\n\\nRole\\t\\t\\t: SQL Developer.\\n\\nTeam size\\t\\t: 10.\\n\\nDuration\\t\\t: April 2019 to till date in Tarantula.\\n\\n\\n\\nDescription:\\n\\n\\n\\nATC is publicly held company, owner and operator of wireless and broadcast communication infrastructure in several countries. The application is built in Software as a Service (SAAS) proposition. It acts as a medium between OpCo and TowerCo to manage mobile towers. The solution comprises innovative workflow-integrated end-to-end software applications. The provided application is completely based on windows authentication.\\n\\n\\n\\nResponsibilities:\\n\\n \\n\\nInvolved in developing the new enhancements for the Application.\\n\\nAnalyzing the change request (CR\\xe2\\x80\\x99s) requirements and discussed with managers and leads on Functionality.\\n\\nInvolved in Production releases for database.\\n\\nInvolved in impact analysis, requirement gathering, effort discussions and effort preparations for the new requirement. \\n\\nInvolved to create views, writing complex stored procedures, Functions, Tables, using SQL Server 2012.\\n\\nInvolved in Configuration of the Jobs as per the requirement and run the reports for QA checking purpose.\\n\\nWorked with integration services for transferring data from sources like flat file, CSV file, Excel file.\\n\\nProject deployment in all environments (Test, UAT, Live).\\n\\n\\n\\n\\n\\n\\n\\nCoordinating the Developing activities with the development team And QA team.\\n\\nParticipate in discussions involving the application creation and understand the requirements and provide the back-end functionality for the applications.\\n\\n\\n\\n\\n\\n\\n\\nDeclaration:\\n\\n\\n\\nI hereby declare that the information and facts stated above are true and correct to the best of my knowledge and belief.\\n\\n\\n\\n                    \\t\\t\\t\\t\\t\\t\\t                    \\n\\n (P. Syam Kumar)',\n",
       " b'Workday HCM  Techno functional Consultant                       \\n\\nRahul  (Techno Functional Consultant)  \\n\\n\\tProfessional Summary\\t\\n\\nHaving Around 5+ years of experience in ERP Experience including 3 years in workday HCM and Expertise in Workday HCM , Benefits, Leave of Absence, Integration , Reporting , workday studio .\\n\\n\\tCore Qualifications & Skills\\t\\n\\nInvolved in Full life cycle Workday implementation experience from requirement gathering to post deployment product support for HCM modules as well as various integrations in workday.\\n\\nHands on configuring the Various Core HCM, Benefits ,Recruiting, Payroll ,Talent Modules .\\n\\nExpertise in Report writer, EIB, PICOF, DT, Workday Studio, CCW,CCB,BIRT, Calc Fields. \\n\\nExpertise in Payroll integrations from workday to ADP , PS, by using PICOF and PECI .\\n\\nDeveloped and maintained custom-report types (Advanced, Matrix) using report writer tool.\\n\\nHands on experience in creating BIRT layouts using Report Designer, for Using Report Designer.\\n\\nInvolved in transformation of XML into XSLT for presenting data for different web Services.\\n\\nExpertise In Workday Security, leave absence, recruiting and Configuring the Befit 401 Plan etc.\\n\\nGood Knowledge  Creating leave families , Leave types , and absence condition rules in Module.\\n\\nExperience in inbound/outbound integration using EIB, CCW/CCB, Report Writing, creating Workday Cal fields, Custom report, (Matrix, Composite, trending, Advanced) BIRT tool .\\n\\nConfigured the custom Dashboard and Created Reports and added to the various dash boards.\\n\\nConfigured BP for leave of absence , Recuring , core HCM, written condition rules for steps etc.\\n\\nExpertise in building EIBs (Enterprise Interface Builder) integration within WD for sending Data\\n\\nPrioritizing, reproducing, and verifying bug fixes in different Workday integrations, reports BP\\xe2\\x80\\x99s.\\n\\nAbility to work creatively , analytically in a problem-solving workday Production environment,\\n\\nInteraction with all work streams including functional, conversion and project management.\\n\\nExpertise in developing Payroll interfaces using PICOF/ PECI with the help of Workday Studio and Document Transformation to  meet client\\xe2\\x80\\x99s complex payroll requirements using DT, Studio.\\n\\nExperience in understanding and gathering the business requirements, translating Functional\\n\\nspecifications and develop code along with detailed design, Performed UTP test cases in wd.\\n\\nExcellent client interaction skills and experience in working independently as well as in a team.\\n\\nDeveloped Several Complex Integrations using Workday Studio and EIB CCW, PICOF, DT.\\n\\nHave good knowledge ETV/XTT functions in Document transformation for validating the data.\\n\\nHaving knowledge in XML, WD-SOAP Web Service, and WD- REST Web Service and\\n\\nExperienced in  using such as Soap UI , Postman , XML Exchanger tools for testing API call .\\n\\nExperience on getting requirement from the client and handing sharing the work across team.\\n\\nHands on experience in creating New security groups,  or updating security groups with various domains , security polices, activating security policies and identifying the security Objects .\\n\\nProfessional Experience\\n\\nWorking As software Engineer in  Infosys  From Jun 2016 \\xe2\\x80\\x93 Till date.\\n\\n\\n\\n\\n\\nTechnical- Skills.\\n\\n\\n\\nWorkday Skills\\n\\nWorkday HCM, Workday Advanced Report Writer, Core connectors PICOF, Document Transformation and Workday Studio, EIB, Workday Web Services, Business Process, Security ,BIRT, Absence, Talent.\\n\\nProgramming Languages\\n\\nXML, XSLT, X-Path\\n\\nWeb Technologies\\n\\nSOAP, XML, XSD, Web Services (WSDL & SOAP), XSLT.\\n\\nOperating Systems\\n\\nWindows XP/Vista/Windows7/8\\n\\n\\n\\nEducation Details:\\n\\nCompleted B-Tech from JNTU Anantapur 2016  with 70 %.\\n\\nProject Profile:-\\n\\nProject-2\\t   :   Implementation & Support  workday HCM\\n\\nClient\\t                 :  CDK Global .\\n\\nRole\\t\\t   :  Workday Techno Functional Consultant.\\n\\n\\n\\nDescription: CDK Global is the largest global provider of integrated information technology and digital marketing solutions to automotive dealerships and manufacturers in more than 100 countries worldwide for the world\\xe2\\x80\\x99s biggest car brands Although we operate on a global scale we are small by comparison and that is a good thing It means that we are still a business where every person matters and where anyone can make an impact on our growth and success We have opportunities in a wide range of business areas so wherever in the world you join us you will get the support training and tools you need to make significant\\n\\n\\n\\nRole and Responsibilities:\\n\\nUnderstanding the Business Requirements by studying the Functional Documents.\\n\\nModified the XSLT code as per CR-request and adding the new XSLT for Different info types. \\n\\nCreate the new WD studio programs to sending AI-Statement to worker documents using BIRT.\\n\\nCreating the custom reports as per the client requirement and preparing the UTP documents.\\n\\nCreated Workday Studio programs to load compensation data from ADP to workday.\\n\\nCreated EIB Inbound Integrations for loading the employees personal Information like, Emergency contacts, , One-time payments, Bank account information, cost center information.\\n\\nCreated EIB Integrations, written XSLT code and sending data from WD to downstream systems.\\n\\nHands-on experience in creating the calculated fields using different functions complete logics. \\n\\nSupporting the Different teams in UAT phase as with test factory teams during integration testing.\\n\\nInvolved in calls with client and update the work status as well as clarifications if any.\\n\\nHandled Workday Service Upgrade Testing (WD29, WD30) for all the existing integrations\\n\\nResponsible for supporting the new change requests and enhancements in the project.\\n\\nCreated calculated fields and worked on simple and advanced, matrix , Trending  reports.\\n\\nWorked on integrations systems (EIB\\xe2\\x80\\x99s, Core Connectors, PICOF.DT, Workday Studio).\\n\\nDay to day support of workday integrations, security, Business Process, and reporting issues.\\n\\nCoordinated with Onshore on requirements gathering, implementation, testing and enhancement of Integration, reports , business Process, EIB,BIRT and  workday studio integrations .\\n\\nConfigured various business processes and created notifications to integrations, Reports etc.\\n\\nDesign of web services to send/receive between Workday and Third-party system using API call .\\n\\nDeveloped analytics dashboards , data sources to provide actionable reporting  analytics.\\n\\nDeployed workday objects using Solutions from implementation to UAT, production tenants by following the change management process, solving the migration issues by using OX.\\n\\nConfigured Leave family, leave type, Absence rules for countries as per business requirements\\n\\nInvolved in Workday version upgrade testing and Scheduling and Monitoring Integrations.\\n\\nExpertise in developing Payroll interfaces using PICOF, PECI with the help of Workday Studio and DT to meet client\\xe2\\x80\\x99s complex payroll requirements sending to Diff payroll Vendors.\\n\\nExperienced in analyzing and preparing Project Deliverables Technical Design Document (TDD).\\n\\nHands-on experience In Migrating the XSLT Code, Reports from Lower tenet to Sandbox and Production using Object Transporter. \\n\\nCreated the new outbound integrations to sending the time off corrections Information from workday to ADP payroll system.\\n\\nProject-2\\t   :   Implementation & Support  workday HCM\\n\\nClient\\t                 :  CDK Global .\\n\\nRole\\t\\t   :  Workday  PS  Consultant.\\n\\n\\n\\nDescription: CDK Global is the largest global provider of integrated information technology and digital marketing solutions to automotive dealerships and manufacturers in more than 100 countries worldwide for the world\\xe2\\x80\\x99s biggest car brands Although we operate on a global scale we are small by comparison and that is a good thing It means that we are still a business where every person matters and where anyone can make an impact on our growth and success We have opportunities in a wide range of business areas so wherever in the world you join us you will get the support training and tools you need to make significant\\n\\n\\n\\n      Role and Responsibilities:\\n\\nResponsible for various customizations of fields, records, pages, components and menus as per the client requirements by using Application Designer\\n\\nCustomized JOB DATA component to accommodate few more fields which are using as inputs for other systems and worked on APP engine, SQER, PS query, component Interface .\\n\\nCreated CI with AE to import the JOB Requisitions data into PeopleSoft system from file and performed some validations before inserting to PS system.\\n\\nWas involved in functionality of sending Emails notifications through users with help of Send Mail Function.\\n\\nUsed Process Scheduler to run scheduled process at a specific time and/or run recursively at a specific interval and used process Monitor to view status of the process.\\n\\nCreating new application engine program for sending employees data to third party system.\\n\\nGenerating the Relocation Letters As per HR request and sending to the Daily Process Report to the client.\\n\\nDeveloped People Code to implement specific business rules and validations to enable the system to perform the business process.',\n",
       " b'RAJU PAVANA KUMARI\\n\\n\\n\\n\\t\\n\\n\\tProfessional Summary:\\n\\nHaving 2.10 years of Professional experience in SQL Server 2014/2017.\\n\\nHaving experience in creating database objects such as Stored Procedures, Functions, Views,Indexes,Joins to facilitate efficient data Manipulation and Data Consistency.\\n\\nHaving good experience in writing complex queries using Derived Table, Sub-Queries, Set Operators and Joins.\\n\\nHaving Proficient Experience on Temporary Objects in SQL like CTE,Temporary Table, Table Variable.\\n\\n I have very good experience with SQL Profile by Debugging the Query.\\n\\nExperience in Creating and Updating Clustered and Non-Clustered Indexes to keep up the SQL Server Performance.\\n\\n\\n\\nProfessional Experience:\\n\\n\\n\\nCurrently working as Software Developer at Square Bridge Technologies PVT LTD, Bangalore since SEP 2018 to till date.\\n\\nAcademic Profile: \\n\\n\\t B.Tech in Electronics and communication engineering(ECE) From JNTU Hyderabad.\\n\\n\\t Intermediate in M.P.C from  Narayana Junior College, Hyderabad\\n\\n\\t SSC from   Secondary School Education,  Vardhana school,  Hyderabad\\n\\nTechnical Skills:\\n\\n       Microsoft Technologies              :  SQL Server 2014/2012/2017.\\n\\n       Languages\\t\\t    \\t             :  MySQL\\n\\n       Operating Systems\\t   \\t   :  Windows 2008 Server, Windows XP/   Windows 7.\\n\\n\\n\\n\\n\\nProjects\\n\\n\\n\\nProject#2\\t: Healthcare Management\\n\\nClient\\t               : Aetna\\n\\nDuration\\t: Feb-2020 to Till Date\\n\\nRole\\t\\t: Sql Developer\\n\\n\\n\\nDescription: Aetna is an American\\xc2\\xa0managed health care\\xc2\\xa0company that sells traditional and consumer directed health care\\xc2\\xa0\\xc2\\xa0insurance plans and related services, such as medical, pharmaceutical, dental, behavioral health, long-term care, and disability plans, primarily through employer-paid (fully or partly) insurance and benefit programs, and through Medicare\\xc2\\xa0.\\n\\nResponsibilities:\\n\\nDeveloped physical data models and created DDL scripts to create database schema and database objects\\n\\nWrote user requirement documents based on functional specification.\\n\\nCreated new tables, written stored procedures, triggers for Application Developers and some user defined functions. Created SQL scripts for tuning and scheduling.\\n\\nDeveloped source to target specifications for Data Transformation Services.\\n\\nDeveloped functions, views and triggers for automation\\n\\nExtensively used Joins and sub-Queries to simplify complex queries involving multiple tables and also optimized the procedures and triggers to be used in production.\\n\\nProvided\\xc2\\xa0disaster recovery\\xc2\\xa0procedures and policies for\\xc2\\xa0backup and recovery\\xc2\\xa0of Databases.\\n\\nPerformance Tuning\\xc2\\xa0in SQL Server using\\xc2\\xa0SQL Profiler\\xc2\\xa0and\\xc2\\xa0Data Loading.\\n\\nProject#1\\t: Workers Compensation management:\\n\\nClient\\t               : Stone wood Insurance\\n\\nDuration\\t: Sep-2018 to Feb-2020\\n\\nRole\\t\\t: Software Developer\\n\\n\\n\\nDescription: Worker\\xe2\\x80\\x99s compensation\\xc2\\xa0is a form of insurance providing wage replacement and medical benefits to employees injured in the course of employment in exchange for mandatory relinquishment of the employee\\'s right to sue their employer for the\\xc2\\xa0tort\\xc2\\xa0of negligence. The trade-off between assured, limited coverage and lack of recourse outside the worker compensation system is known as \"the compensation bargain\". One of the problems that the compensation bargain solved is the problem of employers becoming insolvent as a result of high damage awards.\\n\\n\\n\\nResponsibilities:\\n\\nInvolved in Design, Development and testing of the system\\n\\nDeveloped SQL Server Stored Procedures, Tuned SQL Queries (using Indexes and Execution Plan)\\n\\nDeveloped User Defined Functions and created Views\\n\\nCreated Triggers to maintain the Referential Integrity.\\n\\nReviewed existing business procedures and recommended and implemented changes.\\n\\nResponsible for setting preferences for various ad-hoc requests and distribution of tasks.\\n\\nDeclaration\\n\\n\\t\\tI hereby declare that the information that is provided above is up to date and true. I would be more than happy to provide any additional information, if required.\\n\\n\\n\\nDate:\\t\\n\\nPlace: Hyderabad\\t\\t\\t\\t\\t\\t\\t                  Pavana Kumari',\n",
       " b'resume\\n\\n\\n\\n\\n\\n\\t\\t\\t\\t\\t\\t\\t\\t\\t\\t\\t\\tRamalakshmi K\\t\\t\\t\\t  \\n\\n\\t\\t\\t\\t\\t\\t\\t\\t\\t\\t\\t\\t \\n\\n\\t\\n\\n\\tCareer Objective :\\n\\n\\t    Professional objective is to pursue a career as Software Developer in the IT Industry and a position that utilizes my education and experience in the field of Information Technology, so that I can contribute to the organization and further enhances my professional skills.\\n\\n\\n\\nExperience Summary:\\n\\n\\n\\n\\t2.5 year of working experience in Microsoft SQLServer /Microsoft BI, AWS-Redshift.\\n\\n\\t Motivated and result-driven BI Developer with a proven track record in Business Intelligence (BI), Data Warehouse (DWH) and Data Analytics related projects. Proven ability to identify business needs and develop valuable solutions to drive accuracy and process efficiency. \\n\\n\\tHave exposure to work in tools such as SQL Server Management Studio, Microsoft Visual Studio, Business Intelligence Development Studio, SQL Server Profiler, SSIS.\\n\\n\\tWrote scripts and indexing strategy for a migration to Confidential Redshift from SQL Server and MySQL databases.\\n\\n\\tHands-on experience to creating a packages in SSIS and used different kind of data flow transformations, control flow tasks and maintained.\\n\\n\\tWriting complex SQL queries, joins, importing & exporting the data from one database to another database and through files to databases.\\n\\n\\t\\n\\n\\t\\n\\n\\n\\n\\t\\t\\t\\t\\t\\t\\t\\t\\t\\t\\t\\t\\t\\t\\t\\t\\n\\nTechnical Skills:\\n\\n\\n\\nLanguages/Technologies - Python,SQL\\n\\nLibraries - Numpy,Pandas,Matplotlib\\n\\nRDBMS - SQL Server,Mysql,Teradata\\n\\nETL Tool - SSIS\\n\\nCloud Platform - AWS Redshift\\n\\n\\t\\t\\t\\t\\t\\t\\t\\t\\t\\t\\t\\t\\t\\t\\t\\t\\n\\n\\t\\t\\t\\t\\t\\t\\t\\t\\t\\t\\t\\t\\t\\t\\t\\n\\n\\t\\t\\t\\t\\t\\t\\t\\t\\t\\t\\t\\t\\t\\t\\t\\n\\n\\t\\t\\t\\t\\t\\t\\t\\t\\t\\t\\t\\t\\t\\t\\t\\n\\n\\t\\t\\t\\t\\t\\t\\t\\t\\t\\t\\t\\t\\t\\t\\t\\n\\n\\t\\t\\t\\t\\t\\t\\t\\t\\t\\t\\t\\t\\t\\t\\t\\n\\n\\t\\t\\t\\t\\t\\t\\t\\t\\t\\t\\t\\t\\t\\t\\tEducational Qualifications:\\n\\n\\t\\t\\t\\t\\t\\t\\t\\t\\t\\t\\t\\t\\t\\t\\t\\n\\n\\t\\t\\t\\t\\t\\t\\t\\t\\t\\t\\t\\t\\t\\t\\t\\n\\nDegree\\n\\nInstitute\\n\\nPercentage(%)\\n\\nHigh School\\n\\nCompleted Board of secondary education in Maths,Physics,Chemistry at Chandra Reddy junior College,Nellore,AP.(2011-2013)\\n\\n81.3%\\n\\nB.Tech\\n\\nCompleted Bachelor of Engineering in Computer Science at Brahmaiah College of Engineering,Nellore,AP. (2013-2017)\\n\\n72%\\n\\n\\n\\n\\n\\nProject Details:\\n\\n \\n\\n \\n\\nEmployer : Bixware Technologies \\n\\nProject Title : ETL, Cube\\n\\nClient  : More \\n\\nProject Role : Software Developer\\n\\nPeriod : Jan 2019 - Till date \\n\\n\\n\\n \\n\\nProject Description : \\n\\n\\n\\nMore Retail Limited is a retail store brand which was earlier known as Aditya Birla Retail Limited, when it was part of Aditya Birla Group. More Retail Limited (MRL) is the retail formley Aditya Birla Group, a $43 billion corporation. The company ventured into food and grocery retail sectors in 2007 and subsequently expanded its presence across t he country under the brand more with two formats - Supermarkets and Hypermarkets. There are currently 750 Supermarkets and 30 Hypermarkets and Brands aimed to offer a shopping experience that delivers unbeatable value and quality. More is the fourth largest supermarket & Hypermaket chain in the country after Future Group.The company head office stores and maintains all the supermarkets & Hypermarkets stores data into the largest data warehouse and then processing and  provides those data through data marts.Sales Cube is to provide a sales summary to the users efficiently. Inventory Cube is to provide a data of \\xe2\\x80\\x9cInventory on Hand \\xe2\\x80\\x9cand \\xe2\\x80\\x9cLow Stock\\xe2\\x80\\x9d to the users through Office Data Connection (ODC).\\n\\n\\n\\n\\n\\nRole and Responsibilities :\\n\\n\\n\\n \\xe2\\x80\\xa2 Implementing and Managing ETL solutions and automating operational processes.\\n\\n \\xe2\\x80\\xa2 Was responsible for ETL and data validation using SQL Server Integration Services\\n\\n \\xe2\\x80\\xa2 Developing and monitoring the jobs as per daily basis.\\n\\n \\xe2\\x80\\xa2 Analyzing the daily reports sales data and inventory.\\n\\n \\xe2\\x80\\xa2 working on Databases for updation of Business required data.\\n\\n \\xe2\\x80\\xa2 Querying, creating stored procedures and writing T-SQL join to address various reporting operations and also random data requests.\\n\\n \\xe2\\x80\\xa2 Involved detailed plan describing how to develop, maintain, Deploy, replace and alter or enhance  sales and inventory cube. \\n\\n \\xe2\\x80\\xa2 Defined and deployed monitoring, metrics, and logging systems on AWS.\\n\\n \\xe2\\x80\\xa2 Designed and Developed ETL jobs to extract data and load it in data mart in Redshift.\\n\\n\\n\\n\\n\\n\\n\\nPersonal Information:\\n\\n\\n\\nFather\\xe2\\x80\\x99s Name\\t\\t: \\tK Narasimha Rao\\n\\nDate of Birth\\t\\t\\t:\\t12-May-1996\\n\\nGender\\t            \\t:\\tFemale\\n\\nLanguages Known\\t\\t:\\tTelugu,Hindi,English\\n\\nPermanent address               :           Tipparajuvari Street,VRC center,\\n\\n                                                            Nellore,AP.\\n\\n                                                             \\n\\nDeclaration:\\n\\n\\n\\nI hereby declare that all information mentioned above are true and correct to best of my knowledge and belief.\\n\\n\\n\\n\\n\\n\\n\\n\\tPlace: Mumbai\\t\\t\\t\\t\\t\\t\\t\\n\\n\\tRamalakshmi K',\n",
       " b'Name: Ramesh\\n\\n\\t\\n\\n\\tCareer Objective: \\n\\n\\t                To contribute an organization that provides an opportunity to showcase my technical skills and helps me to gain knowledge in domain and technology.\\n\\n\\tProfessional Summary:\\n\\n\\t3.5 Years of experience in system Design, Development and Support of Microsoft SQL server 2008, 8R2 and 2012.\\n\\n\\t\\tExtensive experience on Joins, Set Operators, Temporary Tables, Table Variables, CTE/Derived Tables, sub-Queries.\\n\\nExtensive experience on constructing Tables, Views, Indexes, Synonyms, Functions, Cursors and Stored Procedures.\\n\\nExperience on ETL (Data Extraction Transforming and Loading) in BIDS (Business intelligence development studio)/ SSDT (SQL Server Data Tools) using SSIS (SQL Server Integration Services), Bulk Insert, BCP (bulk copy program).\\n\\nExperience on Design and Development of SQL Server Integration Services (SSIS) packages and using various control flow tasks like Data Flow Task, for-each Loop Container, For Loop Container.\\n\\nExperience on different transformations like Data Conversion, Conditional Split, Merge, Merge Join, Union All, Derived Column, Multi-Cast, SCD, Fuzzy Lookup etc.\\n\\nExperience on providing Logging, Error Handling by using Event Handler, Checkpoints, and logging for SSIS Packages.\\n\\nDesigned different types of Bulk Insert task, Execute SQL task, FTP task and Send mail tasks.\\n\\nExperience on Deploying the SSIS Packages\\n\\nExperience on all types of reports like Table, Matrix, Sub-Reports, Image etc.,\\n\\nGenerated multiple reports using SSRS from SQL Server Database (OLTP) and included various reporting features such as Group-by, Drill-Down, Drill-Through, Cascading Reports, Parameterized Reports and Report builder.\\n\\nExperience on Created Linked Reports, cache Reports.\\n\\nDeployed and processed SSIS packages and SSRS reports weekly to update information (as per business logic) by using SQL server agent and windows scheduler.\\n\\nKnowledge on SQL profiler, performance tuning, Query tuning and new features of advanced versions in SQL server.\\n\\nExcellent Report creation skills using Microsoft Reporting Services (SSRS) 2008/2012.\\n\\nWilling to learn new things and hard working.\\n\\nExcellent communication, ability to deal with different people, interpersonal and analytical skills, and a highly motivated team player with the ability to work independently.\\n\\n\\n\\n\\n\\nEducation:  Master of Computer Applications (2018)\\n\\n\\t\\n\\n\\tTechnical Skills:\\n\\nOperating Systems\\t:   Windows, Unix \\n\\nDatabase Tools             :  SQL server Management   Studio (SSMS)\\n\\nLanguages\\t\\t:  SQL and T-SQL\\n\\nETL Tools\\t\\t:  SQL Server Integration Services (SSIS)\\n\\nReporting Tools           :  SQL Server Reporting Services\\xc2\\xa0(SSRS)\\n\\nDatabases\\t\\t:   MS SQL Server\\n\\n\\n\\nProfessional Experience:\\n\\n\\n\\nCurrently working as SQL Developer for Tietoevryindia In Bangalore from Feb 2018 To Till Date\\n\\n\\n\\n\\n\\nProject Details:\\n\\nProject# 2\\t\\n\\nTitle                     :    T-Mobile\\n\\n Client\\t                :    T-Mobile\\n\\nDuration            :    April-2020 to till date (1 year 2 months)\\n\\nSkills Used        :     SQL ,SSIS,SSRS\\n\\nRole Played\\t :   SQL Server& MSBI Developer \\n\\n\\n\\n\\n\\nAbstract:\\t\\n\\n\\tIt is an E-commerce web application, consists of two main modules admin module and User module. Inside user module it has multiple components like cart, orders, payment etc. and in Admin module have a component like category, sub-category, products and etc.\\n\\n\\n\\nResponsibilities:\\n\\n\\n\\nExcellent report creation skills using Microsoft SQL Server Reporting Services (SSRS).\\n\\nCreated SQL Server Reports based on the requirements by.\\n\\nDeveloped reports and deployed them on server using SQL Server Reporting Services (SSRS).\\n\\nDeveloped Complex Stored Procedures, Views and Temporary Tables as per the requirement.\\n\\nWrote complex SQL queries using joins, sub queries and correlated sub queries to retrieve data from different SQL Server Databases and Excel files, apply business logic, load in table and create view for end users.\\n\\nCreated DDL scripts to create database schema and database objects like tables, stored procedures, views, functions, and triggers using T- SQL.\\n\\n\\t\\tCreate the clustered/non-clustered indexes on tables; Trace out for any table required any indexes and determine the type of index on it.\\n\\nCreated complex reports which involve more number of groupings and multi-value parameters\\n\\nDeveloped reports like Claim Statements, Fee Bills Transactions, and some end request user reports on periodic basis.\\n\\nProvided technical guidance and support to end-users by developing documentations required.\\n\\nExperience in creating complex SSIS packages using proper control and data flow elements.\\n\\n\\t\\tWorked extensively on SSIS Package designs for Import/Export from various Data Source Flat file, Excel to MS SQL Server and vice versa and schedule the jobs.\\n\\n\\t\\t\\n\\n\\t\\tUsed various Transformations such as Slowly Changing Dimension, Multicast, Merge Join, Lookup, Fuzzy Lookup, Conditional Split, Aggregate, Derived Column, and Data Conversion Transformations.\\n\\nGenerated matrix reports, drill down, drill through, sub reports, multi parameterized reports in SSRS\\n\\nRendering the reports to PDF formats as per the requirement and printing all the reports in a batch process for Monthly Statements. Scheduling the SSIS packages and Jobs.\\n\\n\\t\\n\\n\\n\\n\\n\\nProject #1\\t\\t\\n\\n\\n\\n       Title                 :   Sales Flash                               \\n\\n       Client\\t    :   British Gas\\n\\n       Duration        :   May-2018 to feb-2020(1 year 10 months)\\n\\n       Skills Used    :   MS-SQL SERVER \\n\\n       Role played  :   Associate Software Engineer\\n\\nAbstract:\\t\\n\\n\\t\\tBritish Gas is an energy and home services provider in the United Kingdom. It is the trading name of British Gas Services Limited and British Gas New Heating Limited, both subsidiaries of Centrica. Serving around 12 million homes in the UK, British Gas is the biggest UK energy supplier and is considered one of the Six which dominate the gas and electricity market in the United Kingdom\\n\\nResponsibilities:\\n\\nDetermined the SQL Server Installation. Installed SQL Server Management tools using SQL Server Setup Program and Tested the Installation of SQL Server.\\n\\nCreate database objects such as tables, views, stored procedures, Triggers etc.\\n\\nImplemented Triggers for checking complex business conditions, providing security for the tables.\\n\\nCreated check constraints to maintain data integrity.\\n\\nCreated stored procedures and functions to support efficient data storage and manipulation.\\n\\nPlanned complete Back-up of Database and Restored the Database from Disaster Recovery.\\n\\n\\t\\tCreate the clustered/non-clustered indexes on tables; Trace out for any table required any indexes and determine the type of index on it.',\n",
       " b'Ramesh A\\t\\t\\t\\t\\t\\t\\t\\t\\t\\t\\t\\t\\t\\t\\t\\t\\t\\t\\t\\n\\n(Workday HCM Consultant)\\n\\n\\n\\n\\n\\nPROFESSIONAL SUMMARY:\\n\\nAn ERP Consultant with overall\\xc2\\xa05+ years\\xc2\\xa0of professional IT experience with\\xc2\\xa03+ years\\xc2\\xa0of extensive\\xc2\\xa0Workday experience.\\n\\nExceptional experience in Workday\\xe2\\x80\\x99s\\xc2\\xa0Core HR, Staffing and Compensation Functional areas.\\n\\nHands on experience in Configuring Organizations, Business process and creation of Custom Reports.\\n\\nExperienced on Compensation elements configurations and updates.\\n\\nInvolved in requirements analysis, integrations, testing and system documentation support.\\n\\nCreation of various\\xc2\\xa0calculated fields\\xc2\\xa0to use in custom reports.\\n\\nConfiguring\\xc2\\xa0EIB Inbound and Load data into workday with webservices.\\n\\nCreation of various custom reports as per the requirements.\\n\\nWorking on various enhancements related to EIB Integrations, Custom Reports and Configuration changes.\\n\\nExperience with creating\\xc2\\xa0Staffing models for Supervisory Orgs, Reorganizations and business process framework, Organization Types, Organization Hierarchies.\\n\\nGood experienced in developing technical solutions for the Workday platform using\\xc2\\xa0EIB and Web Services.\\n\\nWorkday training includes Fundamentals, Simple Inbound Integrations, Business Processes, Calculated Fields, Report Writer, and Security Fundamentals.\\n\\nExperience in writing SQL queries and have exposure to different databases, includes SQL Server.\\n\\nPossess Good communication skills, keen to adapt to new technologies and effective Team Player. \\n\\n\\n\\nTECHNICAL SKILLS:\\n\\n\\n\\nWorkday Functional Areas\\n\\nWorkday HCM, Staffing and Compensation\\n\\n\\tWorkday Integration Inbounds\\n\\nEIB\\n\\n\\tWorkday Other Skills\\n\\nBusiness Process, Calculated Fields and Report Writer\\n\\n\\tWorkday Security\\n\\nDomain security for functional area and Business process, Security groups (Constrained and Unconstrained)\\n\\n\\n\\nEDUCATION:\\n\\nBachelor of Technology: Mechanical Engineering from Jawaharlal Nehru Technological University \\xe2\\x80\\x93 Kakinada.\\n\\n\\tPROFESSIONAL EXPERIENCE:\\n\\nTata Consultancy Services  \\t\\t\\t \\n\\nProject: Support/Enhancement of Workday HCM\\t                               \\t\\t\\t      (May\\xe2\\x80\\x99 19 \\xe2\\x80\\x93 Till date) \\n\\nAIMS Community College, USA\\n\\nWorkday HCM Functional Consultant\\n\\n\\t\\n\\nRoles and Responsibilities:\\n\\nResponsible to work on workday application incidents raised by business end users.\\n\\nTroubleshoot the issue to find the root cause of the incident and provide them a solution.\\n\\nWritten custom validations on business process object as per business requirement.\\n\\nModified Business process as add/remove steps from the existing configurations.\\n\\nChanged the security groups on business process security policy functional areas.\\n\\nModified step condition rules for existing business processes.\\n\\nDeveloped custom Integrations to update Compensation Eligibility rules, Grade and Grade profiles.\\n\\nDeveloped Inbound integrations to load job profile and matrix organization per business requirement.\\n\\nClarify the end user queries and guide new users about workday system functionality.\\n\\nCommunicate end users for better understand of the case and update the status of incident.\\n\\nResponsible to Loaded new set of setup data through EIB.\\n\\nCreate and modify condition rules as per new business policy changes.\\n\\nConfigured new work schedules as requested by the business operations user.\\n\\n\\n\\n\\n\\n\\t\\t\\t\\t\\t\\t\\t\\t\\t\\t\\t\\t\\tProject: Support of Workday HCM                       \\t\\t\\t\\t\\t(Nov\\xe2\\x80\\x9917 \\xe2\\x80\\x93 May\\xe2\\x80\\x99 19)\\n\\n\\t\\t\\t\\t\\t\\t\\t\\t\\t\\t\\t\\t\\tSafeway, Phoenix, AZ       \\t\\t\\t\\t\\t\\t\\n\\nWorkday Reports Developer.\\n\\n\\t\\n\\nRoles and Responsibilities:\\n\\n\\t\\t\\t\\t\\t\\t\\t\\t\\t\\t\\t\\t\\tWorked on Reports to create custom reports using\\xc2\\xa0Workday\\xc2\\xa0Report Writer to meet the business needs of HR application report consumer groups.\\xc2\\xa0\\n\\n\\t\\t\\t\\t\\t\\t\\t\\t\\t\\t\\t\\t\\tGenerate different kinds of\\xc2\\xa0reports\\xc2\\xa0- Simple, Advanced and Matrix\\xc2\\xa0reports\\xc2\\xa0to meet client requirements within the\\xc2\\xa0workday\\xc2\\xa0tenant. \\n\\n\\t\\t\\t\\t\\t\\t\\t\\t\\t\\t\\t\\t\\tCreate calculated fields for Custom\\xc2\\xa0Reports\\xc2\\xa0to ensure required report delivery.\\xc2\\xa0\\n\\nDeveloped advanced custom reports, composite reports and matrix reports in Workday and test developed reports.\\n\\nDesignedand built both inbound and outbound EIB integrations in various segments of Workday system.\\n\\n\\t\\t\\t\\t\\t\\t\\t\\t\\t\\t\\t\\t\\t\\t\\t\\tCreated Organizations (Locations, Supervisory Orgs, Business Units, Cost Centers, Custom orgs, Organization Hierarchy (Location Hierarchy).\\n\\nCreate reports by using appropriate data source and business objects to deliver output for end users.\\n\\n\\t\\t\\t\\t\\t\\t\\t\\t\\t\\t\\t\\t\\t\\t\\t\\tCreated report on Employee Convert to Contract to full time Employee List.\\n\\n\\t\\t\\t\\t\\t\\t\\t\\t\\t\\t\\t\\t\\t\\t\\t\\tCreated report on Contingent workers, converting the contingent workers into employees.\\n\\nExtensively worked on Workday application in creating\\xc2\\xa0reports, calculated fields, basic integrations using EIB, data conversion and Migrations.\\n\\nDeveloped custom reports for the hcm modules like Core HR.\\n\\n\\t\\t\\t\\t\\t\\t\\t\\t\\t\\t\\t\\t\\tUsed Report Writer to create new Custom reports with appropriate Data Sources, Objects and Fields\\n\\n\\t\\t\\t\\t\\t\\t\\t\\t\\t\\t\\t\\t\\tSupported Customer resources in development and troubleshooting of reports and integrations.\\n\\n\\n\\n\\t\\t\\t\\t\\t\\t\\t\\t\\t\\t\\t\\t\\t\\n\\n\\t\\t\\t\\t\\t\\t\\t\\t\\t\\t\\t\\t\\tProject: Support of PeopleSoft HCM\\t\\t\\t\\t\\t\\t\\t(April\\xe2\\x80\\x9916 \\xe2\\x80\\x93 Oct\\xe2\\x80\\x9917)\\n\\n\\t\\t\\t\\t\\t\\t\\t\\t\\t\\t\\t\\t\\tAmdocs\\n\\nPeopleSoft Developer\\n\\n\\n\\nResponsibilities:\\n\\nAnalyzed the requirement documents to understand the customer business requirement.\\n\\nCustomized system applications and designed many applications as scratch.\\n\\nWork with incident request raised at user end.\\n\\nInteract with onsite team to know status of project on daily basis.\\n\\nResponsible to work on support issues.\\n\\nConsulting with the Solution Architect on business prospective implementation workflow.\\n\\nCollaborating with overseas team-mates on daily/weekly discussions.\\n\\nAnalyzing the issues and providing resolutions reported by users\\n\\nWorking on Incidents, Service Request and EWO\\xe2\\x80\\x99s (Enhancement Work Orders).\\n\\nDeveloped custom advanced custom reports, calculated fields, complex xslt logic \\n\\nCoordinate with other team members for defect deliveries and production support activities.\\n\\nConduct knowledge sharing sessions to newly joined team members.',\n",
       " b'Kanumuru Deepak Reddy\\n\\n\\n\\n\\t\\n\\n\\n\\nCAREER OBJECTIVE:\\n\\n\\n\\nTo secure a position in a reputed organization where I can efficiently contribute my knowledge and skills to the growth of the organization and build my professional career.\\n\\n\\n\\nACADEMIC QUALIFICATIONS:\\n\\n\\n\\n\\n\\nQualification\\n\\nInstitute\\n\\nBoard (or) University\\n\\nYear of completion\\n\\nPercentage/CGPA\\n\\nB.Tech (E.C.E)\\n\\nAudisankara College of Engineering & Technology,Gudur.\\n\\nJNTU Anantapur.\\n\\n2018\\n\\n77.3\\n\\nIntermediate\\n\\nNarayana Junior college, Naidupet.\\n\\nBoard of\\n\\nIntermediate, AP.\\n\\n2014\\n\\n89.5\\n\\nSSC\\n\\nNavodaya High School,Naidupet\\n\\nBoard of Secondary education, AP.\\n\\n2012\\n\\n6.7\\n\\n\\n\\nPROJECT:\\n\\n\\n\\nTitle\\t:Density based Traffic Control System USING ARDUINO.\\n\\n\\n\\nDuration:4 months.\\n\\n\\n\\nDescription: Traffic congestion is a severe problem in most of the cities across the world and it has become a nightmare for the citizens. It is caused by delay in signal, inappropriate timing of traffic signalling etc. The delay of traffic light is hard coded and it does not depend on traffic. Therefore, for optimising traffic control, there is an increasing demand in systematic quick automatic system. This project is designed to develop a density based dynamic traffic signal control. The signal timing changes automatically on sensing the traffic density at the junction. The microcontroller used in this project is ARDUINO. The system contains IR sensors & ultrasonic sensors (transmitter and receiver) which will be mounted on the either side of the road on poles. It gets activated and receives the signal as the vehicles passes close by it.\\n\\n\\n\\nEXPERIENCE:                                        \\n\\n  \\n\\nI am carrying an experience of  2 years  from MetroLabs Services Pvt Ltd.\\n\\n\\n\\n   ROLES AND RESPONSIBILITIES :\\n\\n\\n\\nOver 2 years of extensive experience as a Front End Developer with solid understanding of website and application designing, development of different modules using ReactJS.\\n\\nProfessional understanding of Software development life cycle (SDLC) as well as various phases such as Analysis Design, Development and Testing.  \\n\\n\\n\\n\\n\\nExperienced in developing User Interface using HTML5, CSS3, Bootstrap, JavaScript,  DOM, ReactJS.\\n\\n\\n\\n\\n\\nExperience in DOM as I used it in interacting with objects in HTML documents.  \\n\\n\\n\\nExperience in working with Express creating Restful API, URL routing, creating and handling HTTP CRUD \\n\\n\\n\\nGood experience in using React JS components, Forms, Events, Keys, Router, Redux Store, action creator and reducer etc.\\n\\n\\n\\nGood experience in developing draggable grid layout using react-grid-layout package.\\n\\n\\n\\nGood knowledge on building tables/grid using react-table and ag-grid library and office-fabric-ui.  \\n\\n\\n\\nExperience in maintaining APIs and existing applications.\\n\\n\\n\\nWrite code that is cross-platform and cross-device compatible.\\n\\n\\n\\nConverted PSD files into pure hand-written HTML and CSS pages \\n\\nEffectively represent the voice of the user to influence and improve design decisions\\n\\nConsult with the cross-functional team throughout development, testing, and rollout to ensure designs are understood, implemented, and communicated appropriately\\n\\nWebsite hosting is one of the major role in my working period and according with client modifications, deletions etc.\\n\\n\\n\\nGood communication skills, both verbal and written.\\n\\n\\n\\nTECHNICAL EXPERTISE:\\n\\n\\n\\nWeb Technologies \\xc2\\xa0\\xc2\\xa0\\t:  Html5, Css3, JavaScript, Responsive Designs,\\n\\n  Bootstrap, ReactJS, JSON\\n\\n  \\n\\nDevelopment Tools \\t: \\xc2\\xa0 Visual Studio Code\\n\\nOperating Systems \\xc2\\xa0\\xc2\\xa0\\t: \\xc2\\xa0Windows 10\\n\\n\\n\\nPERSONAL DETAILS:\\n\\n\\n\\n\\tDate of Birth\\t:\\t15, August,1997.\\n\\n\\tFather\\xe2\\x80\\x99s Name\\t:\\tMr. K.Sudhakar Reddy,\\n\\n\\tPermanent Address\\t:\\tH.no:5-8-171/3, Bmr Nagar, Naidupet.\\n\\n\\tLanguages known\\t:\\tTelugu, Hindi & English.\\n\\n\\tHobbies\\t:\\tPlaying cricket, Watching news.\\n\\n\\n\\nSTRENGTHS:\\n\\n\\n\\nPunctuality\\n\\nPositive attitude\\n\\nLeadership\\n\\nTeamwork\\n\\n\\n\\nLANGUAGES KNOWN:\\n\\n\\n\\nTelugu\\n\\nHindi\\n\\nEnglish\\n\\n\\n\\n\\n\\n\\n\\nDECLARATION:\\n\\n\\n\\nI hereby declare that all the above mention details are true to best my knowledge.\\n\\n\\n\\n\\n\\n\\n\\nPlace:\\n\\nDate:\\t\\t\\t\\t\\t\\t\\t\\t\\t\\tK.Deepak Reddy',\n",
       " b'HARIPRIYA BATTINA \\n\\nExperience as UI Developer in Reactjs, JavaScript. \\n\\nPhone: +91 9908576950 \\n\\nGmail: haripriyabattini@gmai.com \\n\\nLocation: Visakhapatnam \\n\\nJOB OBJECTIVE \\xe2\\x97\\x8f Looking for a challenging role to put my experience in various aspects of technology with an objective to be a leading source of information and guidance concerning th\\n\\ntechnological requirements. \\n\\n\\xe2\\x97\\x8f Want to be a part of a reputed organization that allows me to effectively use my \\n\\ntechnical skills in the real world for overall growth of organization and my \\n\\nprofessional career. \\n\\nWORK EXPERIENCE EDUCATION \\n\\n1. Associate UI Developr \\n\\nCompany: Blue Yonder, Hyderabad. \\n\\n\\xe2\\x97\\x8f Work Done On \\xe2\\x80\\x9cCOPERNICUS\\xe2\\x80\\x9d Project. \\n\\n\\xe2\\x97\\x8f The Main Moto of this project is, it is GTM (Go To Market) Portal which is specially designed for demo teams to shower case Blue Yonder Products and Features for Customers and Partners \\n\\n\\xe2\\x97\\x8f Technologies: HTML, CSS, React JS. \\n\\n\\xe2\\x97\\x8f IDE: VS Code. \\n\\n\\xe2\\x97\\x8f Methodologies: Agile. \\n\\nJOB RESPONSIBILITIES: \\n\\n\\xe2\\x97\\x8f Involved Designing in Web Pages using HTML, CSS, JavaScript, React JS. \\xe2\\x97\\x8f Actively Handling the user stories raised through JIRA Tool. \\n\\n\\xe2\\x97\\x8f Analyzing the stories by going through the application, Identifying the solution and also providing the functionalities. \\n\\n\\xe2\\x97\\x8f Used JIRA as the bug tracking system to track and maintain the history of bugs on an everyday basis. \\n\\n\\xe2\\x97\\x8f B.Tech in Information technology from Anil Neerukonda Institute of Technology and Sciences (Affiliated to Andhra University), Visakhapatnam, in the year 2018 with 6.7 CGPA. \\n\\n\\xe2\\x97\\x8f Intermediate in MPC from NRI junior college, Visakhapatnam, in 2014 with a percentage of 72.2%. \\n\\n\\xe2\\x97\\x8f SSC from A.P.S.W.R school Pedapadu, Srikakulam in 2012 with CGPA 7.8.\\n\\nACADEMIC PROJECT \\n\\nTECHNICAL SKILLS STRENGTHS \\n\\nACHIEVEMENTS DECLARATION \\n\\nProject name : ONLINE RESTAURANT RESERVATION SYSTEM \\n\\nProject Duration : 3 months. \\n\\nDescription : \"Online Restaurant Reservation System\" is a web application. This system is developed to automate day to day activities of restaurants. It is a kind of business that serves the people all over the world with ready food. \\n\\nTechnology used : java, HTML, MYSQL \\n\\n\\xe2\\x97\\x8f Programming Languages : C, Reactjs, JavaScript, SQL Server. \\n\\n\\xe2\\x97\\x8f Software Packages : MS Office. \\n\\n\\xe2\\x97\\x8f Web Technologies : HTML, CSS. \\n\\n\\xe2\\x97\\x8f Operating System : Windows, Ubuntu. \\n\\n\\xe2\\x97\\x8f Positive attitude. \\n\\n\\xe2\\x97\\x8f Believe in punctuality \\n\\n\\xe2\\x97\\x8f Teamwork \\n\\n\\xe2\\x97\\x8f Responsible towards work \\n\\n\\xe2\\x97\\x8f Extended my services as poster Coordinator in the RADIAN 2k18 event. \\xe2\\x97\\x8f Extended my services in coordinator in farewell day 2018 \\n\\nIsolely declare that the above-mentioned facts are true to the best of my knowledge. Date: \\xe2\\x80\\xa6\\xe2\\x80\\xa6\\xe2\\x80\\xa6\\xe2\\x80\\xa6\\xe2\\x80\\xa6\\xe2\\x80\\xa6\\xe2\\x80\\xa6\\xe2\\x80\\xa6\\xe2\\x80\\xa6 \\n\\nPlace: Hyderabad. (Hari priya B)',\n",
       " b'KAMALAKAR REDDY. A \\n\\nLinked In: https://www.linkedin.com/in/kamalakar-reddy-777682196/ \\n\\nPROFESSIONAL SUMMARY \\n\\n\\xe2\\x97\\x8f 3 years of experience in UI Development of Enterprise Applications, Web Applicationsrelated technologies. \\n\\n\\xe2\\x97\\x8f Experience in Development, Coding, Maintenance,Design, Implementation of Web applications using HTML5, CSS3, JavaScript, j Query, React JS, Redux. \\n\\n\\xe2\\x97\\x8f Well versed in designing websites, Web Applications. \\n\\n\\xe2\\x97\\x8f Well versed in different Project Management Tools e.g. JIRA, GIT, Bit bucket. \\xe2\\x97\\x8f Tested cross browser design issues and fixed major layout bugs for supported browsers. \\xe2\\x97\\x8f Self-motivated with good communication and interpersonalskills. \\n\\n\\xe2\\x97\\x8f Ability to work independently and multitasking without negative impact to timelines orquality. \\n\\nWORK EXPERIENCE \\n\\nMARCH 2021 \\xe2\\x80\\x93 TILL DATE \\n\\nROLE : : UI DEVELOPER \\n\\nENLUME TECHNOLOGIES, HYDERABAD. \\n\\nAUGUST 2018 \\xe2\\x80\\x93 MARCH 2021 \\n\\nROLE : SOFTWARE ENGINEER \\n\\nFORTUNAPIX PRIVATE LIMITD, HYDERABAD. \\n\\nPROJECTS \\n\\nTITLE : Monarch Tractor \\n\\nDESCRIPTION: Monarch Tractor impacts the environment exactly as intended, without side effects. This Application helpful for farmers to get tractor alerts, updates on weather conditions, Analysis, Data collection. MT platform acts as a full data collection and analysis suit. TECHNOLOGIES: HTML, Css3, Bootstrap, React Js, JavaScript. \\n\\nTITLE : lernbook \\n\\nDESCRIPTION: Fortunapix works for Digitalization of schools by providing modern digital education system in Govt. schools of Antigua and Barbuda, and Caribbean islands. This project digitalize and animates the education content for different grades in a school. \\n\\nTECHNOLOGIES: Html, Css3, React Js, Bootstrap, Jqery. \\n\\nurl: http://demo.fortunapix.com/kkel/\\n\\nEDUCATION \\n\\n2017 - 2018 \\n\\nWEB DESIGNING & DEVELOPMENT COURSE \\n\\nAT ARENA ANIMATION DILSUKNAGAR, HYDERABAD. \\n\\n2010 - 2013 \\n\\nBACHELOR OF COMPUTERS \\n\\nAT G.PULLAREDDY DEGREE & PG COLLEGE, HYDERABAD. \\n\\nTECHNICAL SKILLS \\n\\nJAVASCRIPT LIBRARYS : ReactJs, Redux. \\n\\nCSS FRAMEWORK : Bootstrap. \\n\\nENVIRONMENT : Photoshop, Visual Studio. \\n\\nWEBTECHNOLOGIES : HTML 4, CSS3, Sass. \\n\\nOPERATINGSYSTEMS : Windows, Mac, Ubuntu. \\n\\nSCRIPTINGLANGUAGES : JavaScript, jQuery. \\n\\nMETHODOLOGIES : Agile. \\n\\nACTIVITIES & INTERESTS \\n\\n\\xe2\\x88\\x99 Cooking \\n\\n\\xe2\\x88\\x99 Playing Cricket \\n\\n\\xe2\\x88\\x99 Listening Music \\n\\n\\xe2\\x88\\x99 Other Social Activities \\n\\nPERSONAL PROFILE \\n\\nFATHER\\xe2\\x80\\x99SNAME : MURAHARI REDDY. A \\n\\nGENDER : Male \\n\\nMARITALSTATUS : Single \\n\\nNATIONALITY : Indian \\n\\nKNOWN LANGUAGES : Telugu, English, and Hindi. \\n\\nLOCATION : Madhapur, Hyderabad \\n\\nDECLARATION \\n\\nI do hereby declare that all the above information furnished by me are true and correct to the best of my knowledge. \\n\\nPlace : Hyderabad (KAMALAKAR REDDY .A) Date :',\n",
       " b'Naveen Sadhu\\n\\n\\n\\n\\n\\nTitle: software developer\\t\\t\\t\\t                  \\n\\nLocation: Hyderabad, India\\t\\t\\t                                \\n\\n\\n\\nProfessional Summary\\n\\n1 year of overall IT experience in Html, Sql, Reactjs and Nodejs.\\n\\nExperience in working with Application development and testing tool\\n\\nHard working and enthusiastic.\\n\\n\\tExcellent communication, interpersonal, analytical skills, and strong ability to perform as part of team.\\n\\nExceptional ability to learn new concepts.\\n\\n\\t\\n\\nEducation\\n\\n\\tBachelor of Technology in Computer Science and Engineering from Marri Laxman Reddy Institute of Technology and Management (Affiliated to JNTUH).\\n\\nSkills\\n\\nTechnology\\n\\nMERN stack\\n\\nFrameworks\\n\\nFramework7\\n\\nIDEs\\n\\nEclipse, Visual Studio Code\\n\\nDatabases\\n\\nSQL, Mongo Database\\n\\nOperating Systems\\n\\nWindows, Unix \\n\\n\\n\\nProfessional Experience\\n\\nCurrent Project \\n\\nClient\\t\\t  : Inline4, USA\\n\\n\\n\\nOrganization     : Edvenswa tech Pvt. Ltd\\n\\n\\n\\nTechnology\\t  : MERN stack, HTML,CSS,BOOTSTRAP\\n\\n\\n\\nDescription\\n\\n\\n\\nThe project goal is to provide whenever the user wants to do servicing for his bike he can go directly to this application and he can book slot for his bike servicing. Why because whenever the customer is in problem he can directly book the service so that the service provider will take the bike for servicing..\\n\\n\\n\\n\\n\\nContribution\\n\\nUnderstand and implement the features \\n\\nNegotiate scope and resolving conflicting priorities.\\n\\nTranslate requirements into meaningful stories that the team can deliver against.\\n\\nApplication deployment.\\n\\nDeveloped the optimized code as per the requirement.\\n\\n \\n\\n\\n\\n\\n\\n\\n\\n\\n\\nPersonal Details\\n\\n\\tName\\n\\n\\tNaveen sadhu\\n\\n\\tDOB\\n\\n\\t22-03-1997\\n\\n\\tAddress\\n\\nHyderabad.\\n\\n\\tLanguages Known\\n\\n\\tEnglish, Hindi, Telugu.\\n\\n\\tMarital Status\\n\\n\\tSingle\\n\\n\\t\\n\\n\\t\\n\\n\\t\\n\\n\\t\\n\\n\\n\\n\\n\\n\\n\\nYours sincerely  \\n\\n            (Naveen Sadhu)',\n",
       " b'PRAGNYA PATTNAIK\\n\\n \\n\\n \\n\\n \\n\\n Expertise: \\n\\n \\n\\nHaving around 2 years of experience in UI development using Html5, CSS3, JavaScript, Bootstrap, React JS. \\n\\nGood knowledge in Java Script, JQuery, Ajax, React JS, TypeScript, Angular 10. \\n\\nWorking on AGILE METHODOLGY\\n\\nFlexible to every Environment, Honest and believe in Hard work. \\n\\nGood Communications and Analytical skills. \\n\\nMaintain focus on high quality deliverables while working under pressure in Production environment. \\n\\nManagement of the ticketing system on the production environment and resolution of the tickets with different priorities with appropriate solutions. \\n\\nExcellent interpersonal communicator and focused on building strong client/customer relationships. \\n\\nProven ability to work efficiently in both Independent and team work environments. \\n\\nAbility to work optimally under scheduled deadlines and deliver high quality output. \\n\\n \\n\\nTechnical Skills: \\n\\n \\n\\nIDE\\xe2\\x80\\x99S \\n\\nVS Code. \\n\\nLanguages \\n\\nHtml5, CSS3, Java script, JQuery, Type Script, ReactJS\\n\\nFrameWork \\n\\nBootStrap, Angular 10. \\n\\nOperating Systems \\n\\nWindows 7,8,10 \\n\\nOthers \\n\\nMS Office, Redux, Saga, Thunk, Node JS, MongoDB, Express JS, Material UI, Github\\n\\n \\n\\n \\n\\n Educational Profile: \\n\\n \\n\\nMCA from IGNOU (Indira Gandhi National Open University) 2018, Odisha. \\n\\n \\n\\n   Working Profile: \\n\\n \\n\\nWorking as a Web Developer for Smart Edge India Pvt Ltd, (November 2019 to till date). \\n\\n\\n\\n \\n\\n Professional Experiences: \\n\\n\\n\\nProject 1: \\n\\n \\n\\nProject Name \\n\\n: Golden Amoon Resort \\n\\nClient \\n\\n: Golden Amoon \\n\\nRole \\n\\n: UI Developer \\n\\nProject Description:- \\n\\nGolden amoon is a resort and hotel. They provides services for hotel booking, spa, conventional centre and conference hall booking system. Customers can check the availability for all services through web as well as in mobile. They can give their payment through online payment by internet banking, Debit card or in Credit Card. We developed both web and android based application which can help customers to get the services features easily and make client also for doing profitable business. \\n\\nResponsibilities: \\n\\nUnderstanding requirements. \\n\\nWorking on UI implementation for the customers. \\n\\nCustomizing React JS .\\n\\nDeveloped the front-end web page by using HTML5, CSS3, Bootstrap and  JQuery. \\n\\nCreated CSS Websites Compatible of Google Chrome. \\n\\n \\n\\n Project 2: \\n\\n\\n\\nProject Name \\n\\n: G2evolution.co.in \\n\\nClient \\n\\n: Internal Project \\n\\nRole \\n\\n: UI Developer \\n\\nURL \\n\\n: http://g2evolution.co.in/ \\n\\nProject Description:- \\n\\nG2evolution is a service based company. They provide services for School Management, Ecommerce, Business Consulting, Mobile App Development, Search Engine Optimization (SEO). \\n\\nResponsibilities: \\n\\nConversion of PSD designs into HTML5 (Responsive layouts). \\n\\nInvolved in fixing the issues. \\n\\nDesigning Attractive Layout. \\n\\n\\n\\n\\nPERSIONAL DETAILS:\\n\\n\\n\\n             Name\\t\\t           :        PRAGNYA  PATTNAIK\\n\\n\\tGender\\t\\t           :        Female\\n\\n\\tNationality\\t           :        Indian\\t\\n\\n\\tLanguages known       :         English & Hindi & ODIYA\\n\\n\\t\\n\\n(I hereby declare that the above written particulars are true to the best of my knowledge and belief)',\n",
       " b\"SARALA MADASU\\n\\nSARALA MADASU\\n\\n\\xee\\xa5\\x87 204,Sri geethika prestige,road number 10,bandari layout,nizampet,Hyderabad,500090.\\n\\n\\n\\n\\xee\\xa6\\xb3\\n\\n\\xee\\xa6\\xb3\\n\\nObjective\\n\\nObjective\\n\\n\\tHaving 3 years of experience in developing UI-Applications. \\xe2\\x97\\x89 Pro\\xef\\xac\\x81cient and excellent hands on experience with JavaScript,HTML5,CSS3,Boostarp,React Js. \\xe2\\x97\\x89 Good knowledge in designing web pages using CSS3 and Bootstrap. \\xe2\\x97\\x89 Strong knowledge in using Object Oriented Programming concepts in JavaScript. \\xe2\\x97\\x89 Working knowledge of DOM models and Strong skills of usability and accessibility with HTML,CSS. \\xe2\\x97\\x89 Providing support to the UI Design team,form an UI architecture/frame works perspective. \\xe2\\x97\\x89 Experience in Boostarp (responsive web design),and React Js frameworks.. \\xe2\\x97\\x89 Experience in the Healthcare domain.Involved in all phases of the software development life cycle such as developing,integrating,Implementing and Debugging of web based. \\xe2\\x97\\x89 Excellent interpersonal abilities,communication skills,time management and team skills with an intention to work hard to meet project deadlines under stressful environment.\\n\\n\\n\\nExperience\\n\\nWesatage eservices Pvt It's./Ass.UI Developer\\n\\nExperience\\n\\nWesatage eservices Pvt It's./Ass.UI Developer\\n\\nApr 2017 - Feb 2019\\n\\n\\n\\n\\xee\\xa6\\xae\\n\\n\\xee\\xa6\\xaeSoftware Engineer\\n\\nIndividual contributor responsible for designing front end applications using web technologies like HTML5,CSS3 and JavaScript.\\n\\nResponsible for creating Modules using react is,converting HTML into components.\\n\\nResponsible for creating responsive web pages using Bootstrap.\\n\\n\\n\\n\\n\\n\\xee\\xa4\\xbb\\n\\n\\xee\\xa4\\xbb\\n\\n\\n\\nWesatage eservices Pvt It's/UI Developer\\n\\nWesatage eservices Pvt It's/UI Developer\\n\\nApr 2016 - Mar 2017\\n\\nSoftware Engineer\\n\\nIndividual contributor responsible for completing assigned tasks on time and proactively taking up new tasks.\\n\\nResponsible for building optimized code using JavaScript and debugging for any issues.\\n\\nUnderstanding the software requirements speci\\xef\\xac\\x81cation @project functionality.\\n\\nResponsible for designing reactive web pages using HTML and CSS.\\n\\nResponsible for doing research on new implementations and \\xef\\xac\\x81nding out if it \\xef\\xac\\x81ts the current requirement.\\n\\nParticipate in daily meetings and give day wise updates to the team.\\n\\n\\n\\nEducation\\n\\nB.Tech.,CSE\\n\\nEducation\\n\\nB.Tech.,CSE\\n\\n2011-2015\\n\\n\\n\\n\\xee\\xa4\\x86\\n\\n\\xee\\xa4\\x86Sri Krishna Devaraya College(JNTU)\\n\\n\\n\\nSri Sai Junior College\\n\\nSri Sai Junior College\\n\\n2009-2011\\n\\n\\n\\n\\n\\n\\xee\\xa6\\xa5\\n\\n\\xee\\xa6\\xa5Inter,MPC\\n\\n\\n\\nSkills\\n\\nSkills\\n\\nHTML5,CSS3,JavaScript,React js, Bootstrap.\\n\\n\\n\\nProjects\\n\\nE-Services/GOA Govt.,GURGAGON\\n\\nProjects\\n\\nE-Services/GOA Govt.,GURGAGON\\n\\nE-Services is the project initiated by GOA government.The E-Services portal aims to provide the facility for citizens to submit online forms for the services identi\\xef\\xac\\x81ed by the state to be delivered online and through Lok seva kandra(LSKs).\\n\\n\\n\\n\\n\\n\\n\\nCustomer Relationship Management/GOA Govt,Gurgaon\\n\\nCustomer Relationship Management/GOA Govt,Gurgaon\\n\\nCRM processes that help identify and target their best customers.Providing services and products that are exactly what your customers want.CRM processes that help from individualized relationships with\\n\\nCustomers(to improve customer satisfaction)and provide the highest level of customer service to the most pro\\xef\\xac\\x81table customers.\",\n",
       " b\"Thirupathamma Balla\\n\\n\\n\\nSUMMARY:\\n\\n\\n\\n2.8 year of IT experience as React Developer. \\n\\nWorked on technologies like React, JavaScript. \\n\\nExperience in developing business applications for the Internet using React.\\n\\nExperience in Object Oriented Programming concepts. \\n\\nStrong Analytical Ability skills.\\n\\nEnthusiastic, eager to meet challenges and quick to learn and assimilate new   concepts and ideas.\\n\\nAbility to work efficiently, either independently or on a team with minimal supervision and without ever missing a deadline.\\n\\nBrief Profile\\n\\n\\n\\nWork Experience\\n\\n:\\n\\n2.8 Year(s) \\n\\nCurrent Employer\\n\\n:\\n\\nPredifast Technologies Private Limited.  [React Developer]\\n\\nIndustry\\n\\n:\\n\\nIT-Software/Software Services\\n\\nHighest Degree\\n\\n:\\n\\nB. Tech (EEE)\\n\\nCurrent\\n\\n:\\n\\nHyderabad\\n\\nDate of Birth (Gender)\\n\\n:\\n\\n5th November, 1999\\n\\n\\n\\nSummary of Skills & Experience\\n\\n\\n\\nWork Experience\\n\\nDuration\\n\\n:\\n\\nMar 2020 - Till Date\\n\\nCompany\\n\\n:\\n\\nPredifast Technologies Private Limited.  \\n\\nDesignation\\n\\n:\\n\\nReact Developer.\\n\\nJob Profile \\n\\n:\\n\\nDevelop JavaScript based applications using React.\\n\\n\\n\\nTechnical Skills:\\n\\n\\n\\nLanguages \\t\\t:\\tC.\\n\\nWeb Technologies\\t:\\tReact, Bootstrap, Javascript and JSON.\\n\\n\\n\\n\\n\\n\\n\\n\\n\\nEducation\\n\\n\\n\\nCourse\\n\\nInstitution\\n\\nPercentage\\n\\nYear of passing\\n\\nElectrical & Electronics Engineering\\n\\nTirumala Engineering College\\n\\n7.2 GPA\\n\\n\\n\\n2020\\n\\nIntermediate\\n\\nKrishnaVeni Junior College \\n\\n8.2 GPA\\n\\n2016\\n\\nSSC\\n\\nLittle Angels High School\\n\\n8.7 GPA\\n\\n2014\\n\\n\\n\\n\\n\\nProject Details\\n\\n\\n\\nProject # 1\\t:\\tapplebee\\n\\n\\n\\nOrganization\\n\\nPredifast Technologies Private Limited\\n\\nTeam Size\\xc2\\xa0\\n\\n4\\n\\nTechnology Stack\\n\\nReact, NodeJS, .Net Core\\n\\nData Base\\n\\nAzure SQL Server\\xc2\\xa0\\n\\nRole\\n\\nReact Developer\\n\\n\\n\\nResponsibilities   \\t:\\n\\nResponsible to develop reusable React components\\n\\nResponsible for reviewing other developers' code as part of peer-code-review.\\n\\nResponsible to write unit test cases in React\\n\\nResponsible for testing the components in the staging server.\\n\\n\\n\\n\\n\\n\\n\\n\\n\\n\\n\\n\\n\\n\\n\\nThirupathamma Balla.\",\n",
       " b'Ui-Developer/ React JS Developer \\n\\nNAME: KRISHNA \\n\\nPROFESSIONAL SUMMARY:\\n\\n\\t\\tOver all 3.2 years of Extensive experience as a\\xc2\\xa0React JS/Web-\\xc2\\xa0Developer\\xc2\\xa0and 1 year\\xc2\\xa0of Experience as\\xc2\\xa0React JS Software Developer.\\n\\n\\t\\tExtensive experience in developing web pages using\\xc2\\xa0HTML, XML, CSS, JavaScript, React JS, Redux, JSON.\\n\\n\\t\\tExperience in all phase of\\xc2\\xa0SDLC\\xc2\\xa0like\\xc2\\xa0Requirement Analysis, Implementation\\xc2\\xa0and\\xc2\\xa0Maintenance,\\xc2\\xa0and extensive experience with\\xc2\\xa0Agile\\xc2\\xa0and\\xc2\\xa0SCRUM.\\n\\n\\t\\tExtensive knowledge in developing single - page applications\\xc2\\xa0(SPAs).\\n\\n\\t\\tGood Expertise in analyzing the\\xc2\\xa0Document Object Model (DOM) Layout, DOM Functions, and Java Script functions, Cascading Styles\\xc2\\xa0across cross-browser using\\xc2\\xa0Fire Bug,\\xc2\\xa0Developer Tool Bar.\\n\\n\\t\\tExpertise in\\xc2\\xa0React JS\\xc2\\xa0framework to develop the\\xc2\\xa0SPA.\\n\\n\\t\\tExperienced in\\xc2\\xa0React JS\\xc2\\xa0and working with\\xc2\\xa0React Flux architecture.\\n\\n\\t\\tExperienced in working with\\xc2\\xa0redux architecture\\xc2\\xa0using complex Object-Oriented concepts in improving the performance of the websites.\\n\\n\\t\\tExperience in using\\xc2\\xa0React JS components, Forms, Events, Keys, Router, plus Redux, Animations.\\n\\n\\t\\tExpertise in video coding by using\\xc2\\xa0HTML5,\\xc2\\xa0CSS3\\xc2\\xa0and\\xc2\\xa0JavaScript.\\n\\n\\t\\tExpertise in\\xc2\\xa0RESTful,\\xc2\\xa0SOAP\\xc2\\xa0web services to integrate between\\xc2\\xa0Application\\xc2\\xa0to\\xc2\\xa0Application\\n\\n\\t\\tExperience with\\xc2\\xa0front-end development\\xc2\\xa0with\\xc2\\xa0back-end system integration.\\n\\nTECHNICAL SKILLS:\\n\\nWeb Technologies:\\xc2\\xa0HTML, CSS3, XML, JavaScript, JSON, React JS, Node.js, GitHub.\\n\\n\\n\\nQUALIFICATION:\\n\\nB-Tech from JNTU-Kakinada University - 2016\\n\\nPROFESSIONAL EXPERIENCE:\\n\\nI have experience as React JS Developer with 3.2 years of experience in the IT Industry and currently working in BOSCH.\\n\\nCurrent Project: AGSP (Auto Guar age Solution Project)\\n\\nRole: UI Developer/ React JS Developer\\n\\nResponsibilities:\\n\\nDesign, develop and test\\xc2\\xa0HTML5,\\xc2\\xa0CSS3,\\xc2\\xa0Bootstrap,\\xc2\\xa0JavaScript\\xc2\\xa0and\\xc2\\xa0React.JS\\xc2\\xa0that meets accessibility and web browser standards for website.\\n\\nDeveloped user interface by using the\\xc2\\xa0React JS, Flux\\xc2\\xa0for\\xc2\\xa0SPA\\xc2\\xa0development.\\xc2\\xa0\\n\\nUsed React-Router to turn application into\\xc2\\xa0Single Page Application\\n\\nWorked in using\\xc2\\xa0React JS components, Forms, Events, Keys, Router, Animations and Flux concept.\\n\\nUsed\\xc2\\xa0React flux\\xc2\\xa0to polish the data and for single directional flow.\\n\\nUsed\\xc2\\xa0Object Oriented Programming\\xc2\\xa0concepts to develop\\xc2\\xa0UI\\xc2\\xa0components that could be reused across the\\xc2\\xa0Web Application.\\n\\nExtensively used\\xc2\\xa0Git\\xc2\\xa0for version controlling and regularly pushed the code to\\xc2\\xa0GitHub.\\n\\nUsed\\xc2\\xa0JIRA\\xc2\\xa0as the bug tracking system to track and maintain the history of\\xc2\\xa0bugs/issues\\xc2\\xa0on everyday basis.\\n\\n Environment: HTML5, CSS3, JavaScript, Bootstrap, React JS, Redux, JSON, Git hub, JIRA\\n\\nPrevious Project:  SITE WORK PROJECT\\n\\nRole: UI Developer/ React JS Developer\\n\\nResponsibilities:\\n\\nWorked on an\\xc2\\xa0Agile\\xc2\\xa0(Scrum)\\xc2\\xa0Development\\xc2\\xa0Team\\xc2\\xa0to deliver regular updates to business team and project managers.\\n\\nInvolved designing in web pages using\\xc2\\xa0HTML\\xc2\\xa05,\\xc2\\xa0CSS3,\\xc2\\xa0JavaScript, Bootstrap, React.js,\\xc2\\xa0Redux\\xc2\\xa0, \\n\\nWorked on\\xc2\\xa0React JS Virtual Dom\\xc2\\xa0and\\xc2\\xa0React views, rendering using components which contains additional components called custom\\xc2\\xa0HTML tags.\\n\\nImplemented various screens for the front end using\\xc2\\xa0React.js\\xc2\\xa0and used various predefined\\xc2\\xa0components\\xc2\\xa0from\\xc2\\xa0NPM (Node Package Manager)\\xc2\\xa0and\\xc2\\xa0redux library.\\n\\nWorked in using\\xc2\\xa0React JS components, Forms, Events, Keys, Router, Animations,\\xc2\\xa0and\\xc2\\xa0Flux concept.\\n\\nResponsible for\\xc2\\xa0React\\xc2\\xa0UI\\xc2\\xa0and\\xc2\\xa0architecture.\\xc2\\xa0Building\\xc2\\xa0components\\xc2\\xa0library,\\xc2\\xa0including\\xc2\\xa0Tree,\\xc2\\xa0Slide-View,\\xc2\\xa0and Table Grid.\\n\\nImplemented stable\\xc2\\xa0React\\xc2\\xa0components\\xc2\\xa0and\\xc2\\xa0stand-alone functions\\xc2\\xa0to be added to any future pages.\\n\\nUsed\\xc2\\xa0React JS\\xc2\\xa0for\\xc2\\xa0tinplating\\xc2\\xa0for faster compilation and developing reusable\\xc2\\xa0components.\\n\\nUsed\\xc2\\xa0React-Auto complete\\xc2\\xa0for creating\\xc2\\xa0Google maps\\xc2\\xa0location search on the webpage.\\xc2\\xa0 Environment:\\xc2\\xa0HTML5, CSS3, Bootstrap, GitHub and Jenkins.',\n",
       " b'Ui-Developer/ React JS Developer \\n\\nNAME: KRISHNA \\n\\n\\n\\nPROFESSIONAL SUMMARY:\\n\\n\\t\\tOver all 3.2 years of Extensive experience as a\\xc2\\xa0React JS/Web-\\xc2\\xa0Developer\\xc2\\xa0and 1 year\\xc2\\xa0of Experience as\\xc2\\xa0React JS Software Developer.\\n\\n\\t\\tExtensive experience in developing web pages using\\xc2\\xa0HTML, XML, CSS, JavaScript, React JS, Redux, JSON.\\n\\n\\t\\tExperience in all phase of\\xc2\\xa0SDLC\\xc2\\xa0like\\xc2\\xa0Requirement Analysis, Implementation\\xc2\\xa0and\\xc2\\xa0Maintenance,\\xc2\\xa0and extensive experience with\\xc2\\xa0Agile\\xc2\\xa0and\\xc2\\xa0SCRUM.\\n\\n\\t\\tExtensive knowledge in developing single - page applications\\xc2\\xa0(SPAs).\\n\\n\\t\\tGood Expertise in analyzing the\\xc2\\xa0Document Object Model (DOM) Layout, DOM Functions, and Java Script functions, Cascading Styles\\xc2\\xa0across cross-browser using\\xc2\\xa0Fire Bug,\\xc2\\xa0Developer Tool Bar.\\n\\n\\t\\tExpertise in\\xc2\\xa0React JS\\xc2\\xa0framework to develop the\\xc2\\xa0SPA.\\n\\n\\t\\tExperienced in\\xc2\\xa0React JS\\xc2\\xa0and working with\\xc2\\xa0React Flux architecture.\\n\\n\\t\\tExperienced in working with\\xc2\\xa0redux architecture\\xc2\\xa0using complex Object-Oriented concepts in improving the performance of the websites.\\n\\n\\t\\tExperience in using\\xc2\\xa0React JS components, Forms, Events, Keys, Router, plus Redux, Animations.\\n\\n\\t\\tExpertise in video coding by using\\xc2\\xa0HTML5,\\xc2\\xa0CSS3\\xc2\\xa0and\\xc2\\xa0JavaScript.\\n\\n\\t\\tExpertise in\\xc2\\xa0RESTful,\\xc2\\xa0SOAP\\xc2\\xa0web services to integrate between\\xc2\\xa0Application\\xc2\\xa0to\\xc2\\xa0Application\\n\\n\\t\\tExperience with\\xc2\\xa0front-end development\\xc2\\xa0with\\xc2\\xa0back-end system integration.\\n\\nTECHNICAL SKILLS:\\n\\nWeb Technologies:\\xc2\\xa0HTML, CSS3, XML, JavaScript, JSON, React JS, Node.js, GitHub.\\n\\n\\n\\nQUALIFICATION:\\n\\nB-Tech from JNTU-Kakinada University - 2016\\n\\nPROFESSIONAL EXPERIENCE:\\n\\nI have experience as React JS Developer with 3.2 years of experience in the IT Industry and currently working in BOSCH.\\n\\nCurrent Project: AGSP (Auto Guar age Solution Project)\\n\\nRole: UI Developer/ React JS Developer\\n\\nResponsibilities:\\n\\nDesign, develop and test\\xc2\\xa0HTML5,\\xc2\\xa0CSS3,\\xc2\\xa0Bootstrap,\\xc2\\xa0JavaScript\\xc2\\xa0and\\xc2\\xa0React.JS\\xc2\\xa0that meets accessibility and web browser standards for website.\\n\\nDeveloped user interface by using the\\xc2\\xa0React JS, Flux\\xc2\\xa0for\\xc2\\xa0SPA\\xc2\\xa0development.\\xc2\\xa0\\n\\nUsed React-Router to turn application into\\xc2\\xa0Single Page Application\\n\\nWorked in using\\xc2\\xa0React JS components, Forms, Events, Keys, Router, Animations and Flux concept.\\n\\nUsed\\xc2\\xa0React flux\\xc2\\xa0to polish the data and for single directional flow.\\n\\nUsed\\xc2\\xa0Object Oriented Programming\\xc2\\xa0concepts to develop\\xc2\\xa0UI\\xc2\\xa0components that could be reused across the\\xc2\\xa0Web Application.\\n\\nExtensively used\\xc2\\xa0Git\\xc2\\xa0for version controlling and regularly pushed the code to\\xc2\\xa0GitHub.\\n\\nUsed\\xc2\\xa0JIRA\\xc2\\xa0as the bug tracking system to track and maintain the history of\\xc2\\xa0bugs/issues\\xc2\\xa0on everyday basis.\\n\\n Environment: HTML5, CSS3, JavaScript, Bootstrap, React JS, Redux, JSON, Git hub, JIRA\\n\\nPrevious Project:  SITE WORK PROJECT\\n\\nRole: UI Developer/ React JS Developer\\n\\nResponsibilities:\\n\\nWorked on an\\xc2\\xa0Agile\\xc2\\xa0(Scrum)\\xc2\\xa0Development\\xc2\\xa0Team\\xc2\\xa0to deliver regular updates to business team and project managers.\\n\\nInvolved designing in web pages using\\xc2\\xa0HTML\\xc2\\xa05,\\xc2\\xa0CSS3,\\xc2\\xa0JavaScript, Bootstrap, React.js,\\xc2\\xa0Redux\\xc2\\xa0, \\n\\nWorked on\\xc2\\xa0React JS Virtual Dom\\xc2\\xa0and\\xc2\\xa0React views, rendering using components which contains additional components called custom\\xc2\\xa0HTML tags.\\n\\nImplemented various screens for the front end using\\xc2\\xa0React.js\\xc2\\xa0and used various predefined\\xc2\\xa0components\\xc2\\xa0from\\xc2\\xa0NPM (Node Package Manager)\\xc2\\xa0and\\xc2\\xa0redux library.\\n\\nWorked in using\\xc2\\xa0React JS components, Forms, Events, Keys, Router, Animations,\\xc2\\xa0and\\xc2\\xa0Flux concept.\\n\\nResponsible for\\xc2\\xa0React\\xc2\\xa0UI\\xc2\\xa0and\\xc2\\xa0architecture.\\xc2\\xa0Building\\xc2\\xa0components\\xc2\\xa0library,\\xc2\\xa0including\\xc2\\xa0Tree,\\xc2\\xa0Slide-View,\\xc2\\xa0and Table Grid.\\n\\nImplemented stable\\xc2\\xa0React\\xc2\\xa0components\\xc2\\xa0and\\xc2\\xa0stand-alone functions\\xc2\\xa0to be added to any future pages.\\n\\nUsed\\xc2\\xa0React JS\\xc2\\xa0for\\xc2\\xa0tinplating\\xc2\\xa0for faster compilation and developing reusable\\xc2\\xa0components.\\n\\nUsed\\xc2\\xa0React-Auto complete\\xc2\\xa0for creating\\xc2\\xa0Google maps\\xc2\\xa0location search on the webpage.\\xc2\\xa0 Environment:\\xc2\\xa0HTML5, CSS3, Bootstrap, GitHub and Jenkins.',\n",
       " b'Kotani Durga Prasad\\n\\n\\n\\n\\n\\nObjective:\\n\\n\\n\\nAspirant for a position in an organization where I can contribute my skills for organization\\xe2\\x80\\x99s success and synchronize with new technologies while being resourceful, innovative and flexible.\\n\\n\\n\\nProfessional Summary:\\n\\n\\t3.1 years of experience as a Software Engineer.\\n\\n\\tHighly creative web designer and front end developer with experience of working on a diverse range of projects from small business websites to large scale websites with a global user base.\\n\\n\\tExcellent knowledge in HTML, HTML5, CSS3, Bootstrap frameworks. Strong hands on experience in hand coding web technologies.\\n\\n\\tGood Knowledge in Designing & Developing the Web pages based on SEO (Search Engine Optimization), W3C Standards and Cross-Browser Compatibility.\\n\\n\\tVery good knowledge in client side programming with JavaScript, jQuery. Working knowledge in React JS.\\n\\n\\tExperience in developing fully Responsive Websites using media queries and flexible layouts.\\n\\n\\tAbility to create pixel to pixel matching web pages.\\n\\n\\tUnmatchable degree of creativity as well as technical production skills. Excellent verbal communication skills including the ability to convey ideas and information clearly, concisely and persuasively.\\n\\n\\tFlexibility, good judgment and attention to the detail essential.\\n\\nEducation Details:\\n\\n\\tB.Tech (Computer Science Engineering) from Gudlavalleru Engineering College.\\n\\n\\tIntermediate from Sri Chaitanya Junior College.\\n\\n\\tHigh School from Viswakavi High School.\\n\\nProfessional Experience:\\n\\n\\n\\n\\tWorking as Software Engineer in Amaravati Tech Services, Vijayawada from August 2018 to Till Date.\\n\\n\\n\\nTechnical Skills:\\n\\n\\t\\tKey Skills:\\tHTML5, CSS3, JavaScript, JQuery, Json, Bootstrap and Responsive Design.\\n\\n\\t\\tFrameworks:\\tReact Js.\\n\\n\\t\\tOS:\\tWindows\\n\\n\\t\\tDev Tools:\\tMicrosoft Visual Studios\\n\\n\\t\\tO\\xef\\xac\\x83ce Tools:\\tMicrosoft O\\xef\\xac\\x83ce Suite, Edit Plus, NotePad++\\n\\n\\n\\nProjects:\\n\\n\\n\\n\\tAgro Services:\\n\\n\\n\\nDescription:\\n\\n\\n\\nThis is E-commerce based Web Application. selling & buying agriculture equipment Pesticides, seeds. Providing these services to client.\\n\\n\\n\\nRole and Responsibilities:\\n\\n\\n\\n\\tUsed UI Router for implementing routing in the application.\\n\\n\\tImplemented Validations using pre-defined Validations of React JS Framework. Implemented Validation by using Custom directives in React Js.\\n\\n\\tUsed Http services & Pagination. Have an overview, understanding about di\\xef\\xac\\x80erent features of React JS like dependency injection, digest and apply web cycle, two-way data binding. Done curd operation using re-source services.\\n\\n\\tInvolved in development, design and implementation of front end part of the application.\\n\\n\\tDeveloped the User Interactive web pages in a professional manner by using web technologies like HTML5, CSS3 as per company standards.\\n\\n\\tUsed Bootstrap and React JS in e\\xef\\xac\\x80ective web design. Responsible for creating the look and feel of the public website.\\n\\n\\tUsed Ajax, JSON with jQuery for request data and response processing. . Used broadcast, emit & on to share data between di\\xef\\xac\\x80erent modules Interacting with customer along various phases of the project.\\n\\n\\n\\nUI Technologies Used\\n\\n\\n\\n\\tHTML5, CSS3, JavaScript, Bootstrap, JQuery, React JS.\\n\\n\\n\\n\\tMy Map Tag:\\n\\n\\n\\nDescription:\\n\\n\\n\\nMy Map Tag connects people and places, by providing the fastest, easiest way to share directions that eliminate the wasted time and frustration of getting lost. It is an online Directory Service for identifying Places important to you (such as your home, o\\xef\\xac\\x83ce, business, etc.),   which is designed for mobile use and optimized to take advantage of the capabilities of smart phones. My Map Tags hold much more information about a Place than just the address. They include things like photos, special instructions, directional helps (such as landmarks and route guide lines), contact details, descriptive information, and of course the GPS coordinates that show you the exact location on a map. The Tags are private and secure and controlled by the Map Tag owner. Individual Map Tags are not accessible to anyone, unless authorized by owner.\\n\\n\\n\\nRoles and Responsibilities:\\n\\n\\n\\n\\tHTML Development.\\n\\n\\tFixing alignment Issues and Creating Drop down menus using jQuery.\\n\\n\\n\\nUI Technologies Used:\\n\\n\\n\\n\\tHTML5, CSS3, JavaScript, Bootstrap, JQuery\\n\\n\\n\\n\\tByron:\\n\\n\\n\\nDescription:\\n\\n\\n\\nByron vision is to serve proper hamburgers the way they should be. It started o\\xef\\xac\\x80 in 2007 in London to do a simple thing well, and do it properly as there weren\\xe2\\x80\\x99t any restaurants o\\xef\\xac\\x80ering hamburgers like those at the Silver Top at that moment. Byron site shows menu information, including a price and description for each of the dishes, location information for restaurants in the chain, provide news and stories about the brand and the ability to sign up to receive marketing information from Byron.\\n\\nThe site was built using the latest technology, with the experience on capable devices utilizing HTML5 transitions and functionality where needed. Where HTML5 functionality is  not  supported by the device the experience will be degraded to provide usability according to the device capabilities.\\n\\n\\n\\nRoles and Responsibilities:\\n\\n\\n\\n\\tHTML Development\\n\\n\\tDeveloping Drop down menus using jQuery\\n\\n\\tDeveloping dynamic background using JQuery mobile.\\n\\n\\n\\nUI Technologies Used:\\n\\n\\n\\n\\tHTML5, CSS3, JQuery.\\n\\n\\n\\nPersonal Details:\\n\\n\\n\\n\\tNationality: Indian\\n\\n\\tSex: Male\\n\\n\\tMarital Status: Unmarried\\n\\n\\tLanguages Known : English, Hindi, Telugu\\n\\n\\n\\nDeclaration:\\n\\n\\n\\nI hereby declare that the information furnished above is true to the best of my knowledge and belief.\\n\\n\\n\\nDate:\\n\\n\\tPlace: Vijayawada\\tK.Durga Prasad',\n",
       " b'Venkatalakshmi Pedireddy\\n\\nSoftware Developer\\n\\nExperience 3 Years\\n\\n\\n\\n\\n\\n\\nVisakhapatnam, India\\n\\n\\n\\n\\n\\n\\n\\n\\n\\nWORK EXPERIENCE\\n\\nDeveloper\\n\\nSchemax Expert Techno Crafts Pvt. Ltd\\n\\n\\t05/2018 - Present,\\tVisakapatnam\\n\\nAchievements/Tasks\\n\\nWorked on both front end and back end\\n\\nResponsible for development and management of the project\\n\\n\\n\\n\\n\\nEDUCATION\\n\\nSSC\\n\\nZ. P. G. H. School\\n\\n\\t08/2011 - 03/2012,\\t8.5 CGPA\\n\\n\\n\\n\\n\\nBoard Of Intermediate, AP\\n\\nSri Prakash Junior College\\n\\n\\t08/2012 - 03/2014,\\t81.1%\\n\\n\\n\\n\\n\\nB.tech\\n\\nSri Prakash College Of Engineering\\n\\n\\t08/2014 - 03/2018,\\t73.33%\\n\\n\\nSKILLS\\n\\n\\n\\n\\n\\nHTML\\n\\nHTML \\n\\nCSS\\n\\nCSS \\n\\nJavaScript\\n\\nJavaScript \\n\\nReact Js\\n\\nReact Js \\n\\nMysql\\n\\nMysql\\n\\n\\n\\nNest Js\\n\\nNest Js\\n\\n\\n\\nPERSONAL PROJECTS\\n\\nPurchases Management (03/2021 - 04/2021)\\n\\nIt is used for tracking purchases, Pending Payments, Discounts Based on Users (Retailer/Distributor)\\n\\n\\n\\nCorona Awareness Website (03/2020 - 04/2021)\\n\\nTo Provide Awereness on Covid https://batvidcoronaawareness.000webhostapp.com\\n\\n\\n\\n\\n\\n\\n\\nPROJECTS\\n\\nMaterial Management System (08/2018 - 01/2019)\\n\\nMMS is tracking Procurement Material from Indents to Transfers. and to maintain stock for material of the plant - Technologies Used - YII Frame Work, Angular Js, MySql\\n\\n\\n\\nWarehouse Management System (02/2019 - 03/2019)\\n\\nWMS is to Maintain the stock, Sale, Purchase, Dispatch - Technologies Used - YII Frame Work, Angular Js, MySql\\n\\n\\n\\nBoard Of Intermediate Support (03/2019 - 04/2019)\\n\\nBOI is to support and track the Employees attendance, Payments to employees -Technologies Used Joomla Frame Work, Mysql\\n\\n\\n\\nSales (04/2019 - 08/2020)\\n\\nSales is to track the purchases of two wheeler, three wheeler and transfer between branches - Technologies Used- Nx Repo, React Js, Nest Js, Type ORM, Mysql, Swagger\\n\\n\\n\\nApparel Management (09/2020 - 04/2021)\\n\\nApparel Management Is a large Project is used to track Orders, Sewing, Cutting, Embroidery, productivity of Employees tracking for the plant Technologies Used- Nx Repo, React Js, Nest Js, Type ORM, Mysql, Swagger\\n\\n\\n\\nEnterprice resource planning (05/2021 - Present)\\n\\nErp is used to track the orders, Packing/RM Procurement, Production, logistics -Technologies Used- Nx Repo, React Js, Nest Js, Type ORM, Mysql, Swagger\\n\\n\\n\\n\\n\\n\\n\\nLANGUAGES\\n\\n\\n\\nTelugu\\n\\nNative or Bilingual Pro\\xef\\xac\\x81ciency\\n\\n\\nEnglish\\n\\nFull Professional Pro\\xef\\xac\\x81ciency\\n\\n\\n\\n\\n\\n\\n\\n\\n\\nLearning New Technologies\\n\\nLearning New TechnologiesINTERESTS',\n",
       " b'KAMBALA SAI SURENDRA   \\n\\n \\n\\n \\n\\n \\n\\n\\n\\n\\n\\n\\n\\nSUMMARY \\n\\n \\n\\nPROJECT \\n\\n \\n\\n\\n\\n \\n\\n\\xef\\x82\\xb7 \\n\\n\\xef\\x82\\xb7 \\n\\n\\xef\\x82\\xb7 \\n\\n\\n\\n \\n\\nHaving basic knowledge in HTML, CSS, Bootstrap, JavaScript, React Js, Redux and jQuery. \\n\\nHave very good analytical thinking and hands-on in React Js, Redux, Bootstrap. \\n\\nWell acquainted with version control repository (GitHub). \\n\\n \\n\\n\\t\\t\\tMandepeta \\t \\n\\n  \\n\\n \\n\\nSUMMARY \\n\\n \\n\\n \\n\\n \\n\\nTitle \\n\\n \\n\\nKeeper-App \\n\\nGithub-link:\\xe2\\x80\\x9dhttps://github.com/surendrakambala/Keeperapp\\xe2\\x80\\x9d\\n\\nTechnologies Involved \\n\\n \\n\\nHTML, CSS, JavaScript ,React Js \\n\\n \\n\\nSummary \\n\\nStoring notes as we required. \\n\\n\\n\\n\\tAdding and Deleting of notes procedure is created by using JS. \\n\\nResponsibilities \\n\\nCreating own web page using React Js, HTML,, JavaScript. Handling adding and deleting notes by using JavaScript. \\n\\nProject#1 \\n\\n  \\n\\n \\n\\nmA  \\n\\n \\n\\n \\n\\n \\n\\n \\n\\n \\n\\n \\n\\n \\n\\n \\n\\n \\n\\n \\n\\n \\n\\n \\n\\n \\n\\n \\n\\n \\n\\n \\n\\n \\n\\n \\n\\n \\n\\n \\n\\n \\n\\n \\n\\n \\n\\n \\n\\n \\n\\n \\n\\n \\n\\n \\n\\n \\n\\n \\n\\n \\n\\n \\n\\n \\n\\n \\n\\n \\n\\n \\n\\n \\n\\n \\n\\n \\n\\n \\n\\n \\n\\n \\n\\n \\n\\n \\n\\n \\n\\n \\n\\n \\n\\n \\n\\n \\n\\n \\n\\n \\n\\n \\n\\n \\n\\n \\n\\n \\n\\n \\n\\n \\n\\n \\n\\n \\n\\n \\n\\n \\n\\n \\n\\n \\n\\n \\n\\n \\n\\n \\n\\n \\n\\n \\n\\n \\n\\n \\n\\n \\n\\n \\n\\n \\n\\n \\n\\n \\n\\n \\n\\n \\n\\n \\n\\n \\n\\n \\n\\n \\n\\n \\n\\n \\n\\n \\n\\n \\n\\n \\n\\n \\n\\n \\n\\n \\n\\n \\n\\n \\n\\n \\n\\n \\n\\n \\n\\n \\n\\n \\n\\n \\n\\n \\n\\n \\n\\n \\n\\n \\n\\n \\n\\n \\n\\n \\n\\nTitle \\n\\n \\n\\nFacebook Front-End Design Using React Js \\n\\nGithub-link:\\xe2\\x80\\x9dhttps://github.com/surendrakambala/facebook\\xe2\\x80\\x9d\\n\\nTechnologies Involved \\n\\n \\n\\nHTML, React Js, Material UI \\n\\n \\n\\nSummary \\n\\nSome part of Facebook website is created by using React Js. \\n\\nLogin using valid credentials by using Firebase service as backend database. \\n\\nPosts are created by using Firebase Database. \\n\\nResponsibilities \\n\\nDoing webpages setup from scratch. Creating different Components in JSX files \\n\\n \\n\\n \\n\\n \\n\\n \\n\\n \\n\\n \\n\\n \\n\\n \\n\\n \\n\\n \\n\\n \\n\\n \\n\\n \\n\\n \\n\\n \\n\\n \\n\\n \\n\\n \\n\\n \\n\\n \\n\\n \\n\\nProject#2 \\n\\n\\t\\tEDUCATION \\t  \\t \\n\\nJNTU, KAKINADA \\n\\n \\n\\n2015 \\xe2\\x80\\x93 2018 \\n\\n \\n\\nB.Tech in Computer Science and Engineering \\n\\nObtained a percentage of 63.80% \\n\\n \\n\\nLEELA KRISHNA BABUJI POLYTECHNIC, RAVULAPALEM \\n\\n \\n\\n2011 \\xe2\\x80\\x93 2014 \\n\\n \\n\\nDiploma Computer Engineer \\n\\nObtained a percentage of 68.03 % \\n\\nZP High School,Tapeswaram \\n\\n \\n\\n2001 \\xe2\\x80\\x93 2011 \\n\\n \\n\\nMatriculation \\n\\nObtained a percentage of 62 % \\n\\n \\n\\nTECHNICAL \\t  PROFICIENCIES \\n\\n\\t\\t\\tDEVELOPMENT: \\tReact Js, Redux, HTML, CSS, Bootstrap, jQuery, JavaScript. \\n\\n\\t\\t\\tIDE EXPERIENCE: \\tVisual Studio Code (VSCODE). \\n\\n \\n\\n\\t\\t\\tLANGUAGES: \\tJAVA. \\n\\nOPERATING SYSTEM: Windows XP ,7,8,10. \\n\\n \\n\\nACADEMIC \\t  PARTICIPATIONS \\n\\nAppreciated certificate in \\xe2\\x80\\x9cCYBERTHON-2K18\\xe2\\x80\\x9d from East Godavari conducted by \\xe2\\x80\\x9cAPITA\\xe2\\x80\\x9d. \\xef\\x82\\xb7 \\tWorked as COORDINATOR in College Annual Fest. \\n\\nParticipated in \\xe2\\x80\\x9cPaper Presentation\\xe2\\x80\\x9d on \\xe2\\x80\\x9cEthical Hacking\\xe2\\x80\\x9d in EPROZYNE2K15 conducted at Pragati Engineering College. \\n\\nParticipated in \\xe2\\x80\\x9cPoster Presentation\\xe2\\x80\\x9d on \\xe2\\x80\\x9cGoogle Glass\\xe2\\x80\\x9d in EPROZYNE-2K16 conducted at Pragati Engineering College. \\n\\n \\n\\n\\t\\t\\tPERSONAL \\t  \\n\\nDETAILS \\n\\n \\n\\nDate of Birth: \\n\\n15 Mar, 1996 \\n\\nLanguages Known: \\n\\nTelugu, English \\n\\nSex: \\n\\nMale \\n\\n \\n\\nDECLARATION \\n\\n \\n\\nI hereby solemnly affirm that all the details provided above are always true to the best of my knowledge and belief and that, I shall carry myself in a manner that lends dignity to the organization and worthy enough of the person.',\n",
       " b'MAREEDU LOKESH BABU\\n\\nPROFESSIONAL OVERVIEW\\n\\n\\t   Around 2  years of experience in software design, development, implementation and maintenance of applications using, HTML, CSS, JavaScript, JQuery, PHP, MySQL, React js , Node Js.\\n\\nKnowledge in Object Oriented PHP Programming.\\n\\nKnowledge in versioning control like GIT.\\n\\nInvolved in Responsive web development using Bootstrap.\\n\\nStrong Analytical, Problem solving skills, Presentation skills and  good team player.\\n\\nI can work with independently.\\n\\n\\n\\n\\n\\nSCHOLASTICS\\n\\n                B.Tech (Computer Science Engineering.) from VKR ,VNB & AGK  College of Engineering and Technology,  Gudiwada, affiliated to JNTUK with 76.4% in 2019.\\n\\nTECHNICAL SKILLS\\n\\nWeb Technologies\\t                :\\tHTML, CSS, BOOTSTAP,JAVASCRIPT, JQUERY, \\n\\n                                                                             PHP, React js , Node js.                                                                              \\n\\nDatabase\\t                               :\\tMYSQL\\n\\nOperating System\\t                :\\tWindows\\n\\nIDE\\t\\t\\t\\t :\\tVisual Studio, NetBeans\\n\\nCode repository Tools                      :             GIT\\n\\nWeb Servers\\t\\t\\t :             Apache\\n\\nInstallers                                             :             XAMPP\\n\\nPROJECTs\\n\\nProject #1: \\n\\nName\\t\\t :             RMC (Redimix Concrete)\\n\\nDuration               :             Sept 2019  - Till now\\n\\n        Team Size\\t :\\t5\\n\\n        Environment\\t :\\tHTML, CSS, Bootstrap, MySQL, React js ,Node js.\\n\\n\\n\\nDescription:\\n\\n                It is a product built for Instant Redimix Concrete(RMC). This product is  related to construction industry which supplies   redimix concrete  based on customer requirement. . Take orders from Customers, Business or a mix of both.It manages all your sales, stock, accounting, shipping and customer data from a single place. Inventory control improves tracking and control other inventory activities and stock movements.\\n\\n\\n\\nResponsibilities\\n\\nActive Participation in development with timely delivery as per the deadlines.\\n\\nDesigned website using HTML and CSS .\\n\\nProgramming and coordinating with Team \\n\\nResponsibilities include database design, code profiling and extensive documentation.\\n\\nReview and perform the design validation by working with client.\\n\\nImplemented on validations with required fields dynamically.\\n\\n\\t   Coordinating with team and client for weekly status calls.\\n\\n\\t   .Close follow up with the testing team in resolving issues.\\n\\n\\t    Review with end user on key functionalities of the system and work on improvements of the application technically.\\n\\n\\t\\t\\n\\nCareer Profiles\\n\\nSoftware Developer at Maganti IT Solutions,Vijayawada  from  5th August  2019\\n\\n\\n\\n\\n\\n    DATE:                                                                                                                    Mareedu Lokesh Babu\\n\\n    PLACE:                                                                                                                   SIGNATURE:',\n",
       " b'MAREEDU LOKESH BABU\\n\\n\\n\\nPROFESSIONAL OVERVIEW\\n\\n\\t   Around 2  years of experience in software design, development, implementation and maintenance of applications using, HTML, CSS, JavaScript, JQuery, PHP, MySQL, React js , Node Js.\\n\\nKnowledge in Object Oriented PHP Programming.\\n\\nKnowledge in versioning control like GIT.\\n\\nInvolved in Responsive web development using Bootstrap.\\n\\nStrong Analytical, Problem solving skills, Presentation skills and  good team player.\\n\\nI can work with independently.\\n\\n\\n\\n\\n\\nSCHOLASTICS\\n\\n                B.Tech (Computer Science Engineering.) from VKR ,VNB & AGK  College of Engineering and Technology,  Gudiwada, affiliated to JNTUK with 76.4% in 2019.\\n\\nTECHNICAL SKILLS\\n\\nWeb Technologies\\t                :\\tHTML, CSS, BOOTSTAP,JAVASCRIPT, JQUERY, \\n\\n                                                                             PHP, React js , Node js.                                                                              \\n\\nDatabase\\t                               :\\tMYSQL\\n\\nOperating System\\t                :\\tWindows\\n\\nIDE\\t\\t\\t\\t :\\tVisual Studio, NetBeans\\n\\nCode repository Tools                      :             GIT\\n\\nWeb Servers\\t\\t\\t :             Apache\\n\\nInstallers                                             :             XAMPP\\n\\nPROJECTs\\n\\nProject #1: \\n\\nName\\t\\t :             RMC (Redimix Concrete)\\n\\nDuration               :             Sept 2019  - Till now\\n\\n        Team Size\\t :\\t5\\n\\n        Environment\\t :\\tHTML, CSS, Bootstrap, MySQL, React js ,Node js.\\n\\n\\n\\nDescription:\\n\\n                It is a product built for Instant Redimix Concrete(RMC). This product is  related to construction industry which supplies   redimix concrete  based on customer requirement. . Take orders from Customers, Business or a mix of both.It manages all your sales, stock, accounting, shipping and customer data from a single place. Inventory control improves tracking and control other inventory activities and stock movements.\\n\\n\\n\\nResponsibilities\\n\\nActive Participation in development with timely delivery as per the deadlines.\\n\\nDesigned website using HTML and CSS .\\n\\nProgramming and coordinating with Team \\n\\nResponsibilities include database design, code profiling and extensive documentation.\\n\\nReview and perform the design validation by working with client.\\n\\nImplemented on validations with required fields dynamically.\\n\\n\\t   Coordinating with team and client for weekly status calls.\\n\\n\\t   .Close follow up with the testing team in resolving issues.\\n\\n\\t    Review with end user on key functionalities of the system and work on improvements of the application technically.\\n\\n\\t\\t\\n\\nCareer Profiles\\n\\nSoftware Developer at Maganti IT Solutions,Vijayawada  from  5th August  2019\\n\\n\\n\\n\\n\\n    DATE:                                                                                                                    Mareedu Lokesh Babu\\n\\n    PLACE:                                                                                                                   SIGNATURE:',\n",
       " b'MD KHIZARUDDIN RAUF \\n\\n \\t EXPERIENCE \\n\\n     \\n\\n\\xe2\\x87\\xa8 Currently working in PickupBiz Solution Private Limited, Pune from January 2021 to till date \\n\\n\\xe2\\x87\\xa8 9 Months of working as an Intern on UI React JS - Software Developer \\n\\n\\xe2\\x87\\xa8 Having sound experience and exposure on UI development using React JS, Bootstrap, HTML 5, CSS, React Hooks, and Redux etc. \\n\\n\\xe2\\x87\\xa8 Ability to work under any given environment \\n\\n\\xe2\\x87\\xa8 Demonstrated good communication and Analytical skills \\n\\n\\xe2\\x87\\xa8 Team building skills, emphasizing versatility and adaptability \\n\\n\\xe2\\x87\\xa8 Dedication and drive as a hard-working individual \\n\\n\\xe2\\x87\\xa8 Ability to manage multiple tasks in a pressured environment \\n\\n                                                                           \\n\\nApplication Development & UI Designing \\xe2\\x80\\x93 \\n\\n Coordinated with the development team of 10 to discuss user interface ideas and applications. - Reviewed application requirements and interface designs to ensure compatibility with existing applications.  \\n\\n \\n\\nUI Components Designing & Application Interface Coding \\xe2\\x80\\x93  \\n\\nIdentified web-based user interactions and developed highly responsive user interface components via React concepts. - Translated designs & wireframes into high-quality code and wrote application interface via JavaScript following React.js workflows. \\n\\n \\n\\nCode Debugging & Front-end Architecture \\xe2\\x80\\x93  \\n\\nTroubleshoot interface software and debugged application codes to improve functionality and performance. - Developed and implemented front-end architectures to support user interface concepts with accuracy. \\n\\n \\n\\n \\n\\n \\n\\nCareer seeking \\n\\n \\n\\nSeeking assignments in an organization that allows me to utilize my skills and can nurture them so that I can contribute highly in the growth of the organization individually as well as in Team, while being resourceful, innovative and flexible. \\n\\n \\n\\n \\n\\nEDUCATION \\n\\n                                                                                                                                                               12/2020 \\n\\n SWAMI RAMANAND TEERTH MARATHWADA UNIVERSITY NANDED \\n\\n BSC. KANDHAR, NANDED, MAHARASHTRA. \\n\\n \\n\\n \\n\\n \\n\\nPERSONAL DOSSIER \\n\\n \\n\\nTotal Experience:9 Months as an Internship. \\n\\nNationality: \\n\\nIndian \\n\\n \\n\\nDOB:  \\n\\n1-06-1998 \\n\\n \\n\\nMarital Status : \\n\\nUnmarried \\n\\n \\n\\nLanguages: \\n\\nEnglish, Hindi, Marathi, Urdu \\n\\n \\n\\nHobbies:  \\n\\nLearning New Technologies like Node JS, MySQL, MongoDB, Playing Cricket. \\n\\n \\n\\n \\n\\n \\n\\n \\n\\n \\n\\n \\n\\n \\n\\n \\n\\nSKILLS \\n\\nUI Designing \\t\\xe2\\x80\\xa2 Application Designing \\n\\nWireframe and design Pattern translation \\t\\xe2\\x80\\xa2 Performance Improvement \\n\\nWebpage Designing \\t\\xe2\\x80\\xa2 Project Delivery \\n\\nCoding \\t\\xe2\\x80\\xa2 Debugging \\n\\nFront-End Architecture \\t\\xe2\\x80\\xa2 Feature Designing \\xe2\\x80\\xa2 Webpage Optimization \\t\\xe2\\x80\\xa2 Client Surviving \\n\\n2 \\n\\nPROJECTS \\n\\n \\n\\nWORKED ON HIGHLY RESPONSIVE REACT JS PROJECTS AND DESIGNED COMPONENTS USING JAVASCRIPT, BOOTSTRAP, REACT-REDUX AND REACT HOOKS. \\n\\n \\n\\n FOLLOWING ARE SOME PROJECTS WHICH I WORKED ON. \\n\\n \\n\\n E-SUPERMARKET  WEB APP . \\n\\n \\n\\n PDAC APP. \\n\\n \\n\\n E \\xe2\\x80\\x93 DICTIONARY. \\n\\n \\n\\n EMPLOYEE SEARCH. \\n\\n \\n\\nEMI CALCULATOR. \\n\\n \\n\\nPIANO. \\n\\n \\n\\n \\n\\n \\t \\t \\t \\t \\n\\nI hereby declare that the above information is true to best of my knowledge. \\n\\n \\n\\n \\n\\n \\n\\n \\n\\nPlace: Nanded \\n\\n \\n\\nDate:                                                                                            MD KHIZARUDDIN RAUF \\n\\n \\n\\n \\n\\n \\n\\n \\n\\n \\n\\n \\n\\n \\n\\n3',\n",
       " b'Pranish Sonone\\n\\n\\t\\t\\n\\n\\n\\n\\n\\n\\n\\n\\n\\nCareer summary:\\n\\n\\n\\n\\t\\n\\n\\tExperience of 1 years & 2 months working as Jr. React Developer which includes over 1 year of experience in React JS.\\n\\n\\tHands on experience in developing web pages using ReactJS, Redux, JavaScript, HTML5,  CSS3.\\n\\n\\tExtensive knowledge of ES6.\\n\\n\\tAnalysis and design of reports and user interfaces with  reporting.\\n\\n\\tGood communication, collaboration with proficiency at grasping new technical concepts quickly and\\n\\n\\tutilize the same in a productive manner.\\n\\n\\tGood team player with strong interpersonal skills.\\n\\n\\n\\n\\n\\nTechnical skills:\\n\\n\\n\\n\\tWeb Technologies: ReactJS,  JavaScript, ES6, HTML5, CSS3.\\n\\n\\t\\n\\nWork experience:\\n\\n\\n\\nCurrently working with Saffire Softtech, Pune from August 2020 to till date as Jr. React Developer.\\n\\n\\n\\nProjects:\\n\\n\\n\\nProject 1: Ecommerce Portal\\n\\n\\tRole \\xe2\\x80\\x93 React JS Developer\\t\\n\\nRoles and Responsibilities:\\n\\n\\n\\n\\tDevelop UI as per requirement and mockup using react .\\n\\n\\tCreate pages for different screen resolutions using CSS and Material UI.\\n\\n\\tDevelop components as per the clients requirement.\\n\\n\\t\\n\\n\\t\\n\\n\\tProject 2: Developing Company Website\\n\\n\\tRole- React JS Developer\\n\\n\\tRoles and Responsibilities:\\n\\n\\tInvolved in developing react components for website.\\n\\n\\tWorked in developing various functionalities.\\n\\n\\tInvolved in designing website by using CSS and material UI\\n\\n\\t\\n\\n\\t\\n\\n\\t\\n\\n\\tEducational Qualification:\\n\\nExamination\\n\\nBoard/University\\n\\nYear of Passing\\n\\nResult\\n\\nB.E.\\n\\nRTMNU\\n\\n2018\\n\\n56%\\n\\n12th\\n\\nMAHARASHTRA\\n\\n2013\\n\\n52.67%\\n\\n10th\\n\\nCBSE\\n\\n2011\\n\\n65%\\n\\n\\n\\n\\n\\nPersonal Profile:\\n\\n\\n\\nDate of Birth: 8th Oct 95\\n\\n\\n\\nMarital Status: Single\\n\\n\\n\\nLanguage Known: English, Hindi & Marathi\\n\\n\\n\\n\\n\\nDeclaration:\\n\\n\\n\\nI hereby declare that all the above information and particulars are true to the best of my knowledge.\\n\\n\\n\\n\\tPlace: Pune\\tPranish Sonone',\n",
       " b\"Ranga Gaganam  \\n\\n\\n\\n \\n\\nProfessional\\n\\n \\n\\nSummary:\\n\\n \\n\\n \\n\\nProfessional\\n\\n \\n\\nSummary:\\n\\n  \\n\\n \\n\\nHaving 1+ years of successful IT experience in all phases of Software Development Life Cycle (SDLC) as a React.JS Developer and JavaScript. \\n\\n \\n\\n\\n\\n \\n\\nProfessional\\n\\n \\n\\nExperience:\\n\\n \\n\\n \\n\\nProfessional\\n\\n \\n\\nExperience:\\n\\n  \\n\\nExperience in design and configuration for implementation, development, maintenance and support as a React.JS Developer to meet business needs. \\n\\nGood working knowledge on React Hooks, JavaScript, HTML. \\n\\nDeveloping new user-facing features using React.js \\n\\nBuilding reusable components and front-end libraries for future use. \\n\\nStrong proficiency in JavaScript, including DOM manipulation. \\n\\nThorough understanding of React.js and its core principles \\n\\nFamiliarity with newer specifications of ECMA Script \\n\\nA proactive learner for adopting emerging trends and addressing industry requirements to achieve the organizational objectives. \\n\\nGood communication, presentation and interpersonal skills. \\n\\n \\n\\n\\n\\n \\n\\nProject\\n\\n \\n\\nExperience:\\n\\n \\n\\n \\n\\nProject\\n\\n \\n\\nExperience:\\n\\n  \\n\\n \\n\\n \\n\\nPROJECT : \\n\\n \\n\\n\\t\\t\\tTitle \\t: E care Management System \\n\\n\\t\\t\\tOrganizer \\t: Metrolabs Services Pvt ltd. \\n\\n\\t\\t\\tDesignation \\t: Junior UI Developer \\n\\n\\t\\t\\tTechnologies \\t: REACTJS, HTML5, CSS3, JAVASCRIPT \\n\\n \\n\\nSummary:- \\n\\n \\n\\n In this application there are several modules like Employee, Patients,  Admission,Lab management,prescription Pharmacy management,OT  Management..      \\n\\n \\n\\n My Roles & Responsibilities: \\n\\nDeveloped the UI components for the web application. \\n\\nDeveloped signup page for this project , for the login authentications use  the firebase. \\n\\nE care management software is a react application it is used for hospitals to manage all the services and information \\n\\nIn this application there are different stake holders like accountant, admin,Doctor,Lab,Technician and Physical.. \\n\\n\\n\\n \\n\\n \\n\\n \\n\\nWorking\\n\\n \\n\\nExperience:\\n\\n \\n\\n \\n\\n\\xe2\\x80\\xa2\\n\\n \\n\\nWorking as a \\n\\nUI Developer \\n\\nfor \\n\\nMETROLABS SERVICES PVT. LTD. \\n\\nfrom July 2020\\n\\n \\n\\n-\\n\\nPresent.\\n\\n \\n\\n \\n\\n \\n\\nTechnical\\n\\n \\n\\nProficiency:\\n\\n \\n\\n \\n\\n\\xe2\\x9c\\x93\\n\\n \\n\\nWeb Technologies\\n\\n \\n\\n:\\n\\n HTML, JavaScript,\\n\\n \\n\\nBootstrap.\\n\\n \\n\\n\\xe2\\x9c\\x93\\n\\n \\n\\nLibraries\\n\\n \\n\\n:\\n\\n \\n\\nReactJS ,Hooks and Redux(Knowledge).\\n\\n \\n\\n\\xe2\\x9c\\x93\\n\\n \\n\\nStyle\\n\\n \\n\\nSheets\\n\\n \\n\\n:\\n\\n CSS3 and SASS\\n\\n \\n\\n(\\n\\n).\\n\\nKnowledge\\n\\n \\n\\n \\n\\n \\n\\nEducational\\n\\n \\n\\nProfile:\\n\\n \\n\\n \\n\\n\\xe2\\x80\\xa2\\n\\n \\n\\nJawaharlal Nehru Technological University\\n\\n \\n\\nHyderabad\\n\\n \\n\\n\\xe2\\x80\\xa2\\n\\n \\n\\nBachelor's Degree in EC\\n\\nE Branch\\n\\n \\n\\n2018\\n\\n \\n\\n \\n\\n \\n\\nDeclaration: \\n\\nI hereby declare that all the details \\n\\nfurnished above are true to the best of my \\n\\nknowledge and belief.\\n\\n \\n\\nHyderabad\\n\\n \\n\\n \\n\\nRanga Gaganam\\n\\n \\n\\n \\n\\n \\n\\n \\n\\nWorking\\n\\n \\n\\nExperience:\\n\\n \\n\\n \\n\\n\\xe2\\x80\\xa2\\n\\n \\n\\nWorking as a \\n\\nUI Developer \\n\\nfor \\n\\nMETROLABS SERVICES PVT. LTD. \\n\\nfrom July 2020\\n\\n \\n\\n-\\n\\nPresent.\\n\\n \\n\\n \\n\\n \\n\\nTechnical\\n\\n \\n\\nProficiency:\\n\\n \\n\\n \\n\\n\\xe2\\x9c\\x93\\n\\n \\n\\nWeb Technologies\\n\\n \\n\\n:\\n\\n HTML, JavaScript,\\n\\n \\n\\nBootstrap.\\n\\n \\n\\n\\xe2\\x9c\\x93\\n\\n \\n\\nLibraries\\n\\n \\n\\n:\\n\\n \\n\\nReactJS ,Hooks and Redux(Knowledge).\\n\\n \\n\\n\\xe2\\x9c\\x93\\n\\n \\n\\nStyle\\n\\n \\n\\nSheets\\n\\n \\n\\n:\\n\\n CSS3 and SASS\\n\\n \\n\\n(\\n\\n).\\n\\nKnowledge\\n\\n \\n\\n \\n\\n \\n\\nEducational\\n\\n \\n\\nProfile:\\n\\n \\n\\n \\n\\n\\xe2\\x80\\xa2\\n\\n \\n\\nJawaharlal Nehru Technological University\\n\\n \\n\\nHyderabad\\n\\n \\n\\n\\xe2\\x80\\xa2\\n\\n \\n\\nBachelor's Degree in EC\\n\\nE Branch\\n\\n \\n\\n2018\\n\\n \\n\\n \\n\\n \\n\\nDeclaration: \\n\\nI hereby declare that all the details \\n\\nfurnished above are true to the best of my \\n\\nknowledge and belief.\\n\\n \\n\\nHyderabad\\n\\n \\n\\n \\n\\nRanga Gaganam\",\n",
       " b'SHAIK ABDUL SHARUK   \\n\\n2 years\\xe2\\x80\\x99 Experience in Wipro \\n\\nCareer Objective: \\tA challenging pursuit in a reputed organization where I can utilize my skills and strengths and conjunction with common goal and objective for mutual growth \\n\\nLinkedIn Profile:                 https://www.linkedin.com/in/sharuk-abdul-99b754197 \\n\\nGitHub Profile:                   https://github.com/sharukabdul \\n\\nEmail Address:                    sharukabdul786@gmail.com \\n\\n \\t \\n\\n\\n\\n \\t \\n\\nEXPERIENCE: \\n\\n \\n\\n\\tWipro \\tMar-2019 to Feb-2021 \\n\\nSenior Associate \\n\\nJOB RESPONSIBILITIES: \\n\\nWorked on auto machine Waymo Self driving car     \\n\\nOperating the autonomous vehicles by labelling the objects    \\n\\nTest the real time scenario captured by the lidar data     \\n\\nAs per the lidar data we need to test and label the object \\n\\n \\t \\n\\n\\n\\n \\t \\n\\nTECHNICAL SKILLS: \\n\\n \\n\\n\\n\\nFront\\n\\n-\\n\\nend: \\n\\nHTML5, CSS3, JavaScript, React.js\\n\\n \\n\\nFamiliar with \\n\\nBootstrap\\n\\n \\n\\nand \\n\\nMaterial\\n\\n-\\n\\nUI \\n\\nFrameworks\\n\\n \\n\\nVersion Control System: \\n\\nGit\\n\\n \\n\\nGitHub\\n\\n \\n\\nSoftware Used:\\n\\n \\n\\nVisual Studio \\n\\nCode\\n\\n \\n\\nOperating System: \\n\\nWindows 10\\n\\n \\n\\n \\n\\n \\n\\nFront\\n\\n-\\n\\nend: \\n\\nHTML5, CSS3, JavaScript, React.js\\n\\n \\n\\nFamiliar with \\n\\nBootstrap\\n\\n \\n\\nand \\n\\nMaterial\\n\\n-\\n\\nUI \\n\\nFrameworks\\n\\n \\n\\nVersion Control System: \\n\\nGit\\n\\n \\n\\nGitHub\\n\\n \\n\\nSoftware Used:\\n\\n \\n\\nVisual Studio \\n\\nCode\\n\\n \\n\\nOperating System: \\n\\nWindows 10\\n\\n \\n\\n \\n\\n \\n\\n \\t \\n\\nGITHUB PROJECTS: \\n\\n \\n\\nBlog Application (React JS) To-do List Built in React-Redux    https://github.com/sharukabdul/Todo-List \\n\\nA simple to-do list App built with React, Redux This App is built with following features: \\n\\nUser can add, delete and mark complete a to-do item. \\n\\nRedux library is used for state management. \\n\\nHighlight\\xe2\\x80\\x99s to-do status in \"red\" if it crosses completion date. \\n\\n \\n\\n \\n\\n \\n\\nEducation: \\n\\nSana Engineering College \\n\\nB.tech(Electrical and Electronics Engineering) \\n\\n61.56 % \\n\\n \\n\\n \\n\\n \\n\\n \\n\\n2013 - 2017 \\n\\nSuguna Junior College \\n\\nIntermediate \\n\\n87.40 % \\n\\n2011 - 2013 \\n\\nTeja Talent School \\n\\nSSC \\n\\n69.33 % \\n\\n \\n\\n2010 \\xe2\\x80\\x93 2011 \\n\\n \\n\\nPROJECTS: \\n\\nMINI PROJECT: CONTROL OF REDUCED RATING DYNAMIC VOLTAGE RESTORER WITH A BATTERY ENERGY STORAGE SYSTEM \\n\\n \\n\\nMAIN PROJECT: CASCADED TWO LEVEL INVERTOR BASED MULTI LEVEL STATCOM FOR HIGH POWER APPICATIONS \\n\\n \\n\\n\\n\\n \\t \\t \\n\\n\\n\\nOTHER SKILLS\\n\\n:\\n\\n \\n\\nGood communication skills\\n\\n \\n\\nActive in Volunteering, \\n\\nextra\\n\\n-\\n\\ncurricular\\n\\n \\n\\nactivities\\n\\n \\n\\nTeam Player\\n\\n \\n\\nAppreciated by clients for having good \\n\\npresentation skills\\n\\n \\n\\n \\n\\nOTHER SKILLS\\n\\n:\\n\\n \\n\\nGood communication skills\\n\\n \\n\\nActive in Volunteering, \\n\\nextra\\n\\n-\\n\\ncurricular\\n\\n \\n\\nactivities\\n\\n \\n\\nTeam Player\\n\\n \\n\\nAppreciated by clients for having good \\n\\npresentation skills\\n\\n \\n\\n \\n\\n \\t \\t \\n\\n\\n\\nPERSONALITY TRAITS\\n\\n:\\n\\n \\n\\nPositive Attitude\\n\\n \\n\\nLeadership Ability\\n\\n \\n\\nKindness\\n\\n \\n\\nAbility to interact with people\\n\\n \\n\\n \\n\\nPERSONALITY TRAITS\\n\\n:\\n\\n \\n\\nPositive Attitude\\n\\n \\n\\nLeadership Ability\\n\\n \\n\\nKindness\\n\\n \\n\\nAbility to interact with people\\n\\n \\n\\n \\n\\n \\t \\n\\nLANGUAGES: \\n\\nEnglish, Hindi and Telugu \\n\\n (Read, Write and Speak) \\n\\n \\t \\n\\n\\n\\n \\t \\n\\nDECLARATION: \\n\\nI hereby declare that all the above furnished information is correct and true to best of my knowledge.  \\n\\nPlace:  \\n\\nDate: \\n\\n \\n\\nShaik Abdul Sharuk',\n",
       " b\"C O N T A C T :\\n\\n\\n\\nAddress: Manyata Tech Park,\\n\\nNagavara, Bangalore 560045\\n\\n\\n\\nLinIn: subha-santosh-b16698139\\n\\n\\n\\nS K I L L S :\\n\\n\\n\\nPeopleSoft Finance FSCM ARIBA\\n\\nJAVA Full Stack Development SQL\\n\\nPower BI\\n\\n\\n\\nI N T E R E S T S :\\n\\n\\n\\nLearning new Technologies. Planting Hybrid Species.\\n\\nCooking. Travelling Singing.\\n\\n\\n\\nS T R E N G T H S :\\n\\n\\n\\nTime Management. Responsible for my deliverables.\\n\\nLeadership qualities.\\n\\n\\n\\nL A N G U A G E S :\\n\\n\\n\\nJapanese.\\n\\nFrench (Started Learning).\\n\\n\\nSRI SUBHA SANTOSH KUMAR JOSYULA\\n\\nA S S O C I A T E C O N S U L T A N T\\n\\nP R O F E S S I O N A L S U M M A R Y :\\n\\n\\n\\nI am having more than 3.2 years of experience in assistance and development for projects like ARIBA and PEOPLESOFT FINANCE . I have successfully completed TOOLS PATCH and TOOLS UPGRADE PROJECT with 0% refuse validations. I am the main Point of contact in Non Regression Testing and User Acceptance Testing. I am responsible to find solutions which makes customer satisfaction.\\n\\n\\n\\nW O R K E X P E R I E N C E :\\n\\n\\n\\nASSOCIATE CONSULTANT\\n\\nCapGemini - AXA | June 2018 - Till Date\\n\\nWorking on modules like Accounts Payable. Accounts Receivable and General Ledger, Expenses, User Profile Self Service (USS), Security along with Application Designer and SQL server .\\n\\nOrganised customer information and account data for business planning and customer service purposes.\\n\\nReceived 97% positive customer survey results. Worked on People Code and Packaging activities.\\n\\nSuccessfully monitored the Process Monitoring for failed jobs.. Collectively worked with the team to maintain 100% SLA. Developed and implemented many JAVA scripts to make the changes as per client's requirement.\\n\\n\\n\\n\\n\\nE D U C A T I O N :\\n\\n\\n\\nBACHELOR OF TECHNOLOGY, ELECTRONICS AND COMMUNICATION\\n\\nVishnu Institute of Technology - JNTUK | 2014 - 2018 Average : 75%\\n\\n\\n\\n\\n\\nA W A R D S A N D\\n\\nC E R T I F I C A T I O N S :\\n\\n\\n\\nBasic Certified Power BI Desktop Manager - Coursera 2021 Agile Software Development - 2021\\n\\nRising Star Award -CapGemini - Q4-2020\\n\\nBEST TEAM AWARD | PeopleSoft Finance Team  | 2019 and 2020\\n\\nOCA-8 JAVA DEVELOPER\\n\\nMicrosoft Office Specialist.\\n\\nJapanese Language Basic Certification.\",\n",
       " b'Srikanth (WORKDAY hCM Consultant)\\t                          \\n\\n\\t\\t\\t\\t\\t                         \\t\\n\\n\\t\\t\\t\\t\\n\\nSeeking suitable positions in Workday HCM  as Techno functional consultant with a reputed organization that would help me utilize my skills and grow as an individual to deliver more for the organization\\xe2\\x80\\x99s growth.                                                                                  \\t\\t\\t                     \\n\\n\\tPROFESSIONAL EXPERIENCE \\xe2\\x80\\x93 4 + years (Serving  Notice).\\n\\n\\tHIGHLIGHTS\\n\\n\\tWorkday Integration, Studio, Core HCM, Recruiting, Benefits, Leave of absence. \\n\\n\\tTrainings on Core Financials Integration, Workday Studio.\\n\\n\\tStrong in EIB Inbound & Outbound, Reports, Calculated Fields, Custom Objects, Business Process, Dashboards, CCW/PICOF, Calc Fields, BIRT,\\n\\n\\tWorked on Implementations and Configuration, security, Business Process.\\n\\n\\tAchievements:\\n\\n\\tSuccessfully completed 2 major Project\\xe2\\x80\\x99s implementations.\\n\\n\\tKT to the new hires, Provide training Internally  .\\n\\nTECHNICAL SKILLS:\\n\\n\\n\\n\\tWorkday HCM, Core HCM, Recruiting , LMS , Report Writer, EIB, Calc Fields, Payment Connectors, Workday Studio, Business process, Security, DT. Benefits , Talent etc.\\n\\n\\tCore Connectors, PICOF, Document Transformation, BIRT.\\n\\n\\tPeople code, App engine, CI.XML, XSLT. \\n\\nWork Experience :\\n\\n\\n\\nWorking As a Workday consultant  at  Wipro technologies from  2018 to till .\\n\\nWorked as Software engineer in Infosys  from  2017 AUG  to JULY  2018.\\n\\n\\n\\nWorkDay consultant \\n\\n\\n\\nWIPRO\\n\\n\\n\\n               2018 AUG to Till Date\\n\\n\\t\\n\\n\\tHaving 4+ years of experience in ERP Experience and including 3 years in workday HCM, completed Workday Integration and Support to the previous project.\\n\\n\\tExcellent functional skills HCM  modules like Core HCM, Leave of Absence, Recruiting, setup etc.\\n\\n\\tExpertise in Configuring business Process for various business process adding steps condition rules.\\n\\n\\tInvolved in the project Implementation, Testing, Managing Business, Troubleshooting the issues during the implementation and post implementation support and involved end to end Implementation .\\n\\n\\tConfigured various business process related to Leave of Absence ,Condition rule , business process. \\n\\n\\tGood Knowledge ion Creating leave families , Leave types , and absence condition rules in absence.\\n\\n\\tHands on experience in inbound/ outbound integrations using connectors, Workday studio, BIRT tools.\\n\\n\\tDeveloped and maintained custom-report types  like advanced, matrix, Composite using report writer. \\n\\n\\tExpertise in Payroll integrations from WD to ADP , PS, NGA  by using PICOF and PECI connectors.\\n\\n\\tParticipate in all activities of Workday Project while working with customers during alignment sessions, discovery meetings, touchpoint meetings, customer configuration, testing production support.\\n\\n\\tFamiliar with Ticketing tools like Service now and Salesforce, HPLM  for the incidents and CR\\xe2\\x80\\x99s.\\n\\n\\tExpertise in building EIBs (Enterprise Interface Builder) for integration within WD for sending Data.\\n\\n\\tGood knowledge on ETV/XTT functions in DT while sending data from WD to payroll.\\n\\n\\tHands on experience in Workday security, Functional area, Security polices, Domains Etc.\\n\\n\\tExpertise In workday Leave of absence, recruiting modules and Configuring the Befit 401 Plan etc.\\n\\n\\tConfigured business process for leave of absence , Recuring , core HCM, condition rules for steps  etc.\\n\\n\\tCreated complex integration using studio for data syncope integration from WD to Different system.  \\n\\n\\tExperience in inbound/outbound integration using EIB, Core Connector, Report Writing, creating Workday Calculated fields, Custom report, (Matrix, Composite Advanced) and BIRT tool .\\n\\n\\tMonitor Workday community portal to find new enhancements that are delivered during new upgrade and implement required enhancements for our business requirement, identifying the updated changes \\n\\n\\tExcellent analytical, problem solving, communication and interpersonal skills with ability to interact with individuals at all levels.  Consistently meets goals, objectives, and target dates.\\n\\n\\tInvolved in Workday update testing for all integrations , Supporting to HRIT team based on request.\\n\\n\\tMotivated team player willing to accept exciting challenges with sound of the IT industry.\\n\\n\\tInvolved in transformation of XML into XSLT for presenting data for different web Services.\\n\\n\\tHands on experience in creating New security groups,  or updating security groups with various domains security polices, activating security policies ,identifying the security for business obj\\n\\n\\tHaving knowledge in XML, WD-SOAP Web Service, and WD- REST Web Services.\\n\\n\\n\\nWorkday Consultant \\n\\n\\n\\nInfosys \\n\\n\\n\\n   from 2017 AUG TO 2018 JULY           \\n\\n\\t\\n\\nResponsibilities:\\n\\n\\t\\n\\nCreated various EIB outbound integrations for sending employees data from WD to external GDW  .\\n\\nWorked on development to add additional functionalities to the existing different PICOF Integrations either in the Workday Studio code level or Configuration level.\\n\\nDeveloped various Custom Reports for compensation, transfer, etc.\\n\\nCreated New matrix Report and sharing to HRIS team and creating ISU and ISSG for reports.\\n\\nCoordinate with users in UAT phase while testing Change request .\\n\\nDeveloped the studio integration for merging the multiple reports for STI and LTI Amount using workday studio.\\n\\nCreated the PICOF Outbound integration to generate the multiple files like Hire, termination, OTP, Allowance details to third party Payroll system.\\n\\nAs per SFDC cases, provided the \\xe2\\x80\\x9cStart proxy access \\xe2\\x80\\x9cto the KL HRSS team to perform transactions. \\n\\nWorked on  migration of data from Sandbox to Production.\\n\\n\\n\\nPS Consultant \\n\\n\\n\\nInfosys\\n\\n\\n\\n                  AUG-2017 to JULY-2018\\n\\n\\n\\n\\t\\n\\nResponsibilities:\\n\\n\\n\\n\\tCreate various reports as per business (Advanced, Matrix, Composite, Trending, Dash Boards , BIRT).\\n\\n\\t Prepare business requirement specification document and technical documents\\n\\n\\tResponsible for creating custom reports Advance, Matrix, Search, trending and box reports\\n\\n\\tInvolved in building EIB outbound integrations for recruitment, core HCM, compensation modules.\\n\\n\\tWorked on building CCW/PECI integrations for extracting the delta changes from workday To ADP.\\n\\n\\tHaving good experience in building Studio inbound and outbound integrations.\\n\\n\\tUtilized DT for converting the CCW, PICOF output XML files into text files\\n\\n\\tHaving good knowledge on Functional concepts like Business processes , condition rules , To do steps.\\n\\n\\tHands-on experience In Migrating the XSLT Code, Reports from  Sandbox and Production \\n\\n\\tInvolved in configuring security, roles and access restrictions at domain level and BP level.\\n\\n\\tProvide Day to day support of Workday Integrations, and Reporting issues.\\n\\n\\n\\nLanguages known\\n\\n\\n\\n\\n\\n\\tEnglish, Hindi & Telugu.',\n",
       " b'WORKDAY | HCM | FCM\\n\\nName \\t\\t: Kumar S.S\\n\\nRole \\t\\t: Workday Consultant \\n\\n\\n\\nProfessional Summary:\\n\\n\\n\\nHaving 6+ years of experience in Workday as a Workday Consultant, and involved in Workday HCM|FCM,  security ,support and enhancement Projects.\\n\\n\\n\\nHaving good understand of various Functional areas in HCM as well as Workday Financial.\\n\\n\\n\\nHCM \\xe2\\x80\\x93 Core HCM, Absence, Time Tracking, Recruiting, and Benefits.\\n\\n\\n\\nFCM \\xe2\\x80\\x93 Procure to Pay, Payables, Business Assets , Expense, Billing and  Revenue. \\n\\n\\n\\nTechnically proficient in customizations, enhancements using various tools like Report writer, Calculated Fields, EIB, Core Connector, DT and Workday Studio. \\n\\n\\n\\nHave good experience in various core connector templates like Core Connector worker, PICOFF and PECI.\\n\\n\\n\\nGood Working knowledge workday studio components like workday-In, workday-out Rest, Workday-out Soap, A-sync mediation, Splitter, aggregator, MVEL, Store, CSV-to-XML in Workday Studio.\\n\\n\\n\\nGood Working knowledge in technologies XML, XSLT, SOAP, Web services.\\n\\n\\n\\nHave working experience on PECI (payroll interface effective changes ) and creating custom objects.\\n\\n\\n\\nHave worked on, business process configurations and security areas based on business requirement.\\n\\n\\n\\nExpertise in Report analyst with using Advanced, Matrix and Composite reports. \\n\\n\\n\\nHave worked with incident and change requests for BAU.\\n\\n\\n\\nWorked on creating Complex Calculated Fields using Single Instance, lookup related Value, Lookup As of date fields in Custom reports in Workday HCM. \\n\\n\\n\\nWorked on EIB Inbound to load the data from file to workday system using Web services for cost center, OTP, transfer, Change Emergency contact information etc.\\n\\n\\n\\nWork experience in configuring Business Processes, Security configurations and Developing Reports.\\n\\n\\n\\nWorking experience on creating custom object and custom fields As per requirement. \\n\\n\\n\\nGood working experience on security configurations and creating ISU and creating security groups.\\n\\n\\n\\nGood knowledge in migrating reports from lower tenant to sandbox and production using object transporter.\\n\\nGood problem solving and communication skills.\\n\\n\\n\\nExperience Summary:\\n\\n\\t\\n\\nCurrently working as workday consultant in ITC InfoTech, Bengaluru from  Oct\\xe2\\x80\\x992017 to Till date.\\n\\nWorked as senior software engineer in Wipro from July 2014 to Sep 2017.\\n\\nTechnical Skills:\\n\\n\\t\\t\\t\\t\\t    \\n\\n\\tERP\\n\\n\\tWorkday HCM|FCM\\n\\n\\tTechnical Skills\\n\\n\\t\\t\\tReport writer, calculated fields, EIB, PICOF and Workday Studio, Core connector, Web services, Document Transformation,SQL, Workday Security Configuration.\\n\\n\\n\\nLanguages\\n\\n\\t\\t\\tXml, XSLT, People Code.\\n\\n\\tOperating Systems\\n\\nWindows, Linux .\\n\\n\\t\\t\\t\\t\\t\\n\\n\\t\\t\\t\\t\\t\\n\\nProject Summary:\\n\\n\\t\\n\\nMajor Projects executed:\\n\\nProject 3# : \\n\\n        \\n\\nProject Name\\n\\nWorkday Support and Enhancement\\n\\n Client\\n\\nITC InfoTech. \\n\\nDuration\\n\\n Oct  2017 to Till date \\n\\n Role Sr.Workday Consultant\\n\\n Environment\\n\\n EIB , PECI, Core connector, Web services, DT, Studio\\n\\n\\n\\n\\n\\n\\n\\nRoles and Responsibilities:\\xc2\\xa0\\n\\n\\n\\nCreated new integration to pull the new hires information using Core Connector Worker and Document Transformation, which uses connector integrations XML Output as its data source input.\\n\\n\\n\\nCreated EIB inbound integration for loading data. \\n\\n\\n\\nCreating core connectors integration using  PECI ( payroll effective change interface) template.\\n\\n\\n\\nDeveloped simple and secure integrations using Workday Enterprise Interface Builder (EIB).\\n\\n\\n\\nCreating custom objects and custom fields and calculated fields as per requirements. \\n\\n\\n\\nInbound/Outbound Integration Creation using Workday EIB, Core Connectors.\\n\\n\\n\\nDeveloped the custom reports for sending the Job Anniversary alerts to the Workers managers for initiation the OTP Plan.\\n\\n\\n\\nDeveloped various Custom Reports such as Lookup and Audit Reports using Calculated Fields.\\n\\n\\n\\nCreating security groups and adding permissions in domain security policies.\\n\\n\\n\\nInvolved in creating the inbound integration using Workday studio and Workday out SOAP, router component to load the Compensation data into workday system.\\n\\n\\n\\nInvolved in Loading the data for Emergency contacts, cost center, one time payments, bank account details data through enterprise interface builder(EIB) using web services like add updated org, onetime payments etc.\\n\\n\\t\\t\\n\\nModified\\xc2\\xa0the XSLT code as per CR-request and adding the new XSLT code for Different info types.\\n\\n\\n\\nHands on experience in using ETV and XTT functions in Document transformation.\\n\\n\\n\\nHands-on experience In Migrating the XSLT Code, Reports from Lower tenet to Sandbox and Production using Object Transporter.\\n\\n\\n\\nUnderstanding the Business Requirements by studying the Functional Documents.\\n\\n\\tPROJECT  2#\\n\\n Project\\n\\nWorkday Support and Enhancement\\n\\n Client\\n\\nWipro\\n\\nDuration\\n\\n Jun 2016 to Sep 2017\\n\\n Role\\n\\n Sr. software Engineer\\n\\n Environment\\n\\n EIB, PICOF and Workday Studio, Core connector, Web services, DT\\n\\n\\n\\n\\n\\nRoles and Responsibilities:\\n\\n\\n\\nCreated various EIB outbound integrations for sending customer contract data from workday system to all sales mangers email group.\\n\\n\\n\\nInvolved in creating the inbound integration using workday studio and workday out soap, router component to load the currency rates into workday system.\\n\\n\\n\\nWorked on worktag configurations and arrange a posting rule set based on worktag functionality.\\n\\n\\n\\nHave worked custom validations in maintain custom validations based on business requirement. \\n\\n\\n\\nDeveloped the new custom reports for capturing all business process and transactions based on the client requirement and creating the calculated field for transfer, promotion etc.\\n\\n\\n\\nDeveloped the new custom reports for Supplier and Customer Aging reports and Trail balance and Cash basis reports based on spend and revenue categories.\\n\\n\\n\\nScheduling the custom reports on daily, weekly, monthly basis based on client requirement.\\n\\n\\n\\nUnderstanding the requirements from the client and developing new integrations. Experienced to work with Workday Report Writer and creating custom integrations with third party applications using Enterprise Interface Builder (EIB).\\n\\n\\n\\nTrack and resolve user support issues with current system Maintain good working relationships with project team members, internal customers (e.g. BI, AR and AP, PO), and external service vendors.\\n\\n\\n\\nInvolved in Finance Audit phase and provide access and created audit report based on business need.\\n\\n\\n\\nHave tested for AP and PO modules for newly created Company.\\n\\n\\n\\n Used sequence generators, generating templates and validating inbound integration system results.\\n\\n\\n\\nCreated and used calculated fields in reporting, business processes, integrations and other areas within Workday.\\n\\n\\n\\nInvolved in Setup security  and  Workday Business process Configuration.\\n\\n\\t\\n\\n\\t\\n\\n\\tPROJECT  1#\\n\\n Project Name\\n\\nPeopleSoft  Support \\n\\n Client\\n\\nWipro\\n\\nDuration\\n\\n July 2014 to May 2016\\n\\n Role\\n\\n software Engineer\\n\\n Environment\\n\\n PT-8.53,SQR,AE ,CI and People Code\\n\\n\\n\\nRoles and Responsibilities:\\n\\n\\n\\nWorked on Application Engine, File Layout, Component Interface and Integration Broker.\\n\\nDesigned technical documents and have worked towards development of interfaces and conversions based on design documents.\\n\\nModified, designed, configured and built fields, records, sub records, setting up keys to records, assign table edits like prompt table.\\n\\nInvolved in online changes to the delivered pages, components, menus and translate values.\\n\\nHave Customized and developed Application engines for loading bulk data from external systems.\\n\\nDeveloped and modified People Code to implement specific business rules and validations to enable the System to perform the business process.\\n\\nUsed File Layout Definition to get data from the legacy system to PeopleSoft tables.\\n\\nManaged and monitored process scheduler for any issues while scheduled interfaces/processes ran and resolved the issues.\\n\\nDeveloped/Modified various PS queries in order to help the client day-to-day activity.\\n\\nInvolved in creating PS Query\\xe2\\x80\\x99s and sending it through email to different country FSCM heads.\\n\\nWorked on the reporting tools like PS Query, XML Publisher.\\n\\nHave worked on File Layout, Application Engine, Component Interface, File layout, Excel to CI, XML Report.\\n\\n\\n\\nEducational Summary:\\n\\n\\n\\nM.Tech in computer science and Engineering (C.S.E) from Bharath  University, Chennai in 2009.\\n\\nB.Tech (PE) from Nagarjuna University, Guntur in 2006.',\n",
       " b'Vinay kumar .v\\nWorkday Functional Consultant\\n\\n\\n\\nEXPERTISE SUMMARY\\t\\n\\nHaving 4.2 years of Total Experience in as a Workday  Functional Consultant.\\n\\nKnowledge on the functional modules of Workday (Core HCM, Supervisory Organization, Delegation, Cost Center, Locations and Knowledge on Security).\\n\\nExperience in implementing Workday Functional and Integrations for various modules including HCM Core, Compensation, Time Tracking and Absence Management, Payroll, Benefits and Performance Management.\\n\\nHaving good knowledge on Security Groups: Role Based, User Based & Job Based.\\n\\nExperienced in Report Writing, Custom Reports (Simple, Advanced, Matrix and Composite), Calculated Fields, Integrations, EIB, Connectors, XML, XSLT, Workday web services, Organization Structure & Custom Objects. \\n\\nHands-on experience In Migrating the XSLT Code, Reports from Lower tenant to Sandbox and Production using Object Transporter.  \\n\\nExcellent object management skills in Workday like configuring Supervisory Organizations, Matrix Organizations, Compensation (salary based on different grades, allowances), Performance Management, Time Management, Business Process (Hiring and Termination).\\n\\nStrong team player with excellent interpersonal, communication and leadership skills and ready to take an independent challenge and has the ability to work in a team.\\n\\nTECHNICAL SKILLS\\n\\nWorkday Skills                   : Reports, Studio, Workday Business Processes, Security, Staffing, Report\\n\\nWriter,          \\xe2\\x80\\xa6\\xe2\\x80\\xa6\\xe2\\x80\\xa6\\xe2\\x80\\xa6\\xe2\\x80\\xa6\\xe2\\x80\\xa6\\xe2\\x80\\xa6\\xe2\\x80\\xa6\\xe2\\x80\\xa6.Calculated Fields, EIB, Core Connector, Web Services, etc.\\n\\nLanguages / Tools             : XML, XSLT & Studio.\\n\\nDocument Processing     : Microsoft Excel, Microsoft Word, Microsoft PowerPoint.\\n\\n\\n\\nEDUCATION SUMMARY\\t\\n\\n\\tMaster of business administration from Narayana engineering College in 2017 with  80%\\n\\n\\t\\n\\nWORK EXPERIENCE\\t\\n\\n\\tWorking as a Workday Consultant in Tech Mahindra from Sep 2017 to Till Date.\\n\\n\\t\\n\\nPROFESSIONAL SUMMARY\\t:\\n\\n\\t\\n\\n\\tProject #1:\\n\\n\\tCompany        : Tech Mahindra\\n\\n\\tProject Type  : Workday Support and Enhancements\\n\\n\\tDesignation   : Workday Consultant\\n\\n\\n\\nRoles and Responsibilities:\\n\\n\\t\\n\\n\\tDevelop new Integrations ( EIB, Core connector) and Custom Reports based on business requirements.\\n\\n\\tModifications and implementing multiple enhancements to existing, Custom Reports, Calculated field and XSLT.\\n\\n\\tHands-on experience In Migrating the Reports from Lower tenet to Sandbox and Production using Object Transporter.\\n\\n\\tWorked on Core connector for Template Location, worker, and Document Transformation.\\n\\n\\tWorked on Integration system User for transfer the ownership of reports, schedule and Integration.\\n\\n\\tWorked on Inbound and Outbound EIB Integration concepts and created the various EIB integrations.\\n\\n\\tConfigure workday configurable security as per client\\xe2\\x80\\x99s business requirements.\\n\\n\\tCreated EIB Inbound Integrations for loading the employees personal Information like Emergency contacts, Compensation, One-time payments, Bank account, cost center information.\\n\\n\\tMonitor daily schedulers and report errors as needed.\\n\\n\\tDeveloped Core Connector and Document Transformation integrations to get changes file of CSV format from XML Output.\\n\\n\\tStrong Knowledge on working with CR-Change Requests as per business requirement and building and moving changes to production.\\n\\n\\tInvolved in performing Mass Loading of data using EIBs.\\n\\n\\tInvolved in calls with client and update the work status as well as clarifications if any. \\n\\n\\tDay to day support for Workday HCM, Integrations and Reporting issues.\\n\\n\\t\\n\\n\\tProject #2:\\n\\n\\tCompany        : Tech Mahindra\\n\\n\\tProject Type  : PeopleSoft Support and Enhancements\\n\\n\\tDesignation   : Analyst\\n\\n\\n\\nRoles and Responsibilities:\\n\\n\\n\\n\\tHave Customized and developed Application engines for loading bulk data from external systems.\\n\\n\\tTrack and resolve user support issues with current system Maintain good working relationships with project team members, internal customers, and external service vendors\\n\\n\\tHave designed technical documents and have worked towards development of interfaces and conversions based on design documents.\\n\\n\\tModified, designed, configured and built fields, records, sub records, setting up keys to records, assign table edits like prompt table.\\n\\n\\tInvolved in online changes to the delivered pages, components, menus and translate values.\\n\\n\\tHave Customized and developed Application engines for loading bulk data from external systems.\\n\\n\\tDeveloped and modified People Code to implement specific business rules and validations to enable the System to perform the business process.\\n\\n\\tUsed File Layout Definition to get data from the legacy system to PeopleSoft tables.\\n\\n\\tManaged and monitored process scheduler for any issues while scheduled interfaces/processes ran and resolved the issues\\n\\n\\tDeveloped/Modified various PS queries in order to help the client day-to-day activity.\\n\\n\\tWorked on the reporting tools like PS Query, XML Publisher\\n\\n\\tHave worked on File Layout, Application Engine, Component Interface, File layout, Excel to CI, XML Report\\n\\n\\n\\n\\t\\n\\n\\n\\nDECLARATION:\\n\\n           I hereby declare that all the information furnished is true to by best of my knowledge.',\n",
       " b'SQL AND MSBI DEVELOPER\\n\\nSQL AND MSBI DEVELOPER\\n\\nB. vinod kumar\\n\\n\\n\\nOBJECTIVE:\\n\\nWilling to work under a challenging and professional environment with exposure to new technologies as an SQL and MSBI developer in the area of SQL SERVER 2014, 2016 with Enterprise Portal and where there is a scope for Organizational growth as well as individual growth.\\n\\nProfessional summary:\\n\\n\\t\\tHaving around 2.2Years of IT Experience in Microsoft Business Intelligence (MSBI) under SQL server environment, with through knowledge of SQL server 2014,2016 databases.\\n\\n\\t\\tExtensive experience on Joins, Set Operators, Table Variables, Temporary Tables, CTE & Sub Queries.\\n\\n\\t\\tGood experience in writing Simple and sample SQL queries.\\n\\n\\t\\tExperience in Developing Stored Procedures and User defined functions.\\n\\n\\t\\tHands on Experience Triggers , views, cursor and synonyms.\\n\\n\\t\\tExperience on Writing SQL using joins, sub queries.\\n\\n\\t\\tGood at generating multiple reports using SSRS from SQL server database and included various reporting features such as Drill-Down, Drill-Through, Cascading Reports and Sub Reports.\\n\\n\\t\\tExperience in importing/exporting data between different sources like Excel/Flatfile etc.\\n\\n\\t\\tGood experience on Backups & Restoring into different Servers.\\n\\n\\t\\tHands on Exeperience on different transformations like Data conversion, Derived coloumn, Look up, Merge join, Union All, Sort, Fuzzy lookup.\\n\\n\\t\\tGood Experience on Ranking, Aggregate and String Functions.\\n\\n\\t\\tExperience on Design and development of SQL Server Integration Services(SSIS) packages and using various control flow tasks like Data floe task and Excute SQL task and containres like For Loop container and sequence container and For -each container.\\n\\n\\t\\tExperience on deploying the reports and creating subscriptions to send the reports on schedule basis.\\n\\n\\n\\nEDUCATIONAL BACKGROUND:\\n\\n\\t\\tB.Tech (computer science and engineering),JNTU,Ananthapuramu.\\n\\n\\n\\nPROFESSIONAL EXPERIENCE:\\n\\n\\t\\tWorking in united health group as a Software Engineer, Bangalore since may-2019 to till date.\\n\\n\\n\\n\\n\\nTECHNICAL SKILLS:\\n\\n\\t\\t\\tTechnologies\\t: Microsoft Business Intelligence Tools (MSBI)\\n\\n\\t\\t\\tLanguages\\t: SQL, T-SQL.\\n\\n\\t\\t\\tETL Tools\\t: SQL Server Integration Services.\\n\\n\\t\\t\\tReporting Tools\\t: SQL Server Reporting Services\\n\\n\\n\\nPROJECT DETAILS:\\n\\n\\t\\tClient: Uk\\n\\n\\t\\tProject: National skill Development corporation\\n\\n\\t\\tRole: SQL Server and SSIS developer\\n\\n\\t\\tEnvirnoment : SSIS, SSRS and MS SQL Server.\\n\\nProject 1: National Skill Development Corporation (NSDC)\\n\\n\\tClient\\t: National Skill Development Corporation (INDIA) Role\\t: SQL Developer\\n\\n\\tEnvironment\\t: SQL Server, Nano-BI. Duration\\t: May 2019 to till now.\\n\\n\\n\\nDescription:\\n\\nNSDC Provides training / placements to people across the country through SIP across specific skill sets. Under NSDC there are multiple scheme types like PMKVY, Non-PMKVY and Fee-Based, Based on scheme type candidates will enroll to the batches under particular training centres. In every batch minimum 10 candidates can enroll. After enrolling candidates will go for Training then these candidates will go for assessment and Failed candidates can apply for re-assessment and the candidates who are passed will go for the certification. And the certified candidates will get placement through NSDC.\\n\\n\\n\\nROLES AND RESPONSIBILITIES:\\n\\n\\t\\tBy using NANO BI Analytical tool creating tables.\\n\\n\\t\\tDeveloped ETL Scripts to populate the data from different tables by using joins, CTE\\xe2\\x80\\x99s and Date functions.\\n\\n\\t\\tBy using NANO BI Analytical tool creating tables.\\n\\n\\t\\tInvolved in Creating analytics with measures and dimensions to populate data and created dashboard to clients by their requirement.\\n\\n\\t\\tResponsible for Creating and Modifying T-SQL stored procedures for validating the integrity of the data.\\n\\n\\t\\tResponsible for writing complex SQL Queries, Joins, Constraints, DDL, DML Date Functions to implement the business logic.\\n\\n\\n\\n\\t\\tExperience in creating different types of Reports according to the user request by using NANO BI Analytical tool.\\n\\n\\t\\tInvolved in deploying and scheduling the reports using Report Emailer.\\n\\n\\t\\tInvolved in scheduling the Stored procedures to refresh the data on every day using Workflows in NANO BI.\\n\\n\\n\\n\\n\\n\\n\\n\\n\\nB. Vinod kumar']"
      ]
     },
     "execution_count": 6,
     "metadata": {},
     "output_type": "execute_result"
    }
   ],
   "source": [
    "file_docx"
   ]
  },
  {
   "cell_type": "code",
   "execution_count": 7,
   "id": "a8ea00e7",
   "metadata": {},
   "outputs": [],
   "source": [
    "import re #regular expression\n",
    "import string\n",
    "\n",
    "def clean_text(text):\n",
    "    '''Make text lowercase, remove text in square brackets, remove punctuation and remove words containing numbers.'''\n",
    "    text = text.lower()\n",
    "    text = re.sub('\\[.*?\\]', '', text)\n",
    "    text = re.sub('[%s]' % re.escape(string.punctuation), '', text)\n",
    "    text = re.sub('\\w*\\d\\w*', '', text)\n",
    "    text = re.sub(\"[0-9\" \"]+\",\" \",text)\n",
    "    text = re.sub('[‘’“”…]', '', text)\n",
    "    return text\n",
    "\n",
    "clean = lambda x: clean_text(x)"
   ]
  },
  {
   "cell_type": "code",
   "execution_count": 8,
   "id": "5647c0bf",
   "metadata": {},
   "outputs": [],
   "source": [
    "def cleaned_review(review_df):\n",
    "    review_df.replace(to_replace=[r\"\\\\t|\\\\n|\\\\r\", \"\\t|\\n|\\r\",\"[|]\"], value=[\"\",\"\",\"\"], regex=True, inplace=True)\n",
    "    review_df=review_df.drop(index=[0,1,2,3,4,5,6,7,8,9],axis=0)\n",
    "    review_df=review_df.reset_index(drop=bool)\n",
    "    return review_df"
   ]
  },
  {
   "cell_type": "code",
   "execution_count": 9,
   "id": "9b76aea1",
   "metadata": {},
   "outputs": [],
   "source": [
    "df1 = pd.DataFrame(file_docx)"
   ]
  },
  {
   "cell_type": "code",
   "execution_count": 10,
   "id": "97adaa79",
   "metadata": {},
   "outputs": [
    {
     "data": {
      "text/html": [
       "<div>\n",
       "<style scoped>\n",
       "    .dataframe tbody tr th:only-of-type {\n",
       "        vertical-align: middle;\n",
       "    }\n",
       "\n",
       "    .dataframe tbody tr th {\n",
       "        vertical-align: top;\n",
       "    }\n",
       "\n",
       "    .dataframe thead th {\n",
       "        text-align: right;\n",
       "    }\n",
       "</style>\n",
       "<table border=\"1\" class=\"dataframe\">\n",
       "  <thead>\n",
       "    <tr style=\"text-align: right;\">\n",
       "      <th></th>\n",
       "      <th>0</th>\n",
       "    </tr>\n",
       "  </thead>\n",
       "  <tbody>\n",
       "    <tr>\n",
       "      <th>0</th>\n",
       "      <td>b'ANIL KUMAR MADDUKURI  \\t\\t\\n\\nSQL &amp; MSBI Dev...</td>\n",
       "    </tr>\n",
       "    <tr>\n",
       "      <th>1</th>\n",
       "      <td>b'Aradhana Tripathi\\n\\n\\n\\nCurrent Location: G...</td>\n",
       "    </tr>\n",
       "    <tr>\n",
       "      <th>2</th>\n",
       "      <td>b\"BUDDHA VAMSI                                ...</td>\n",
       "    </tr>\n",
       "    <tr>\n",
       "      <th>3</th>\n",
       "      <td>b'Chinna Subbarayudu M\\n\\nDOB: 06th March 1994...</td>\n",
       "    </tr>\n",
       "    <tr>\n",
       "      <th>4</th>\n",
       "      <td>b'Name         : Gopi Krishna Reddy\\n\\n\\t\\t   ...</td>\n",
       "    </tr>\n",
       "    <tr>\n",
       "      <th>...</th>\n",
       "      <td>...</td>\n",
       "    </tr>\n",
       "    <tr>\n",
       "      <th>73</th>\n",
       "      <td>b\"C O N T A C T :\\n\\n\\n\\nAddress: Manyata Tech...</td>\n",
       "    </tr>\n",
       "    <tr>\n",
       "      <th>74</th>\n",
       "      <td>b'Srikanth (WORKDAY hCM Consultant)\\t         ...</td>\n",
       "    </tr>\n",
       "    <tr>\n",
       "      <th>75</th>\n",
       "      <td>b'WORKDAY | HCM | FCM\\n\\nName \\t\\t: Kumar S.S\\...</td>\n",
       "    </tr>\n",
       "    <tr>\n",
       "      <th>76</th>\n",
       "      <td>b'Vinay kumar .v\\nWorkday Functional Consultan...</td>\n",
       "    </tr>\n",
       "    <tr>\n",
       "      <th>77</th>\n",
       "      <td>b'SQL AND MSBI DEVELOPER\\n\\nSQL AND MSBI DEVEL...</td>\n",
       "    </tr>\n",
       "  </tbody>\n",
       "</table>\n",
       "<p>78 rows × 1 columns</p>\n",
       "</div>"
      ],
      "text/plain": [
       "                                                    0\n",
       "0   b'ANIL KUMAR MADDUKURI  \\t\\t\\n\\nSQL & MSBI Dev...\n",
       "1   b'Aradhana Tripathi\\n\\n\\n\\nCurrent Location: G...\n",
       "2   b\"BUDDHA VAMSI                                ...\n",
       "3   b'Chinna Subbarayudu M\\n\\nDOB: 06th March 1994...\n",
       "4   b'Name         : Gopi Krishna Reddy\\n\\n\\t\\t   ...\n",
       "..                                                ...\n",
       "73  b\"C O N T A C T :\\n\\n\\n\\nAddress: Manyata Tech...\n",
       "74  b'Srikanth (WORKDAY hCM Consultant)\\t         ...\n",
       "75  b'WORKDAY | HCM | FCM\\n\\nName \\t\\t: Kumar S.S\\...\n",
       "76  b'Vinay kumar .v\\nWorkday Functional Consultan...\n",
       "77  b'SQL AND MSBI DEVELOPER\\n\\nSQL AND MSBI DEVEL...\n",
       "\n",
       "[78 rows x 1 columns]"
      ]
     },
     "execution_count": 10,
     "metadata": {},
     "output_type": "execute_result"
    }
   ],
   "source": [
    "df1"
   ]
  },
  {
   "cell_type": "code",
   "execution_count": 11,
   "id": "7feb1505",
   "metadata": {},
   "outputs": [],
   "source": [
    "def remove_punctuations(text):\n",
    "    for punctuation in string.punctuation:\n",
    "        text = text.replace(punctuation, '')\n",
    "    return text\n",
    "\n"
   ]
  },
  {
   "cell_type": "code",
   "execution_count": 12,
   "id": "f0707b27",
   "metadata": {},
   "outputs": [],
   "source": [
    "# Apply to the DF series\n",
    "df1['new_column'] = df1.apply(remove_punctuations)"
   ]
  },
  {
   "cell_type": "code",
   "execution_count": 13,
   "id": "42e8be79",
   "metadata": {},
   "outputs": [],
   "source": [
    "df1['Text'] = df1.new_column.str.decode(\"UTF-8\") "
   ]
  },
  {
   "cell_type": "code",
   "execution_count": 14,
   "id": "3651098b",
   "metadata": {},
   "outputs": [
    {
     "data": {
      "text/html": [
       "<div>\n",
       "<style scoped>\n",
       "    .dataframe tbody tr th:only-of-type {\n",
       "        vertical-align: middle;\n",
       "    }\n",
       "\n",
       "    .dataframe tbody tr th {\n",
       "        vertical-align: top;\n",
       "    }\n",
       "\n",
       "    .dataframe thead th {\n",
       "        text-align: right;\n",
       "    }\n",
       "</style>\n",
       "<table border=\"1\" class=\"dataframe\">\n",
       "  <thead>\n",
       "    <tr style=\"text-align: right;\">\n",
       "      <th></th>\n",
       "      <th>0</th>\n",
       "      <th>new_column</th>\n",
       "      <th>Text</th>\n",
       "    </tr>\n",
       "  </thead>\n",
       "  <tbody>\n",
       "    <tr>\n",
       "      <th>0</th>\n",
       "      <td>b'ANIL KUMAR MADDUKURI  \\t\\t\\n\\nSQL &amp; MSBI Dev...</td>\n",
       "      <td>b'ANIL KUMAR MADDUKURI  \\t\\t\\n\\nSQL &amp; MSBI Dev...</td>\n",
       "      <td>ANIL KUMAR MADDUKURI  \\t\\t\\n\\nSQL &amp; MSBI Devel...</td>\n",
       "    </tr>\n",
       "    <tr>\n",
       "      <th>1</th>\n",
       "      <td>b'Aradhana Tripathi\\n\\n\\n\\nCurrent Location: G...</td>\n",
       "      <td>b'Aradhana Tripathi\\n\\n\\n\\nCurrent Location: G...</td>\n",
       "      <td>Aradhana Tripathi\\n\\n\\n\\nCurrent Location: Gac...</td>\n",
       "    </tr>\n",
       "    <tr>\n",
       "      <th>2</th>\n",
       "      <td>b\"BUDDHA VAMSI                                ...</td>\n",
       "      <td>b\"BUDDHA VAMSI                                ...</td>\n",
       "      <td>BUDDHA VAMSI                                  ...</td>\n",
       "    </tr>\n",
       "    <tr>\n",
       "      <th>3</th>\n",
       "      <td>b'Chinna Subbarayudu M\\n\\nDOB: 06th March 1994...</td>\n",
       "      <td>b'Chinna Subbarayudu M\\n\\nDOB: 06th March 1994...</td>\n",
       "      <td>Chinna Subbarayudu M\\n\\nDOB: 06th March 1994\\n...</td>\n",
       "    </tr>\n",
       "    <tr>\n",
       "      <th>4</th>\n",
       "      <td>b'Name         : Gopi Krishna Reddy\\n\\n\\t\\t   ...</td>\n",
       "      <td>b'Name         : Gopi Krishna Reddy\\n\\n\\t\\t   ...</td>\n",
       "      <td>Name         : Gopi Krishna Reddy\\n\\n\\t\\t     ...</td>\n",
       "    </tr>\n",
       "    <tr>\n",
       "      <th>...</th>\n",
       "      <td>...</td>\n",
       "      <td>...</td>\n",
       "      <td>...</td>\n",
       "    </tr>\n",
       "    <tr>\n",
       "      <th>73</th>\n",
       "      <td>b\"C O N T A C T :\\n\\n\\n\\nAddress: Manyata Tech...</td>\n",
       "      <td>b\"C O N T A C T :\\n\\n\\n\\nAddress: Manyata Tech...</td>\n",
       "      <td>C O N T A C T :\\n\\n\\n\\nAddress: Manyata Tech P...</td>\n",
       "    </tr>\n",
       "    <tr>\n",
       "      <th>74</th>\n",
       "      <td>b'Srikanth (WORKDAY hCM Consultant)\\t         ...</td>\n",
       "      <td>b'Srikanth (WORKDAY hCM Consultant)\\t         ...</td>\n",
       "      <td>Srikanth (WORKDAY hCM Consultant)\\t           ...</td>\n",
       "    </tr>\n",
       "    <tr>\n",
       "      <th>75</th>\n",
       "      <td>b'WORKDAY | HCM | FCM\\n\\nName \\t\\t: Kumar S.S\\...</td>\n",
       "      <td>b'WORKDAY | HCM | FCM\\n\\nName \\t\\t: Kumar S.S\\...</td>\n",
       "      <td>WORKDAY | HCM | FCM\\n\\nName \\t\\t: Kumar S.S\\n\\...</td>\n",
       "    </tr>\n",
       "    <tr>\n",
       "      <th>76</th>\n",
       "      <td>b'Vinay kumar .v\\nWorkday Functional Consultan...</td>\n",
       "      <td>b'Vinay kumar .v\\nWorkday Functional Consultan...</td>\n",
       "      <td>Vinay kumar .v\\nWorkday Functional Consultant\\...</td>\n",
       "    </tr>\n",
       "    <tr>\n",
       "      <th>77</th>\n",
       "      <td>b'SQL AND MSBI DEVELOPER\\n\\nSQL AND MSBI DEVEL...</td>\n",
       "      <td>b'SQL AND MSBI DEVELOPER\\n\\nSQL AND MSBI DEVEL...</td>\n",
       "      <td>SQL AND MSBI DEVELOPER\\n\\nSQL AND MSBI DEVELOP...</td>\n",
       "    </tr>\n",
       "  </tbody>\n",
       "</table>\n",
       "<p>78 rows × 3 columns</p>\n",
       "</div>"
      ],
      "text/plain": [
       "                                                    0  \\\n",
       "0   b'ANIL KUMAR MADDUKURI  \\t\\t\\n\\nSQL & MSBI Dev...   \n",
       "1   b'Aradhana Tripathi\\n\\n\\n\\nCurrent Location: G...   \n",
       "2   b\"BUDDHA VAMSI                                ...   \n",
       "3   b'Chinna Subbarayudu M\\n\\nDOB: 06th March 1994...   \n",
       "4   b'Name         : Gopi Krishna Reddy\\n\\n\\t\\t   ...   \n",
       "..                                                ...   \n",
       "73  b\"C O N T A C T :\\n\\n\\n\\nAddress: Manyata Tech...   \n",
       "74  b'Srikanth (WORKDAY hCM Consultant)\\t         ...   \n",
       "75  b'WORKDAY | HCM | FCM\\n\\nName \\t\\t: Kumar S.S\\...   \n",
       "76  b'Vinay kumar .v\\nWorkday Functional Consultan...   \n",
       "77  b'SQL AND MSBI DEVELOPER\\n\\nSQL AND MSBI DEVEL...   \n",
       "\n",
       "                                           new_column  \\\n",
       "0   b'ANIL KUMAR MADDUKURI  \\t\\t\\n\\nSQL & MSBI Dev...   \n",
       "1   b'Aradhana Tripathi\\n\\n\\n\\nCurrent Location: G...   \n",
       "2   b\"BUDDHA VAMSI                                ...   \n",
       "3   b'Chinna Subbarayudu M\\n\\nDOB: 06th March 1994...   \n",
       "4   b'Name         : Gopi Krishna Reddy\\n\\n\\t\\t   ...   \n",
       "..                                                ...   \n",
       "73  b\"C O N T A C T :\\n\\n\\n\\nAddress: Manyata Tech...   \n",
       "74  b'Srikanth (WORKDAY hCM Consultant)\\t         ...   \n",
       "75  b'WORKDAY | HCM | FCM\\n\\nName \\t\\t: Kumar S.S\\...   \n",
       "76  b'Vinay kumar .v\\nWorkday Functional Consultan...   \n",
       "77  b'SQL AND MSBI DEVELOPER\\n\\nSQL AND MSBI DEVEL...   \n",
       "\n",
       "                                                 Text  \n",
       "0   ANIL KUMAR MADDUKURI  \\t\\t\\n\\nSQL & MSBI Devel...  \n",
       "1   Aradhana Tripathi\\n\\n\\n\\nCurrent Location: Gac...  \n",
       "2   BUDDHA VAMSI                                  ...  \n",
       "3   Chinna Subbarayudu M\\n\\nDOB: 06th March 1994\\n...  \n",
       "4   Name         : Gopi Krishna Reddy\\n\\n\\t\\t     ...  \n",
       "..                                                ...  \n",
       "73  C O N T A C T :\\n\\n\\n\\nAddress: Manyata Tech P...  \n",
       "74  Srikanth (WORKDAY hCM Consultant)\\t           ...  \n",
       "75  WORKDAY | HCM | FCM\\n\\nName \\t\\t: Kumar S.S\\n\\...  \n",
       "76  Vinay kumar .v\\nWorkday Functional Consultant\\...  \n",
       "77  SQL AND MSBI DEVELOPER\\n\\nSQL AND MSBI DEVELOP...  \n",
       "\n",
       "[78 rows x 3 columns]"
      ]
     },
     "execution_count": 14,
     "metadata": {},
     "output_type": "execute_result"
    }
   ],
   "source": [
    "df1"
   ]
  },
  {
   "cell_type": "code",
   "execution_count": 15,
   "id": "08c38c12",
   "metadata": {},
   "outputs": [],
   "source": [
    "cleanreviewdf1=cleaned_review(df1)"
   ]
  },
  {
   "cell_type": "code",
   "execution_count": 16,
   "id": "b95f5e2d",
   "metadata": {},
   "outputs": [
    {
     "data": {
      "text/html": [
       "<div>\n",
       "<style scoped>\n",
       "    .dataframe tbody tr th:only-of-type {\n",
       "        vertical-align: middle;\n",
       "    }\n",
       "\n",
       "    .dataframe tbody tr th {\n",
       "        vertical-align: top;\n",
       "    }\n",
       "\n",
       "    .dataframe thead th {\n",
       "        text-align: right;\n",
       "    }\n",
       "</style>\n",
       "<table border=\"1\" class=\"dataframe\">\n",
       "  <thead>\n",
       "    <tr style=\"text-align: right;\">\n",
       "      <th></th>\n",
       "      <th>0</th>\n",
       "      <th>new_column</th>\n",
       "      <th>Text</th>\n",
       "    </tr>\n",
       "  </thead>\n",
       "  <tbody>\n",
       "    <tr>\n",
       "      <th>0</th>\n",
       "      <td>b'Mooraboyina Guravaiah\\n\\nWorkday Integration...</td>\n",
       "      <td>b'Mooraboyina Guravaiah\\n\\nWorkday Integration...</td>\n",
       "      <td>Mooraboyina GuravaiahWorkday Integration Speci...</td>\n",
       "    </tr>\n",
       "    <tr>\n",
       "      <th>1</th>\n",
       "      <td>b'Resume\\n\\nName     :  Neeraj Mishra\\n\\n\\n\\nE...</td>\n",
       "      <td>b'Resume\\n\\nName     :  Neeraj Mishra\\n\\n\\n\\nE...</td>\n",
       "      <td>ResumeName     :  Neeraj MishraExperience Summ...</td>\n",
       "    </tr>\n",
       "    <tr>\n",
       "      <th>2</th>\n",
       "      <td>b\"Harikrishna Akula                           ...</td>\n",
       "      <td>b\"Harikrishna Akula                           ...</td>\n",
       "      <td>Harikrishna Akula                             ...</td>\n",
       "    </tr>\n",
       "    <tr>\n",
       "      <th>3</th>\n",
       "      <td>b\"PEOPLESOFT Administrator\\n\\n\\n\\n\\n\\nSRINIVAS...</td>\n",
       "      <td>b\"PEOPLESOFT Administrator\\n\\n\\n\\n\\n\\nSRINIVAS...</td>\n",
       "      <td>PEOPLESOFT AdministratorSRINIVAS.K Experience ...</td>\n",
       "    </tr>\n",
       "    <tr>\n",
       "      <th>4</th>\n",
       "      <td>b'Vinod Akkala                                ...</td>\n",
       "      <td>b'Vinod Akkala                                ...</td>\n",
       "      <td>Vinod Akkala                                  ...</td>\n",
       "    </tr>\n",
       "    <tr>\n",
       "      <th>...</th>\n",
       "      <td>...</td>\n",
       "      <td>...</td>\n",
       "      <td>...</td>\n",
       "    </tr>\n",
       "    <tr>\n",
       "      <th>63</th>\n",
       "      <td>b\"C O N T A C T :\\n\\n\\n\\nAddress: Manyata Tech...</td>\n",
       "      <td>b\"C O N T A C T :\\n\\n\\n\\nAddress: Manyata Tech...</td>\n",
       "      <td>C O N T A C T :Address: Manyata Tech Park,Naga...</td>\n",
       "    </tr>\n",
       "    <tr>\n",
       "      <th>64</th>\n",
       "      <td>b'Srikanth (WORKDAY hCM Consultant)\\t         ...</td>\n",
       "      <td>b'Srikanth (WORKDAY hCM Consultant)\\t         ...</td>\n",
       "      <td>Srikanth (WORKDAY hCM Consultant)             ...</td>\n",
       "    </tr>\n",
       "    <tr>\n",
       "      <th>65</th>\n",
       "      <td>b'WORKDAY | HCM | FCM\\n\\nName \\t\\t: Kumar S.S\\...</td>\n",
       "      <td>b'WORKDAY | HCM | FCM\\n\\nName \\t\\t: Kumar S.S\\...</td>\n",
       "      <td>WORKDAY  HCM  FCMName : Kumar S.SRole : Workda...</td>\n",
       "    </tr>\n",
       "    <tr>\n",
       "      <th>66</th>\n",
       "      <td>b'Vinay kumar .v\\nWorkday Functional Consultan...</td>\n",
       "      <td>b'Vinay kumar .v\\nWorkday Functional Consultan...</td>\n",
       "      <td>Vinay kumar .vWorkday Functional ConsultantEXP...</td>\n",
       "    </tr>\n",
       "    <tr>\n",
       "      <th>67</th>\n",
       "      <td>b'SQL AND MSBI DEVELOPER\\n\\nSQL AND MSBI DEVEL...</td>\n",
       "      <td>b'SQL AND MSBI DEVELOPER\\n\\nSQL AND MSBI DEVEL...</td>\n",
       "      <td>SQL AND MSBI DEVELOPERSQL AND MSBI DEVELOPERB....</td>\n",
       "    </tr>\n",
       "  </tbody>\n",
       "</table>\n",
       "<p>68 rows × 3 columns</p>\n",
       "</div>"
      ],
      "text/plain": [
       "                                                    0  \\\n",
       "0   b'Mooraboyina Guravaiah\\n\\nWorkday Integration...   \n",
       "1   b'Resume\\n\\nName     :  Neeraj Mishra\\n\\n\\n\\nE...   \n",
       "2   b\"Harikrishna Akula                           ...   \n",
       "3   b\"PEOPLESOFT Administrator\\n\\n\\n\\n\\n\\nSRINIVAS...   \n",
       "4   b'Vinod Akkala                                ...   \n",
       "..                                                ...   \n",
       "63  b\"C O N T A C T :\\n\\n\\n\\nAddress: Manyata Tech...   \n",
       "64  b'Srikanth (WORKDAY hCM Consultant)\\t         ...   \n",
       "65  b'WORKDAY | HCM | FCM\\n\\nName \\t\\t: Kumar S.S\\...   \n",
       "66  b'Vinay kumar .v\\nWorkday Functional Consultan...   \n",
       "67  b'SQL AND MSBI DEVELOPER\\n\\nSQL AND MSBI DEVEL...   \n",
       "\n",
       "                                           new_column  \\\n",
       "0   b'Mooraboyina Guravaiah\\n\\nWorkday Integration...   \n",
       "1   b'Resume\\n\\nName     :  Neeraj Mishra\\n\\n\\n\\nE...   \n",
       "2   b\"Harikrishna Akula                           ...   \n",
       "3   b\"PEOPLESOFT Administrator\\n\\n\\n\\n\\n\\nSRINIVAS...   \n",
       "4   b'Vinod Akkala                                ...   \n",
       "..                                                ...   \n",
       "63  b\"C O N T A C T :\\n\\n\\n\\nAddress: Manyata Tech...   \n",
       "64  b'Srikanth (WORKDAY hCM Consultant)\\t         ...   \n",
       "65  b'WORKDAY | HCM | FCM\\n\\nName \\t\\t: Kumar S.S\\...   \n",
       "66  b'Vinay kumar .v\\nWorkday Functional Consultan...   \n",
       "67  b'SQL AND MSBI DEVELOPER\\n\\nSQL AND MSBI DEVEL...   \n",
       "\n",
       "                                                 Text  \n",
       "0   Mooraboyina GuravaiahWorkday Integration Speci...  \n",
       "1   ResumeName     :  Neeraj MishraExperience Summ...  \n",
       "2   Harikrishna Akula                             ...  \n",
       "3   PEOPLESOFT AdministratorSRINIVAS.K Experience ...  \n",
       "4   Vinod Akkala                                  ...  \n",
       "..                                                ...  \n",
       "63  C O N T A C T :Address: Manyata Tech Park,Naga...  \n",
       "64  Srikanth (WORKDAY hCM Consultant)             ...  \n",
       "65  WORKDAY  HCM  FCMName : Kumar S.SRole : Workda...  \n",
       "66  Vinay kumar .vWorkday Functional ConsultantEXP...  \n",
       "67  SQL AND MSBI DEVELOPERSQL AND MSBI DEVELOPERB....  \n",
       "\n",
       "[68 rows x 3 columns]"
      ]
     },
     "execution_count": 16,
     "metadata": {},
     "output_type": "execute_result"
    }
   ],
   "source": [
    "cleanreviewdf1"
   ]
  },
  {
   "cell_type": "code",
   "execution_count": 17,
   "id": "bae5c5a2",
   "metadata": {},
   "outputs": [
    {
     "data": {
      "text/plain": [
       "0     ANIL KUMAR MADDUKURI  SQL & MSBI Developer   S...\n",
       "1     Aradhana TripathiCurrent Location: Gachibowli,...\n",
       "2     BUDDHA VAMSI                                  ...\n",
       "3     Chinna Subbarayudu MDOB: 06th March 1994Nation...\n",
       "4     Name         : Gopi Krishna Reddy             ...\n",
       "                            ...                        \n",
       "73    C O N T A C T :Address: Manyata Tech Park,Naga...\n",
       "74    Srikanth (WORKDAY hCM Consultant)             ...\n",
       "75    WORKDAY  HCM  FCMName : Kumar S.SRole : Workda...\n",
       "76    Vinay kumar .vWorkday Functional ConsultantEXP...\n",
       "77    SQL AND MSBI DEVELOPERSQL AND MSBI DEVELOPERB....\n",
       "Name: Text, Length: 76, dtype: object"
      ]
     },
     "execution_count": 17,
     "metadata": {},
     "output_type": "execute_result"
    }
   ],
   "source": [
    "df1.Text.drop_duplicates()"
   ]
  },
  {
   "cell_type": "code",
   "execution_count": 18,
   "id": "38d37b9f",
   "metadata": {},
   "outputs": [
    {
     "data": {
      "text/html": [
       "<div>\n",
       "<style scoped>\n",
       "    .dataframe tbody tr th:only-of-type {\n",
       "        vertical-align: middle;\n",
       "    }\n",
       "\n",
       "    .dataframe tbody tr th {\n",
       "        vertical-align: top;\n",
       "    }\n",
       "\n",
       "    .dataframe thead th {\n",
       "        text-align: right;\n",
       "    }\n",
       "</style>\n",
       "<table border=\"1\" class=\"dataframe\">\n",
       "  <thead>\n",
       "    <tr style=\"text-align: right;\">\n",
       "      <th></th>\n",
       "      <th>0</th>\n",
       "      <th>new_column</th>\n",
       "      <th>Text</th>\n",
       "    </tr>\n",
       "  </thead>\n",
       "  <tbody>\n",
       "    <tr>\n",
       "      <th>0</th>\n",
       "      <td>b'ANIL KUMAR MADDUKURI  \\t\\t\\n\\nSQL &amp; MSBI Dev...</td>\n",
       "      <td>b'ANIL KUMAR MADDUKURI  \\t\\t\\n\\nSQL &amp; MSBI Dev...</td>\n",
       "      <td>ANIL KUMAR MADDUKURI  SQL &amp; MSBI Developer   S...</td>\n",
       "    </tr>\n",
       "    <tr>\n",
       "      <th>1</th>\n",
       "      <td>b'Aradhana Tripathi\\n\\n\\n\\nCurrent Location: G...</td>\n",
       "      <td>b'Aradhana Tripathi\\n\\n\\n\\nCurrent Location: G...</td>\n",
       "      <td>Aradhana TripathiCurrent Location: Gachibowli,...</td>\n",
       "    </tr>\n",
       "    <tr>\n",
       "      <th>2</th>\n",
       "      <td>b\"BUDDHA VAMSI                                ...</td>\n",
       "      <td>b\"BUDDHA VAMSI                                ...</td>\n",
       "      <td>BUDDHA VAMSI                                  ...</td>\n",
       "    </tr>\n",
       "    <tr>\n",
       "      <th>3</th>\n",
       "      <td>b'Chinna Subbarayudu M\\n\\nDOB: 06th March 1994...</td>\n",
       "      <td>b'Chinna Subbarayudu M\\n\\nDOB: 06th March 1994...</td>\n",
       "      <td>Chinna Subbarayudu MDOB: 06th March 1994Nation...</td>\n",
       "    </tr>\n",
       "    <tr>\n",
       "      <th>4</th>\n",
       "      <td>b'Name         : Gopi Krishna Reddy\\n\\n\\t\\t   ...</td>\n",
       "      <td>b'Name         : Gopi Krishna Reddy\\n\\n\\t\\t   ...</td>\n",
       "      <td>Name         : Gopi Krishna Reddy             ...</td>\n",
       "    </tr>\n",
       "    <tr>\n",
       "      <th>...</th>\n",
       "      <td>...</td>\n",
       "      <td>...</td>\n",
       "      <td>...</td>\n",
       "    </tr>\n",
       "    <tr>\n",
       "      <th>73</th>\n",
       "      <td>b\"C O N T A C T :\\n\\n\\n\\nAddress: Manyata Tech...</td>\n",
       "      <td>b\"C O N T A C T :\\n\\n\\n\\nAddress: Manyata Tech...</td>\n",
       "      <td>C O N T A C T :Address: Manyata Tech Park,Naga...</td>\n",
       "    </tr>\n",
       "    <tr>\n",
       "      <th>74</th>\n",
       "      <td>b'Srikanth (WORKDAY hCM Consultant)\\t         ...</td>\n",
       "      <td>b'Srikanth (WORKDAY hCM Consultant)\\t         ...</td>\n",
       "      <td>Srikanth (WORKDAY hCM Consultant)             ...</td>\n",
       "    </tr>\n",
       "    <tr>\n",
       "      <th>75</th>\n",
       "      <td>b'WORKDAY | HCM | FCM\\n\\nName \\t\\t: Kumar S.S\\...</td>\n",
       "      <td>b'WORKDAY | HCM | FCM\\n\\nName \\t\\t: Kumar S.S\\...</td>\n",
       "      <td>WORKDAY  HCM  FCMName : Kumar S.SRole : Workda...</td>\n",
       "    </tr>\n",
       "    <tr>\n",
       "      <th>76</th>\n",
       "      <td>b'Vinay kumar .v\\nWorkday Functional Consultan...</td>\n",
       "      <td>b'Vinay kumar .v\\nWorkday Functional Consultan...</td>\n",
       "      <td>Vinay kumar .vWorkday Functional ConsultantEXP...</td>\n",
       "    </tr>\n",
       "    <tr>\n",
       "      <th>77</th>\n",
       "      <td>b'SQL AND MSBI DEVELOPER\\n\\nSQL AND MSBI DEVEL...</td>\n",
       "      <td>b'SQL AND MSBI DEVELOPER\\n\\nSQL AND MSBI DEVEL...</td>\n",
       "      <td>SQL AND MSBI DEVELOPERSQL AND MSBI DEVELOPERB....</td>\n",
       "    </tr>\n",
       "  </tbody>\n",
       "</table>\n",
       "<p>78 rows × 3 columns</p>\n",
       "</div>"
      ],
      "text/plain": [
       "                                                    0  \\\n",
       "0   b'ANIL KUMAR MADDUKURI  \\t\\t\\n\\nSQL & MSBI Dev...   \n",
       "1   b'Aradhana Tripathi\\n\\n\\n\\nCurrent Location: G...   \n",
       "2   b\"BUDDHA VAMSI                                ...   \n",
       "3   b'Chinna Subbarayudu M\\n\\nDOB: 06th March 1994...   \n",
       "4   b'Name         : Gopi Krishna Reddy\\n\\n\\t\\t   ...   \n",
       "..                                                ...   \n",
       "73  b\"C O N T A C T :\\n\\n\\n\\nAddress: Manyata Tech...   \n",
       "74  b'Srikanth (WORKDAY hCM Consultant)\\t         ...   \n",
       "75  b'WORKDAY | HCM | FCM\\n\\nName \\t\\t: Kumar S.S\\...   \n",
       "76  b'Vinay kumar .v\\nWorkday Functional Consultan...   \n",
       "77  b'SQL AND MSBI DEVELOPER\\n\\nSQL AND MSBI DEVEL...   \n",
       "\n",
       "                                           new_column  \\\n",
       "0   b'ANIL KUMAR MADDUKURI  \\t\\t\\n\\nSQL & MSBI Dev...   \n",
       "1   b'Aradhana Tripathi\\n\\n\\n\\nCurrent Location: G...   \n",
       "2   b\"BUDDHA VAMSI                                ...   \n",
       "3   b'Chinna Subbarayudu M\\n\\nDOB: 06th March 1994...   \n",
       "4   b'Name         : Gopi Krishna Reddy\\n\\n\\t\\t   ...   \n",
       "..                                                ...   \n",
       "73  b\"C O N T A C T :\\n\\n\\n\\nAddress: Manyata Tech...   \n",
       "74  b'Srikanth (WORKDAY hCM Consultant)\\t         ...   \n",
       "75  b'WORKDAY | HCM | FCM\\n\\nName \\t\\t: Kumar S.S\\...   \n",
       "76  b'Vinay kumar .v\\nWorkday Functional Consultan...   \n",
       "77  b'SQL AND MSBI DEVELOPER\\n\\nSQL AND MSBI DEVEL...   \n",
       "\n",
       "                                                 Text  \n",
       "0   ANIL KUMAR MADDUKURI  SQL & MSBI Developer   S...  \n",
       "1   Aradhana TripathiCurrent Location: Gachibowli,...  \n",
       "2   BUDDHA VAMSI                                  ...  \n",
       "3   Chinna Subbarayudu MDOB: 06th March 1994Nation...  \n",
       "4   Name         : Gopi Krishna Reddy             ...  \n",
       "..                                                ...  \n",
       "73  C O N T A C T :Address: Manyata Tech Park,Naga...  \n",
       "74  Srikanth (WORKDAY hCM Consultant)             ...  \n",
       "75  WORKDAY  HCM  FCMName : Kumar S.SRole : Workda...  \n",
       "76  Vinay kumar .vWorkday Functional ConsultantEXP...  \n",
       "77  SQL AND MSBI DEVELOPERSQL AND MSBI DEVELOPERB....  \n",
       "\n",
       "[78 rows x 3 columns]"
      ]
     },
     "execution_count": 18,
     "metadata": {},
     "output_type": "execute_result"
    }
   ],
   "source": [
    "df1"
   ]
  },
  {
   "cell_type": "code",
   "execution_count": 19,
   "id": "274be060",
   "metadata": {},
   "outputs": [],
   "source": [
    "# UTF - 8 #ÐÏà¡±á > þÿ  ...\n",
    "# latin = ÃÃÃ Â¡Â±Ã¡ > Ã¾Ã¿\n",
    "cleaned_df = df1.Text.apply(clean)"
   ]
  },
  {
   "cell_type": "code",
   "execution_count": 20,
   "id": "8afafd4b",
   "metadata": {},
   "outputs": [],
   "source": [
    "data = pd.concat([df1,cleaned_df],axis = 1)"
   ]
  },
  {
   "cell_type": "code",
   "execution_count": 21,
   "id": "55c11400",
   "metadata": {},
   "outputs": [],
   "source": [
    "from nltk.corpus import stopwords\n",
    "stop = stopwords.words('english')\n",
    "data['cleaned'] = cleaned_df.apply(lambda x: \" \".join(x for x in x.split() if x not in stop))"
   ]
  },
  {
   "cell_type": "code",
   "execution_count": 22,
   "id": "b6a29132",
   "metadata": {},
   "outputs": [
    {
     "data": {
      "text/html": [
       "<div>\n",
       "<style scoped>\n",
       "    .dataframe tbody tr th:only-of-type {\n",
       "        vertical-align: middle;\n",
       "    }\n",
       "\n",
       "    .dataframe tbody tr th {\n",
       "        vertical-align: top;\n",
       "    }\n",
       "\n",
       "    .dataframe thead th {\n",
       "        text-align: right;\n",
       "    }\n",
       "</style>\n",
       "<table border=\"1\" class=\"dataframe\">\n",
       "  <thead>\n",
       "    <tr style=\"text-align: right;\">\n",
       "      <th></th>\n",
       "      <th>0</th>\n",
       "      <th>new_column</th>\n",
       "      <th>Text</th>\n",
       "      <th>Text</th>\n",
       "      <th>cleaned</th>\n",
       "    </tr>\n",
       "  </thead>\n",
       "  <tbody>\n",
       "    <tr>\n",
       "      <th>0</th>\n",
       "      <td>b'ANIL KUMAR MADDUKURI  \\t\\t\\n\\nSQL &amp; MSBI Dev...</td>\n",
       "      <td>b'ANIL KUMAR MADDUKURI  \\t\\t\\n\\nSQL &amp; MSBI Dev...</td>\n",
       "      <td>ANIL KUMAR MADDUKURI  SQL &amp; MSBI Developer   S...</td>\n",
       "      <td>anil kumar maddukuri  sql  msbi developer    y...</td>\n",
       "      <td>anil kumar maddukuri sql msbi developer years ...</td>\n",
       "    </tr>\n",
       "    <tr>\n",
       "      <th>1</th>\n",
       "      <td>b'Aradhana Tripathi\\n\\n\\n\\nCurrent Location: G...</td>\n",
       "      <td>b'Aradhana Tripathi\\n\\n\\n\\nCurrent Location: G...</td>\n",
       "      <td>Aradhana TripathiCurrent Location: Gachibowli,...</td>\n",
       "      <td>aradhana tripathicurrent location gachibowli h...</td>\n",
       "      <td>aradhana tripathicurrent location gachibowli h...</td>\n",
       "    </tr>\n",
       "    <tr>\n",
       "      <th>2</th>\n",
       "      <td>b\"BUDDHA VAMSI                                ...</td>\n",
       "      <td>b\"BUDDHA VAMSI                                ...</td>\n",
       "      <td>BUDDHA VAMSI                                  ...</td>\n",
       "      <td>buddha vamsi                                  ...</td>\n",
       "      <td>buddha vamsi career objectivehave years experi...</td>\n",
       "    </tr>\n",
       "    <tr>\n",
       "      <th>3</th>\n",
       "      <td>b'Chinna Subbarayudu M\\n\\nDOB: 06th March 1994...</td>\n",
       "      <td>b'Chinna Subbarayudu M\\n\\nDOB: 06th March 1994...</td>\n",
       "      <td>Chinna Subbarayudu MDOB: 06th March 1994Nation...</td>\n",
       "      <td>chinna subbarayudu mdob  march  indianprofile ...</td>\n",
       "      <td>chinna subbarayudu mdob march indianprofile su...</td>\n",
       "    </tr>\n",
       "    <tr>\n",
       "      <th>4</th>\n",
       "      <td>b'Name         : Gopi Krishna Reddy\\n\\n\\t\\t   ...</td>\n",
       "      <td>b'Name         : Gopi Krishna Reddy\\n\\n\\t\\t   ...</td>\n",
       "      <td>Name         : Gopi Krishna Reddy             ...</td>\n",
       "      <td>name          gopi krishna reddy              ...</td>\n",
       "      <td>name gopi krishna reddy professional summerywo...</td>\n",
       "    </tr>\n",
       "    <tr>\n",
       "      <th>...</th>\n",
       "      <td>...</td>\n",
       "      <td>...</td>\n",
       "      <td>...</td>\n",
       "      <td>...</td>\n",
       "      <td>...</td>\n",
       "    </tr>\n",
       "    <tr>\n",
       "      <th>73</th>\n",
       "      <td>b\"C O N T A C T :\\n\\n\\n\\nAddress: Manyata Tech...</td>\n",
       "      <td>b\"C O N T A C T :\\n\\n\\n\\nAddress: Manyata Tech...</td>\n",
       "      <td>C O N T A C T :Address: Manyata Tech Park,Naga...</td>\n",
       "      <td>c o n t a c t address manyata tech parknagavar...</td>\n",
       "      <td>c n c address manyata tech parknagavara bangal...</td>\n",
       "    </tr>\n",
       "    <tr>\n",
       "      <th>74</th>\n",
       "      <td>b'Srikanth (WORKDAY hCM Consultant)\\t         ...</td>\n",
       "      <td>b'Srikanth (WORKDAY hCM Consultant)\\t         ...</td>\n",
       "      <td>Srikanth (WORKDAY hCM Consultant)             ...</td>\n",
       "      <td>srikanth workday hcm consultant               ...</td>\n",
       "      <td>srikanth workday hcm consultant seeking suitab...</td>\n",
       "    </tr>\n",
       "    <tr>\n",
       "      <th>75</th>\n",
       "      <td>b'WORKDAY | HCM | FCM\\n\\nName \\t\\t: Kumar S.S\\...</td>\n",
       "      <td>b'WORKDAY | HCM | FCM\\n\\nName \\t\\t: Kumar S.S\\...</td>\n",
       "      <td>WORKDAY  HCM  FCMName : Kumar S.SRole : Workda...</td>\n",
       "      <td>workday  hcm  fcmname  kumar ssrole  workday c...</td>\n",
       "      <td>workday hcm fcmname kumar ssrole workday consu...</td>\n",
       "    </tr>\n",
       "    <tr>\n",
       "      <th>76</th>\n",
       "      <td>b'Vinay kumar .v\\nWorkday Functional Consultan...</td>\n",
       "      <td>b'Vinay kumar .v\\nWorkday Functional Consultan...</td>\n",
       "      <td>Vinay kumar .vWorkday Functional ConsultantEXP...</td>\n",
       "      <td>vinay kumar vworkday functional consultantexpe...</td>\n",
       "      <td>vinay kumar vworkday functional consultantexpe...</td>\n",
       "    </tr>\n",
       "    <tr>\n",
       "      <th>77</th>\n",
       "      <td>b'SQL AND MSBI DEVELOPER\\n\\nSQL AND MSBI DEVEL...</td>\n",
       "      <td>b'SQL AND MSBI DEVELOPER\\n\\nSQL AND MSBI DEVEL...</td>\n",
       "      <td>SQL AND MSBI DEVELOPERSQL AND MSBI DEVELOPERB....</td>\n",
       "      <td>sql and msbi developersql and msbi developerb ...</td>\n",
       "      <td>sql msbi developersql msbi developerb vinod ku...</td>\n",
       "    </tr>\n",
       "  </tbody>\n",
       "</table>\n",
       "<p>78 rows × 5 columns</p>\n",
       "</div>"
      ],
      "text/plain": [
       "                                                    0  \\\n",
       "0   b'ANIL KUMAR MADDUKURI  \\t\\t\\n\\nSQL & MSBI Dev...   \n",
       "1   b'Aradhana Tripathi\\n\\n\\n\\nCurrent Location: G...   \n",
       "2   b\"BUDDHA VAMSI                                ...   \n",
       "3   b'Chinna Subbarayudu M\\n\\nDOB: 06th March 1994...   \n",
       "4   b'Name         : Gopi Krishna Reddy\\n\\n\\t\\t   ...   \n",
       "..                                                ...   \n",
       "73  b\"C O N T A C T :\\n\\n\\n\\nAddress: Manyata Tech...   \n",
       "74  b'Srikanth (WORKDAY hCM Consultant)\\t         ...   \n",
       "75  b'WORKDAY | HCM | FCM\\n\\nName \\t\\t: Kumar S.S\\...   \n",
       "76  b'Vinay kumar .v\\nWorkday Functional Consultan...   \n",
       "77  b'SQL AND MSBI DEVELOPER\\n\\nSQL AND MSBI DEVEL...   \n",
       "\n",
       "                                           new_column  \\\n",
       "0   b'ANIL KUMAR MADDUKURI  \\t\\t\\n\\nSQL & MSBI Dev...   \n",
       "1   b'Aradhana Tripathi\\n\\n\\n\\nCurrent Location: G...   \n",
       "2   b\"BUDDHA VAMSI                                ...   \n",
       "3   b'Chinna Subbarayudu M\\n\\nDOB: 06th March 1994...   \n",
       "4   b'Name         : Gopi Krishna Reddy\\n\\n\\t\\t   ...   \n",
       "..                                                ...   \n",
       "73  b\"C O N T A C T :\\n\\n\\n\\nAddress: Manyata Tech...   \n",
       "74  b'Srikanth (WORKDAY hCM Consultant)\\t         ...   \n",
       "75  b'WORKDAY | HCM | FCM\\n\\nName \\t\\t: Kumar S.S\\...   \n",
       "76  b'Vinay kumar .v\\nWorkday Functional Consultan...   \n",
       "77  b'SQL AND MSBI DEVELOPER\\n\\nSQL AND MSBI DEVEL...   \n",
       "\n",
       "                                                 Text  \\\n",
       "0   ANIL KUMAR MADDUKURI  SQL & MSBI Developer   S...   \n",
       "1   Aradhana TripathiCurrent Location: Gachibowli,...   \n",
       "2   BUDDHA VAMSI                                  ...   \n",
       "3   Chinna Subbarayudu MDOB: 06th March 1994Nation...   \n",
       "4   Name         : Gopi Krishna Reddy             ...   \n",
       "..                                                ...   \n",
       "73  C O N T A C T :Address: Manyata Tech Park,Naga...   \n",
       "74  Srikanth (WORKDAY hCM Consultant)             ...   \n",
       "75  WORKDAY  HCM  FCMName : Kumar S.SRole : Workda...   \n",
       "76  Vinay kumar .vWorkday Functional ConsultantEXP...   \n",
       "77  SQL AND MSBI DEVELOPERSQL AND MSBI DEVELOPERB....   \n",
       "\n",
       "                                                 Text  \\\n",
       "0   anil kumar maddukuri  sql  msbi developer    y...   \n",
       "1   aradhana tripathicurrent location gachibowli h...   \n",
       "2   buddha vamsi                                  ...   \n",
       "3   chinna subbarayudu mdob  march  indianprofile ...   \n",
       "4   name          gopi krishna reddy              ...   \n",
       "..                                                ...   \n",
       "73  c o n t a c t address manyata tech parknagavar...   \n",
       "74  srikanth workday hcm consultant               ...   \n",
       "75  workday  hcm  fcmname  kumar ssrole  workday c...   \n",
       "76  vinay kumar vworkday functional consultantexpe...   \n",
       "77  sql and msbi developersql and msbi developerb ...   \n",
       "\n",
       "                                              cleaned  \n",
       "0   anil kumar maddukuri sql msbi developer years ...  \n",
       "1   aradhana tripathicurrent location gachibowli h...  \n",
       "2   buddha vamsi career objectivehave years experi...  \n",
       "3   chinna subbarayudu mdob march indianprofile su...  \n",
       "4   name gopi krishna reddy professional summerywo...  \n",
       "..                                                ...  \n",
       "73  c n c address manyata tech parknagavara bangal...  \n",
       "74  srikanth workday hcm consultant seeking suitab...  \n",
       "75  workday hcm fcmname kumar ssrole workday consu...  \n",
       "76  vinay kumar vworkday functional consultantexpe...  \n",
       "77  sql msbi developersql msbi developerb vinod ku...  \n",
       "\n",
       "[78 rows x 5 columns]"
      ]
     },
     "execution_count": 22,
     "metadata": {},
     "output_type": "execute_result"
    }
   ],
   "source": [
    "data"
   ]
  },
  {
   "cell_type": "code",
   "execution_count": 23,
   "id": "2b442fea",
   "metadata": {},
   "outputs": [
    {
     "data": {
      "text/plain": [
       "and            2868\n",
       "the            1400\n",
       "in             1301\n",
       "to             1115\n",
       "of             1052\n",
       "for             682\n",
       "on              647\n",
       "with            431\n",
       "as              408\n",
       "using           385\n",
       "application     370\n",
       "workday         357\n",
       "peoplesoft      356\n",
       "a               327\n",
       "from            320\n",
       "experience      309\n",
       "server          308\n",
       "data            307\n",
       "reports         283\n",
       "business        265\n",
       "dtype: int64"
      ]
     },
     "execution_count": 23,
     "metadata": {},
     "output_type": "execute_result"
    }
   ],
   "source": [
    "freq = pd.Series(' '.join(cleaned_df).split()).value_counts()[:20] # for top 20\n",
    "freq"
   ]
  },
  {
   "cell_type": "code",
   "execution_count": 24,
   "id": "abb8a27a",
   "metadata": {},
   "outputs": [],
   "source": [
    "df = data['cleaned'].copy()\n",
    "df = pd.DataFrame(df)"
   ]
  },
  {
   "cell_type": "code",
   "execution_count": 25,
   "id": "2454d480",
   "metadata": {},
   "outputs": [],
   "source": [
    "df['token'] = ''\n",
    "j=0\n",
    "for i in cleaned_df:\n",
    "    df.token[j]=i.split()\n",
    "    j = j+1\n",
    "f = cleaned_df[0].split()"
   ]
  },
  {
   "cell_type": "code",
   "execution_count": 26,
   "id": "247fb843",
   "metadata": {},
   "outputs": [],
   "source": [
    "import pprint\n",
    "from spacy.matcher import Matcher\n",
    "import multiprocessing as mp"
   ]
  },
  {
   "cell_type": "code",
   "execution_count": 27,
   "id": "984da5f2",
   "metadata": {},
   "outputs": [
    {
     "data": {
      "text/html": [
       "<div>\n",
       "<style scoped>\n",
       "    .dataframe tbody tr th:only-of-type {\n",
       "        vertical-align: middle;\n",
       "    }\n",
       "\n",
       "    .dataframe tbody tr th {\n",
       "        vertical-align: top;\n",
       "    }\n",
       "\n",
       "    .dataframe thead th {\n",
       "        text-align: right;\n",
       "    }\n",
       "</style>\n",
       "<table border=\"1\" class=\"dataframe\">\n",
       "  <thead>\n",
       "    <tr style=\"text-align: right;\">\n",
       "      <th></th>\n",
       "      <th>cleaned</th>\n",
       "      <th>token</th>\n",
       "    </tr>\n",
       "  </thead>\n",
       "  <tbody>\n",
       "    <tr>\n",
       "      <th>0</th>\n",
       "      <td>anil kumar maddukuri sql msbi developer years ...</td>\n",
       "      <td>[anil, kumar, maddukuri, sql, msbi, developer,...</td>\n",
       "    </tr>\n",
       "    <tr>\n",
       "      <th>1</th>\n",
       "      <td>aradhana tripathicurrent location gachibowli h...</td>\n",
       "      <td>[aradhana, tripathicurrent, location, gachibow...</td>\n",
       "    </tr>\n",
       "    <tr>\n",
       "      <th>2</th>\n",
       "      <td>buddha vamsi career objectivehave years experi...</td>\n",
       "      <td>[buddha, vamsi, career, objectivehave, years, ...</td>\n",
       "    </tr>\n",
       "    <tr>\n",
       "      <th>3</th>\n",
       "      <td>chinna subbarayudu mdob march indianprofile su...</td>\n",
       "      <td>[chinna, subbarayudu, mdob, march, indianprofi...</td>\n",
       "    </tr>\n",
       "    <tr>\n",
       "      <th>4</th>\n",
       "      <td>name gopi krishna reddy professional summerywo...</td>\n",
       "      <td>[name, gopi, krishna, reddy, professional, sum...</td>\n",
       "    </tr>\n",
       "    <tr>\n",
       "      <th>...</th>\n",
       "      <td>...</td>\n",
       "      <td>...</td>\n",
       "    </tr>\n",
       "    <tr>\n",
       "      <th>73</th>\n",
       "      <td>c n c address manyata tech parknagavara bangal...</td>\n",
       "      <td>[c, o, n, t, a, c, t, address, manyata, tech, ...</td>\n",
       "    </tr>\n",
       "    <tr>\n",
       "      <th>74</th>\n",
       "      <td>srikanth workday hcm consultant seeking suitab...</td>\n",
       "      <td>[srikanth, workday, hcm, consultant, seeking, ...</td>\n",
       "    </tr>\n",
       "    <tr>\n",
       "      <th>75</th>\n",
       "      <td>workday hcm fcmname kumar ssrole workday consu...</td>\n",
       "      <td>[workday, hcm, fcmname, kumar, ssrole, workday...</td>\n",
       "    </tr>\n",
       "    <tr>\n",
       "      <th>76</th>\n",
       "      <td>vinay kumar vworkday functional consultantexpe...</td>\n",
       "      <td>[vinay, kumar, vworkday, functional, consultan...</td>\n",
       "    </tr>\n",
       "    <tr>\n",
       "      <th>77</th>\n",
       "      <td>sql msbi developersql msbi developerb vinod ku...</td>\n",
       "      <td>[sql, and, msbi, developersql, and, msbi, deve...</td>\n",
       "    </tr>\n",
       "  </tbody>\n",
       "</table>\n",
       "<p>78 rows × 2 columns</p>\n",
       "</div>"
      ],
      "text/plain": [
       "                                              cleaned  \\\n",
       "0   anil kumar maddukuri sql msbi developer years ...   \n",
       "1   aradhana tripathicurrent location gachibowli h...   \n",
       "2   buddha vamsi career objectivehave years experi...   \n",
       "3   chinna subbarayudu mdob march indianprofile su...   \n",
       "4   name gopi krishna reddy professional summerywo...   \n",
       "..                                                ...   \n",
       "73  c n c address manyata tech parknagavara bangal...   \n",
       "74  srikanth workday hcm consultant seeking suitab...   \n",
       "75  workday hcm fcmname kumar ssrole workday consu...   \n",
       "76  vinay kumar vworkday functional consultantexpe...   \n",
       "77  sql msbi developersql msbi developerb vinod ku...   \n",
       "\n",
       "                                                token  \n",
       "0   [anil, kumar, maddukuri, sql, msbi, developer,...  \n",
       "1   [aradhana, tripathicurrent, location, gachibow...  \n",
       "2   [buddha, vamsi, career, objectivehave, years, ...  \n",
       "3   [chinna, subbarayudu, mdob, march, indianprofi...  \n",
       "4   [name, gopi, krishna, reddy, professional, sum...  \n",
       "..                                                ...  \n",
       "73  [c, o, n, t, a, c, t, address, manyata, tech, ...  \n",
       "74  [srikanth, workday, hcm, consultant, seeking, ...  \n",
       "75  [workday, hcm, fcmname, kumar, ssrole, workday...  \n",
       "76  [vinay, kumar, vworkday, functional, consultan...  \n",
       "77  [sql, and, msbi, developersql, and, msbi, deve...  \n",
       "\n",
       "[78 rows x 2 columns]"
      ]
     },
     "execution_count": 27,
     "metadata": {},
     "output_type": "execute_result"
    }
   ],
   "source": [
    "df\n"
   ]
  },
  {
   "cell_type": "code",
   "execution_count": null,
   "id": "0f688a1c",
   "metadata": {},
   "outputs": [],
   "source": []
  },
  {
   "cell_type": "code",
   "execution_count": 28,
   "id": "45bcb406",
   "metadata": {},
   "outputs": [],
   "source": [
    "def extract_skills(nlp_text):\n",
    "    '''\n",
    "    Helper function to extract skills from spacy nlp text\n",
    "    :param nlp_text: object of `spacy.tokens.doc.Doc`\n",
    "    :param noun_chunks: noun chunks extracted from nlp text\n",
    "    :return: list of skills extracted\n",
    "    '''\n",
    "    tokens = nlp_text\n",
    "    data = pd.read_csv('E:\\DATA SETS\\Resumes\\Skill.csv')\n",
    "    skills = list(data.columns.values)\n",
    "    skillset = []\n",
    "    # check for one-grams\n",
    "    for token in tokens:\n",
    "        if token.lower() in skills:\n",
    "            skillset.append(token)\n",
    "    return np.unique(skillset)\n",
    "    # check for bi-grams and tri-grams\n",
    "    "
   ]
  },
  {
   "cell_type": "code",
   "execution_count": 29,
   "id": "db80697c",
   "metadata": {},
   "outputs": [],
   "source": [
    "df['skills'] = ''\n",
    "j = 0\n",
    "for i in df.token:\n",
    "    df['skills'][j] = extract_skills(df.token[j])\n",
    "    j = j+1"
   ]
  },
  {
   "cell_type": "code",
   "execution_count": 30,
   "id": "77d5dcfd",
   "metadata": {},
   "outputs": [
    {
     "data": {
      "text/html": [
       "<div>\n",
       "<style scoped>\n",
       "    .dataframe tbody tr th:only-of-type {\n",
       "        vertical-align: middle;\n",
       "    }\n",
       "\n",
       "    .dataframe tbody tr th {\n",
       "        vertical-align: top;\n",
       "    }\n",
       "\n",
       "    .dataframe thead th {\n",
       "        text-align: right;\n",
       "    }\n",
       "</style>\n",
       "<table border=\"1\" class=\"dataframe\">\n",
       "  <thead>\n",
       "    <tr style=\"text-align: right;\">\n",
       "      <th></th>\n",
       "      <th>cleaned</th>\n",
       "      <th>token</th>\n",
       "      <th>skills</th>\n",
       "    </tr>\n",
       "  </thead>\n",
       "  <tbody>\n",
       "    <tr>\n",
       "      <th>0</th>\n",
       "      <td>anil kumar maddukuri sql msbi developer years ...</td>\n",
       "      <td>[anil, kumar, maddukuri, sql, msbi, developer,...</td>\n",
       "      <td>[database, debugging, design, engineering, etl...</td>\n",
       "    </tr>\n",
       "    <tr>\n",
       "      <th>1</th>\n",
       "      <td>aradhana tripathicurrent location gachibowli h...</td>\n",
       "      <td>[aradhana, tripathicurrent, location, gachibow...</td>\n",
       "      <td>[acquisition, analysis, analytical, analytics,...</td>\n",
       "    </tr>\n",
       "    <tr>\n",
       "      <th>2</th>\n",
       "      <td>buddha vamsi career objectivehave years experi...</td>\n",
       "      <td>[buddha, vamsi, career, objectivehave, years, ...</td>\n",
       "      <td>[architecture, cloud, database, engineering, e...</td>\n",
       "    </tr>\n",
       "    <tr>\n",
       "      <th>3</th>\n",
       "      <td>chinna subbarayudu mdob march indianprofile su...</td>\n",
       "      <td>[chinna, subbarayudu, mdob, march, indianprofi...</td>\n",
       "      <td>[analysis, analytics, database, design, erp, e...</td>\n",
       "    </tr>\n",
       "    <tr>\n",
       "      <th>4</th>\n",
       "      <td>name gopi krishna reddy professional summerywo...</td>\n",
       "      <td>[name, gopi, krishna, reddy, professional, sum...</td>\n",
       "      <td>[analysis, analytics, cloud, communication, de...</td>\n",
       "    </tr>\n",
       "    <tr>\n",
       "      <th>...</th>\n",
       "      <td>...</td>\n",
       "      <td>...</td>\n",
       "      <td>...</td>\n",
       "    </tr>\n",
       "    <tr>\n",
       "      <th>73</th>\n",
       "      <td>c n c address manyata tech parknagavara bangal...</td>\n",
       "      <td>[c, o, n, t, a, c, t, address, manyata, tech, ...</td>\n",
       "      <td>[agile, c, certification, electronics, expense...</td>\n",
       "    </tr>\n",
       "    <tr>\n",
       "      <th>74</th>\n",
       "      <td>srikanth workday hcm consultant seeking suitab...</td>\n",
       "      <td>[srikanth, workday, hcm, consultant, seeking, ...</td>\n",
       "      <td>[access, analytical, communication, erp, hris,...</td>\n",
       "    </tr>\n",
       "    <tr>\n",
       "      <th>75</th>\n",
       "      <td>workday hcm fcmname kumar ssrole workday consu...</td>\n",
       "      <td>[workday, hcm, fcmname, kumar, ssrole, workday...</td>\n",
       "      <td>[access, audit, billing, communication, design...</td>\n",
       "    </tr>\n",
       "    <tr>\n",
       "      <th>76</th>\n",
       "      <td>vinay kumar vworkday functional consultantexpe...</td>\n",
       "      <td>[vinay, kumar, vworkday, functional, consultan...</td>\n",
       "      <td>[administration, communication, design, engine...</td>\n",
       "    </tr>\n",
       "    <tr>\n",
       "      <th>77</th>\n",
       "      <td>sql msbi developersql msbi developerb vinod ku...</td>\n",
       "      <td>[sql, and, msbi, developersql, and, msbi, deve...</td>\n",
       "      <td>[analytical, analytics, certification, convers...</td>\n",
       "    </tr>\n",
       "  </tbody>\n",
       "</table>\n",
       "<p>78 rows × 3 columns</p>\n",
       "</div>"
      ],
      "text/plain": [
       "                                              cleaned  \\\n",
       "0   anil kumar maddukuri sql msbi developer years ...   \n",
       "1   aradhana tripathicurrent location gachibowli h...   \n",
       "2   buddha vamsi career objectivehave years experi...   \n",
       "3   chinna subbarayudu mdob march indianprofile su...   \n",
       "4   name gopi krishna reddy professional summerywo...   \n",
       "..                                                ...   \n",
       "73  c n c address manyata tech parknagavara bangal...   \n",
       "74  srikanth workday hcm consultant seeking suitab...   \n",
       "75  workday hcm fcmname kumar ssrole workday consu...   \n",
       "76  vinay kumar vworkday functional consultantexpe...   \n",
       "77  sql msbi developersql msbi developerb vinod ku...   \n",
       "\n",
       "                                                token  \\\n",
       "0   [anil, kumar, maddukuri, sql, msbi, developer,...   \n",
       "1   [aradhana, tripathicurrent, location, gachibow...   \n",
       "2   [buddha, vamsi, career, objectivehave, years, ...   \n",
       "3   [chinna, subbarayudu, mdob, march, indianprofi...   \n",
       "4   [name, gopi, krishna, reddy, professional, sum...   \n",
       "..                                                ...   \n",
       "73  [c, o, n, t, a, c, t, address, manyata, tech, ...   \n",
       "74  [srikanth, workday, hcm, consultant, seeking, ...   \n",
       "75  [workday, hcm, fcmname, kumar, ssrole, workday...   \n",
       "76  [vinay, kumar, vworkday, functional, consultan...   \n",
       "77  [sql, and, msbi, developersql, and, msbi, deve...   \n",
       "\n",
       "                                               skills  \n",
       "0   [database, debugging, design, engineering, etl...  \n",
       "1   [acquisition, analysis, analytical, analytics,...  \n",
       "2   [architecture, cloud, database, engineering, e...  \n",
       "3   [analysis, analytics, database, design, erp, e...  \n",
       "4   [analysis, analytics, cloud, communication, de...  \n",
       "..                                                ...  \n",
       "73  [agile, c, certification, electronics, expense...  \n",
       "74  [access, analytical, communication, erp, hris,...  \n",
       "75  [access, audit, billing, communication, design...  \n",
       "76  [administration, communication, design, engine...  \n",
       "77  [analytical, analytics, certification, convers...  \n",
       "\n",
       "[78 rows x 3 columns]"
      ]
     },
     "execution_count": 30,
     "metadata": {},
     "output_type": "execute_result"
    }
   ],
   "source": [
    "df"
   ]
  },
  {
   "cell_type": "code",
   "execution_count": 31,
   "id": "a09142e9",
   "metadata": {},
   "outputs": [],
   "source": [
    "def extract_post(nlp_text):\n",
    "    '''\n",
    "    Helper function to extract skills from spacy nlp text\n",
    "    :param nlp_text: object of `spacy.tokens.doc.Doc`\n",
    "    :param noun_chunks: noun chunks extracted from nlp text\n",
    "    :return: list of skills extracted\n",
    "    '''\n",
    "    tokens = nlp_text\n",
    "    data = pd.read_csv('E:\\DATA SETS\\Resumes\\post.csv')\n",
    "    skills = list(data.columns.values)\n",
    "    skillset = []\n",
    "    # check for one-grams\n",
    "    for token in tokens:\n",
    "        if token.lower() in skills:\n",
    "            skillset.append(token)\n",
    "    return np.unique(skillset)\n",
    "    # check for bi-grams and tri-grams"
   ]
  },
  {
   "cell_type": "code",
   "execution_count": 32,
   "id": "fe7f7eac",
   "metadata": {},
   "outputs": [],
   "source": [
    "df['post'] = ''\n",
    "j = 0\n",
    "for i in df.token:\n",
    "    df['post'][j] = extract_post(df.token[j])\n",
    "    j = j+1"
   ]
  },
  {
   "cell_type": "code",
   "execution_count": 33,
   "id": "3037f316",
   "metadata": {},
   "outputs": [
    {
     "data": {
      "text/html": [
       "<div>\n",
       "<style scoped>\n",
       "    .dataframe tbody tr th:only-of-type {\n",
       "        vertical-align: middle;\n",
       "    }\n",
       "\n",
       "    .dataframe tbody tr th {\n",
       "        vertical-align: top;\n",
       "    }\n",
       "\n",
       "    .dataframe thead th {\n",
       "        text-align: right;\n",
       "    }\n",
       "</style>\n",
       "<table border=\"1\" class=\"dataframe\">\n",
       "  <thead>\n",
       "    <tr style=\"text-align: right;\">\n",
       "      <th></th>\n",
       "      <th>cleaned</th>\n",
       "      <th>token</th>\n",
       "      <th>skills</th>\n",
       "      <th>post</th>\n",
       "    </tr>\n",
       "  </thead>\n",
       "  <tbody>\n",
       "    <tr>\n",
       "      <th>0</th>\n",
       "      <td>anil kumar maddukuri sql msbi developer years ...</td>\n",
       "      <td>[anil, kumar, maddukuri, sql, msbi, developer,...</td>\n",
       "      <td>[database, debugging, design, engineering, etl...</td>\n",
       "      <td>[developer, integration, software, sql]</td>\n",
       "    </tr>\n",
       "    <tr>\n",
       "      <th>1</th>\n",
       "      <td>aradhana tripathicurrent location gachibowli h...</td>\n",
       "      <td>[aradhana, tripathicurrent, location, gachibow...</td>\n",
       "      <td>[acquisition, analysis, analytical, analytics,...</td>\n",
       "      <td>[consultant, developer, development, sql]</td>\n",
       "    </tr>\n",
       "    <tr>\n",
       "      <th>2</th>\n",
       "      <td>buddha vamsi career objectivehave years experi...</td>\n",
       "      <td>[buddha, vamsi, career, objectivehave, years, ...</td>\n",
       "      <td>[architecture, cloud, database, engineering, e...</td>\n",
       "      <td>[developer, development, integration, oracle, ...</td>\n",
       "    </tr>\n",
       "    <tr>\n",
       "      <th>3</th>\n",
       "      <td>chinna subbarayudu mdob march indianprofile su...</td>\n",
       "      <td>[chinna, subbarayudu, mdob, march, indianprofi...</td>\n",
       "      <td>[analysis, analytics, database, design, erp, e...</td>\n",
       "      <td>[consultant, developer, development, hcm, inte...</td>\n",
       "    </tr>\n",
       "    <tr>\n",
       "      <th>4</th>\n",
       "      <td>name gopi krishna reddy professional summerywo...</td>\n",
       "      <td>[name, gopi, krishna, reddy, professional, sum...</td>\n",
       "      <td>[analysis, analytics, cloud, communication, de...</td>\n",
       "      <td>[consultant, development, hcm, hr, integration...</td>\n",
       "    </tr>\n",
       "    <tr>\n",
       "      <th>...</th>\n",
       "      <td>...</td>\n",
       "      <td>...</td>\n",
       "      <td>...</td>\n",
       "      <td>...</td>\n",
       "    </tr>\n",
       "    <tr>\n",
       "      <th>73</th>\n",
       "      <td>c n c address manyata tech parknagavara bangal...</td>\n",
       "      <td>[c, o, n, t, a, c, t, address, manyata, tech, ...</td>\n",
       "      <td>[agile, c, certification, electronics, expense...</td>\n",
       "      <td>[development, peoplesoft, software, sql]</td>\n",
       "    </tr>\n",
       "    <tr>\n",
       "      <th>74</th>\n",
       "      <td>srikanth workday hcm consultant seeking suitab...</td>\n",
       "      <td>[srikanth, workday, hcm, consultant, seeking, ...</td>\n",
       "      <td>[access, analytical, communication, erp, hris,...</td>\n",
       "      <td>[consultant, development, hcm, integration, so...</td>\n",
       "    </tr>\n",
       "    <tr>\n",
       "      <th>75</th>\n",
       "      <td>workday hcm fcmname kumar ssrole workday consu...</td>\n",
       "      <td>[workday, hcm, fcmname, kumar, ssrole, workday...</td>\n",
       "      <td>[access, audit, billing, communication, design...</td>\n",
       "      <td>[consultant, development, hcm, integration, pe...</td>\n",
       "    </tr>\n",
       "    <tr>\n",
       "      <th>76</th>\n",
       "      <td>vinay kumar vworkday functional consultantexpe...</td>\n",
       "      <td>[vinay, kumar, vworkday, functional, consultan...</td>\n",
       "      <td>[administration, communication, design, engine...</td>\n",
       "      <td>[consultant, development, hcm, integration, pe...</td>\n",
       "    </tr>\n",
       "    <tr>\n",
       "      <th>77</th>\n",
       "      <td>sql msbi developersql msbi developerb vinod ku...</td>\n",
       "      <td>[sql, and, msbi, developersql, and, msbi, deve...</td>\n",
       "      <td>[analytical, analytics, certification, convers...</td>\n",
       "      <td>[developer, development, integration, software...</td>\n",
       "    </tr>\n",
       "  </tbody>\n",
       "</table>\n",
       "<p>78 rows × 4 columns</p>\n",
       "</div>"
      ],
      "text/plain": [
       "                                              cleaned  \\\n",
       "0   anil kumar maddukuri sql msbi developer years ...   \n",
       "1   aradhana tripathicurrent location gachibowli h...   \n",
       "2   buddha vamsi career objectivehave years experi...   \n",
       "3   chinna subbarayudu mdob march indianprofile su...   \n",
       "4   name gopi krishna reddy professional summerywo...   \n",
       "..                                                ...   \n",
       "73  c n c address manyata tech parknagavara bangal...   \n",
       "74  srikanth workday hcm consultant seeking suitab...   \n",
       "75  workday hcm fcmname kumar ssrole workday consu...   \n",
       "76  vinay kumar vworkday functional consultantexpe...   \n",
       "77  sql msbi developersql msbi developerb vinod ku...   \n",
       "\n",
       "                                                token  \\\n",
       "0   [anil, kumar, maddukuri, sql, msbi, developer,...   \n",
       "1   [aradhana, tripathicurrent, location, gachibow...   \n",
       "2   [buddha, vamsi, career, objectivehave, years, ...   \n",
       "3   [chinna, subbarayudu, mdob, march, indianprofi...   \n",
       "4   [name, gopi, krishna, reddy, professional, sum...   \n",
       "..                                                ...   \n",
       "73  [c, o, n, t, a, c, t, address, manyata, tech, ...   \n",
       "74  [srikanth, workday, hcm, consultant, seeking, ...   \n",
       "75  [workday, hcm, fcmname, kumar, ssrole, workday...   \n",
       "76  [vinay, kumar, vworkday, functional, consultan...   \n",
       "77  [sql, and, msbi, developersql, and, msbi, deve...   \n",
       "\n",
       "                                               skills  \\\n",
       "0   [database, debugging, design, engineering, etl...   \n",
       "1   [acquisition, analysis, analytical, analytics,...   \n",
       "2   [architecture, cloud, database, engineering, e...   \n",
       "3   [analysis, analytics, database, design, erp, e...   \n",
       "4   [analysis, analytics, cloud, communication, de...   \n",
       "..                                                ...   \n",
       "73  [agile, c, certification, electronics, expense...   \n",
       "74  [access, analytical, communication, erp, hris,...   \n",
       "75  [access, audit, billing, communication, design...   \n",
       "76  [administration, communication, design, engine...   \n",
       "77  [analytical, analytics, certification, convers...   \n",
       "\n",
       "                                                 post  \n",
       "0             [developer, integration, software, sql]  \n",
       "1           [consultant, developer, development, sql]  \n",
       "2   [developer, development, integration, oracle, ...  \n",
       "3   [consultant, developer, development, hcm, inte...  \n",
       "4   [consultant, development, hcm, hr, integration...  \n",
       "..                                                ...  \n",
       "73           [development, peoplesoft, software, sql]  \n",
       "74  [consultant, development, hcm, integration, so...  \n",
       "75  [consultant, development, hcm, integration, pe...  \n",
       "76  [consultant, development, hcm, integration, pe...  \n",
       "77  [developer, development, integration, software...  \n",
       "\n",
       "[78 rows x 4 columns]"
      ]
     },
     "execution_count": 33,
     "metadata": {},
     "output_type": "execute_result"
    }
   ],
   "source": [
    "df"
   ]
  },
  {
   "cell_type": "code",
   "execution_count": 34,
   "id": "27eac9f0",
   "metadata": {},
   "outputs": [],
   "source": [
    "def contactDetails(Text):\n",
    "    name = ''  \n",
    "    for i in range(0,3):\n",
    "        name = \" \".join([name, Text[i]])\n",
    "    return(name)"
   ]
  },
  {
   "cell_type": "code",
   "execution_count": 35,
   "id": "dc7e899e",
   "metadata": {},
   "outputs": [],
   "source": [
    "df['name'] = ''\n",
    "j = 0\n",
    "for i in df.token:\n",
    "    df['name'][j] = contactDetails(df.token[j])\n",
    "    j = j+1"
   ]
  },
  {
   "cell_type": "code",
   "execution_count": 36,
   "id": "12edfdf3",
   "metadata": {},
   "outputs": [
    {
     "data": {
      "text/html": [
       "<div>\n",
       "<style scoped>\n",
       "    .dataframe tbody tr th:only-of-type {\n",
       "        vertical-align: middle;\n",
       "    }\n",
       "\n",
       "    .dataframe tbody tr th {\n",
       "        vertical-align: top;\n",
       "    }\n",
       "\n",
       "    .dataframe thead th {\n",
       "        text-align: right;\n",
       "    }\n",
       "</style>\n",
       "<table border=\"1\" class=\"dataframe\">\n",
       "  <thead>\n",
       "    <tr style=\"text-align: right;\">\n",
       "      <th></th>\n",
       "      <th>cleaned</th>\n",
       "      <th>token</th>\n",
       "      <th>skills</th>\n",
       "      <th>post</th>\n",
       "      <th>name</th>\n",
       "    </tr>\n",
       "  </thead>\n",
       "  <tbody>\n",
       "    <tr>\n",
       "      <th>0</th>\n",
       "      <td>anil kumar maddukuri sql msbi developer years ...</td>\n",
       "      <td>[anil, kumar, maddukuri, sql, msbi, developer,...</td>\n",
       "      <td>[database, debugging, design, engineering, etl...</td>\n",
       "      <td>[developer, integration, software, sql]</td>\n",
       "      <td>anil kumar maddukuri</td>\n",
       "    </tr>\n",
       "    <tr>\n",
       "      <th>1</th>\n",
       "      <td>aradhana tripathicurrent location gachibowli h...</td>\n",
       "      <td>[aradhana, tripathicurrent, location, gachibow...</td>\n",
       "      <td>[acquisition, analysis, analytical, analytics,...</td>\n",
       "      <td>[consultant, developer, development, sql]</td>\n",
       "      <td>aradhana tripathicurrent location</td>\n",
       "    </tr>\n",
       "    <tr>\n",
       "      <th>2</th>\n",
       "      <td>buddha vamsi career objectivehave years experi...</td>\n",
       "      <td>[buddha, vamsi, career, objectivehave, years, ...</td>\n",
       "      <td>[architecture, cloud, database, engineering, e...</td>\n",
       "      <td>[developer, development, integration, oracle, ...</td>\n",
       "      <td>buddha vamsi career</td>\n",
       "    </tr>\n",
       "    <tr>\n",
       "      <th>3</th>\n",
       "      <td>chinna subbarayudu mdob march indianprofile su...</td>\n",
       "      <td>[chinna, subbarayudu, mdob, march, indianprofi...</td>\n",
       "      <td>[analysis, analytics, database, design, erp, e...</td>\n",
       "      <td>[consultant, developer, development, hcm, inte...</td>\n",
       "      <td>chinna subbarayudu mdob</td>\n",
       "    </tr>\n",
       "    <tr>\n",
       "      <th>4</th>\n",
       "      <td>name gopi krishna reddy professional summerywo...</td>\n",
       "      <td>[name, gopi, krishna, reddy, professional, sum...</td>\n",
       "      <td>[analysis, analytics, cloud, communication, de...</td>\n",
       "      <td>[consultant, development, hcm, hr, integration...</td>\n",
       "      <td>name gopi krishna</td>\n",
       "    </tr>\n",
       "    <tr>\n",
       "      <th>...</th>\n",
       "      <td>...</td>\n",
       "      <td>...</td>\n",
       "      <td>...</td>\n",
       "      <td>...</td>\n",
       "      <td>...</td>\n",
       "    </tr>\n",
       "    <tr>\n",
       "      <th>73</th>\n",
       "      <td>c n c address manyata tech parknagavara bangal...</td>\n",
       "      <td>[c, o, n, t, a, c, t, address, manyata, tech, ...</td>\n",
       "      <td>[agile, c, certification, electronics, expense...</td>\n",
       "      <td>[development, peoplesoft, software, sql]</td>\n",
       "      <td>c o n</td>\n",
       "    </tr>\n",
       "    <tr>\n",
       "      <th>74</th>\n",
       "      <td>srikanth workday hcm consultant seeking suitab...</td>\n",
       "      <td>[srikanth, workday, hcm, consultant, seeking, ...</td>\n",
       "      <td>[access, analytical, communication, erp, hris,...</td>\n",
       "      <td>[consultant, development, hcm, integration, so...</td>\n",
       "      <td>srikanth workday hcm</td>\n",
       "    </tr>\n",
       "    <tr>\n",
       "      <th>75</th>\n",
       "      <td>workday hcm fcmname kumar ssrole workday consu...</td>\n",
       "      <td>[workday, hcm, fcmname, kumar, ssrole, workday...</td>\n",
       "      <td>[access, audit, billing, communication, design...</td>\n",
       "      <td>[consultant, development, hcm, integration, pe...</td>\n",
       "      <td>workday hcm fcmname</td>\n",
       "    </tr>\n",
       "    <tr>\n",
       "      <th>76</th>\n",
       "      <td>vinay kumar vworkday functional consultantexpe...</td>\n",
       "      <td>[vinay, kumar, vworkday, functional, consultan...</td>\n",
       "      <td>[administration, communication, design, engine...</td>\n",
       "      <td>[consultant, development, hcm, integration, pe...</td>\n",
       "      <td>vinay kumar vworkday</td>\n",
       "    </tr>\n",
       "    <tr>\n",
       "      <th>77</th>\n",
       "      <td>sql msbi developersql msbi developerb vinod ku...</td>\n",
       "      <td>[sql, and, msbi, developersql, and, msbi, deve...</td>\n",
       "      <td>[analytical, analytics, certification, convers...</td>\n",
       "      <td>[developer, development, integration, software...</td>\n",
       "      <td>sql and msbi</td>\n",
       "    </tr>\n",
       "  </tbody>\n",
       "</table>\n",
       "<p>78 rows × 5 columns</p>\n",
       "</div>"
      ],
      "text/plain": [
       "                                              cleaned  \\\n",
       "0   anil kumar maddukuri sql msbi developer years ...   \n",
       "1   aradhana tripathicurrent location gachibowli h...   \n",
       "2   buddha vamsi career objectivehave years experi...   \n",
       "3   chinna subbarayudu mdob march indianprofile su...   \n",
       "4   name gopi krishna reddy professional summerywo...   \n",
       "..                                                ...   \n",
       "73  c n c address manyata tech parknagavara bangal...   \n",
       "74  srikanth workday hcm consultant seeking suitab...   \n",
       "75  workday hcm fcmname kumar ssrole workday consu...   \n",
       "76  vinay kumar vworkday functional consultantexpe...   \n",
       "77  sql msbi developersql msbi developerb vinod ku...   \n",
       "\n",
       "                                                token  \\\n",
       "0   [anil, kumar, maddukuri, sql, msbi, developer,...   \n",
       "1   [aradhana, tripathicurrent, location, gachibow...   \n",
       "2   [buddha, vamsi, career, objectivehave, years, ...   \n",
       "3   [chinna, subbarayudu, mdob, march, indianprofi...   \n",
       "4   [name, gopi, krishna, reddy, professional, sum...   \n",
       "..                                                ...   \n",
       "73  [c, o, n, t, a, c, t, address, manyata, tech, ...   \n",
       "74  [srikanth, workday, hcm, consultant, seeking, ...   \n",
       "75  [workday, hcm, fcmname, kumar, ssrole, workday...   \n",
       "76  [vinay, kumar, vworkday, functional, consultan...   \n",
       "77  [sql, and, msbi, developersql, and, msbi, deve...   \n",
       "\n",
       "                                               skills  \\\n",
       "0   [database, debugging, design, engineering, etl...   \n",
       "1   [acquisition, analysis, analytical, analytics,...   \n",
       "2   [architecture, cloud, database, engineering, e...   \n",
       "3   [analysis, analytics, database, design, erp, e...   \n",
       "4   [analysis, analytics, cloud, communication, de...   \n",
       "..                                                ...   \n",
       "73  [agile, c, certification, electronics, expense...   \n",
       "74  [access, analytical, communication, erp, hris,...   \n",
       "75  [access, audit, billing, communication, design...   \n",
       "76  [administration, communication, design, engine...   \n",
       "77  [analytical, analytics, certification, convers...   \n",
       "\n",
       "                                                 post  \\\n",
       "0             [developer, integration, software, sql]   \n",
       "1           [consultant, developer, development, sql]   \n",
       "2   [developer, development, integration, oracle, ...   \n",
       "3   [consultant, developer, development, hcm, inte...   \n",
       "4   [consultant, development, hcm, hr, integration...   \n",
       "..                                                ...   \n",
       "73           [development, peoplesoft, software, sql]   \n",
       "74  [consultant, development, hcm, integration, so...   \n",
       "75  [consultant, development, hcm, integration, pe...   \n",
       "76  [consultant, development, hcm, integration, pe...   \n",
       "77  [developer, development, integration, software...   \n",
       "\n",
       "                                  name  \n",
       "0                 anil kumar maddukuri  \n",
       "1    aradhana tripathicurrent location  \n",
       "2                  buddha vamsi career  \n",
       "3              chinna subbarayudu mdob  \n",
       "4                    name gopi krishna  \n",
       "..                                 ...  \n",
       "73                               c o n  \n",
       "74                srikanth workday hcm  \n",
       "75                 workday hcm fcmname  \n",
       "76                vinay kumar vworkday  \n",
       "77                        sql and msbi  \n",
       "\n",
       "[78 rows x 5 columns]"
      ]
     },
     "execution_count": 36,
     "metadata": {},
     "output_type": "execute_result"
    }
   ],
   "source": [
    "df"
   ]
  },
  {
   "cell_type": "code",
   "execution_count": 37,
   "id": "cfe1c45e",
   "metadata": {},
   "outputs": [],
   "source": [
    "from nltk.stem import PorterStemmer"
   ]
  },
  {
   "cell_type": "code",
   "execution_count": 38,
   "id": "a2121a17",
   "metadata": {},
   "outputs": [],
   "source": [
    "resume = df.drop(columns={'cleaned','token'}, axis = 1)"
   ]
  },
  {
   "cell_type": "code",
   "execution_count": 39,
   "id": "ad6a99d0",
   "metadata": {},
   "outputs": [],
   "source": [
    "from nltk.stem.wordnet import WordNetLemmatizer\n",
    "def lem(x):\n",
    "    lmtzr = WordNetLemmatizer()\n",
    "    lemmatized = [lmtzr.lemmatize(word) for word in x]\n",
    "    return lemmatized   \n",
    "\n",
    "\n"
   ]
  },
  {
   "cell_type": "code",
   "execution_count": 40,
   "id": "13ba764c",
   "metadata": {},
   "outputs": [],
   "source": [
    "resume['lem'] = ''"
   ]
  },
  {
   "cell_type": "code",
   "execution_count": 41,
   "id": "5e6811ab",
   "metadata": {},
   "outputs": [],
   "source": [
    "j = 0\n",
    "for i in resume.post:\n",
    "    resume['lem'][j] = lem(resume.post[j])\n",
    "    j = j+1"
   ]
  },
  {
   "cell_type": "code",
   "execution_count": 42,
   "id": "ed78fcbc",
   "metadata": {},
   "outputs": [],
   "source": [
    "def stem(x):\n",
    "    ps = PorterStemmer()\n",
    "    stemming = [ps.stem(word) for word in x]\n",
    "    return stemming   \n",
    "\n"
   ]
  },
  {
   "cell_type": "code",
   "execution_count": 43,
   "id": "92b2aaaa",
   "metadata": {},
   "outputs": [],
   "source": [
    "resume['stem'] = ''"
   ]
  },
  {
   "cell_type": "code",
   "execution_count": 44,
   "id": "f62c9c62",
   "metadata": {
    "scrolled": true
   },
   "outputs": [],
   "source": [
    "j = 0\n",
    "for i in resume.lem:\n",
    "    resume['stem'][j] = stem(resume.lem[j])\n",
    "    j = j+1"
   ]
  },
  {
   "cell_type": "code",
   "execution_count": 45,
   "id": "9606dea2",
   "metadata": {},
   "outputs": [],
   "source": [
    "resume['designation'] =''"
   ]
  },
  {
   "cell_type": "code",
   "execution_count": 46,
   "id": "f4d624ea",
   "metadata": {},
   "outputs": [],
   "source": [
    "\n",
    "def extract_designation(x):\n",
    "    y =''\n",
    "    for token in x:\n",
    "        if 'develop' in x and 'sql' in x and 'oracl' in x:\n",
    "            y ='SQL and Oracle Developer'\n",
    "        elif 'consult' in x and 'workday' in x:\n",
    "            y= ' workday consultant'\n",
    "        elif 'react' in x and 'develop' in x:\n",
    "             y ='React  Developer'\n",
    "        elif 'reactjs' in x and 'develop' in x:\n",
    "             y ='ReactJS  Developer' \n",
    "        elif 'develop' in x and 'sql' in x :\n",
    "            y ='SQL  Developer'\n",
    "        elif 'hr' in x:\n",
    "            y = 'human resource'\n",
    "        elif 'peoplesoft'in x and 'admin' in x:\n",
    "            y = 'PeopleSoft Admin'\n",
    "        elif 'peoplesoft' in x and 'consult' in x:\n",
    "            y ='PeopleSoft Consultant'\n",
    "        elif token =='softwar':\n",
    "             y ='Software Engineer'\n",
    "        elif 'develop' in x and 'sql' in x :\n",
    "            y ='SQL  Developer' \n",
    "        else:\n",
    "            y ='intern'\n",
    "    return y\n",
    "            "
   ]
  },
  {
   "cell_type": "code",
   "execution_count": 47,
   "id": "0e16abe8",
   "metadata": {},
   "outputs": [],
   "source": [
    "j = 0\n",
    "for i in resume.post:\n",
    "    resume['designation'][j] = extract_designation(resume.stem[j])\n",
    "    j = j+1"
   ]
  },
  {
   "cell_type": "code",
   "execution_count": 48,
   "id": "6f9cd257",
   "metadata": {},
   "outputs": [
    {
     "data": {
      "text/html": [
       "<div>\n",
       "<style scoped>\n",
       "    .dataframe tbody tr th:only-of-type {\n",
       "        vertical-align: middle;\n",
       "    }\n",
       "\n",
       "    .dataframe tbody tr th {\n",
       "        vertical-align: top;\n",
       "    }\n",
       "\n",
       "    .dataframe thead th {\n",
       "        text-align: right;\n",
       "    }\n",
       "</style>\n",
       "<table border=\"1\" class=\"dataframe\">\n",
       "  <thead>\n",
       "    <tr style=\"text-align: right;\">\n",
       "      <th></th>\n",
       "      <th>skills</th>\n",
       "      <th>post</th>\n",
       "      <th>name</th>\n",
       "      <th>lem</th>\n",
       "      <th>stem</th>\n",
       "      <th>designation</th>\n",
       "    </tr>\n",
       "  </thead>\n",
       "  <tbody>\n",
       "    <tr>\n",
       "      <th>0</th>\n",
       "      <td>[database, debugging, design, engineering, etl...</td>\n",
       "      <td>[developer, integration, software, sql]</td>\n",
       "      <td>anil kumar maddukuri</td>\n",
       "      <td>[developer, integration, software, sql]</td>\n",
       "      <td>[develop, integr, softwar, sql]</td>\n",
       "      <td>SQL  Developer</td>\n",
       "    </tr>\n",
       "    <tr>\n",
       "      <th>1</th>\n",
       "      <td>[acquisition, analysis, analytical, analytics,...</td>\n",
       "      <td>[consultant, developer, development, sql]</td>\n",
       "      <td>aradhana tripathicurrent location</td>\n",
       "      <td>[consultant, developer, development, sql]</td>\n",
       "      <td>[consult, develop, develop, sql]</td>\n",
       "      <td>SQL  Developer</td>\n",
       "    </tr>\n",
       "    <tr>\n",
       "      <th>2</th>\n",
       "      <td>[architecture, cloud, database, engineering, e...</td>\n",
       "      <td>[developer, development, integration, oracle, ...</td>\n",
       "      <td>buddha vamsi career</td>\n",
       "      <td>[developer, development, integration, oracle, ...</td>\n",
       "      <td>[develop, develop, integr, oracl, softwar, sql]</td>\n",
       "      <td>SQL and Oracle Developer</td>\n",
       "    </tr>\n",
       "    <tr>\n",
       "      <th>3</th>\n",
       "      <td>[analysis, analytics, database, design, erp, e...</td>\n",
       "      <td>[consultant, developer, development, hcm, inte...</td>\n",
       "      <td>chinna subbarayudu mdob</td>\n",
       "      <td>[consultant, developer, development, hcm, inte...</td>\n",
       "      <td>[consult, develop, develop, hcm, integr, peopl...</td>\n",
       "      <td>workday consultant</td>\n",
       "    </tr>\n",
       "    <tr>\n",
       "      <th>4</th>\n",
       "      <td>[analysis, analytics, cloud, communication, de...</td>\n",
       "      <td>[consultant, development, hcm, hr, integration...</td>\n",
       "      <td>name gopi krishna</td>\n",
       "      <td>[consultant, development, hcm, hr, integration...</td>\n",
       "      <td>[consult, develop, hcm, hr, integr, softwar, w...</td>\n",
       "      <td>workday consultant</td>\n",
       "    </tr>\n",
       "    <tr>\n",
       "      <th>5</th>\n",
       "      <td>[api, communication, english, erp, html, logis...</td>\n",
       "      <td>[consultant, development, hcm, integration, so...</td>\n",
       "      <td>g himaja career</td>\n",
       "      <td>[consultant, development, hcm, integration, so...</td>\n",
       "      <td>[consult, develop, hcm, integr, softwar, workday]</td>\n",
       "      <td>workday consultant</td>\n",
       "    </tr>\n",
       "    <tr>\n",
       "      <th>6</th>\n",
       "      <td>[agile, english, java, p, plan, queries, scrum...</td>\n",
       "      <td>[integration, software, sql]</td>\n",
       "      <td>name ravali p</td>\n",
       "      <td>[integration, software, sql]</td>\n",
       "      <td>[integr, softwar, sql]</td>\n",
       "      <td>intern</td>\n",
       "    </tr>\n",
       "    <tr>\n",
       "      <th>7</th>\n",
       "      <td>[administration, algorithms, android, api, c, ...</td>\n",
       "      <td>[sql]</td>\n",
       "      <td>susovan bag seeking</td>\n",
       "      <td>[sql]</td>\n",
       "      <td>[sql]</td>\n",
       "      <td>intern</td>\n",
       "    </tr>\n",
       "    <tr>\n",
       "      <th>8</th>\n",
       "      <td>[analysis, communication, engineering, policie...</td>\n",
       "      <td>[consultant, hcm, hr, workday]</td>\n",
       "      <td>jyoti vermaprofessional summaryprofessional</td>\n",
       "      <td>[consultant, hcm, hr, workday]</td>\n",
       "      <td>[consult, hcm, hr, workday]</td>\n",
       "      <td>workday consultant</td>\n",
       "    </tr>\n",
       "    <tr>\n",
       "      <th>9</th>\n",
       "      <td>[access, accounting, analysis, analytical, com...</td>\n",
       "      <td>[development, integration, software, sql, ui]</td>\n",
       "      <td>kamballa pradeep synopsislooking</td>\n",
       "      <td>[development, integration, software, sql, ui]</td>\n",
       "      <td>[develop, integr, softwar, sql, ui]</td>\n",
       "      <td>SQL  Developer</td>\n",
       "    </tr>\n",
       "    <tr>\n",
       "      <th>10</th>\n",
       "      <td>[analytics, cloud, communication, design, emai...</td>\n",
       "      <td>[consultant, development, hcm, hr, integration...</td>\n",
       "      <td>mooraboyina guravaiahworkday integration</td>\n",
       "      <td>[consultant, development, hcm, hr, integration...</td>\n",
       "      <td>[consult, develop, hcm, hr, integr, peoplesoft...</td>\n",
       "      <td>workday consultant</td>\n",
       "    </tr>\n",
       "    <tr>\n",
       "      <th>11</th>\n",
       "      <td>[analysis, billing, crm, database, design, inv...</td>\n",
       "      <td>[admin, developer, development, oracle, sql]</td>\n",
       "      <td>resumename neeraj mishraexperience</td>\n",
       "      <td>[admin, developer, development, oracle, sql]</td>\n",
       "      <td>[admin, develop, develop, oracl, sql]</td>\n",
       "      <td>SQL and Oracle Developer</td>\n",
       "    </tr>\n",
       "    <tr>\n",
       "      <th>12</th>\n",
       "      <td>[administration, analysis, analytical, cloud, ...</td>\n",
       "      <td>[consultant, development, hcm, hr, integration...</td>\n",
       "      <td>harikrishna akula years</td>\n",
       "      <td>[consultant, development, hcm, hr, integration...</td>\n",
       "      <td>[consult, develop, hcm, hr, integr, peoplesoft...</td>\n",
       "      <td>workday consultant</td>\n",
       "    </tr>\n",
       "    <tr>\n",
       "      <th>13</th>\n",
       "      <td>[access, administration, analytical, architect...</td>\n",
       "      <td>[admin, administrator, development, hcm, hr, i...</td>\n",
       "      <td>peoplesoft administratorsrinivask experience</td>\n",
       "      <td>[admin, administrator, development, hcm, hr, i...</td>\n",
       "      <td>[admin, administr, develop, hcm, hr, integr, o...</td>\n",
       "      <td>SQL and Oracle Developer</td>\n",
       "    </tr>\n",
       "    <tr>\n",
       "      <th>14</th>\n",
       "      <td>[access, administration, architecture, audit, ...</td>\n",
       "      <td>[admin, administrator, developer, hcm, integra...</td>\n",
       "      <td>vinod akkala peoplesoft</td>\n",
       "      <td>[admin, administrator, developer, hcm, integra...</td>\n",
       "      <td>[admin, administr, develop, hcm, integr, oracl...</td>\n",
       "      <td>PeopleSoft Admin</td>\n",
       "    </tr>\n",
       "    <tr>\n",
       "      <th>15</th>\n",
       "      <td>[access, administration, architecture, budget,...</td>\n",
       "      <td>[admin, administrator, developer, development,...</td>\n",
       "      <td>peoplesoft adminpeoplesoft dbaganesh</td>\n",
       "      <td>[admin, administrator, developer, development,...</td>\n",
       "      <td>[admin, administr, develop, develop, hcm, inte...</td>\n",
       "      <td>SQL and Oracle Developer</td>\n",
       "    </tr>\n",
       "    <tr>\n",
       "      <th>16</th>\n",
       "      <td>[accounting, analysis, automation, coding, com...</td>\n",
       "      <td>[consultant, development, hcm, oracle, peoples...</td>\n",
       "      <td>arun venu experience</td>\n",
       "      <td>[consultant, development, hcm, oracle, peoples...</td>\n",
       "      <td>[consult, develop, hcm, oracl, peoplesoft, sof...</td>\n",
       "      <td>PeopleSoft Consultant</td>\n",
       "    </tr>\n",
       "    <tr>\n",
       "      <th>17</th>\n",
       "      <td>[analysis, analytical, c, communication, engli...</td>\n",
       "      <td>[developer, development, hcm, oracle, peopleso...</td>\n",
       "      <td>personal detailsnamepritam biswasdate</td>\n",
       "      <td>[developer, development, hcm, oracle, peopleso...</td>\n",
       "      <td>[develop, develop, hcm, oracl, peoplesoft, sql]</td>\n",
       "      <td>SQL and Oracle Developer</td>\n",
       "    </tr>\n",
       "    <tr>\n",
       "      <th>18</th>\n",
       "      <td>[agile, analytical, banking, communication, de...</td>\n",
       "      <td>[consultant, development, integration, oracle,...</td>\n",
       "      <td>rahul years of</td>\n",
       "      <td>[consultant, development, integration, oracle,...</td>\n",
       "      <td>[consult, develop, integr, oracl, peoplesoft, ...</td>\n",
       "      <td>PeopleSoft Consultant</td>\n",
       "    </tr>\n",
       "    <tr>\n",
       "      <th>19</th>\n",
       "      <td>[communication, design, payments, peoplesoft, ...</td>\n",
       "      <td>[consultant, peoplesoft]</td>\n",
       "      <td>r ahmed peoplesoft</td>\n",
       "      <td>[consultant, peoplesoft]</td>\n",
       "      <td>[consult, peoplesoft]</td>\n",
       "      <td>PeopleSoft Consultant</td>\n",
       "    </tr>\n",
       "    <tr>\n",
       "      <th>20</th>\n",
       "      <td>[billing, coding, conversion, database, debugg...</td>\n",
       "      <td>[development, software, sql]</td>\n",
       "      <td>sql server developerpriyanka</td>\n",
       "      <td>[development, software, sql]</td>\n",
       "      <td>[develop, softwar, sql]</td>\n",
       "      <td>SQL  Developer</td>\n",
       "    </tr>\n",
       "    <tr>\n",
       "      <th>21</th>\n",
       "      <td>[analyze, content, design, engineering, hardwa...</td>\n",
       "      <td>[consultant, hcm, integration, software, workday]</td>\n",
       "      <td>punugoti swethaworkday technical</td>\n",
       "      <td>[consultant, hcm, integration, software, workday]</td>\n",
       "      <td>[consult, hcm, integr, softwar, workday]</td>\n",
       "      <td>workday consultant</td>\n",
       "    </tr>\n",
       "    <tr>\n",
       "      <th>22</th>\n",
       "      <td>[analysis, c, certification, circuits, communi...</td>\n",
       "      <td>[admin, developer, oracle, software]</td>\n",
       "      <td>fullstack software developer</td>\n",
       "      <td>[admin, developer, oracle, software]</td>\n",
       "      <td>[admin, develop, oracl, softwar]</td>\n",
       "      <td>Software Engineer</td>\n",
       "    </tr>\n",
       "    <tr>\n",
       "      <th>23</th>\n",
       "      <td>[consulting, database, engagement, erp, matrix...</td>\n",
       "      <td>[consultant, executive, hcm, hr, integration, ...</td>\n",
       "      <td>himamendu career objectiveto</td>\n",
       "      <td>[consultant, executive, hcm, hr, integration, ...</td>\n",
       "      <td>[consult, execut, hcm, hr, integr, workday]</td>\n",
       "      <td>workday consultant</td>\n",
       "    </tr>\n",
       "    <tr>\n",
       "      <th>24</th>\n",
       "      <td>[billing, communication, construction, design,...</td>\n",
       "      <td>[developer, development, react, software, ui]</td>\n",
       "      <td>maryala vinay reddyprofessional</td>\n",
       "      <td>[developer, development, react, software, ui]</td>\n",
       "      <td>[develop, develop, react, softwar, ui]</td>\n",
       "      <td>React  Developer</td>\n",
       "    </tr>\n",
       "  </tbody>\n",
       "</table>\n",
       "</div>"
      ],
      "text/plain": [
       "                                               skills  \\\n",
       "0   [database, debugging, design, engineering, etl...   \n",
       "1   [acquisition, analysis, analytical, analytics,...   \n",
       "2   [architecture, cloud, database, engineering, e...   \n",
       "3   [analysis, analytics, database, design, erp, e...   \n",
       "4   [analysis, analytics, cloud, communication, de...   \n",
       "5   [api, communication, english, erp, html, logis...   \n",
       "6   [agile, english, java, p, plan, queries, scrum...   \n",
       "7   [administration, algorithms, android, api, c, ...   \n",
       "8   [analysis, communication, engineering, policie...   \n",
       "9   [access, accounting, analysis, analytical, com...   \n",
       "10  [analytics, cloud, communication, design, emai...   \n",
       "11  [analysis, billing, crm, database, design, inv...   \n",
       "12  [administration, analysis, analytical, cloud, ...   \n",
       "13  [access, administration, analytical, architect...   \n",
       "14  [access, administration, architecture, audit, ...   \n",
       "15  [access, administration, architecture, budget,...   \n",
       "16  [accounting, analysis, automation, coding, com...   \n",
       "17  [analysis, analytical, c, communication, engli...   \n",
       "18  [agile, analytical, banking, communication, de...   \n",
       "19  [communication, design, payments, peoplesoft, ...   \n",
       "20  [billing, coding, conversion, database, debugg...   \n",
       "21  [analyze, content, design, engineering, hardwa...   \n",
       "22  [analysis, c, certification, circuits, communi...   \n",
       "23  [consulting, database, engagement, erp, matrix...   \n",
       "24  [billing, communication, construction, design,...   \n",
       "\n",
       "                                                 post  \\\n",
       "0             [developer, integration, software, sql]   \n",
       "1           [consultant, developer, development, sql]   \n",
       "2   [developer, development, integration, oracle, ...   \n",
       "3   [consultant, developer, development, hcm, inte...   \n",
       "4   [consultant, development, hcm, hr, integration...   \n",
       "5   [consultant, development, hcm, integration, so...   \n",
       "6                        [integration, software, sql]   \n",
       "7                                               [sql]   \n",
       "8                      [consultant, hcm, hr, workday]   \n",
       "9       [development, integration, software, sql, ui]   \n",
       "10  [consultant, development, hcm, hr, integration...   \n",
       "11       [admin, developer, development, oracle, sql]   \n",
       "12  [consultant, development, hcm, hr, integration...   \n",
       "13  [admin, administrator, development, hcm, hr, i...   \n",
       "14  [admin, administrator, developer, hcm, integra...   \n",
       "15  [admin, administrator, developer, development,...   \n",
       "16  [consultant, development, hcm, oracle, peoples...   \n",
       "17  [developer, development, hcm, oracle, peopleso...   \n",
       "18  [consultant, development, integration, oracle,...   \n",
       "19                           [consultant, peoplesoft]   \n",
       "20                       [development, software, sql]   \n",
       "21  [consultant, hcm, integration, software, workday]   \n",
       "22               [admin, developer, oracle, software]   \n",
       "23  [consultant, executive, hcm, hr, integration, ...   \n",
       "24      [developer, development, react, software, ui]   \n",
       "\n",
       "                                             name  \\\n",
       "0                            anil kumar maddukuri   \n",
       "1               aradhana tripathicurrent location   \n",
       "2                             buddha vamsi career   \n",
       "3                         chinna subbarayudu mdob   \n",
       "4                               name gopi krishna   \n",
       "5                                 g himaja career   \n",
       "6                                   name ravali p   \n",
       "7                             susovan bag seeking   \n",
       "8     jyoti vermaprofessional summaryprofessional   \n",
       "9                kamballa pradeep synopsislooking   \n",
       "10       mooraboyina guravaiahworkday integration   \n",
       "11             resumename neeraj mishraexperience   \n",
       "12                        harikrishna akula years   \n",
       "13   peoplesoft administratorsrinivask experience   \n",
       "14                        vinod akkala peoplesoft   \n",
       "15           peoplesoft adminpeoplesoft dbaganesh   \n",
       "16                           arun venu experience   \n",
       "17          personal detailsnamepritam biswasdate   \n",
       "18                                 rahul years of   \n",
       "19                             r ahmed peoplesoft   \n",
       "20                   sql server developerpriyanka   \n",
       "21               punugoti swethaworkday technical   \n",
       "22                   fullstack software developer   \n",
       "23                   himamendu career objectiveto   \n",
       "24                maryala vinay reddyprofessional   \n",
       "\n",
       "                                                  lem  \\\n",
       "0             [developer, integration, software, sql]   \n",
       "1           [consultant, developer, development, sql]   \n",
       "2   [developer, development, integration, oracle, ...   \n",
       "3   [consultant, developer, development, hcm, inte...   \n",
       "4   [consultant, development, hcm, hr, integration...   \n",
       "5   [consultant, development, hcm, integration, so...   \n",
       "6                        [integration, software, sql]   \n",
       "7                                               [sql]   \n",
       "8                      [consultant, hcm, hr, workday]   \n",
       "9       [development, integration, software, sql, ui]   \n",
       "10  [consultant, development, hcm, hr, integration...   \n",
       "11       [admin, developer, development, oracle, sql]   \n",
       "12  [consultant, development, hcm, hr, integration...   \n",
       "13  [admin, administrator, development, hcm, hr, i...   \n",
       "14  [admin, administrator, developer, hcm, integra...   \n",
       "15  [admin, administrator, developer, development,...   \n",
       "16  [consultant, development, hcm, oracle, peoples...   \n",
       "17  [developer, development, hcm, oracle, peopleso...   \n",
       "18  [consultant, development, integration, oracle,...   \n",
       "19                           [consultant, peoplesoft]   \n",
       "20                       [development, software, sql]   \n",
       "21  [consultant, hcm, integration, software, workday]   \n",
       "22               [admin, developer, oracle, software]   \n",
       "23  [consultant, executive, hcm, hr, integration, ...   \n",
       "24      [developer, development, react, software, ui]   \n",
       "\n",
       "                                                 stem  \\\n",
       "0                     [develop, integr, softwar, sql]   \n",
       "1                    [consult, develop, develop, sql]   \n",
       "2     [develop, develop, integr, oracl, softwar, sql]   \n",
       "3   [consult, develop, develop, hcm, integr, peopl...   \n",
       "4   [consult, develop, hcm, hr, integr, softwar, w...   \n",
       "5   [consult, develop, hcm, integr, softwar, workday]   \n",
       "6                              [integr, softwar, sql]   \n",
       "7                                               [sql]   \n",
       "8                         [consult, hcm, hr, workday]   \n",
       "9                 [develop, integr, softwar, sql, ui]   \n",
       "10  [consult, develop, hcm, hr, integr, peoplesoft...   \n",
       "11              [admin, develop, develop, oracl, sql]   \n",
       "12  [consult, develop, hcm, hr, integr, peoplesoft...   \n",
       "13  [admin, administr, develop, hcm, hr, integr, o...   \n",
       "14  [admin, administr, develop, hcm, integr, oracl...   \n",
       "15  [admin, administr, develop, develop, hcm, inte...   \n",
       "16  [consult, develop, hcm, oracl, peoplesoft, sof...   \n",
       "17    [develop, develop, hcm, oracl, peoplesoft, sql]   \n",
       "18  [consult, develop, integr, oracl, peoplesoft, ...   \n",
       "19                              [consult, peoplesoft]   \n",
       "20                            [develop, softwar, sql]   \n",
       "21           [consult, hcm, integr, softwar, workday]   \n",
       "22                   [admin, develop, oracl, softwar]   \n",
       "23        [consult, execut, hcm, hr, integr, workday]   \n",
       "24             [develop, develop, react, softwar, ui]   \n",
       "\n",
       "                 designation  \n",
       "0             SQL  Developer  \n",
       "1             SQL  Developer  \n",
       "2   SQL and Oracle Developer  \n",
       "3         workday consultant  \n",
       "4         workday consultant  \n",
       "5         workday consultant  \n",
       "6                     intern  \n",
       "7                     intern  \n",
       "8         workday consultant  \n",
       "9             SQL  Developer  \n",
       "10        workday consultant  \n",
       "11  SQL and Oracle Developer  \n",
       "12        workday consultant  \n",
       "13  SQL and Oracle Developer  \n",
       "14          PeopleSoft Admin  \n",
       "15  SQL and Oracle Developer  \n",
       "16     PeopleSoft Consultant  \n",
       "17  SQL and Oracle Developer  \n",
       "18     PeopleSoft Consultant  \n",
       "19     PeopleSoft Consultant  \n",
       "20            SQL  Developer  \n",
       "21        workday consultant  \n",
       "22         Software Engineer  \n",
       "23        workday consultant  \n",
       "24          React  Developer  "
      ]
     },
     "execution_count": 48,
     "metadata": {},
     "output_type": "execute_result"
    }
   ],
   "source": [
    "resume.head(25)"
   ]
  },
  {
   "cell_type": "code",
   "execution_count": 49,
   "id": "c47350d8",
   "metadata": {},
   "outputs": [],
   "source": [
    "from nltk.stem.wordnet import WordNetLemmatizer"
   ]
  },
  {
   "cell_type": "code",
   "execution_count": 112,
   "id": "3b144637",
   "metadata": {},
   "outputs": [
    {
     "data": {
      "image/png": "[encoded data removed]",
      "text/plain": [
       "<Figure size 864x432 with 1 Axes>"
      ]
     },
     "metadata": {
      "needs_background": "light"
     },
     "output_type": "display_data"
    },
    {
     "data": {
      "text/plain": [
       "<Figure size 432x288 with 0 Axes>"
      ]
     },
     "metadata": {},
     "output_type": "display_data"
    }
   ],
   "source": [
    "resume['designation'].value_counts().sort_index().plot(kind='bar', figsize=(12, 6))\n",
    "plt.show()\n",
    "plt.savefig('my_plot.png')"
   ]
  },
  {
   "cell_type": "code",
   "execution_count": 51,
   "id": "a63efcca",
   "metadata": {},
   "outputs": [],
   "source": [
    "data = resume[['skills','designation']]"
   ]
  },
  {
   "cell_type": "code",
   "execution_count": 52,
   "id": "18f670d4",
   "metadata": {},
   "outputs": [],
   "source": [
    "d = data.designation.copy()"
   ]
  },
  {
   "cell_type": "code",
   "execution_count": null,
   "id": "cfe03e18",
   "metadata": {},
   "outputs": [],
   "source": []
  },
  {
   "cell_type": "code",
   "execution_count": null,
   "id": "9449d6e3",
   "metadata": {},
   "outputs": [],
   "source": []
  },
  {
   "cell_type": "code",
   "execution_count": 53,
   "id": "2a35dbc3",
   "metadata": {},
   "outputs": [
    {
     "data": {
      "text/html": [
       "<div>\n",
       "<style scoped>\n",
       "    .dataframe tbody tr th:only-of-type {\n",
       "        vertical-align: middle;\n",
       "    }\n",
       "\n",
       "    .dataframe tbody tr th {\n",
       "        vertical-align: top;\n",
       "    }\n",
       "\n",
       "    .dataframe thead th {\n",
       "        text-align: right;\n",
       "    }\n",
       "</style>\n",
       "<table border=\"1\" class=\"dataframe\">\n",
       "  <thead>\n",
       "    <tr style=\"text-align: right;\">\n",
       "      <th></th>\n",
       "      <th>skills</th>\n",
       "      <th>designation</th>\n",
       "    </tr>\n",
       "  </thead>\n",
       "  <tbody>\n",
       "    <tr>\n",
       "      <th>0</th>\n",
       "      <td>[database, debugging, design, engineering, etl...</td>\n",
       "      <td>SQL  Developer</td>\n",
       "    </tr>\n",
       "    <tr>\n",
       "      <th>1</th>\n",
       "      <td>[acquisition, analysis, analytical, analytics,...</td>\n",
       "      <td>SQL  Developer</td>\n",
       "    </tr>\n",
       "    <tr>\n",
       "      <th>2</th>\n",
       "      <td>[architecture, cloud, database, engineering, e...</td>\n",
       "      <td>SQL and Oracle Developer</td>\n",
       "    </tr>\n",
       "    <tr>\n",
       "      <th>3</th>\n",
       "      <td>[analysis, analytics, database, design, erp, e...</td>\n",
       "      <td>workday consultant</td>\n",
       "    </tr>\n",
       "    <tr>\n",
       "      <th>4</th>\n",
       "      <td>[analysis, analytics, cloud, communication, de...</td>\n",
       "      <td>workday consultant</td>\n",
       "    </tr>\n",
       "    <tr>\n",
       "      <th>...</th>\n",
       "      <td>...</td>\n",
       "      <td>...</td>\n",
       "    </tr>\n",
       "    <tr>\n",
       "      <th>73</th>\n",
       "      <td>[agile, c, certification, electronics, expense...</td>\n",
       "      <td>SQL  Developer</td>\n",
       "    </tr>\n",
       "    <tr>\n",
       "      <th>74</th>\n",
       "      <td>[access, analytical, communication, erp, hris,...</td>\n",
       "      <td>workday consultant</td>\n",
       "    </tr>\n",
       "    <tr>\n",
       "      <th>75</th>\n",
       "      <td>[access, audit, billing, communication, design...</td>\n",
       "      <td>workday consultant</td>\n",
       "    </tr>\n",
       "    <tr>\n",
       "      <th>76</th>\n",
       "      <td>[administration, communication, design, engine...</td>\n",
       "      <td>workday consultant</td>\n",
       "    </tr>\n",
       "    <tr>\n",
       "      <th>77</th>\n",
       "      <td>[analytical, analytics, certification, convers...</td>\n",
       "      <td>SQL  Developer</td>\n",
       "    </tr>\n",
       "  </tbody>\n",
       "</table>\n",
       "<p>78 rows × 2 columns</p>\n",
       "</div>"
      ],
      "text/plain": [
       "                                               skills  \\\n",
       "0   [database, debugging, design, engineering, etl...   \n",
       "1   [acquisition, analysis, analytical, analytics,...   \n",
       "2   [architecture, cloud, database, engineering, e...   \n",
       "3   [analysis, analytics, database, design, erp, e...   \n",
       "4   [analysis, analytics, cloud, communication, de...   \n",
       "..                                                ...   \n",
       "73  [agile, c, certification, electronics, expense...   \n",
       "74  [access, analytical, communication, erp, hris,...   \n",
       "75  [access, audit, billing, communication, design...   \n",
       "76  [administration, communication, design, engine...   \n",
       "77  [analytical, analytics, certification, convers...   \n",
       "\n",
       "                 designation  \n",
       "0             SQL  Developer  \n",
       "1             SQL  Developer  \n",
       "2   SQL and Oracle Developer  \n",
       "3         workday consultant  \n",
       "4         workday consultant  \n",
       "..                       ...  \n",
       "73            SQL  Developer  \n",
       "74        workday consultant  \n",
       "75        workday consultant  \n",
       "76        workday consultant  \n",
       "77            SQL  Developer  \n",
       "\n",
       "[78 rows x 2 columns]"
      ]
     },
     "execution_count": 53,
     "metadata": {},
     "output_type": "execute_result"
    }
   ],
   "source": [
    "data"
   ]
  },
  {
   "cell_type": "code",
   "execution_count": 54,
   "id": "cf315e15",
   "metadata": {},
   "outputs": [],
   "source": [
    "from sklearn.preprocessing import LabelEncoder\n",
    "\n",
    "var_mod = ['designation']\n",
    "le = LabelEncoder()\n",
    "for i in var_mod:\n",
    "    data[i] = le.fit_transform(data[i])"
   ]
  },
  {
   "cell_type": "code",
   "execution_count": null,
   "id": "38da9568",
   "metadata": {},
   "outputs": [],
   "source": []
  },
  {
   "cell_type": "code",
   "execution_count": 55,
   "id": "9324560c",
   "metadata": {},
   "outputs": [
    {
     "data": {
      "text/plain": [
       "0    21\n",
       "3    18\n",
       "4    14\n",
       "5     8\n",
       "8     5\n",
       "1     5\n",
       "2     3\n",
       "6     2\n",
       "7     2\n",
       "Name: designation, dtype: int64"
      ]
     },
     "execution_count": 55,
     "metadata": {},
     "output_type": "execute_result"
    }
   ],
   "source": [
    "data.designation.value_counts()"
   ]
  },
  {
   "cell_type": "code",
   "execution_count": 56,
   "id": "839dba72",
   "metadata": {},
   "outputs": [
    {
     "data": {
      "text/plain": [
       "<seaborn.axisgrid.PairGrid at 0x245ed95f4c0>"
      ]
     },
     "execution_count": 56,
     "metadata": {},
     "output_type": "execute_result"
    },
    {
     "data": {
      "image/png": "[encoded data removed]",
      "text/plain": [
       "<Figure size 180x180 with 2 Axes>"
      ]
     },
     "metadata": {
      "needs_background": "light"
     },
     "output_type": "display_data"
    }
   ],
   "source": [
    "import seaborn as sns\n",
    "sns.pairplot(data = data)"
   ]
  },
  {
   "cell_type": "code",
   "execution_count": 57,
   "id": "9cd36fca",
   "metadata": {},
   "outputs": [],
   "source": [
    "#0- workday consultant\n",
    "#1 - Peoplesoft admin\n",
    "#2 - Peoplesoft Consultant\n",
    "#3 - React Developer\n",
    "#4 - SQL Developer\n",
    "#5 - SQl and Oracle Developer\n",
    "#6 - Software Engineer\n",
    "#7 - Human Resourse\n",
    "#8 - Intern"
   ]
  },
  {
   "cell_type": "code",
   "execution_count": 58,
   "id": "c3259bfc",
   "metadata": {},
   "outputs": [
    {
     "data": {
      "text/plain": [
       "<AxesSubplot:xlabel='count', ylabel='designation'>"
      ]
     },
     "execution_count": 58,
     "metadata": {},
     "output_type": "execute_result"
    },
    {
     "data": {
      "image/png": "[encoded data removed]",
      "text/plain": [
       "<Figure size 720x720 with 1 Axes>"
      ]
     },
     "metadata": {
      "needs_background": "light"
     },
     "output_type": "display_data"
    }
   ],
   "source": [
    "plt.figure(figsize=(10,10))\n",
    "plt.xticks()\n",
    "sns.countplot(y=\"designation\", data=data)"
   ]
  },
  {
   "cell_type": "code",
   "execution_count": 59,
   "id": "a282b9c8",
   "metadata": {},
   "outputs": [],
   "source": [
    "from sklearn.feature_extraction.text import TfidfVectorizer\n",
    "from scipy.sparse import hstack"
   ]
  },
  {
   "cell_type": "code",
   "execution_count": 60,
   "id": "83ce0667",
   "metadata": {},
   "outputs": [],
   "source": [
    "\n",
    "from sklearn.feature_extraction.text import CountVectorizer\n",
    "requiredText = data['skills'].apply(lambda x: \" \".join(x))\n",
    "requiredTarget = data['designation'].values\n",
    "p = requiredText.values  "
   ]
  },
  {
   "cell_type": "code",
   "execution_count": 61,
   "id": "9d392946",
   "metadata": {},
   "outputs": [
    {
     "data": {
      "text/plain": [
       "array(['database debugging design engineering etl excel health matrix process queries reporting reports sql system visual windows writing',\n",
       "       'acquisition analysis analytical analytics aws cloud database design ecommerce excel hadoop hive migration mysql queries r retail sales sas sql system tableau technical testing transactions writing',\n",
       "       'architecture cloud database engineering english etl ibm oracle sql writing',\n",
       "       'analysis analytics database design erp etl excel matrix payroll peoplesoft plan policies process prototyping queries reporting reports requests rest security shell soap sql strategy system technical testing writing xml',\n",
       "       'analysis analytics cloud communication design english excel payroll presentation reporting reports requests security soap specifications system technical testing troubleshooting writing xml',\n",
       "       'api communication english erp html logistics payments payroll process recruitment reporting reports schedule soap sourcing testing vendors xml',\n",
       "       'agile english java p plan queries scrum sdlc security sql system technical testing training usability writing',\n",
       "       'administration algorithms android api c communication engineering hotel linux networking os programming routing sql system troubleshooting website',\n",
       "       'analysis communication engineering policies process reporting reports research security staffing system technical testing workflows',\n",
       "       'access accounting analysis analytical communication database design distribution engineering etl finance migration presentations queries reporting reports security sql system technical testing ui writing',\n",
       "       'analytics cloud communication design email excel payroll peoplesoft presentation process queries reporting reports requests security specifications system technical testing troubleshooting xml',\n",
       "       'analysis billing crm database design invoicing operations oracle p process programming queries requests sql system technical unix website windows writing',\n",
       "       'administration analysis analytical cloud communication database debugging design documentation email engineering excel governance hris linux matrix metrics payroll peoplesoft plan powerpoint process programming queries recruiting reporting reports scheduling security specifications sql staffing system technical testing troubleshooting unix updates vendors windows word workflow xml',\n",
       "       'access administration analytical architecture audit aws cloud communication config database design documentation health installation linux migration oracle peoplesoft process reporting reports requests scheduling security servers solaris specifications sql system tax technical testing transactions troubleshooting unix updates windows workflow xml',\n",
       "       'access administration architecture audit config database documentation installation linux migration oracle peoplesoft process reports security servers tax troubleshooting unix updates windows',\n",
       "       'access administration architecture budget database health installation linux migration oracle peoplesoft process reports security servers shell sql system tax technical testing troubleshooting updates windows workflow',\n",
       "       'accounting analysis automation coding communication contracts conversion design email engineering healthcare international oracle peoplesoft process reporting reports retail security system technical testing travel xml',\n",
       "       'analysis analytical c communication english erp etl finance green jira oracle os peoplesoft presentation process python r reconciliation reports schedule scheduling sql technical testing windows workflow xml',\n",
       "       'agile analytical banking communication debugging engineering improvement international migration operations oracle peoplesoft process reporting reports security system technical testing windows workflow workflows xml',\n",
       "       'communication design payments peoplesoft process purchasing queries r reports system technical xml',\n",
       "       'billing coding conversion database debugging design engineering health healthcare pharmacy publishing queries research sql system testing visual',\n",
       "       'analyze content design engineering hardware investigate matrix payroll process reporting reports schedule scheduling security technical testing xml',\n",
       "       'analysis c certification circuits communication database design ecommerce electrical electronics engineering java javascript lan matlab operations oracle p programming reports system technical',\n",
       "       'consulting database engagement erp matrix policies process queries recruitment reports security staffing system',\n",
       "       'billing communication construction design engineering html inventory javascript presentation process sdlc specifications supervisor ui warehouse',\n",
       "       'android architecture audio coding content css design fulfillment health html illustrator ios java javascript js marketing mobile money os p pdf photoshop plan process queries statistics technical testing travel ui website writing',\n",
       "       'acquisition analyze architecture audit automation compliance design finance hris legal marketing networking operations payroll policies process queries recruiting recruitment reporting reports requests security sourcing specifications staffing standardization strategy system technical testing training transactions troubleshooting updates vendors windows workflow',\n",
       "       'access administration agile analysis analytics api architecture architectures cloud communication database design electronics engineering payroll presentation process reporting reports scheduling sdlc security soap staffing system technical testing troubleshooting vendors word writing xml',\n",
       "       'database english excel health queries sql system technical writing',\n",
       "       'access analysis analytical communication consulting design finance international lifecycle logistics matrix migration negotiation operations payroll presentation recruiting recruitment reporting reports scheduling security system technical testing transport writing xml',\n",
       "       'architecture aviation communication construction conversion database finance health healthcare matrix oracle payments payroll process reporting reports schedule security soap system technical testing xml',\n",
       "       'analysis analytics architecture debugging design erp etl healthcare matrix payroll process reporting reports requests rest scheduling security six soap strategy system technical testing writing xml',\n",
       "       'api audit cloud design email emea excel payroll peoplesoft plan process queries recruitment reporting reports sdlc security system technical transactions writing xml',\n",
       "       'access algorithms analysis cloud communication content database datasets design documentation electrical electronics engineering etl excel health improvement interactive kpi kpis matrix mobile operations process programming publishing queries reporting reports retail sales scheduling scripting security specifications sql system technical visual warehouse',\n",
       "       'administration analysis architecture audit cloud database documentation installation migration oracle peoplesoft process reports security servers system tax technical testing training troubleshooting updates windows workflow',\n",
       "       'access administration architecture crm database installation migration oracle peoplesoft process reports scheduling security servers sql strategy system tax technical testing troubleshooting unix updates windows',\n",
       "       'access administration analysis banking communication database engineering excel finance installation linux peoplesoft process reporting reports scheduling security solaris system technical testing unix windows',\n",
       "       'analysis cloud communication conversion design electronics email engineering hardware migration operations oracle payments payroll peoplesoft process prototyping reporting reports security specifications staffing system technical testing windows xml',\n",
       "       'excel marketing matrix plan policies powerpoint process recruiting reporting reports security staffing supervisor windows workflow writing',\n",
       "       'access administration ansible architecture automation aws certification cloud content database electrical engineering finance github ibm installation linux migration oracle peoplesoft process reports scheduling scripting security servers shell system tax technical testing troubleshooting unix updates windows writing',\n",
       "       'administration audit c database debugging installation linux oracle peoplesoft process reporting reports servers sql tax troubleshooting unix updates windows',\n",
       "       'cloud communication database electronics engineering finance java oracle peoplesoft process servers solaris sql troubleshooting unix windows',\n",
       "       'access administration architecture budget database hardware health installation linux migration oracle peoplesoft process reports security servers shell system tax technical testing troubleshooting updates windows workflow',\n",
       "       'administration architecture budget communication database hardware health hotels installation linux marketing migration oracle peoplesoft process reports servers tax technical testing troubleshooting updates windows workflow',\n",
       "       'billing conversion design oracle peoplesoft process reports sql staffing system technical testing windows',\n",
       "       'billing design oracle peoplesoft process reports sql staffing system technical testing windows',\n",
       "       'access billing electrical electronics engineering english finance inventory oracle peoplesoft process purchasing queries reporting reports security sql testing',\n",
       "       'design documentation engineering finance peoplesoft process reporting requests sql system testing',\n",
       "       'database ecommerce health process queries sales scripting sql transactions',\n",
       "       'analysis broadcast communication conversion etl excel magic mobile p reports saas sql system visual windows word writing',\n",
       "       'analytics api conversion design erp marketing matrix migration payments payroll peoplesoft plan policies process recruiting reporting reports requests rest scheduling security soap system technical testing training ui writing xml',\n",
       "       'communication database debugging design distribution electronics health healthcare mysql pharmaceutical policies queries requests specifications sql system testing windows writing',\n",
       "       'analytics aws brand database engineering etl inventory logging metrics migration mysql operations plan process queries reporting reports requests retail sales sql strategy visual warehouse writing',\n",
       "       'analytical communication conversion database design ecommerce etl excel installation logging matrix pdf process queries reporting reports sales schedule scheduling security six sql system technical transactions unix windows',\n",
       "       'analysis communication conversion documentation engineering erp matrix operations peoplesoft process queries reports schedules security sql staffing system technical testing training troubleshooting writing',\n",
       "       'analysis api apis communication css design engineering html javascript js json routing sdlc system testing visual website windows',\n",
       "       'agile c css gmail html java javascript jira js mysql programming sql system technical ubuntu ui windows',\n",
       "       'agile analysis coding communication content css design english html javascript jira js photoshop system technical ubuntu ui updates visual windows',\n",
       "       'analytical communication engineering html sql testing unix visual',\n",
       "       'agile analytical android banking consulting conversion css ecommerce english github hotel java javascript js mobile seo system technical ui windows',\n",
       "       'debugging design healthcare html javascript js programming research ui updates usability',\n",
       "       'analytical electronics engineering javascript programming sql testing',\n",
       "       'agile analysis architecture coding css github html java javascript jira js json programming scrum sdlc soap system ui updates video xml',\n",
       "       'agile analysis architecture coding css github html java javascript jira js json programming scrum sdlc soap system ui updates video xml',\n",
       "       'brand broadcast coding communication design ecommerce engineering english html interactive javascript js json marketing mobile moment programming queries routing seo technical ui usability visual',\n",
       "       'js logistics mysql p payments procurement system website',\n",
       "       'analytical css database design engineering english facebook github html java javascript js presentation system technical ui visual website windows',\n",
       "       'accounting analytical construction css database design engineering html inventory javascript js mysql php presentation profiling programming sales servers system testing visual website',\n",
       "       'accounting analytical construction css database design engineering html inventory javascript js mysql php presentation profiling programming sales servers system testing visual website',\n",
       "       'analytical architecture architectures coding communication css debugging design english html improvement javascript js mysql pattern ui workflows',\n",
       "       'communication css design ecommerce english javascript js reports technical ui website',\n",
       "       'communication design html javascript pharmacy presentation sdlc specifications system technical ui',\n",
       "       'communication electronics email engineering english github javascript js presentation system technical visual windows',\n",
       "       'agile c certification electronics expenses finance java p peoplesoft process r security sql testing',\n",
       "       'access analytical communication erp hris matrix migration payroll plan policies process recruiting recruitment reporting reports rest salesforce security system technical testing training transactions troubleshooting writing xml',\n",
       "       'access audit billing communication design email engineering excel finance linux matrix payments payroll peoplesoft process queries recruiting reporting reports requests rest sales security soap system technical transactions xml',\n",
       "       'administration communication design engineering excel matrix payments payroll peoplesoft process queries reporting reports requests schedule security staffing system technical word writing xml',\n",
       "       'analytical analytics certification conversion database design etl health queries reporting reports schedule scheduling sql training workflows writing'],\n",
       "      dtype=object)"
      ]
     },
     "execution_count": 61,
     "metadata": {},
     "output_type": "execute_result"
    }
   ],
   "source": [
    "p"
   ]
  },
  {
   "cell_type": "code",
   "execution_count": 62,
   "id": "b8f39ada",
   "metadata": {},
   "outputs": [
    {
     "name": "stdout",
     "output_type": "stream",
     "text": [
      "Feature completed .....\n"
     ]
    }
   ],
   "source": [
    "word_vectorizer = TfidfVectorizer(\n",
    "    sublinear_tf=True,\n",
    "    stop_words='english')\n",
    "word_vectorizer.fit(p)\n",
    "WordFeatures = word_vectorizer.transform(p)\n",
    "\n",
    "print (\"Feature completed .....\")"
   ]
  },
  {
   "cell_type": "code",
   "execution_count": 63,
   "id": "c2bf7dc5",
   "metadata": {},
   "outputs": [],
   "source": [
    "from sklearn.naive_bayes import MultinomialNB\n",
    "from sklearn.multiclass import OneVsRestClassifier\n",
    "from sklearn.model_selection import train_test_split,cross_val_score\n",
    "from sklearn.feature_extraction.text import TfidfVectorizer\n",
    "from scipy.sparse import hstack\n",
    "from sklearn.metrics import f1_score,precision_score,confusion_matrix,recall_score"
   ]
  },
  {
   "cell_type": "code",
   "execution_count": 64,
   "id": "e921a7c8",
   "metadata": {},
   "outputs": [],
   "source": [
    "from sklearn.ensemble import RandomForestClassifier\n",
    "from sklearn.tree import DecisionTreeClassifier\n",
    "from sklearn.svm import SVC\n",
    "from sklearn.linear_model import LogisticRegression\n"
   ]
  },
  {
   "cell_type": "code",
   "execution_count": 65,
   "id": "c81703ee",
   "metadata": {},
   "outputs": [],
   "source": [
    "from sklearn.model_selection import train_test_split"
   ]
  },
  {
   "cell_type": "code",
   "execution_count": 66,
   "id": "7c1ae50b",
   "metadata": {},
   "outputs": [
    {
     "data": {
      "text/plain": [
       "((62, 194), (16, 194))"
      ]
     },
     "execution_count": 66,
     "metadata": {},
     "output_type": "execute_result"
    }
   ],
   "source": [
    "X_train, X_test, y_train, y_test = train_test_split(WordFeatures, requiredTarget, random_state=30, test_size=0.20, shuffle = True, stratify=requiredTarget)\n",
    "X_train.shape, X_test.shape"
   ]
  },
  {
   "cell_type": "code",
   "execution_count": 67,
   "id": "3b511d66",
   "metadata": {},
   "outputs": [
    {
     "name": "stdout",
     "output_type": "stream",
     "text": [
      "Accuracy of Decision Tree Classifier on training set: 1.0000\n",
      "Accuracy of Decision Tree Classifier on test set    : 0.7500\n"
     ]
    }
   ],
   "source": [
    "rf_clf = RandomForestClassifier()\n",
    "rf_clf.fit(X_train, y_train)\n",
    "prediction_1 = rf_clf.predict(X_test)\n",
    "print('Accuracy of Decision Tree Classifier on training set: {:.4f}'.format(rf_clf.score(X_train, y_train)))\n",
    "print('Accuracy of Decision Tree Classifier on test set    : {:.4f}'.format(rf_clf.score(X_test, y_test)))"
   ]
  },
  {
   "cell_type": "code",
   "execution_count": 68,
   "id": "822b57f6",
   "metadata": {},
   "outputs": [
    {
     "name": "stderr",
     "output_type": "stream",
     "text": [
      "[nltk_data] Downloading package punkt to\n",
      "[nltk_data]     C:\\Users\\Win-10\\AppData\\Roaming\\nltk_data...\n",
      "[nltk_data]   Package punkt is already up-to-date!\n",
      "[nltk_data] Downloading package stopwords to\n",
      "[nltk_data]     C:\\Users\\Win-10\\AppData\\Roaming\\nltk_data...\n",
      "[nltk_data]   Package stopwords is already up-to-date!\n"
     ]
    }
   ],
   "source": [
    "import os,re\n",
    "import docx2txt\n",
    "import textract\n",
    "import pandas as pd\n",
    "import numpy as np\n",
    "from docx import Document\n",
    "import nltk\n",
    "nltk.download('punkt')\n",
    "import matplotlib.pyplot as plt\n",
    "from wordcloud import WordCloud\n",
    "from sklearn.naive_bayes import MultinomialNB\n",
    "from sklearn.multiclass import OneVsRestClassifier\n",
    "from sklearn import metrics\n",
    "from sklearn.metrics import accuracy_score,precision_score\n",
    "from pandas.plotting import scatter_matrix\n",
    "from sklearn.neighbors import KNeighborsClassifier\n",
    "from sklearn import metrics\n",
    "nltk.download(\"stopwords\")\n",
    "import xgboost as xgb"
   ]
  },
  {
   "cell_type": "code",
   "execution_count": 69,
   "id": "3bcb272a",
   "metadata": {
    "scrolled": true
   },
   "outputs": [
    {
     "name": "stdout",
     "output_type": "stream",
     "text": [
      "\n",
      " Classification report for Decision Tree Classifier RandomForestClassifier():\n",
      "              precision    recall  f1-score   support\n",
      "\n",
      "           0       0.80      1.00      0.89         4\n",
      "           1       0.00      0.00      0.00         1\n",
      "           2       0.00      0.00      0.00         1\n",
      "           3       1.00      1.00      1.00         4\n",
      "           4       1.00      1.00      1.00         3\n",
      "           5       1.00      0.50      0.67         2\n",
      "           7       0.00      0.00      0.00         0\n",
      "           8       0.00      0.00      0.00         1\n",
      "\n",
      "    accuracy                           0.75        16\n",
      "   macro avg       0.47      0.44      0.44        16\n",
      "weighted avg       0.76      0.75      0.74        16\n",
      "\n",
      "\n"
     ]
    }
   ],
   "source": [
    "print(\"\\n Classification report for Decision Tree Classifier %s:\\n%s\\n\" % (rf_clf, metrics.classification_report(y_test, prediction_1)))"
   ]
  },
  {
   "cell_type": "code",
   "execution_count": 70,
   "id": "898b71a9",
   "metadata": {},
   "outputs": [],
   "source": [
    "accuracy_1 = round(accuracy_score(y_test,prediction_1),4)\n",
    "precision_1 = round(precision_score(y_test,prediction_1,average = 'macro'),4)\n",
    "recall_1 = round(recall_score(y_test,prediction_1, average = 'macro'),4)\n",
    "f1_1 = round(f1_score(y_test,prediction_1, average = 'macro'),4)"
   ]
  },
  {
   "cell_type": "code",
   "execution_count": 71,
   "id": "0f908b4a",
   "metadata": {},
   "outputs": [
    {
     "name": "stdout",
     "output_type": "stream",
     "text": [
      "Accuracy Score   :  0.75\n",
      "Precision Score  :  0.475\n",
      "Recall Score     :  0.4375\n",
      "f1-Score         :  0.4444\n",
      "Confusion Matrix :\n",
      " [[4 0 0 0 0 0 0 0]\n",
      " [0 0 0 0 0 0 1 0]\n",
      " [1 0 0 0 0 0 0 0]\n",
      " [0 0 0 4 0 0 0 0]\n",
      " [0 0 0 0 3 0 0 0]\n",
      " [0 1 0 0 0 1 0 0]\n",
      " [0 0 0 0 0 0 0 0]\n",
      " [0 1 0 0 0 0 0 0]]\n"
     ]
    }
   ],
   "source": [
    "print('Accuracy Score   : ', accuracy_1)\n",
    "print('Precision Score  : ', precision_1)\n",
    "print('Recall Score     : ', recall_1)\n",
    "print('f1-Score         : ', f1_1)\n",
    "print('Confusion Matrix :\\n',confusion_matrix(y_test,prediction_1))"
   ]
  },
  {
   "cell_type": "code",
   "execution_count": 72,
   "id": "408dc73b",
   "metadata": {},
   "outputs": [
    {
     "name": "stdout",
     "output_type": "stream",
     "text": [
      "Accuracy of Support Vector Classifier on training set: 0.8871\n",
      "Accuracy of Support Vector Classifier on test set    : 0.8125\n"
     ]
    }
   ],
   "source": [
    "sv_clf = SVC()\n",
    "sv_clf.fit(X_train, y_train)\n",
    "prediction_2 = sv_clf.predict(X_test)\n",
    "print('Accuracy of Support Vector Classifier on training set: {:.4f}'.format(sv_clf.score(X_train, y_train)))\n",
    "print('Accuracy of Support Vector Classifier on test set    : {:.4f}'.format(sv_clf.score(X_test, y_test)))"
   ]
  },
  {
   "cell_type": "code",
   "execution_count": 73,
   "id": "affbf779",
   "metadata": {},
   "outputs": [
    {
     "name": "stdout",
     "output_type": "stream",
     "text": [
      "\n",
      " Classification report for Support Vector Classifier SVC():\n",
      "              precision    recall  f1-score   support\n",
      "\n",
      "           0       0.80      1.00      0.89         4\n",
      "           1       0.00      0.00      0.00         1\n",
      "           2       0.00      0.00      0.00         1\n",
      "           3       1.00      1.00      1.00         4\n",
      "           4       1.00      1.00      1.00         3\n",
      "           5       0.50      1.00      0.67         2\n",
      "           8       0.00      0.00      0.00         1\n",
      "\n",
      "    accuracy                           0.81        16\n",
      "   macro avg       0.47      0.57      0.51        16\n",
      "weighted avg       0.70      0.81      0.74        16\n",
      "\n",
      "\n"
     ]
    }
   ],
   "source": [
    "print(\"\\n Classification report for Support Vector Classifier %s:\\n%s\\n\" % (sv_clf, metrics.classification_report(y_test, prediction_2)))"
   ]
  },
  {
   "cell_type": "code",
   "execution_count": 74,
   "id": "c5b3b907",
   "metadata": {},
   "outputs": [],
   "source": [
    "accuracy_2 = round(accuracy_score(y_test,prediction_2),4)\n",
    "precision_2 = round(precision_score(y_test,prediction_2,average = 'macro'),4)\n",
    "recall_2 = round(recall_score(y_test,prediction_2, average = 'macro'),4)\n",
    "f1_2 = round(f1_score(y_test,prediction_2, average = 'macro'),4)"
   ]
  },
  {
   "cell_type": "code",
   "execution_count": 75,
   "id": "1195e3bf",
   "metadata": {},
   "outputs": [
    {
     "name": "stdout",
     "output_type": "stream",
     "text": [
      "Accuracy Score   :  0.8125\n",
      "Precision Score  :  0.4714\n",
      "Recall Score     :  0.5714\n",
      "f1-Score         :  0.5079\n",
      "Confusion Matrix :\n",
      " [[4 0 0 0 0 0 0]\n",
      " [0 0 0 0 0 1 0]\n",
      " [1 0 0 0 0 0 0]\n",
      " [0 0 0 4 0 0 0]\n",
      " [0 0 0 0 3 0 0]\n",
      " [0 0 0 0 0 2 0]\n",
      " [0 0 0 0 0 1 0]]\n"
     ]
    }
   ],
   "source": [
    "print('Accuracy Score   : ', accuracy_2)\n",
    "print('Precision Score  : ', precision_2)\n",
    "print('Recall Score     : ', recall_2)\n",
    "print('f1-Score         : ', f1_2)\n",
    "print('Confusion Matrix :\\n',confusion_matrix(y_test,prediction_2))"
   ]
  },
  {
   "cell_type": "code",
   "execution_count": 76,
   "id": "d790c736",
   "metadata": {},
   "outputs": [
    {
     "name": "stdout",
     "output_type": "stream",
     "text": [
      "Accuracy of Multinomial NB Classifier on training set: 0.6774\n",
      "Accuracy of Multinomial NB Classifier on test set    : 0.6250\n"
     ]
    }
   ],
   "source": [
    "nb_clf = MultinomialNB()\n",
    "nb_clf.fit(X_train, y_train)\n",
    "prediction_3 = nb_clf.predict(X_test)\n",
    "print('Accuracy of Multinomial NB Classifier on training set: {:.4f}'.format(nb_clf.score(X_train, y_train)))\n",
    "print('Accuracy of Multinomial NB Classifier on test set    : {:.4f}'.format(nb_clf.score(X_test, y_test)))"
   ]
  },
  {
   "cell_type": "code",
   "execution_count": 77,
   "id": "b1972561",
   "metadata": {},
   "outputs": [
    {
     "name": "stdout",
     "output_type": "stream",
     "text": [
      "\n",
      " Classification report for Multinomial NB Classifier MultinomialNB():\n",
      "              precision    recall  f1-score   support\n",
      "\n",
      "           0       0.40      1.00      0.57         4\n",
      "           1       0.00      0.00      0.00         1\n",
      "           2       0.00      0.00      0.00         1\n",
      "           3       1.00      1.00      1.00         4\n",
      "           4       1.00      0.67      0.80         3\n",
      "           5       0.00      0.00      0.00         2\n",
      "           8       0.00      0.00      0.00         1\n",
      "\n",
      "    accuracy                           0.62        16\n",
      "   macro avg       0.34      0.38      0.34        16\n",
      "weighted avg       0.54      0.62      0.54        16\n",
      "\n",
      "\n"
     ]
    }
   ],
   "source": [
    "print(\"\\n Classification report for Multinomial NB Classifier %s:\\n%s\\n\" % (nb_clf, metrics.classification_report(y_test, prediction_3)))"
   ]
  },
  {
   "cell_type": "code",
   "execution_count": 78,
   "id": "18c190da",
   "metadata": {},
   "outputs": [],
   "source": [
    "accuracy_3 = round(accuracy_score(y_test,prediction_3),4)\n",
    "precision_3 = round(precision_score(y_test,prediction_3,average = 'macro'),4)\n",
    "recall_3 = round(recall_score(y_test,prediction_3, average = 'macro'),4)\n",
    "f1_3 = round(f1_score(y_test,prediction_3, average = 'macro'),4)"
   ]
  },
  {
   "cell_type": "code",
   "execution_count": 79,
   "id": "983620af",
   "metadata": {},
   "outputs": [
    {
     "name": "stdout",
     "output_type": "stream",
     "text": [
      "Accuracy Score  :  0.625\n",
      "Precision Score :  0.3429\n",
      "Recall Score    :  0.381\n",
      "f1-Score        :  0.3388\n",
      "Confusion Matrix:\n",
      " [[4 0 0 0 0 0 0]\n",
      " [1 0 0 0 0 0 0]\n",
      " [1 0 0 0 0 0 0]\n",
      " [0 0 0 4 0 0 0]\n",
      " [1 0 0 0 2 0 0]\n",
      " [2 0 0 0 0 0 0]\n",
      " [1 0 0 0 0 0 0]]\n"
     ]
    }
   ],
   "source": [
    "print('Accuracy Score  : ', accuracy_3)\n",
    "print('Precision Score : ', precision_3)\n",
    "print('Recall Score    : ', recall_3)\n",
    "print('f1-Score        : ', f1_3)\n",
    "print('Confusion Matrix:\\n',confusion_matrix(y_test,prediction_3))"
   ]
  },
  {
   "cell_type": "code",
   "execution_count": 80,
   "id": "2e7d7de4",
   "metadata": {},
   "outputs": [
    {
     "name": "stdout",
     "output_type": "stream",
     "text": [
      "Accuracy of Logistic Regression Classifier on training set: 0.7903\n",
      "Accuracy of Logistic Regression Classifier on test set    : 0.7500\n"
     ]
    }
   ],
   "source": [
    "logistic_clf = LogisticRegression()\n",
    "logistic_clf.fit(X_train, y_train)\n",
    "prediction_4 = logistic_clf.predict(X_test)\n",
    "print('Accuracy of Logistic Regression Classifier on training set: {:.4f}'.format(logistic_clf.score(X_train, y_train)))\n",
    "print('Accuracy of Logistic Regression Classifier on test set    : {:.4f}'.format(logistic_clf.score(X_test, y_test)))"
   ]
  },
  {
   "cell_type": "code",
   "execution_count": 81,
   "id": "35ed5995",
   "metadata": {},
   "outputs": [
    {
     "name": "stdout",
     "output_type": "stream",
     "text": [
      "\n",
      " Classification report for Logistic Regression Classifier LogisticRegression():\n",
      "              precision    recall  f1-score   support\n",
      "\n",
      "           0       0.57      1.00      0.73         4\n",
      "           1       0.00      0.00      0.00         1\n",
      "           2       0.00      0.00      0.00         1\n",
      "           3       1.00      1.00      1.00         4\n",
      "           4       1.00      1.00      1.00         3\n",
      "           5       0.50      0.50      0.50         2\n",
      "           8       0.00      0.00      0.00         1\n",
      "\n",
      "    accuracy                           0.75        16\n",
      "   macro avg       0.44      0.50      0.46        16\n",
      "weighted avg       0.64      0.75      0.68        16\n",
      "\n",
      "\n"
     ]
    }
   ],
   "source": [
    "print(\"\\n Classification report for Logistic Regression Classifier %s:\\n%s\\n\" % (logistic_clf, metrics.classification_report(y_test, prediction_4)))"
   ]
  },
  {
   "cell_type": "code",
   "execution_count": 82,
   "id": "475a3793",
   "metadata": {},
   "outputs": [],
   "source": [
    "accuracy_4 = round(accuracy_score(y_test,prediction_4),4)\n",
    "precision_4 = round(precision_score(y_test,prediction_4,average = 'macro'),4)\n",
    "recall_4 = round(recall_score(y_test,prediction_4, average = 'macro'),4)\n",
    "f1_4 = round(f1_score(y_test,prediction_4, average = 'macro'),4)"
   ]
  },
  {
   "cell_type": "code",
   "execution_count": 83,
   "id": "b62ff0c0",
   "metadata": {},
   "outputs": [
    {
     "name": "stdout",
     "output_type": "stream",
     "text": [
      "Accuracy Score  :  0.75\n",
      "Precision Score :  0.4388\n",
      "Recall Score    :  0.5\n",
      "f1-Score        :  0.461\n",
      "Confusion Matrix:\n",
      " [[4 0 0 0 0 0 0]\n",
      " [1 0 0 0 0 0 0]\n",
      " [1 0 0 0 0 0 0]\n",
      " [0 0 0 4 0 0 0]\n",
      " [0 0 0 0 3 0 0]\n",
      " [1 0 0 0 0 1 0]\n",
      " [0 0 0 0 0 1 0]]\n"
     ]
    }
   ],
   "source": [
    "print('Accuracy Score  : ', accuracy_4)\n",
    "print('Precision Score : ', precision_4)\n",
    "print('Recall Score    : ', recall_4)\n",
    "print('f1-Score        : ', f1_4)\n",
    "print('Confusion Matrix:\\n',confusion_matrix(y_test,prediction_4))"
   ]
  },
  {
   "cell_type": "code",
   "execution_count": 84,
   "id": "63d2aa1a",
   "metadata": {},
   "outputs": [
    {
     "name": "stdout",
     "output_type": "stream",
     "text": [
      "Accuracy of AdaBoost Classifier on training set: 0.5645\n",
      "Accuracy of AdaBoost Classifier on test set    : 0.5000\n"
     ]
    }
   ],
   "source": [
    "from sklearn.ensemble import AdaBoostClassifier,GradientBoostingClassifier\n",
    "ab_clf = AdaBoostClassifier()\n",
    "ab_clf.fit(X_train, y_train)\n",
    "prediction_5 = ab_clf.predict(X_test)\n",
    "print('Accuracy of AdaBoost Classifier on training set: {:.4f}'.format(ab_clf.score(X_train, y_train)))\n",
    "print('Accuracy of AdaBoost Classifier on test set    : {:.4f}'.format(ab_clf.score(X_test, y_test)))"
   ]
  },
  {
   "cell_type": "code",
   "execution_count": 85,
   "id": "6e9706c2",
   "metadata": {},
   "outputs": [
    {
     "name": "stdout",
     "output_type": "stream",
     "text": [
      "\n",
      " Classification report for AdaBoost Classifier AdaBoostClassifier():\n",
      "              precision    recall  f1-score   support\n",
      "\n",
      "           0       0.33      1.00      0.50         4\n",
      "           1       0.00      0.00      0.00         1\n",
      "           2       0.00      0.00      0.00         1\n",
      "           3       1.00      1.00      1.00         4\n",
      "           4       0.00      0.00      0.00         3\n",
      "           5       0.00      0.00      0.00         2\n",
      "           8       0.00      0.00      0.00         1\n",
      "\n",
      "    accuracy                           0.50        16\n",
      "   macro avg       0.19      0.29      0.21        16\n",
      "weighted avg       0.33      0.50      0.38        16\n",
      "\n",
      "\n"
     ]
    }
   ],
   "source": [
    "\n",
    "print(\"\\n Classification report for AdaBoost Classifier %s:\\n%s\\n\" % (ab_clf, metrics.classification_report(y_test, prediction_5)))"
   ]
  },
  {
   "cell_type": "code",
   "execution_count": 86,
   "id": "5187adc2",
   "metadata": {},
   "outputs": [],
   "source": [
    "accuracy_5 = round(accuracy_score(y_test,prediction_5),4)\n",
    "precision_5 = round(precision_score(y_test,prediction_5,average = 'macro'),4)\n",
    "recall_5 = round(recall_score(y_test,prediction_5, average = 'macro'),4)\n",
    "f1_5 = round(f1_score(y_test,prediction_5, average = 'macro'),4)"
   ]
  },
  {
   "cell_type": "code",
   "execution_count": 87,
   "id": "ec9b5d4b",
   "metadata": {},
   "outputs": [
    {
     "name": "stdout",
     "output_type": "stream",
     "text": [
      "Accuracy Score  :  0.5\n",
      "Precision Score :  0.1905\n",
      "Recall Score    :  0.2857\n",
      "f1-Score        :  0.2143\n",
      "Confusion Matrix:\n",
      " [[4 0 0 0 0 0 0]\n",
      " [1 0 0 0 0 0 0]\n",
      " [1 0 0 0 0 0 0]\n",
      " [0 0 0 4 0 0 0]\n",
      " [3 0 0 0 0 0 0]\n",
      " [2 0 0 0 0 0 0]\n",
      " [1 0 0 0 0 0 0]]\n"
     ]
    }
   ],
   "source": [
    "print('Accuracy Score  : ', accuracy_5)\n",
    "print('Precision Score : ', precision_5)\n",
    "print('Recall Score    : ', recall_5)\n",
    "print('f1-Score        : ', f1_5)\n",
    "print('Confusion Matrix:\\n',confusion_matrix(y_test,prediction_5))"
   ]
  },
  {
   "cell_type": "code",
   "execution_count": 88,
   "id": "2ba1ceb5",
   "metadata": {},
   "outputs": [
    {
     "name": "stdout",
     "output_type": "stream",
     "text": [
      "Accuracy of GradientBoosting Classifier on training set: 1.0000\n",
      "Accuracy of GradientBoosting Classifier on test set    : 0.8125\n"
     ]
    }
   ],
   "source": [
    "gb_clf = GradientBoostingClassifier()\n",
    "gb_clf.fit(X_train, y_train)\n",
    "prediction_6 = gb_clf.predict(X_test)\n",
    "print('Accuracy of GradientBoosting Classifier on training set: {:.4f}'.format(gb_clf.score(X_train, y_train)))\n",
    "print('Accuracy of GradientBoosting Classifier on test set    : {:.4f}'.format(gb_clf.score(X_test, y_test)))"
   ]
  },
  {
   "cell_type": "code",
   "execution_count": 89,
   "id": "f84c8945",
   "metadata": {},
   "outputs": [
    {
     "name": "stdout",
     "output_type": "stream",
     "text": [
      "\n",
      " Classification report for GradientBoosting Classifier GradientBoostingClassifier():\n",
      "              precision    recall  f1-score   support\n",
      "\n",
      "           0       1.00      1.00      1.00         4\n",
      "           1       0.00      0.00      0.00         1\n",
      "           2       0.00      0.00      0.00         1\n",
      "           3       1.00      1.00      1.00         4\n",
      "           4       0.75      1.00      0.86         3\n",
      "           5       0.67      1.00      0.80         2\n",
      "           7       0.00      0.00      0.00         0\n",
      "           8       0.00      0.00      0.00         1\n",
      "\n",
      "    accuracy                           0.81        16\n",
      "   macro avg       0.43      0.50      0.46        16\n",
      "weighted avg       0.72      0.81      0.76        16\n",
      "\n",
      "\n"
     ]
    }
   ],
   "source": [
    "print(\"\\n Classification report for GradientBoosting Classifier %s:\\n%s\\n\" % (gb_clf, metrics.classification_report(y_test, prediction_6)))"
   ]
  },
  {
   "cell_type": "code",
   "execution_count": 90,
   "id": "4ef85f5f",
   "metadata": {},
   "outputs": [],
   "source": [
    "accuracy_6 = round(accuracy_score(y_test,prediction_6),4)\n",
    "precision_6 = round(precision_score(y_test,prediction_6,average = 'macro'),4)\n",
    "recall_6 = round(recall_score(y_test,prediction_6, average = 'macro'),4)\n",
    "f1_6 = round(f1_score(y_test,prediction_6, average = 'macro'),4)"
   ]
  },
  {
   "cell_type": "code",
   "execution_count": 91,
   "id": "e20b033f",
   "metadata": {},
   "outputs": [
    {
     "name": "stdout",
     "output_type": "stream",
     "text": [
      "Accuracy Score  :  0.8125\n",
      "Precision Score :  0.4271\n",
      "Recall Score    :  0.5\n",
      "f1-Score        :  0.4571\n",
      "Confusion Matrix:\n",
      " [[4 0 0 0 0 0 0 0]\n",
      " [0 0 0 0 0 0 1 0]\n",
      " [0 0 0 0 1 0 0 0]\n",
      " [0 0 0 4 0 0 0 0]\n",
      " [0 0 0 0 3 0 0 0]\n",
      " [0 0 0 0 0 2 0 0]\n",
      " [0 0 0 0 0 0 0 0]\n",
      " [0 0 0 0 0 1 0 0]]\n"
     ]
    }
   ],
   "source": [
    "print('Accuracy Score  : ', accuracy_6)\n",
    "print('Precision Score : ', precision_6)\n",
    "print('Recall Score    : ', recall_6)\n",
    "print('f1-Score        : ', f1_6)\n",
    "print('Confusion Matrix:\\n',confusion_matrix(y_test,prediction_6))"
   ]
  },
  {
   "cell_type": "code",
   "execution_count": 92,
   "id": "cd6df959",
   "metadata": {},
   "outputs": [],
   "source": [
    "from xgboost import XGBClassifier\n",
    "from lightgbm import LGBMClassifier"
   ]
  },
  {
   "cell_type": "code",
   "execution_count": 93,
   "id": "db72e846",
   "metadata": {},
   "outputs": [
    {
     "name": "stdout",
     "output_type": "stream",
     "text": [
      "Accuracy of XtremeGradientBoosting Classifier on training set: 1.0000\n",
      "Accuracy of XtremeGradientBoosting Classifier on test set    : 0.9375\n"
     ]
    }
   ],
   "source": [
    "xgb_clf = XGBClassifier()\n",
    "xgb_clf.fit(X_train, y_train)\n",
    "prediction_7 = xgb_clf.predict(X_test)\n",
    "print('Accuracy of XtremeGradientBoosting Classifier on training set: {:.4f}'.format(xgb_clf.score(X_train, y_train)))\n",
    "print('Accuracy of XtremeGradientBoosting Classifier on test set    : {:.4f}'.format(xgb_clf.score(X_test, y_test)))"
   ]
  },
  {
   "cell_type": "code",
   "execution_count": 94,
   "id": "075737ee",
   "metadata": {},
   "outputs": [
    {
     "name": "stdout",
     "output_type": "stream",
     "text": [
      "\n",
      " Classification report for XtremeGradientBoosting Classifier XGBClassifier(base_score=0.5, booster='gbtree', callbacks=None,\n",
      "              colsample_bylevel=1, colsample_bynode=1, colsample_bytree=1,\n",
      "              early_stopping_rounds=None, enable_categorical=False,\n",
      "              eval_metric=None, gamma=0, gpu_id=-1, grow_policy='depthwise',\n",
      "              importance_type=None, interaction_constraints='',\n",
      "              learning_rate=0.300000012, max_bin=256, max_cat_to_onehot=4,\n",
      "              max_delta_step=0, max_depth=6, max_leaves=0, min_child_weight=1,\n",
      "              missing=nan, monotone_constraints='()', n_estimators=100,\n",
      "              n_jobs=0, num_parallel_tree=1, objective='multi:softprob',\n",
      "              predictor='auto', random_state=0, reg_alpha=0, ...):\n",
      "              precision    recall  f1-score   support\n",
      "\n",
      "           0       1.00      1.00      1.00         4\n",
      "           1       1.00      1.00      1.00         1\n",
      "           2       1.00      1.00      1.00         1\n",
      "           3       1.00      1.00      1.00         4\n",
      "           4       1.00      1.00      1.00         3\n",
      "           5       0.67      1.00      0.80         2\n",
      "           8       0.00      0.00      0.00         1\n",
      "\n",
      "    accuracy                           0.94        16\n",
      "   macro avg       0.81      0.86      0.83        16\n",
      "weighted avg       0.90      0.94      0.91        16\n",
      "\n",
      "\n"
     ]
    }
   ],
   "source": [
    "print(\"\\n Classification report for XtremeGradientBoosting Classifier %s:\\n%s\\n\" % (xgb_clf, metrics.classification_report(y_test, prediction_7)))"
   ]
  },
  {
   "cell_type": "code",
   "execution_count": 95,
   "id": "2d275e74",
   "metadata": {},
   "outputs": [],
   "source": [
    "accuracy_7 = round(accuracy_score(y_test,prediction_7),4)\n",
    "precision_7 = round(precision_score(y_test,prediction_7,average = 'macro'),4)\n",
    "recall_7 = round(recall_score(y_test,prediction_7, average = 'macro'),4)\n",
    "f1_7 = round(f1_score(y_test,prediction_7, average = 'macro'),4)"
   ]
  },
  {
   "cell_type": "code",
   "execution_count": 96,
   "id": "ee91e8ac",
   "metadata": {},
   "outputs": [
    {
     "name": "stdout",
     "output_type": "stream",
     "text": [
      "Accuracy Score  :  0.9375\n",
      "Precision Score :  0.8095\n",
      "Recall Score    :  0.8571\n",
      "f1-Score        :  0.8286\n",
      "Confusion Matrix:\n",
      " [[4 0 0 0 0 0 0]\n",
      " [0 1 0 0 0 0 0]\n",
      " [0 0 1 0 0 0 0]\n",
      " [0 0 0 4 0 0 0]\n",
      " [0 0 0 0 3 0 0]\n",
      " [0 0 0 0 0 2 0]\n",
      " [0 0 0 0 0 1 0]]\n"
     ]
    }
   ],
   "source": [
    "print('Accuracy Score  : ', accuracy_7)\n",
    "print('Precision Score : ', precision_7)\n",
    "print('Recall Score    : ', recall_7)\n",
    "print('f1-Score        : ', f1_7)\n",
    "print('Confusion Matrix:\\n',confusion_matrix(y_test,prediction_7))"
   ]
  },
  {
   "cell_type": "code",
   "execution_count": 97,
   "id": "ac78d4de",
   "metadata": {},
   "outputs": [
    {
     "name": "stdout",
     "output_type": "stream",
     "text": [
      "Accuracy of LightGradientBoosting Classifier on training set: 1.0000\n",
      "Accuracy of LightGradientBoosting Classifier on test set    : 0.7500\n"
     ]
    }
   ],
   "source": [
    "lgb_clf = LGBMClassifier()\n",
    "lgb_clf.fit(X_train, y_train)\n",
    "prediction_8 = lgb_clf.predict(X_test)\n",
    "print('Accuracy of LightGradientBoosting Classifier on training set: {:.4f}'.format(lgb_clf.score(X_train, y_train)))\n",
    "print('Accuracy of LightGradientBoosting Classifier on test set    : {:.4f}'.format(lgb_clf.score(X_test, y_test)))"
   ]
  },
  {
   "cell_type": "code",
   "execution_count": 98,
   "id": "f775dd9e",
   "metadata": {},
   "outputs": [
    {
     "name": "stdout",
     "output_type": "stream",
     "text": [
      "\n",
      " Classification report for LightGradientBoosting Classifier LGBMClassifier():\n",
      "              precision    recall  f1-score   support\n",
      "\n",
      "           0       0.67      1.00      0.80         4\n",
      "           1       0.00      0.00      0.00         1\n",
      "           2       0.00      0.00      0.00         1\n",
      "           3       1.00      1.00      1.00         4\n",
      "           4       1.00      0.67      0.80         3\n",
      "           5       0.50      1.00      0.67         2\n",
      "           8       0.00      0.00      0.00         1\n",
      "\n",
      "    accuracy                           0.75        16\n",
      "   macro avg       0.45      0.52      0.47        16\n",
      "weighted avg       0.67      0.75      0.68        16\n",
      "\n",
      "\n"
     ]
    }
   ],
   "source": [
    "print(\"\\n Classification report for LightGradientBoosting Classifier %s:\\n%s\\n\" % (lgb_clf, metrics.classification_report(y_test, prediction_8)))"
   ]
  },
  {
   "cell_type": "code",
   "execution_count": 99,
   "id": "dcc52485",
   "metadata": {},
   "outputs": [],
   "source": [
    "accuracy_8 = round(accuracy_score(y_test,prediction_8),4)\n",
    "precision_8 = round(precision_score(y_test,prediction_8,average = 'macro'),4)\n",
    "recall_8 = round(recall_score(y_test,prediction_8, average = 'macro'),4)\n",
    "f1_8 = round(f1_score(y_test,prediction_8, average = 'macro'),4)"
   ]
  },
  {
   "cell_type": "code",
   "execution_count": 100,
   "id": "eb1c2837",
   "metadata": {},
   "outputs": [
    {
     "name": "stdout",
     "output_type": "stream",
     "text": [
      "Accuracy Score  :  0.75\n",
      "Precision Score :  0.4524\n",
      "Recall Score    :  0.5238\n",
      "f1-Score        :  0.4667\n",
      "Confusion Matrix:\n",
      " [[4 0 0 0 0 0 0]\n",
      " [1 0 0 0 0 0 0]\n",
      " [1 0 0 0 0 0 0]\n",
      " [0 0 0 4 0 0 0]\n",
      " [0 0 0 0 2 1 0]\n",
      " [0 0 0 0 0 2 0]\n",
      " [0 0 0 0 0 1 0]]\n"
     ]
    }
   ],
   "source": [
    "print('Accuracy Score  : ', accuracy_8)\n",
    "print('Precision Score : ', precision_8)\n",
    "print('Recall Score    : ', recall_8)\n",
    "print('f1-Score        : ', f1_8)\n",
    "print('Confusion Matrix:\\n',confusion_matrix(y_test,prediction_8))"
   ]
  },
  {
   "cell_type": "code",
   "execution_count": 101,
   "id": "ad2bd065",
   "metadata": {},
   "outputs": [
    {
     "data": {
      "text/html": [
       "<div>\n",
       "<style scoped>\n",
       "    .dataframe tbody tr th:only-of-type {\n",
       "        vertical-align: middle;\n",
       "    }\n",
       "\n",
       "    .dataframe tbody tr th {\n",
       "        vertical-align: top;\n",
       "    }\n",
       "\n",
       "    .dataframe thead th {\n",
       "        text-align: right;\n",
       "    }\n",
       "</style>\n",
       "<table border=\"1\" class=\"dataframe\">\n",
       "  <thead>\n",
       "    <tr style=\"text-align: right;\">\n",
       "      <th></th>\n",
       "      <th>Classifier</th>\n",
       "      <th>Accuracy Score</th>\n",
       "      <th>Precision Score</th>\n",
       "      <th>Recall Score</th>\n",
       "      <th>f1-Score</th>\n",
       "    </tr>\n",
       "  </thead>\n",
       "  <tbody>\n",
       "    <tr>\n",
       "      <th>0</th>\n",
       "      <td>Random Forest Classifier</td>\n",
       "      <td>0.7500</td>\n",
       "      <td>0.4750</td>\n",
       "      <td>0.4375</td>\n",
       "      <td>0.4444</td>\n",
       "    </tr>\n",
       "    <tr>\n",
       "      <th>1</th>\n",
       "      <td>SVM Classifier</td>\n",
       "      <td>0.8125</td>\n",
       "      <td>0.4714</td>\n",
       "      <td>0.5714</td>\n",
       "      <td>0.5079</td>\n",
       "    </tr>\n",
       "    <tr>\n",
       "      <th>2</th>\n",
       "      <td>Xtreme Gradient Boosting Classifier</td>\n",
       "      <td>0.9375</td>\n",
       "      <td>0.8095</td>\n",
       "      <td>0.8571</td>\n",
       "      <td>0.8286</td>\n",
       "    </tr>\n",
       "  </tbody>\n",
       "</table>\n",
       "</div>"
      ],
      "text/plain": [
       "                            Classifier  Accuracy Score  Precision Score  \\\n",
       "0             Random Forest Classifier          0.7500           0.4750   \n",
       "1                       SVM Classifier          0.8125           0.4714   \n",
       "2  Xtreme Gradient Boosting Classifier          0.9375           0.8095   \n",
       "\n",
       "   Recall Score  f1-Score  \n",
       "0        0.4375    0.4444  \n",
       "1        0.5714    0.5079  \n",
       "2        0.8571    0.8286  "
      ]
     },
     "execution_count": 101,
     "metadata": {},
     "output_type": "execute_result"
    }
   ],
   "source": [
    "table = {'Classifier' : ['Random Forest Classifier', 'SVM Classifier', 'Xtreme Gradient Boosting Classifier', ], 'Accuracy Score' : [accuracy_1, accuracy_2,  accuracy_7], 'Precision Score' : [precision_1, precision_2,  precision_7], 'Recall Score' : [recall_1, recall_2, recall_7], 'f1-Score' : [f1_1, f1_2, f1_7]}\n",
    "table = pd.DataFrame(table)\n",
    "table"
   ]
  },
  {
   "cell_type": "code",
   "execution_count": 102,
   "id": "d5bedeac",
   "metadata": {},
   "outputs": [
    {
     "data": {
      "text/plain": [
       "XGBClassifier(base_score=0.5, booster='gbtree', callbacks=None,\n",
       "              colsample_bylevel=1, colsample_bynode=1, colsample_bytree=1,\n",
       "              early_stopping_rounds=None, enable_categorical=False,\n",
       "              eval_metric=None, gamma=0, gpu_id=-1, grow_policy='depthwise',\n",
       "              importance_type=None, interaction_constraints='',\n",
       "              learning_rate=0.300000012, max_bin=256, max_cat_to_onehot=4,\n",
       "              max_delta_step=0, max_depth=6, max_leaves=0, min_child_weight=1,\n",
       "              missing=nan, monotone_constraints='()', n_estimators=100,\n",
       "              n_jobs=0, num_parallel_tree=1, objective='multi:softprob',\n",
       "              predictor='auto', random_state=0, reg_alpha=0, ...)"
      ]
     },
     "execution_count": 102,
     "metadata": {},
     "output_type": "execute_result"
    }
   ],
   "source": [
    "xgb_clf.fit(WordFeatures, requiredTarget)"
   ]
  },
  {
   "cell_type": "code",
   "execution_count": 103,
   "id": "5994c46b",
   "metadata": {},
   "outputs": [],
   "source": [
    "prediction_7 = xgb_clf.predict(X_test)"
   ]
  },
  {
   "cell_type": "code",
   "execution_count": 104,
   "id": "fd416dd4",
   "metadata": {},
   "outputs": [
    {
     "data": {
      "text/plain": [
       "array([4, 4, 0, 0, 5, 0, 5, 8, 4, 3, 3, 1, 0, 2, 3, 3], dtype=int64)"
      ]
     },
     "execution_count": 104,
     "metadata": {},
     "output_type": "execute_result"
    }
   ],
   "source": [
    "prediction_7"
   ]
  },
  {
   "cell_type": "code",
   "execution_count": 105,
   "id": "2a15b545",
   "metadata": {},
   "outputs": [
    {
     "data": {
      "text/plain": [
       "array([4, 4, 0, 0, 1, 0, 5, 1, 4, 3, 3, 7, 0, 0, 3, 3])"
      ]
     },
     "execution_count": 105,
     "metadata": {},
     "output_type": "execute_result"
    }
   ],
   "source": [
    "prediction_1"
   ]
  },
  {
   "cell_type": "code",
   "execution_count": 106,
   "id": "1370915b",
   "metadata": {},
   "outputs": [
    {
     "data": {
      "text/plain": [
       "array([4, 4, 0, 0, 5, 0, 5, 5, 4, 3, 3, 5, 0, 0, 3, 3])"
      ]
     },
     "execution_count": 106,
     "metadata": {},
     "output_type": "execute_result"
    }
   ],
   "source": [
    "prediction_2"
   ]
  },
  {
   "cell_type": "code",
   "execution_count": 107,
   "id": "0eef65c2",
   "metadata": {},
   "outputs": [
    {
     "data": {
      "text/plain": [
       "array([4, 0, 0, 0, 0, 0, 0, 0, 4, 3, 3, 0, 0, 0, 3, 3])"
      ]
     },
     "execution_count": 107,
     "metadata": {},
     "output_type": "execute_result"
    }
   ],
   "source": [
    "prediction_3"
   ]
  },
  {
   "cell_type": "code",
   "execution_count": 108,
   "id": "0b4b88e9",
   "metadata": {},
   "outputs": [
    {
     "data": {
      "text/plain": [
       "array([4, 4, 0, 0, 5, 0, 0, 5, 4, 3, 3, 0, 0, 0, 3, 3])"
      ]
     },
     "execution_count": 108,
     "metadata": {},
     "output_type": "execute_result"
    }
   ],
   "source": [
    "prediction_4"
   ]
  },
  {
   "cell_type": "code",
   "execution_count": 109,
   "id": "3a71acc8",
   "metadata": {},
   "outputs": [
    {
     "data": {
      "text/plain": [
       "array([0, 0, 0, 0, 0, 0, 0, 0, 0, 3, 3, 0, 0, 0, 3, 3])"
      ]
     },
     "execution_count": 109,
     "metadata": {},
     "output_type": "execute_result"
    }
   ],
   "source": [
    "prediction_5"
   ]
  },
  {
   "cell_type": "code",
   "execution_count": 110,
   "id": "dd634bbe",
   "metadata": {},
   "outputs": [
    {
     "data": {
      "text/plain": [
       "array([4, 4, 0, 0, 5, 0, 5, 5, 4, 3, 3, 7, 0, 4, 3, 3])"
      ]
     },
     "execution_count": 110,
     "metadata": {},
     "output_type": "execute_result"
    }
   ],
   "source": [
    "prediction_6"
   ]
  },
  {
   "cell_type": "code",
   "execution_count": 111,
   "id": "9254aae6",
   "metadata": {},
   "outputs": [
    {
     "data": {
      "text/plain": [
       "array([5, 4, 0, 0, 5, 0, 5, 5, 4, 3, 3, 0, 0, 0, 3, 3])"
      ]
     },
     "execution_count": 111,
     "metadata": {},
     "output_type": "execute_result"
    }
   ],
   "source": [
    "prediction_8"
   ]
  },
  {
   "cell_type": "code",
   "execution_count": null,
   "id": "8f236ae9",
   "metadata": {},
   "outputs": [],
   "source": []
  },
  {
   "cell_type": "code",
   "execution_count": null,
   "id": "5f5f989d",
   "metadata": {},
   "outputs": [],
   "source": []
  }
 ],
 "metadata": {
  "kernelspec": {
   "display_name": "Python 3 (ipykernel)",
   "language": "python",
   "name": "python3"
  },
  "language_info": {
   "codemirror_mode": {
    "name": "ipython",
    "version": 3
   },
   "file_extension": ".py",
   "mimetype": "text/x-python",
   "name": "python",
   "nbconvert_exporter": "python",
   "pygments_lexer": "ipython3",
   "version": "3.9.7"
  }
 },
 "nbformat": 4,
 "nbformat_minor": 5
}
