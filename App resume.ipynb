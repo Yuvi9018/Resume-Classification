{
 "cells": [
  {
   "cell_type": "code",
   "execution_count": 6,
   "id": "133102b0",
   "metadata": {},
   "outputs": [],
   "source": [
    "from flask import Flask,request, url_for, redirect, render_template\n",
    "import pickle\n",
    "import numpy as np\n",
    "import os\n"
   ]
  },
  {
   "cell_type": "code",
   "execution_count": 7,
   "id": "deff25f8",
   "metadata": {},
   "outputs": [],
   "source": [
    "app = Flask(__name__,template_folder = r'C:\\Users\\Win-10\\Desktop\\Data science\\Resume Classification\\temp')"
   ]
  },
  {
   "cell_type": "code",
   "execution_count": 8,
   "id": "75067c8c",
   "metadata": {},
   "outputs": [],
   "source": [
    "model=pickle.load(open('resume.pkl','rb'))"
   ]
  },
  {
   "cell_type": "code",
   "execution_count": 9,
   "id": "22b577ff",
   "metadata": {},
   "outputs": [
    {
     "name": "stdout",
     "output_type": "stream",
     "text": [
      "successful\n"
     ]
    }
   ],
   "source": [
    "@app.route('/')\n",
    "def hello_world():\n",
    "    return render_template('new.html')\n",
    "\n",
    "\n",
    "@app.route('/predict',methods=['POST'])\n",
    "def predict():\n",
    "    \n",
    "    end=request.form.values()\n",
    "    print(end)\n",
    "    prediction=model\n",
    "    output=prediction\n",
    "    out = prediction['designation']\n",
    "    out.to_csv('resume.csv')\n",
    "    \n",
    "    return render_template('new.html',tables=[output.to_html(classes='output', header=\"true\")])\n",
    "print(\"successful\")"
   ]
  },
  {
   "cell_type": "code",
   "execution_count": null,
   "id": "1d157f1a",
   "metadata": {
    "scrolled": true
   },
   "outputs": [],
   "source": []
  },
  {
   "cell_type": "code",
   "execution_count": 10,
   "id": "c39de99a",
   "metadata": {},
   "outputs": [
    {
     "name": "stdout",
     "output_type": "stream",
     "text": [
      " * Serving Flask app \"__main__\" (lazy loading)\n",
      " * Environment: production\n",
      "\u001b[31m   WARNING: This is a development server. Do not use it in a production deployment.\u001b[0m\n",
      "\u001b[2m   Use a production WSGI server instead.\u001b[0m\n",
      " * Debug mode: on\n"
     ]
    },
    {
     "name": "stderr",
     "output_type": "stream",
     "text": [
      " * Running on http://127.0.0.1:5000/ (Press CTRL+C to quit)\n",
      "127.0.0.1 - - [28/Jul/2022 16:10:14] \"GET / HTTP/1.1\" 200 -\n",
      "127.0.0.1 - - [28/Jul/2022 16:10:14] \"GET /static/%5Cstyle.css HTTP/1.1\" 404 -\n",
      "127.0.0.1 - - [28/Jul/2022 16:10:22] \"POST /predict HTTP/1.1\" 200 -\n",
      "127.0.0.1 - - [28/Jul/2022 16:10:22] \"GET /static/%5Cstyle.css HTTP/1.1\" 404 -\n"
     ]
    },
    {
     "name": "stdout",
     "output_type": "stream",
     "text": [
      "<generator object MultiDict.values at 0x0000025C652DFF90>\n"
     ]
    }
   ],
   "source": [
    "if __name__ == '__main__':\n",
    "    app.run(debug=True,use_reloader=False)"
   ]
  },
  {
   "cell_type": "code",
   "execution_count": null,
   "id": "633c62e7",
   "metadata": {},
   "outputs": [],
   "source": []
  }
 ],
 "metadata": {
  "kernelspec": {
   "display_name": "Python 3 (ipykernel)",
   "language": "python",
   "name": "python3"
  },
  "language_info": {
   "codemirror_mode": {
    "name": "ipython",
    "version": 3
   },
   "file_extension": ".py",
   "mimetype": "text/x-python",
   "name": "python",
   "nbconvert_exporter": "python",
   "pygments_lexer": "ipython3",
   "version": "3.9.7"
  }
 },
 "nbformat": 4,
 "nbformat_minor": 5
}
